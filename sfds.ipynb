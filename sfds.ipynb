{
 "cells": [
  {
   "cell_type": "code",
   "execution_count": 1,
   "id": "ee48669d",
   "metadata": {},
   "outputs": [
    {
     "name": "stdout",
     "output_type": "stream",
     "text": [
      "WARNING:tensorflow:From c:\\ProgramData\\anaconda3\\envs\\env_test\\lib\\site-packages\\keras\\src\\losses.py:2976: The name tf.losses.sparse_softmax_cross_entropy is deprecated. Please use tf.compat.v1.losses.sparse_softmax_cross_entropy instead.\n",
      "\n"
     ]
    }
   ],
   "source": [
    "from __future__ import print_function\n",
    "import pandas as pd\n",
    "import numpy as np\n",
    "import tensorflow as tf\n",
    "import matplotlib.pyplot as plt\n",
    "import sklearn\n",
    "import random\n",
    "import keras\n",
    "import math\n",
    "\n",
    "from tqdm import tqdm\n",
    "from scipy.stats import spearmanr\n",
    "from scipy.spatial.distance import pdist, squareform\n",
    "from sklearn.metrics import mean_squared_error, r2_score\n",
    "from sklearn.model_selection import GroupKFold, GroupShuffleSplit\n",
    "from sklearn import preprocessing\n",
    "# from keras import backend as K\n",
    "from tensorflow.keras import backend as K\n",
    "from sklearn.preprocessing import MinMaxScaler, StandardScaler\n",
    "from sklearn.decomposition import PCA\n",
    "from tensorflow.keras.optimizers import Adam\n",
    "from tensorflow.keras import Sequential\n",
    "from tensorflow.keras.layers import Dense, Dropout, LSTM, Activation\n",
    "from lime.lime_tabular import RecurrentTabularExplainer\n",
    "from methods import *\n",
    "\n",
    "from scipy import optimize\n",
    "import warnings\n",
    "warnings.filterwarnings(\"ignore\")\n",
    "%matplotlib inline"
   ]
  },
  {
   "cell_type": "code",
   "execution_count": 2,
   "id": "f3483c52",
   "metadata": {},
   "outputs": [],
   "source": [
    "from explainers import *"
   ]
  },
  {
   "cell_type": "markdown",
   "id": "c9dec38a",
   "metadata": {},
   "source": [
    "## Sommaire: <a class=\"anchor\" id=\"sommaire\"></a>\n",
    "* [Sommaire](#sommaire)\n",
    "* [I. Mise en place des fonctions](#function)\n",
    "    * [1. KernelSHAP](#KernelSHAP)\n",
    "    * [2. L2X](#l2x)\n",
    "    * [3. Génération des explications](#f_xai)\n",
    "    * [4. Métriques d'évaluation](#metrique)\n",
    "    * [5. Fonction pour la préparation des données et du modèle d'analyse](#dataprep)\n",
    "* [II. Chargement des données](#data)\n",
    "* [III. Génération d'explication](#xai_generation)\n",
    "* [IV. Evaluation des explication](#xai_metric)"
   ]
  },
  {
   "cell_type": "markdown",
   "id": "764d8379",
   "metadata": {},
   "source": [
    "## First Bullet Header <a class=\"anchor\" id=\"function\"></a>"
   ]
  },
  {
   "cell_type": "markdown",
   "id": "ed7a4ade",
   "metadata": {},
   "source": [
    "### KernelSHAP  <a id=\"KernelSHAP\"></a>"
   ]
  },
  {
   "cell_type": "code",
   "execution_count": 2,
   "id": "1e8a93cc",
   "metadata": {},
   "outputs": [],
   "source": [
    "class KernelSHAP:\n",
    "\n",
    "    def __init__(self, model, nsegments=1, nsamples=1000, feature_faker=lambda _min, _max, _mean, _std, _size: 0):\n",
    "        self.model = model\n",
    "        self.nsegments = nsegments\n",
    "        self.nsamples = nsamples\n",
    "        self.feature_faker = feature_faker\n",
    "\n",
    "\n",
    "    # Weight is defined in the paper https://arxiv.org/pdf/1705.07874.pdf .\n",
    "    def _get_weights(self, mask_row):\n",
    "        \"\"\"\n",
    "        Compute the weight of a sample as an measuring of the number of 1's\n",
    "        \"\"\"\n",
    "        M = no_of_features = len(mask_row)\n",
    "        z = no_of_masked_feature = np.sum(mask_row)\n",
    "\n",
    "        weight = (M-1) /  (  comb(M,z) * z * (M-z)   )\n",
    "        return weight\n",
    "\n",
    "\n",
    "    def explain(self, input_array):\n",
    "\n",
    "        mean_pred = self.model.predict(input_array)[0][0]\n",
    "\n",
    "        if len(input_array.shape) > 2:\n",
    "            input_array = input_array.squeeze()\n",
    "\n",
    "        # compute the mean prediction\n",
    "        #mean_pred = self.model.predict(np.array([mean_sample(input_array)]))[0][0]\n",
    "\n",
    "\n",
    "        # create the mask to train the linear model\n",
    "        nsamples = self.nsamples\n",
    "        mask = []\n",
    "        predictions = []\n",
    "        segments = segment(input_array, self.nsegments)\n",
    "        segments = sorted(segments, key=(lambda x: x[1]))\n",
    "        samples = sampling(input_array, segments, n=nsamples, feature_faker=self.feature_faker)\n",
    "        zs = np.array([s[1] for s in samples])\n",
    "        predictions = self.model.predict(zs, batch_size=128)\n",
    "        for zprime, z in samples:\n",
    "            mask.append(zprime)\n",
    "\n",
    "\n",
    "        # weights  of the masks\n",
    "        weights = np.apply_along_axis(self._get_weights, 1, mask)\n",
    "\n",
    "        # compute the importance coeficients\n",
    "        B0 = mean_pred\n",
    "        W = np.diag(weights)\n",
    "\n",
    "\n",
    "        X = np.array(mask)\n",
    "        y = np.array(predictions).reshape(self.nsamples,1)\n",
    "\n",
    "        y = np.abs(y - B0)\n",
    "        y = 1 - (y / y.max())\n",
    "\n",
    "        B = np.dot(np.linalg.inv(np.dot(np.dot(X.transpose(),W),X)), np.dot(np.dot(X.transpose(),W),y))\n",
    "        coef = np.copy(B.squeeze())\n",
    "        \n",
    "        # Essayer d'autre type de kernel non linéaire ; limite de shap l'aspect lineaire\n",
    "\n",
    "\n",
    "        heatmap = np.zeros(input_array.shape, np.float32)\n",
    "        for (i, s, e), imp in zip(segments, coef):\n",
    "            heatmap[i,s:e] = imp\n",
    "\n",
    "        #heatmap = cv2.resize(heatmap.T, dsize=input_array.shape, interpolation=cv2.INTER_CUBIC).T\n",
    "\n",
    "        return heatmap\n",
    "\n",
    "\n",
    "    def display(self, input_array, explanation):\n",
    "\n",
    "        s = input_array[0].squeeze()\n",
    "        aux_hm = cv2.resize(explanation.T, dsize=s.shape, interpolation=cv2.INTER_CUBIC).T\n",
    "\n",
    "        aux_hm =  (aux_hm - aux_hm.min()) / (aux_hm.max() - aux_hm.min())\n",
    "        importances = [[(i, j, j+1, aux_hm[i,j]) for j in range(s.shape[1])] for i in range(s.shape[0])]\n",
    "\n",
    "        display(s.T, importances)\n",
    "\n",
    "\n",
    "\n",
    "def validate(explainer, sample, iterations=100, nstd=1.5, top_features=100):\n",
    "    \"\"\"\n",
    "    N points are chosen from those with the highest score and are perturbed to create a new series (tp). \n",
    "    Another series (tr) is also created by adding noise to another n random points. \n",
    "    The importance qm of points must comply with the following rule qm(t) >= qm(tr) > qm(tp)\n",
    "    \"\"\"\n",
    "\n",
    "    base_exp = explainer.explain(sample)\n",
    "    if len(sample.shape) > 3:\n",
    "        sample = sample[0,:,:,0]\n",
    "    else:\n",
    "        sample = sample[0]\n",
    "    shape = sample.shape\n",
    "\n",
    "    _mean, _std = base_exp.mean(), base_exp.std()\n",
    "    theshold = _mean + nstd*_std\n",
    "    nsamples = (base_exp > theshold).sum()\n",
    "    nsamples = min(nsamples, top_features)\n",
    "    aux = base_exp.flatten()\n",
    "    theshold = aux[aux.argsort()][-nsamples]\n",
    "    top_mask = aux >= theshold\n",
    "\n",
    "    aux1 = aux\n",
    "\n",
    "\n",
    "    # tc\n",
    "    tc = np.copy(sample)\n",
    "    assert (base_exp >= theshold).any()\n",
    "    tc[base_exp >= theshold] = 0\n",
    "    tc_exp = explainer.explain(tc.reshape((1, shape[0], shape[1], 1)))\n",
    "\n",
    "    aux = tc_exp.flatten()\n",
    "    theshold = aux[aux.argsort()][-nsamples]\n",
    "    aux_max = aux.argsort().max()\n",
    "\n",
    "    aux2 = aux\n",
    "\n",
    "    # ranking\n",
    "    top_tc_exp2 = (1- (aux.argsort()[top_mask] / aux_max)).mean()\n",
    "\n",
    "    # number of noised samples outside top\n",
    "    top_tc_exp1 = (aux < theshold)[top_mask].mean()\n",
    "\n",
    "\n",
    "    # tr\n",
    "    s = base_exp.shape[0] * base_exp.shape[1]\n",
    "    t_mask = np.zeros(s, dtype=bool)\n",
    "    t_mask[np.random.choice(s, nsamples, replace=False)] = True\n",
    "    t_mask = t_mask.reshape(base_exp.shape)\n",
    "    tr = np.copy(sample)\n",
    "    tr[t_mask] = 0\n",
    "    tr_exp = explainer.explain(tr.reshape((1, shape[0], shape[1], 1)))\n",
    "\n",
    "    #\n",
    "    base_exp = base_exp / base_exp.max()\n",
    "    tc_exp = base_exp / tc_exp.max()\n",
    "\n",
    "\n",
    "    return (nsamples, top_tc_exp1, top_tc_exp2)"
   ]
  },
  {
   "cell_type": "markdown",
   "id": "858888a0",
   "metadata": {},
   "source": [
    "### L2X  <a id=\"l2x\"></a>"
   ]
  },
  {
   "cell_type": "code",
   "execution_count": 3,
   "id": "b78c7d20",
   "metadata": {},
   "outputs": [],
   "source": [
    "class L2X:\n",
    "    \"\"\"\n",
    "    Rhe original l2x out put a vector of binary feature importance values for a\n",
    "    chosen k, with k being the number of important features the user thinks is in\n",
    "    the dataset. First of all user has to choose it, it's unclear how you would choose\n",
    "    the best k. Second, since all important values have weights of 1, it is\n",
    "    impossible to rank them.\n",
    "\n",
    "    To overcome this, Yang proposes to run l2x for k = 1,2,...,M and add feature\n",
    "    importance values. This way the most important feature will have a final importance\n",
    "    value of M, because it will be 1 in each run.\n",
    "\n",
    "    \"\"\"\n",
    "\n",
    "    def __init__(self, f, X, **kwargs):\n",
    "        self.f = f\n",
    "        self.X = X #self.X = X.values\n",
    "        x_reshaped = X.reshape((X.shape[0], -1)) #*****************\n",
    "        self.x_reshaped = x_reshaped\n",
    "        self.M = x_reshaped.shape[1]\n",
    "        if 'batch_size' in kwargs:\n",
    "            BATCH_SIZE = kwargs['batch_size']\n",
    "        # set up models with k = 1,2,3,..., M\n",
    "        self.models = []\n",
    "        self.pred_models = []\n",
    "        self.Y = self.f(X)\n",
    "        # print(\"X shape\", X.shape)\n",
    "        for k in range(1, 100):\n",
    "            model, pred_model = buildmodel(self.x_reshaped, self.Y, k, self.M)\n",
    "            self.models.append(model)\n",
    "            self.pred_models.append(pred_model)\n",
    "\n",
    "    def explain(self, x):\n",
    "        weights = np.zeros_like(x)\n",
    "        #x = np.ones_like(x)\n",
    "        self.expected_values = np.ones((x.shape[0], 1)) * np.mean(self.Y)\n",
    "        for i in range(len(self.models)):\n",
    "            # if i == 3:\n",
    "                weights = weights + self.pred_models[i].predict(\n",
    "                    x, verbose=False, batch_size=BATCH_SIZE\n",
    "                )\n",
    "        # normalize\n",
    "        weights = weights / np.expand_dims(np.sum(weights, axis=1), 1)\n",
    "                # print('k:', i+1)\n",
    "        #print(weights[:10])\n",
    "                # print(np.sum(weights,axis=0))\n",
    "                # median_ranks = compute_median_rank(weights,4)\n",
    "                # print(np.mean(median_ranks))\n",
    "        return weights"
   ]
  },
  {
   "cell_type": "markdown",
   "id": "a1a8f175",
   "metadata": {},
   "source": [
    "### Fonction pour la génération des explications <a id=\"f_xai\"></a>"
   ]
  },
  {
   "cell_type": "code",
   "execution_count": 4,
   "id": "7b5835cc",
   "metadata": {},
   "outputs": [],
   "source": [
    "# define fuction to get all explanations data test\n",
    "\n",
    "# Function explanation for lime\n",
    "def get_lime_explanation(data, e, L2X=False) :\n",
    "    # e  = fn = model.predict\n",
    "    # Iniatialisation\n",
    "    df_expplanation = pd.DataFrame(columns=[str(i) for i in range(data.shape[1]*data.shape[2])])\n",
    "\n",
    "    # Get explanations\n",
    "    for row in range(data.shape[0]) : \n",
    "        explanation = lime_explainer.explain_instance(data[row],\n",
    "                                                      e,\n",
    "                                                      num_features=data.shape[1]*data.shape[2]) \n",
    "        # fn = model.predict, initialize lime_explainer = Reccurent()\n",
    "        lime_values = explanation.local_exp[1]\n",
    "        # Add explanation in df_explanation\n",
    "        lime_dict = {}\n",
    "        for tup in lime_values :\n",
    "            lime_dict[str(tup[0])] = tup[1]\n",
    "        df_expplanation.loc[len(df_expplanation)] = lime_dict\n",
    "    \n",
    "    return df_expplanation\n",
    "\n",
    "# # Function explanation for others\n",
    "def get_explainations(data, e, L2X = False) :\n",
    "    \n",
    "    # df diemnsion\n",
    "    if L2X==True :\n",
    "        X_to_def_col = data[0:1]\n",
    "        explanation_test = e.explain(X_to_def_col.reshape((X_to_def_col.shape[0], -1)))\n",
    "        num_columns = explanation_test.flatten().shape[0]\n",
    "        \n",
    "    else : \n",
    "        explanation_test = e.explain(data[0:1])\n",
    "        num_columns = explanation_test.flatten().shape[0]\n",
    "    \n",
    "    # Iniatialisation\n",
    "    df_expplanation = pd.DataFrame(columns=[str(i) for i in range(num_columns)])\n",
    "\n",
    "    # Get explanations\n",
    "    for row in range(data.shape[0]) :\n",
    "        if L2X==True:\n",
    "            X_row = data[row:row+1]\n",
    "            explanation = e.explain(X_row.reshape((X_row.shape[0], -1)))\n",
    "        else :\n",
    "            explanation = e.explain(data[row:row+1])\n",
    "        # Add explanation in df_explanation\n",
    "        explanation = explanation.flatten()\n",
    "        feature_dict = {}\n",
    "        for i in range(num_columns) :\n",
    "            feature_dict[str(i)] = explanation[i]\n",
    "        df_expplanation.loc[len(df_expplanation)] = feature_dict\n",
    "    \n",
    "    return df_expplanation\n",
    "\n",
    "# run metrics and compare"
   ]
  },
  {
   "cell_type": "markdown",
   "id": "21dc6399",
   "metadata": {},
   "source": [
    "### Métriques d'évaluation <a id=\"metrique\"></a>"
   ]
  },
  {
   "cell_type": "code",
   "execution_count": 5,
   "id": "b9dffee2",
   "metadata": {},
   "outputs": [],
   "source": [
    "# -*- coding: utf-8 -*-\n",
    "\"\"\"\n",
    "Created on Thu Nov  9 10:55:10 2023\n",
    "\n",
    "@author: mlndao\n",
    "\"\"\"\n",
    "\n",
    "from tqdm import tqdm\n",
    "\n",
    "def identity(X_dist, E_dist) : \n",
    "    \n",
    "    '''\n",
    "        The principle of identity states that identical objects should receive identical explanations. This is \n",
    "        a measure of the level of intrinsic non-determinism in the method:\n",
    "        \n",
    "                                    d(xa , xb ) = 0 => ∀a,b d(εa , εb ) = 0\n",
    "    ''' \n",
    "\n",
    "    # Defining a function to navigate around the distance matrix\n",
    "    i_dm = X_dist.values #Computations on np.arrays are faster than on dataframes\n",
    "    l_e_dm = E_dist.values\n",
    "    errors = []\n",
    "    \n",
    "    # To run the loop with a progress bar\n",
    "    for column in X_dist:\n",
    "        for row in X_dist:\n",
    "            if i_dm[row, column] == 0: #If two inputs have distance 0, then their explanations must too\n",
    "                if l_e_dm[row, column] == 0:\n",
    "                    errors.append(1)\n",
    "                else:\n",
    "                    errors.append(0)\n",
    "        \n",
    "        return np.nanmean(errors)\n",
    "\n",
    "def separability(X_dist, E_dist):\n",
    "    \"\"\"\n",
    "     Non-identical objects can not have identical explanations:\n",
    "    \n",
    "                 ∀a,b; d(xa , xb ) ̸= 0 =>  d(εa , εb ) > 0\n",
    "\n",
    "     This proxy is based on the assumption that every feature has a minimum level of importance,\n",
    "     positive or negative, in the predictions. The idea is that if a feature is not actually \n",
    "     needed for the prediction, then two samples that differ only in that feature will \n",
    "     have the same prediction. In this scenario, the explanation method could provide the same \n",
    "     explanation, even though the samples are different.\n",
    "\n",
    "    \"\"\"\n",
    "    \n",
    "    i_dm = X_dist.values #Computations on np.arrays are faster than on dataframes\n",
    "    l_e_dm = E_dist.values\n",
    "    errors = []\n",
    "    \n",
    "    # To run the loop with a progress bar\n",
    "    for column in X_dist:\n",
    "        for row in X_dist:\n",
    "            if i_dm[row, column] > 0: #If two inputs have distance 0, then their explanations must too\n",
    "                if l_e_dm[row, column] > 0:\n",
    "                    errors.append(1)\n",
    "                else:\n",
    "                    errors.append(0)\n",
    "        \n",
    "        return np.nanmean(errors)\n",
    "\n",
    "def stability(X_dist, E_dist):\n",
    "    \"\"\"\n",
    "     Non-identical objects can not have identical explanations:\n",
    "    \n",
    "                 ∀a,b; d(xa , xb ) ̸= 0 =>  d(εa , εb ) > 0\n",
    "\n",
    "     This proxy is based on the assumption that every feature has a minimum level of importance,\n",
    "     positive or negative, in the predictions. The idea is that if a feature is not actually \n",
    "     needed for the prediction, then two samples that differ only in that feature will \n",
    "     have the same prediction. In this scenario, the explanation method could provide the same \n",
    "     explanation, even though the samples are different.\n",
    "\n",
    "    \"\"\"\n",
    "    \n",
    "    errors = []\n",
    "    \n",
    "    #Creating a list that contains all Spearman's Rhos rank correlation coefficients\n",
    "    sp_rhos = list()\n",
    "    \n",
    "    #Creating a function that computes all Rhos\n",
    "    for column in X_dist:\n",
    "        sp_rho = spearmanr(X_dist.iloc[:,column], E_dist.iloc[:,column])\n",
    "        sp_rhos.append(sp_rho[0])\n",
    "    \n",
    "    # Defining a function to navigate around the distance matrix\n",
    "\n",
    "    for entry in sp_rhos:\n",
    "        if entry >= 0:\n",
    "            errors.append(1)\n",
    "        else:\n",
    "            errors.append(0)\n",
    "    \n",
    "    return np.nanmean(errors)\n",
    "\n",
    "#%% \n",
    "\n",
    "def coherence(model, explainer, samples, targets, e, nstd=1.5, top_features=5, verbose=True, L2X = False):\n",
    "    '''\n",
    "    model : model.predic\n",
    "    explainer : get_explanation's function\n",
    "    sample : data\n",
    "    target : label\n",
    "    e : e like KenrelSHAP\n",
    "    '''\n",
    "    explains = []\n",
    "    valid_idx = []\n",
    "    # for i in tqdm.tqdm(range(len(samples)), total=len(samples), disable=not verbose):\n",
    "    for i in range(len(samples)):\n",
    "        xi = samples[i:i+1] \n",
    "        exp = explainer(xi, e, L2X).values\n",
    "        # exp = explainer(xi, lime_explainer, predict_with_xgboost).values\n",
    "\n",
    "        # compute the thresold using mean + n*std \n",
    "        _mean, _std = exp.mean(), exp.std()\n",
    "        theshold = _mean + nstd*_std\n",
    "        nsamples = (exp > theshold).sum()\n",
    "        nsamples = min(nsamples, top_features)\n",
    "        aux = exp.flatten()\n",
    "        theshold = aux[aux.argsort()][-nsamples]\n",
    "        indexes = np.argwhere(exp.flatten() < theshold)\n",
    "\n",
    "        # remove that features\n",
    "        exp[exp < theshold] = 0\n",
    "        xic = np.copy(xi).flatten()\n",
    "        xic[indexes] = 0\n",
    "        xic = xic.reshape(xi.shape)\n",
    "\n",
    "        if not np.isnan(exp).any():\n",
    "            valid_idx.append(i)\n",
    "            explains.append(xic)\n",
    "\n",
    "    samples = samples[valid_idx]\n",
    "    targets = targets[valid_idx]\n",
    "    # dtest = model.DMatrix(samples, targets)\n",
    "\n",
    "\n",
    "    tmax = targets.max()\n",
    "    targets = targets / tmax\n",
    "\n",
    "    pred = model(samples) / tmax\n",
    "    pred = pred.reshape(targets.shape)\n",
    "#     errors = 1 - (pred - targets) ** 2\n",
    "    errors = (pred - targets) ** 2 # modified\n",
    "\n",
    "    exp = np.array(explains).reshape(samples.shape)\n",
    "\n",
    "    explains = np.array(explains).reshape(samples.shape)\n",
    "    exp_pred = model(explains) / tmax\n",
    "#     exp_errors = 1- (exp_pred - targets) ** 2\n",
    "    exp_errors = (exp_pred - targets) ** 2 #modified\n",
    "    \n",
    "    coherence_i = np.abs(errors - exp_errors)\n",
    "    coherence = np.mean(coherence_i)\n",
    "    completeness = min(np.mean(exp_errors / errors), np.mean(errors / exp_errors))\n",
    "    congruency = np.sqrt(np.mean((coherence_i - coherence)**2))\n",
    "    \n",
    "#     return {\n",
    "#             'coherence': coherence, \n",
    "#             'completeness':np.mean(exp_errors / errors),\n",
    "#             'congruency': np.sqrt(np.mean((coherence_i - coherence)**2))\n",
    "#            }\n",
    "    return coherence, completeness, congruency\n",
    "\n",
    "#%%\n",
    "\n",
    "def selectivity(model, explainer, samples, e_x, L2X = False, samples_chunk=1, verbose=True):\n",
    "    \"\"\"\n",
    "    The elimination of relevant variables must affect \n",
    "    negatively to the prediction. To compute the selectivity \n",
    "    the features are ordered from most to lest relevant. \n",
    "    One by one the features are removed, set to zero for \n",
    "    example, and the residual errors are obtained to get the \n",
    "    area under the curve (AUC).\n",
    "    \n",
    "    - model : model.predic\n",
    "    - explainer : get_explanation's function\n",
    "    - sample : data\n",
    "    - e_x : e like KenrelSHAP\n",
    "    \"\"\"\n",
    "\n",
    "    errors = []\n",
    "    # for i in tqdm.tqdm(range(len(samples)-1), total=len(samples), disable=not verbose):\n",
    "    for i in tqdm(range(len(samples))):\n",
    "        dxs, des = [], []\n",
    "        xi = samples[i:i+1]\n",
    "        ei = explainer(xi, e_x, L2X).values\n",
    "        if np.isnan(ei).any():\n",
    "            continue\n",
    "            \n",
    "        idxs = ei.flatten().argsort()[::-1]\n",
    "        xi = xi[0]\n",
    "        xs = [xi]\n",
    "        xprime = xi.flatten()\n",
    "        l = idxs.shape[0]\n",
    "        if samples_chunk >= 1:\n",
    "            idxs = np.split(idxs, int(l/samples_chunk))\n",
    "        \n",
    "        for i in idxs:\n",
    "            xprime[i] = 0\n",
    "            xs.append(xprime.reshape(xi.shape))\n",
    "            xprime = np.copy(xprime)\n",
    "            \n",
    "        preds = model(np.array(xs))   \n",
    "        e = np.abs(preds[1:] - preds[:-1]) / np.abs(preds[0] + 1e-12)\n",
    "        e = np.cumsum(e)\n",
    "        e = 1 - (e / (e.max() + 1e-12))\n",
    "        score = 1 - np.mean(e)\n",
    "        \n",
    "        errors.append(score)\n",
    "#         print('ok')\n",
    "        \n",
    "    return np.nanmean(errors)\n",
    "\n",
    "#%%\n",
    "\n",
    "def acumen(explainer, samples, e, L2X=False, iterations=100, nstd=1.5, top_features=5, verbose=True):\n",
    "    \"\"\"\n",
    "    Se eleccionan n puntos de los que tienen mayor score y se perturban creando una nueva\n",
    "    serie (tp). También se crea otra serie (tr) metiendo ruido en otros n puntos aleatorios. \n",
    "    La importancia qm de puntos debe cumplir las siguiente regla qm(t) >= qm(tr) > qm(tp)\n",
    "    \n",
    "    - model : model.predic\n",
    "    - explainer : get_explanation's function\n",
    "    - sample : data\n",
    "    - e : e like KenrelSHAP\n",
    "    \"\"\"\n",
    "    \n",
    "    ranking = []\n",
    "    # for i in tqdm.tqdm(range(len(samples)), total=len(samples), disable=not verbose):\n",
    "    for i in tqdm(range(len(samples))):\n",
    "\n",
    "        xi = samples[i:i+1] \n",
    "        #pred\n",
    "        base_exp = explainer(xi, e, L2X).values\n",
    "\n",
    "        if not np.isnan(base_exp).any():\n",
    "            # compute the thresold using mean + n*std \n",
    "            _mean, _std = base_exp.mean(), base_exp.std()\n",
    "            theshold = _mean + nstd*_std\n",
    "            nsamples = (base_exp > theshold).sum()\n",
    "            nsamples = min(nsamples, top_features)\n",
    "            aux1 = base_exp.flatten()\n",
    "\n",
    "            top_mask = aux1.argsort()[-nsamples:]\n",
    "\n",
    "            # tc\n",
    "            \n",
    "            tc = np.copy(xi).reshape(base_exp.shape)\n",
    "            tc[base_exp >= theshold] = 0\n",
    "            tc_exp = explainer(tc.reshape(xi.shape), e, L2X).values\n",
    "            # pred_\n",
    "\n",
    "            # I obtain the n most important samples of x'.\n",
    "            aux = tc_exp.flatten()\n",
    "            aux_max = aux.argsort().max()\n",
    "\n",
    "            # ranking\n",
    "            ranking.append((1- (np.argsort(aux).argsort()[top_mask] / aux_max)).mean())\n",
    "        \n",
    "    return np.nanmean(ranking)\n",
    "\n",
    "def stability_Velmurugan(explainer, samples, e, top_features=5, verbose=True, L2X = False, nb_iter = 10):\n",
    "    \n",
    "    idx_ind = [i for i in range(samples.shape[0])]\n",
    "    feat_list = [i for i in range(560)] # tw*nb_feature à rectifier\n",
    "    list_stab_values = []\n",
    "    \n",
    "    for ind in tqdm(idx_ind):\n",
    "        list_iter = [sample[ind:ind+1] for i in range(nb_iter)]\n",
    "        Z = []\n",
    "        for d in list_iter : \n",
    "            ex = explainer(d, e = e, L2X=L2X) # Get explanation\n",
    "\n",
    "            exp_abs = np.abs(ex) # get Zi\n",
    "            each = exp_abs \n",
    "            weighted = list(each.values.flatten())\n",
    "            nb_feature = 10\n",
    "            weighted.sort()\n",
    "            max_feat = weighted[-nb_feature]\n",
    "\n",
    "            Zi = [0]*len(feat_list)\n",
    "            for i, w in enumerate(each.values.flatten()) : \n",
    "                if w>=max_feat:\n",
    "                    Zi[i] = 1\n",
    "            print(sum(Zi))\n",
    "            Z.append(Zi)\n",
    "        stab_value = st.getStability(Z) # Calculate Stability\n",
    "        list_stab_values.append(stab_value)\n",
    "        \n",
    "    return np.mean(list_stab_values)"
   ]
  },
  {
   "cell_type": "code",
   "execution_count": 6,
   "id": "bd737a41",
   "metadata": {},
   "outputs": [],
   "source": [
    "def fidelity(explainer, samples, e, top_features=5, verbose=True, L2X = False, nb_iter = 10):\n",
    "    pass\n",
    "\n",
    "def instability(explainer, samples, e, top_features=5, verbose=True, L2X = False, nb_iter = 10):\n",
    "    pass\n",
    "\n",
    "def consistency(explainer, samples, e, top_features=5, verbose=True, L2X = False, nb_iter = 10):\n",
    "    pass\n",
    "\n",
    "def sparsity(explainer, samples, e, top_features=5, verbose=True, L2X = False, nb_iter = 10):\n",
    "    pass\n",
    "\n",
    "def faithfullness():\n",
    "    pass"
   ]
  },
  {
   "cell_type": "markdown",
   "id": "1768ab07",
   "metadata": {},
   "source": [
    "### Fonction pour la préparation des données et du modèle d'analyse  <a id = \"dataprep\"></a>"
   ]
  },
  {
   "cell_type": "code",
   "execution_count": 7,
   "id": "728fc84b",
   "metadata": {},
   "outputs": [],
   "source": [
    "def prep_data(train, test, drop_sensors, remaining_sensors, alpha):\n",
    "    X_train_interim = add_operating_condition(train.drop(drop_sensors, axis=1))\n",
    "    X_test_interim = add_operating_condition(test.drop(drop_sensors, axis=1))\n",
    "\n",
    "    X_train_interim, X_test_interim = condition_scaler(X_train_interim, X_test_interim, remaining_sensors)\n",
    "\n",
    "    X_train_interim = exponential_smoothing(X_train_interim, remaining_sensors, 0, alpha)\n",
    "    X_test_interim = exponential_smoothing(X_test_interim, remaining_sensors, 0, alpha)\n",
    "#     train['RUL'].clip(upper=upper, inplace=True)\n",
    "    return X_train_interim, X_test_interim\n",
    "\n",
    "learning_rate_ = 0.001\n",
    "# input_shape = (sequence_length, train_array.shape[2])\n",
    "def create_lstm_1layer(dropout, activation, weights_file, input_shape):\n",
    "    history = tf.keras.callbacks.History()\n",
    "    model = Sequential()\n",
    "    model.add(LSTM(units=64, activation='tanh',input_shape=input_shape))\n",
    "    model.add(Dropout(dropout))\n",
    "    model.add(Dense(1,activation='relu'))\n",
    "    model.compile(loss='mse',metrics=['mse'], optimizer= 'adam') # A voir si varier ou pas s-score, rmse\n",
    "    model.save_weights(weights_file)\n",
    "    \n",
    "    return model\n",
    "\n",
    "def create_lstm_2layers(dropout, activation, weights_file, input_shape):\n",
    "    history = tf.keras.callbacks.History()\n",
    "    model = Sequential()\n",
    "    model.add(LSTM(units=64, activation='tanh',return_sequences=True,input_shape=input_shape))\n",
    "    model.add(Dropout(dropout))\n",
    "    model.add(LSTM(units=32, activation='tanh'))\n",
    "    model.add(Dropout(dropout))\n",
    "    model.add(Dense(1,activation='relu'))\n",
    "    model.compile(loss='mse',metrics=['mse'], optimizer=tf.keras.optimizers.Adam(learning_rate=0.001))\n",
    "#     model.save_weights(weights_file) \n",
    "    return model \n",
    "\n",
    "def create_lstm_3layers(dropout, activation, weights_file, input_shape):\n",
    "#     history = tf.keras.callbacks.History()\n",
    "    model = Sequential()\n",
    "    model.add(LSTM(units=64, activation='tanh',return_sequences=True,input_shape=input_shape))\n",
    "    model.add(Dropout(dropout))\n",
    "    model.add(LSTM(units=32, activation='tanh')) # A reduire et pourquoi\n",
    "    model.add(Dropout(dropout))\n",
    "    model.add(Dense(units=32, activation='selu'))\n",
    "    model.add(Dropout(dropout))\n",
    "    model.add(Dense(1,activation='linear'))\n",
    "    model.compile(loss='mse',metrics=['mse'], optimizer=tf.keras.optimizers.Adam(learning_rate=0.001))\n",
    "    model.save_weights(weights_file)\n",
    "    return model \n",
    "\n",
    "def create_lstm_4layers(dropout, activation, weights_file, input_shape):\n",
    "#     history = tf.keras.callbacks.History()\n",
    "    model = Sequential()\n",
    "    model.add(LSTM(units=64, activation='tanh',return_sequences=True,input_shape=input_shape))\n",
    "    model.add(Dropout(dropout))\n",
    "    model.add(LSTM(units=32, activation='tanh')) # A reduire et pourquoi\n",
    "    model.add(Dropout(dropout))\n",
    "    model.add(Dense(units=32, activation='selu'))\n",
    "    model.add(Dropout(dropout))\n",
    "    model.add(Dense(units=32, activation='selu'))\n",
    "    model.add(Dropout(dropout))\n",
    "    model.add(Dense(1,activation='linear'))\n",
    "    model.compile(loss='mse',metrics=['mse'], optimizer=tf.keras.optimizers.Adam(learning_rate=0.001))\n",
    "    model.save_weights(weights_file)\n",
    "    \n",
    "    return model\n",
    "\n",
    "def create_lstm_5layers(dropout, activation, weights_file, input_shape):\n",
    "#     history = tf.keras.callbacks.History()\n",
    "    model = Sequential()\n",
    "    model.add(LSTM(units=64, activation='tanh',return_sequences=True,input_shape=input_shape))\n",
    "    model.add(Dropout(dropout))\n",
    "    model.add(LSTM(units=32, activation='tanh')) # A reduire et pourquoi\n",
    "    model.add(Dropout(dropout))\n",
    "    model.add(Dense(units=32, activation='selu'))\n",
    "    model.add(Dropout(dropout))\n",
    "    model.add(Dense(units=32, activation='selu'))\n",
    "    model.add(Dropout(dropout))\n",
    "    model.add(Dense(units=32, activation='selu'))\n",
    "    model.add(Dropout(dropout))\n",
    "    model.add(Dense(1,activation='linear'))\n",
    "    model.compile(loss='mse',metrics=['mse'], optimizer=tf.keras.optimizers.Adam(learning_rate=0.001))\n",
    "    model.save_weights(weights_file)\n",
    "    \n",
    "    return model\n",
    "\n",
    "def rul_piecewise_fct(X_train, rul):\n",
    "    \n",
    "    X_train['RUL'].clip(upper=rul, inplace=True)\n",
    "    \n",
    "    return X_train"
   ]
  },
  {
   "cell_type": "markdown",
   "id": "3c638260",
   "metadata": {},
   "source": [
    "## Sommaire: <a class=\"anchor\" id=\"sommaire\"></a>\n",
    "* [Sommaire](#sommaire)\n",
    "* [I. Mise en place des fonctions](#function)\n",
    "    * [1. KernelSHAP](#KernelSHAP)\n",
    "    * [2. L2X](#l2x)\n",
    "    * [3. Génération des explications](#f_xai)\n",
    "    * [4. Métriques d'évaluation](#metrique)\n",
    "    * [5. Fonction pour la préparation des données et du modèle d'analyse](#dataprep)\n",
    "* [II. Chargement des données](#data)\n",
    "* [III. Expérimentation](#experiementation)\n",
    "    * [1. Model à une couche](#model1layer)\n",
    "    * [2. Model à 2 couches](#model2layer)\n",
    "    * [3. Model à 3 couches](#model3layer)\n",
    "    * [4. Model à 4 couches](#model4layer)\n",
    "    * [5. Model à 5 couches](#model5layer)\n",
    "* [IV. Evaluation des explication](#xai_metric)"
   ]
  },
  {
   "cell_type": "markdown",
   "id": "732395df",
   "metadata": {},
   "source": [
    "### Chargement des données  <a id = \"data\"></a>"
   ]
  },
  {
   "cell_type": "code",
   "execution_count": 12,
   "id": "0c3c26fc",
   "metadata": {},
   "outputs": [
    {
     "name": "stdout",
     "output_type": "stream",
     "text": [
      "(61249, 27) (41214, 26) (248, 1)\n"
     ]
    }
   ],
   "source": [
    "# Data preparation\n",
    "train, test, y_test = prepare_data('FD004.txt')\n",
    "print(train.shape, test.shape, y_test.shape)\n",
    "sensor_names = ['T20','T24','T30','T50','P20','P15','P30','Nf','Nc','epr','Ps30','phi',\n",
    "                'NRf','NRc','BPR','farB','htBleed','Nf_dmd','PCNfR_dmd','W31','W32']\n",
    "\n",
    "remaining_sensors = ['T24','T30','T50','P30','Nf','Nc','Ps30','phi',\n",
    "                'NRf','NRc','BPR','htBleed','W31','W32'] # selection based on main_notebook\n",
    "\n",
    "drop_sensors = [element for element in sensor_names if element not in remaining_sensors]"
   ]
  },
  {
   "cell_type": "markdown",
   "id": "2ca26f8a",
   "metadata": {},
   "source": [
    "## Expérimentations <a class=\"anchor\" id=\"experiementation\"></a>"
   ]
  },
  {
   "cell_type": "markdown",
   "id": "3126fd34",
   "metadata": {},
   "source": [
    "### Model à une couche <a id=\"model1layer\"></a>"
   ]
  },
  {
   "cell_type": "code",
   "execution_count": 11,
   "id": "8f7120fc",
   "metadata": {},
   "outputs": [
    {
     "name": "stdout",
     "output_type": "stream",
     "text": [
      "...\n",
      "(51538, 40, 14) (51538, 1) (248, 40, 14)\n"
     ]
    }
   ],
   "source": [
    "# Modeling\n",
    "if True:\n",
    "    \n",
    "#     print(elm)\n",
    "    print('...')\n",
    "    sequence_length = 40\n",
    "    alpha = 0.5\n",
    "    upper = 100\n",
    "    learning_rate_ = 0.001\n",
    "    dropout = 0.2\n",
    "    activation = 'tanh'\n",
    "    epochs = 20\n",
    "    batch_size = 128\n",
    "    train_recrul = rul_piecewise_fct(train, upper)\n",
    "    weights_file = str(alpha) + '1lstm_hyper_parameter_weights.h5'\n",
    "    input_shape = (sequence_length, len(remaining_sensors))\n",
    "#     model = create_lstm_1layer(dropout, activation, weights_file, input_shape=input_shape)\n",
    "    mse = []\n",
    "\n",
    "    X_train_interim = add_operating_condition(train_recrul)\n",
    "    X_test_interim = add_operating_condition(test)\n",
    "\n",
    "    X_train_interim, X_test_interim = condition_scaler(X_train_interim, X_test_interim, remaining_sensors)\n",
    "\n",
    "    X_train_interim = exponential_smoothing(X_train_interim, remaining_sensors, 0, alpha=alpha)\n",
    "    X_test_interim = exponential_smoothing(X_test_interim, remaining_sensors, 0, alpha=alpha)\n",
    "\n",
    "    # create sequences train, test\n",
    "    train_array = gen_data_wrapper(X_train_interim, sequence_length,remaining_sensors)\n",
    "    label_array = gen_label_wrapper(X_train_interim, sequence_length, ['RUL'])\n",
    "\n",
    "    test_gen = (list(gen_test_data(X_test_interim[X_test_interim['Unit']==unit_nr], sequence_length,remaining_sensors, -99.))\n",
    "               for unit_nr in X_test_interim['Unit'].unique())\n",
    "    test_array = np.concatenate(list(test_gen)).astype(np.float32)\n",
    "    print(train_array.shape, label_array.shape, test_array.shape)\n",
    "\n",
    "    # create train-val split\n",
    "    X_train_interim, X_test_interim = prep_data(train, test, drop_sensors, remaining_sensors, alpha)\n",
    "    gss = GroupShuffleSplit(n_splits=3, train_size=0.80, random_state=42)\n",
    "    \n",
    "    mse_val = []\n",
    "    R2_val = []\n",
    "    RMSE = []\n",
    "    score_val = []\n",
    "    test_rul = rul_piecewise_fct(y_test,upper)\n",
    "    \n",
    "#     with tf.device('/device:GPU:0'):\n",
    "#         for train_unit, val_unit in gss.split(X_train_interim['Unit'].unique(), groups=X_train_interim['Unit'].unique()):\n",
    "#             train_unit = X_train_interim['Unit'].unique()[train_unit]  # gss returns indexes and index starts at 1\n",
    "#             train_split_array = gen_data_wrapper(X_train_interim, sequence_length, remaining_sensors, train_unit)\n",
    "#             train_split_label = gen_label_wrapper(X_train_interim, sequence_length, ['RUL'], train_unit)\n",
    "\n",
    "#             val_unit = X_train_interim['Unit'].unique()[val_unit]\n",
    "#             val_split_array = gen_data_wrapper(X_train_interim, sequence_length, remaining_sensors, val_unit)\n",
    "#             val_split_label = gen_label_wrapper(X_train_interim, sequence_length, ['RUL'], val_unit)\n",
    "\n",
    "#             # train and evaluate model\n",
    "#             model.compile(loss='mse', optimizer='adam')\n",
    "# #             model.load_weights(weights_file)  # reset optimizer and node weights before every training iteration\n",
    "\n",
    "# #             with tf.device('/device:GPU:0'):\n",
    "#             history = model.fit(train_split_array, train_split_label,\n",
    "#                                 validation_data=(val_split_array, val_split_label),\n",
    "#                                 epochs=epochs,\n",
    "#                                 batch_size=batch_size,\n",
    "#                                 verbose=0)\n",
    "# #             mse.append(history.history['val_loss'][-1])\n",
    "#             test_gen = (list(gen_test_data(X_test_interim[X_test_interim['Unit']==unit_nr], sequence_length,remaining_sensors, -99.))\n",
    "#                             for unit_nr in X_test_interim['Unit'].unique())\n",
    "#             test_array = np.concatenate(list(test_gen)).astype(np.float32)\n",
    "#             mse_val.append(history.history['val_loss'][-1])\n",
    "#             y_hat_val_split = model.predict(test_array)\n",
    "#             R2_val.append(r2_score(test_rul, y_hat_val_split))\n",
    "#             RMSE.append(np.sqrt(mean_squared_error(test_rul, y_hat_val_split)))\n",
    "#             score_val.append(compute_s_score(test_rul, y_hat_val_split))\n",
    "#     d = {'RMSE_val':np.sqrt(mse_val),'RMSE_test': RMSE,'R2_test':np.mean(R2_val), 'Score_test':np.mean(score_val),\n",
    "#                 'alpha':alpha, 'rul_piecewise':upper, 'sequence_length':sequence_length}"
   ]
  },
  {
   "cell_type": "code",
   "execution_count": 22,
   "id": "4957e083",
   "metadata": {},
   "outputs": [
    {
     "data": {
      "text/plain": [
       "[{'RMSE_val': array([12.55781551,  9.87828956,  9.4201687 ]),\n",
       "  'RMSE_test': [12.859532985813635, 12.095526710549679, 13.587672280687546],\n",
       "  'R2_test': 0.8629494930038405,\n",
       "  'Score_test': 851.3852822448085,\n",
       "  'alpha': 0.5,\n",
       "  'rul_piecewise': 100,\n",
       "  'sequence_length': 40}]"
      ]
     },
     "execution_count": 22,
     "metadata": {},
     "output_type": "execute_result"
    }
   ],
   "source": [
    "output = []\n",
    "output.append(d)\n",
    "model_1c = model\n",
    "output"
   ]
  },
  {
   "cell_type": "code",
   "execution_count": 70,
   "id": "b5689292",
   "metadata": {},
   "outputs": [],
   "source": [
    "model_test = tf.keras.models.load_model('/sfds_result/model_2c')"
   ]
  },
  {
   "cell_type": "code",
   "execution_count": 71,
   "id": "ad2ca905",
   "metadata": {},
   "outputs": [
    {
     "name": "stdout",
     "output_type": "stream",
     "text": [
      "Model: \"sequential_2\"\n",
      "_________________________________________________________________\n",
      " Layer (type)                Output Shape              Param #   \n",
      "=================================================================\n",
      " lstm_3 (LSTM)               (None, 40, 64)            20224     \n",
      "                                                                 \n",
      " dropout_3 (Dropout)         (None, 40, 64)            0         \n",
      "                                                                 \n",
      " lstm_4 (LSTM)               (None, 32)                12416     \n",
      "                                                                 \n",
      " dropout_4 (Dropout)         (None, 32)                0         \n",
      "                                                                 \n",
      " dense_101 (Dense)           (None, 1)                 33        \n",
      "                                                                 \n",
      "=================================================================\n",
      "Total params: 32673 (127.63 KB)\n",
      "Trainable params: 32673 (127.63 KB)\n",
      "Non-trainable params: 0 (0.00 Byte)\n",
      "_________________________________________________________________\n"
     ]
    }
   ],
   "source": [
    "model_test.summary()"
   ]
  },
  {
   "cell_type": "code",
   "execution_count": 12,
   "id": "226eb5e5",
   "metadata": {},
   "outputs": [
    {
     "name": "stdout",
     "output_type": "stream",
     "text": [
      "WARNING:tensorflow:From C:\\ProgramData\\anaconda3\\envs\\env_test\\lib\\site-packages\\keras\\src\\saving\\legacy\\saved_model\\load.py:107: The name tf.gfile.Exists is deprecated. Please use tf.io.gfile.exists instead.\n",
      "\n",
      "WARNING:tensorflow:From C:\\ProgramData\\anaconda3\\envs\\env_test\\lib\\site-packages\\keras\\src\\layers\\rnn\\lstm.py:148: The name tf.executing_eagerly_outside_functions is deprecated. Please use tf.compat.v1.executing_eagerly_outside_functions instead.\n",
      "\n"
     ]
    }
   ],
   "source": [
    "model = tf.keras.models.load_model('/sfds_result/model_2c')"
   ]
  },
  {
   "cell_type": "code",
   "execution_count": 15,
   "id": "7f9b44fa",
   "metadata": {},
   "outputs": [
    {
     "name": "stdout",
     "output_type": "stream",
     "text": [
      " Model evaluation for FD004 : \n",
      "1611/1611 [==============================] - 22s 13ms/step\n",
      "train set RMSE:9.073166847229004, R2:0.9208064608032496\n",
      "8/8 [==============================] - 0s 12ms/step\n",
      "test set RMSE:9.888630401663995, R2:0.918990677992583\n",
      " \n",
      " Model evaluation for FD004 : \n",
      "8/8 [==============================] - 0s 13ms/step\n",
      "test set RMSE:9.888630401663995, R2:0.918990677992583\n",
      " \n",
      "S-score for test :  445.6088233055366\n",
      " \n"
     ]
    }
   ],
   "source": [
    "# model = best_model\n",
    "train_array_1c = train_array\n",
    "test_array_1c = test_array\n",
    "label_array_1c = label_array\n",
    "\n",
    "print(\" Model evaluation for FD004 : \")\n",
    "y_hat_train = model.predict(train_array)\n",
    "evaluate(label_array, y_hat_train, 'train')\n",
    "\n",
    "y_hat_test = model.predict(test_array)\n",
    "evaluate(y_test, y_hat_test)\n",
    "print(' ')\n",
    "print(\" Model evaluation for FD004 : \")\n",
    "\n",
    "y_hat_test = model.predict(test_array)\n",
    "evaluate(y_test['RUL'].clip(upper=upper), y_hat_test)\n",
    "print(' ')\n",
    "print(\"S-score for test : \",compute_s_score(y_test, y_hat_test))\n",
    "print(' ')"
   ]
  },
  {
   "cell_type": "code",
   "execution_count": 23,
   "id": "76ae9b31",
   "metadata": {},
   "outputs": [
    {
     "name": "stdout",
     "output_type": "stream",
     "text": [
      " Model evaluation for FD004 : \n",
      "1611/1611 [==============================] - 14s 9ms/step\n",
      "train set RMSE:9.783175468444824, R2:0.9079271538464585\n",
      "8/8 [==============================] - 0s 7ms/step\n",
      "test set RMSE:13.587672280687546, R2:0.8470488189754622\n",
      " \n",
      " Model evaluation for FD004 : \n",
      "8/8 [==============================] - 0s 7ms/step\n",
      "test set RMSE:13.587672280687546, R2:0.8470488189754622\n",
      " \n",
      "S-score for test :  832.8036687850811\n",
      " \n"
     ]
    }
   ],
   "source": [
    "# # model = best_model\n",
    "# train_array_1c = train_array\n",
    "# test_array_1c = test_array\n",
    "# label_array_1c = label_array\n",
    "\n",
    "# print(\" Model evaluation for FD004 : \")\n",
    "# y_hat_train = model.predict(train_array)\n",
    "# evaluate(label_array, y_hat_train, 'train')\n",
    "\n",
    "# y_hat_test = model.predict(test_array)\n",
    "# evaluate(y_test, y_hat_test)\n",
    "# print(' ')\n",
    "# print(\" Model evaluation for FD004 : \")\n",
    "\n",
    "# y_hat_test = model.predict(test_array)\n",
    "# evaluate(y_test['RUL'].clip(upper=upper), y_hat_test)\n",
    "# print(' ')\n",
    "# print(\"S-score for test : \",compute_s_score(y_test, y_hat_test))\n",
    "# print(' ')"
   ]
  },
  {
   "cell_type": "code",
   "execution_count": 84,
   "id": "3b0c59ae",
   "metadata": {},
   "outputs": [],
   "source": [
    "RMSE = [13.58]\n",
    "Sscore = [832.8]"
   ]
  },
  {
   "cell_type": "code",
   "execution_count": 78,
   "id": "4d7983ef",
   "metadata": {},
   "outputs": [
    {
     "name": "stdout",
     "output_type": "stream",
     "text": [
      "Model: \"sequential_4\"\n",
      "_________________________________________________________________\n",
      " Layer (type)                Output Shape              Param #   \n",
      "=================================================================\n",
      " lstm_7 (LSTM)               (None, 40, 64)            20224     \n",
      "                                                                 \n",
      " dropout_8 (Dropout)         (None, 40, 64)            0         \n",
      "                                                                 \n",
      " lstm_8 (LSTM)               (None, 32)                12416     \n",
      "                                                                 \n",
      " dropout_9 (Dropout)         (None, 32)                0         \n",
      "                                                                 \n",
      " dense_302 (Dense)           (None, 32)                1056      \n",
      "                                                                 \n",
      " dropout_10 (Dropout)        (None, 32)                0         \n",
      "                                                                 \n",
      " dense_303 (Dense)           (None, 32)                1056      \n",
      "                                                                 \n",
      " dropout_11 (Dropout)        (None, 32)                0         \n",
      "                                                                 \n",
      " dense_304 (Dense)           (None, 1)                 33        \n",
      "                                                                 \n",
      "=================================================================\n",
      "Total params: 34785 (135.88 KB)\n",
      "Trainable params: 34785 (135.88 KB)\n",
      "Non-trainable params: 0 (0.00 Byte)\n",
      "_________________________________________________________________\n"
     ]
    }
   ],
   "source": [
    "model = model_4c\n",
    "model.summary()"
   ]
  },
  {
   "cell_type": "markdown",
   "id": "d064b333",
   "metadata": {},
   "source": [
    "### One layer Explanation <a id=\"exp1\"></a>"
   ]
  },
  {
   "cell_type": "code",
   "execution_count": 79,
   "id": "a4fcc42a",
   "metadata": {
    "scrolled": true
   },
   "outputs": [
    {
     "name": "stdout",
     "output_type": "stream",
     "text": [
      "(10, 40, 14) (10, 1)\n",
      "157/157 [==============================] - 12s 75ms/step\n",
      "157/157 [==============================] - 12s 76ms/step\n",
      "157/157 [==============================] - 12s 77ms/step\n",
      "157/157 [==============================] - 12s 76ms/step\n",
      "157/157 [==============================] - 11s 73ms/step\n",
      "157/157 [==============================] - 11s 71ms/step\n",
      "157/157 [==============================] - 12s 76ms/step\n",
      "157/157 [==============================] - 12s 76ms/step\n",
      "157/157 [==============================] - 12s 75ms/step\n",
      "157/157 [==============================] - 12s 74ms/step\n",
      "157/157 [==============================] - 11s 71ms/step\n",
      "157/157 [==============================] - 11s 72ms/step\n",
      "157/157 [==============================] - 14s 86ms/step\n",
      "157/157 [==============================] - 13s 84ms/step\n",
      "157/157 [==============================] - 12s 77ms/step\n",
      "157/157 [==============================] - 11s 70ms/step\n",
      "157/157 [==============================] - 11s 71ms/step\n",
      "157/157 [==============================] - 12s 75ms/step\n",
      "157/157 [==============================] - 12s 75ms/step\n",
      "157/157 [==============================] - 12s 75ms/step\n",
      "1/1 [==============================] - 0s 92ms/step\n",
      "1/1 [==============================] - 0s 63ms/step\n"
     ]
    },
    {
     "name": "stderr",
     "output_type": "stream",
     "text": [
      "\r\n",
      "  0%|                                                                                           | 0/10 [00:00<?, ?it/s]"
     ]
    },
    {
     "name": "stdout",
     "output_type": "stream",
     "text": [
      "157/157 [==============================] - 12s 76ms/step\n",
      "18/18 [==============================] - 1s 72ms/step\n"
     ]
    },
    {
     "name": "stderr",
     "output_type": "stream",
     "text": [
      "\r\n",
      " 10%|████████▎                                                                          | 1/10 [00:22<03:26, 22.99s/it]"
     ]
    },
    {
     "name": "stdout",
     "output_type": "stream",
     "text": [
      "157/157 [==============================] - 11s 71ms/step\n",
      "18/18 [==============================] - 1s 70ms/step\n"
     ]
    },
    {
     "name": "stderr",
     "output_type": "stream",
     "text": [
      "\r\n",
      " 20%|████████████████▌                                                                  | 2/10 [00:44<02:54, 21.86s/it]"
     ]
    },
    {
     "name": "stdout",
     "output_type": "stream",
     "text": [
      "157/157 [==============================] - 11s 72ms/step\n",
      "18/18 [==============================] - 1s 81ms/step\n"
     ]
    },
    {
     "name": "stderr",
     "output_type": "stream",
     "text": [
      "\r\n",
      " 30%|████████████████████████▉                                                          | 3/10 [01:05<02:31, 21.63s/it]"
     ]
    },
    {
     "name": "stdout",
     "output_type": "stream",
     "text": [
      "157/157 [==============================] - 12s 78ms/step\n",
      "18/18 [==============================] - 1s 77ms/step\n"
     ]
    },
    {
     "name": "stderr",
     "output_type": "stream",
     "text": [
      "\r\n",
      " 40%|█████████████████████████████████▏                                                 | 4/10 [01:28<02:13, 22.31s/it]"
     ]
    },
    {
     "name": "stdout",
     "output_type": "stream",
     "text": [
      "157/157 [==============================] - 12s 79ms/step\n",
      "18/18 [==============================] - 1s 76ms/step\n"
     ]
    },
    {
     "name": "stderr",
     "output_type": "stream",
     "text": [
      "\r\n",
      " 50%|█████████████████████████████████████████▌                                         | 5/10 [01:52<01:53, 22.65s/it]"
     ]
    },
    {
     "name": "stdout",
     "output_type": "stream",
     "text": [
      "157/157 [==============================] - 13s 82ms/step\n",
      "18/18 [==============================] - 2s 89ms/step\n"
     ]
    },
    {
     "name": "stderr",
     "output_type": "stream",
     "text": [
      "\r\n",
      " 60%|█████████████████████████████████████████████████▊                                 | 6/10 [02:16<01:32, 23.14s/it]"
     ]
    },
    {
     "name": "stdout",
     "output_type": "stream",
     "text": [
      "157/157 [==============================] - 12s 76ms/step\n",
      "18/18 [==============================] - 1s 80ms/step\n"
     ]
    },
    {
     "name": "stderr",
     "output_type": "stream",
     "text": [
      "\r\n",
      " 70%|██████████████████████████████████████████████████████████                         | 7/10 [02:43<01:13, 24.39s/it]"
     ]
    },
    {
     "name": "stdout",
     "output_type": "stream",
     "text": [
      "157/157 [==============================] - 13s 83ms/step\n",
      "18/18 [==============================] - 1s 82ms/step\n"
     ]
    },
    {
     "name": "stderr",
     "output_type": "stream",
     "text": [
      "\r\n",
      " 80%|██████████████████████████████████████████████████████████████████▍                | 8/10 [03:07<00:48, 24.49s/it]"
     ]
    },
    {
     "name": "stdout",
     "output_type": "stream",
     "text": [
      "157/157 [==============================] - 14s 88ms/step\n",
      "18/18 [==============================] - 2s 88ms/step\n"
     ]
    },
    {
     "name": "stderr",
     "output_type": "stream",
     "text": [
      "\r\n",
      " 90%|██████████████████████████████████████████████████████████████████████████▋        | 9/10 [03:36<00:25, 25.88s/it]"
     ]
    },
    {
     "name": "stdout",
     "output_type": "stream",
     "text": [
      "157/157 [==============================] - 13s 86ms/step\n",
      "18/18 [==============================] - 2s 86ms/step\n"
     ]
    },
    {
     "name": "stderr",
     "output_type": "stream",
     "text": [
      "100%|██████████████████████████████████████████████████████████████████████████████████| 10/10 [04:04<00:00, 24.49s/it]\n",
      "  0%|                                                                                           | 0/10 [00:00<?, ?it/s]"
     ]
    },
    {
     "name": "stdout",
     "output_type": "stream",
     "text": [
      "157/157 [==============================] - 13s 81ms/step\n",
      "157/157 [==============================] - 12s 76ms/step\n"
     ]
    },
    {
     "name": "stderr",
     "output_type": "stream",
     "text": [
      "\r\n",
      " 10%|████████▎                                                                          | 1/10 [00:46<06:57, 46.40s/it]"
     ]
    },
    {
     "name": "stdout",
     "output_type": "stream",
     "text": [
      "157/157 [==============================] - 14s 88ms/step\n",
      "157/157 [==============================] - 13s 86ms/step\n"
     ]
    },
    {
     "name": "stderr",
     "output_type": "stream",
     "text": [
      "\r\n",
      " 20%|████████████████▌                                                                  | 2/10 [01:38<06:40, 50.03s/it]"
     ]
    },
    {
     "name": "stdout",
     "output_type": "stream",
     "text": [
      "157/157 [==============================] - 14s 86ms/step\n",
      "157/157 [==============================] - 12s 74ms/step\n"
     ]
    },
    {
     "name": "stderr",
     "output_type": "stream",
     "text": [
      "\r\n",
      " 30%|████████████████████████▉                                                          | 3/10 [02:33<06:04, 52.06s/it]"
     ]
    },
    {
     "name": "stdout",
     "output_type": "stream",
     "text": [
      "157/157 [==============================] - 12s 75ms/step\n",
      "157/157 [==============================] - 14s 87ms/step\n"
     ]
    },
    {
     "name": "stderr",
     "output_type": "stream",
     "text": [
      "\r\n",
      " 40%|█████████████████████████████████▏                                                 | 4/10 [03:23<05:07, 51.17s/it]"
     ]
    },
    {
     "name": "stdout",
     "output_type": "stream",
     "text": [
      "157/157 [==============================] - 14s 87ms/step\n",
      "157/157 [==============================] - 13s 85ms/step\n"
     ]
    },
    {
     "name": "stderr",
     "output_type": "stream",
     "text": [
      "\r\n",
      " 50%|█████████████████████████████████████████▌                                         | 5/10 [04:20<04:26, 53.24s/it]"
     ]
    },
    {
     "name": "stdout",
     "output_type": "stream",
     "text": [
      "157/157 [==============================] - 12s 75ms/step\n",
      "157/157 [==============================] - 14s 87ms/step\n"
     ]
    },
    {
     "name": "stderr",
     "output_type": "stream",
     "text": [
      "\r\n",
      " 60%|█████████████████████████████████████████████████▊                                 | 6/10 [05:06<03:24, 51.01s/it]"
     ]
    },
    {
     "name": "stdout",
     "output_type": "stream",
     "text": [
      "157/157 [==============================] - 14s 89ms/step\n",
      "157/157 [==============================] - 14s 87ms/step\n"
     ]
    },
    {
     "name": "stderr",
     "output_type": "stream",
     "text": [
      "\r\n",
      " 70%|██████████████████████████████████████████████████████████                         | 7/10 [06:04<02:39, 53.19s/it]"
     ]
    },
    {
     "name": "stdout",
     "output_type": "stream",
     "text": [
      "157/157 [==============================] - 12s 77ms/step\n",
      "157/157 [==============================] - 12s 75ms/step\n"
     ]
    },
    {
     "name": "stderr",
     "output_type": "stream",
     "text": [
      "\r\n",
      " 80%|██████████████████████████████████████████████████████████████████▍                | 8/10 [06:53<01:43, 51.79s/it]"
     ]
    },
    {
     "name": "stdout",
     "output_type": "stream",
     "text": [
      "157/157 [==============================] - 14s 87ms/step\n",
      "157/157 [==============================] - 14s 87ms/step\n"
     ]
    },
    {
     "name": "stderr",
     "output_type": "stream",
     "text": [
      "\r\n",
      " 90%|██████████████████████████████████████████████████████████████████████████▋        | 9/10 [07:48<00:52, 52.71s/it]"
     ]
    },
    {
     "name": "stdout",
     "output_type": "stream",
     "text": [
      "157/157 [==============================] - 14s 88ms/step\n",
      "157/157 [==============================] - 12s 75ms/step\n"
     ]
    },
    {
     "name": "stderr",
     "output_type": "stream",
     "text": [
      "100%|██████████████████████████████████████████████████████████████████████████████████| 10/10 [08:40<00:00, 52.06s/it]"
     ]
    },
    {
     "name": "stdout",
     "output_type": "stream",
     "text": [
      "Lime OK!!\n",
      "1/1 [==============================] - 0s 29ms/step\n"
     ]
    },
    {
     "name": "stderr",
     "output_type": "stream",
     "text": [
      "\n"
     ]
    },
    {
     "name": "stdout",
     "output_type": "stream",
     "text": [
      "8/8 [==============================] - 1s 158ms/step\n",
      "1/1 [==============================] - 0s 37ms/step\n",
      "8/8 [==============================] - 1s 152ms/step\n",
      "1/1 [==============================] - 0s 19ms/step\n",
      "8/8 [==============================] - 1s 162ms/step\n",
      "1/1 [==============================] - 0s 47ms/step\n",
      "8/8 [==============================] - 1s 168ms/step\n",
      "1/1 [==============================] - 0s 30ms/step\n",
      "8/8 [==============================] - 1s 168ms/step\n",
      "1/1 [==============================] - 0s 31ms/step\n",
      "8/8 [==============================] - 1s 159ms/step\n",
      "1/1 [==============================] - 0s 32ms/step\n",
      "8/8 [==============================] - 1s 153ms/step\n",
      "1/1 [==============================] - 0s 31ms/step\n",
      "8/8 [==============================] - 1s 163ms/step\n",
      "1/1 [==============================] - 0s 27ms/step\n",
      "8/8 [==============================] - 1s 155ms/step\n",
      "1/1 [==============================] - 0s 31ms/step\n",
      "8/8 [==============================] - 1s 190ms/step\n",
      "1/1 [==============================] - 0s 39ms/step\n",
      "8/8 [==============================] - 2s 196ms/step\n",
      "1/1 [==============================] - 0s 31ms/step\n",
      "8/8 [==============================] - 2s 189ms/step\n",
      "1/1 [==============================] - 0s 46ms/step\n",
      "8/8 [==============================] - 2s 191ms/step\n",
      "1/1 [==============================] - 0s 31ms/step\n",
      "8/8 [==============================] - 1s 179ms/step\n",
      "1/1 [==============================] - 0s 47ms/step\n",
      "8/8 [==============================] - 1s 177ms/step\n",
      "1/1 [==============================] - 0s 31ms/step\n",
      "8/8 [==============================] - 2s 184ms/step\n",
      "1/1 [==============================] - 0s 47ms/step\n",
      "8/8 [==============================] - 2s 195ms/step\n",
      "1/1 [==============================] - 0s 16ms/step\n",
      "8/8 [==============================] - 2s 190ms/step\n",
      "1/1 [==============================] - 0s 47ms/step\n",
      "8/8 [==============================] - 2s 190ms/step\n",
      "1/1 [==============================] - 0s 50ms/step\n",
      "8/8 [==============================] - 1s 178ms/step\n",
      "1/1 [==============================] - 0s 47ms/step\n",
      "8/8 [==============================] - 2s 185ms/step\n",
      "1/1 [==============================] - 0s 31ms/step\n",
      "8/8 [==============================] - 1s 184ms/step\n",
      "1/1 [==============================] - 0s 47ms/step\n",
      "8/8 [==============================] - 2s 189ms/step\n",
      "1/1 [==============================] - 0s 31ms/step\n",
      "8/8 [==============================] - 2s 189ms/step\n",
      "1/1 [==============================] - 0s 31ms/step\n",
      "8/8 [==============================] - 2s 192ms/step\n",
      "1/1 [==============================] - 0s 31ms/step\n",
      "8/8 [==============================] - 2s 189ms/step\n",
      "1/1 [==============================] - 0s 47ms/step\n",
      "8/8 [==============================] - 2s 189ms/step\n",
      "1/1 [==============================] - 0s 47ms/step\n",
      "8/8 [==============================] - 2s 189ms/step\n",
      "1/1 [==============================] - 0s 32ms/step\n",
      "8/8 [==============================] - 1s 178ms/step\n",
      "1/1 [==============================] - 0s 47ms/step\n",
      "8/8 [==============================] - 2s 192ms/step\n",
      "1/1 [==============================] - 0s 31ms/step\n",
      "8/8 [==============================] - 1s 181ms/step\n",
      "1/1 [==============================] - 0s 90ms/step\n",
      "1/1 [==============================] - 0s 80ms/step\n"
     ]
    },
    {
     "name": "stderr",
     "output_type": "stream",
     "text": [
      "\r\n",
      "  0%|                                                                                           | 0/10 [00:00<?, ?it/s]"
     ]
    },
    {
     "name": "stdout",
     "output_type": "stream",
     "text": [
      "1/1 [==============================] - 0s 12ms/step\n",
      "8/8 [==============================] - 2s 196ms/step\n",
      "1/1 [==============================] - 0s 47ms/step\n",
      "8/8 [==============================] - 2s 188ms/step\n",
      "18/18 [==============================] - 2s 86ms/step\n"
     ]
    },
    {
     "name": "stderr",
     "output_type": "stream",
     "text": [
      "\r\n",
      " 10%|████████▎                                                                          | 1/10 [00:05<00:49,  5.50s/it]"
     ]
    },
    {
     "name": "stdout",
     "output_type": "stream",
     "text": [
      "1/1 [==============================] - 0s 33ms/step\n",
      "8/8 [==============================] - 2s 190ms/step\n",
      "1/1 [==============================] - 0s 51ms/step\n",
      "8/8 [==============================] - 2s 177ms/step\n",
      "18/18 [==============================] - 2s 86ms/step\n"
     ]
    },
    {
     "name": "stderr",
     "output_type": "stream",
     "text": [
      "\r\n",
      " 20%|████████████████▌                                                                  | 2/10 [00:11<00:44,  5.54s/it]"
     ]
    },
    {
     "name": "stdout",
     "output_type": "stream",
     "text": [
      "1/1 [==============================] - 0s 47ms/step\n",
      "8/8 [==============================] - 1s 178ms/step\n",
      "1/1 [==============================] - 0s 31ms/step\n",
      "8/8 [==============================] - 2s 191ms/step\n",
      "18/18 [==============================] - 2s 87ms/step\n"
     ]
    },
    {
     "name": "stderr",
     "output_type": "stream",
     "text": [
      "\r\n",
      " 30%|████████████████████████▉                                                          | 3/10 [00:16<00:38,  5.48s/it]"
     ]
    },
    {
     "name": "stdout",
     "output_type": "stream",
     "text": [
      "1/1 [==============================] - 0s 16ms/step\n",
      "8/8 [==============================] - 1s 174ms/step\n",
      "1/1 [==============================] - 0s 31ms/step\n",
      "8/8 [==============================] - 1s 183ms/step\n",
      "18/18 [==============================] - 2s 90ms/step\n"
     ]
    },
    {
     "name": "stderr",
     "output_type": "stream",
     "text": [
      "\r\n",
      " 40%|█████████████████████████████████▏                                                 | 4/10 [00:21<00:32,  5.42s/it]"
     ]
    },
    {
     "name": "stdout",
     "output_type": "stream",
     "text": [
      "1/1 [==============================] - 0s 16ms/step\n",
      "8/8 [==============================] - 2s 191ms/step\n",
      "1/1 [==============================] - 0s 16ms/step\n",
      "8/8 [==============================] - 2s 194ms/step\n",
      "18/18 [==============================] - 2s 89ms/step\n"
     ]
    },
    {
     "name": "stderr",
     "output_type": "stream",
     "text": [
      "\r\n",
      " 50%|█████████████████████████████████████████▌                                         | 5/10 [00:27<00:27,  5.43s/it]"
     ]
    },
    {
     "name": "stdout",
     "output_type": "stream",
     "text": [
      "1/1 [==============================] - 0s 32ms/step\n",
      "8/8 [==============================] - 1s 182ms/step\n",
      "1/1 [==============================] - 0s 31ms/step\n",
      "8/8 [==============================] - 2s 188ms/step\n",
      "18/18 [==============================] - 2s 83ms/step\n"
     ]
    },
    {
     "name": "stderr",
     "output_type": "stream",
     "text": [
      "\r\n",
      " 60%|█████████████████████████████████████████████████▊                                 | 6/10 [00:32<00:21,  5.39s/it]"
     ]
    },
    {
     "name": "stdout",
     "output_type": "stream",
     "text": [
      "1/1 [==============================] - 0s 31ms/step\n",
      "8/8 [==============================] - 2s 195ms/step\n",
      "1/1 [==============================] - 0s 47ms/step\n",
      "8/8 [==============================] - 2s 178ms/step\n",
      "18/18 [==============================] - 2s 84ms/step\n"
     ]
    },
    {
     "name": "stderr",
     "output_type": "stream",
     "text": [
      "\r\n",
      " 70%|██████████████████████████████████████████████████████████                         | 7/10 [00:37<00:16,  5.40s/it]"
     ]
    },
    {
     "name": "stdout",
     "output_type": "stream",
     "text": [
      "1/1 [==============================] - 0s 31ms/step\n",
      "8/8 [==============================] - 1s 181ms/step\n",
      "1/1 [==============================] - 0s 35ms/step\n",
      "8/8 [==============================] - 2s 191ms/step\n",
      "18/18 [==============================] - 2s 83ms/step\n"
     ]
    },
    {
     "name": "stderr",
     "output_type": "stream",
     "text": [
      "\r\n",
      " 80%|██████████████████████████████████████████████████████████████████▍                | 8/10 [00:43<00:10,  5.37s/it]"
     ]
    },
    {
     "name": "stdout",
     "output_type": "stream",
     "text": [
      "1/1 [==============================] - 0s 16ms/step\n",
      "8/8 [==============================] - 1s 157ms/step\n",
      "1/1 [==============================] - 0s 31ms/step\n",
      "8/8 [==============================] - 1s 153ms/step\n",
      "18/18 [==============================] - 1s 72ms/step\n"
     ]
    },
    {
     "name": "stderr",
     "output_type": "stream",
     "text": [
      "\r\n",
      " 90%|██████████████████████████████████████████████████████████████████████████▋        | 9/10 [00:48<00:05,  5.17s/it]"
     ]
    },
    {
     "name": "stdout",
     "output_type": "stream",
     "text": [
      "1/1 [==============================] - 0s 20ms/step\n",
      "8/8 [==============================] - 1s 159ms/step\n",
      "1/1 [==============================] - 0s 16ms/step\n",
      "8/8 [==============================] - 1s 157ms/step\n",
      "18/18 [==============================] - 1s 73ms/step\n"
     ]
    },
    {
     "name": "stderr",
     "output_type": "stream",
     "text": [
      "100%|██████████████████████████████████████████████████████████████████████████████████| 10/10 [00:52<00:00,  5.27s/it]\n",
      "  0%|                                                                                           | 0/10 [00:00<?, ?it/s]"
     ]
    },
    {
     "name": "stdout",
     "output_type": "stream",
     "text": [
      "1/1 [==============================] - 0s 31ms/step\n",
      "8/8 [==============================] - 1s 154ms/step\n",
      "1/1 [==============================] - 0s 31ms/step\n",
      "8/8 [==============================] - 1s 166ms/step\n",
      "1/1 [==============================] - 0s 16ms/step\n",
      "8/8 [==============================] - 1s 152ms/step\n",
      "1/1 [==============================] - 0s 17ms/step\n",
      "8/8 [==============================] - 1s 153ms/step\n"
     ]
    },
    {
     "name": "stderr",
     "output_type": "stream",
     "text": [
      "\r\n",
      " 10%|████████▎                                                                          | 1/10 [00:06<00:58,  6.53s/it]"
     ]
    },
    {
     "name": "stdout",
     "output_type": "stream",
     "text": [
      "1/1 [==============================] - 0s 31ms/step\n",
      "8/8 [==============================] - 1s 163ms/step\n",
      "1/1 [==============================] - 0s 31ms/step\n",
      "8/8 [==============================] - 1s 157ms/step\n",
      "1/1 [==============================] - 0s 32ms/step\n",
      "8/8 [==============================] - 1s 153ms/step\n",
      "1/1 [==============================] - 0s 31ms/step\n",
      "8/8 [==============================] - 1s 168ms/step\n"
     ]
    },
    {
     "name": "stderr",
     "output_type": "stream",
     "text": [
      "\r\n",
      " 20%|████████████████▌                                                                  | 2/10 [00:13<00:52,  6.59s/it]"
     ]
    },
    {
     "name": "stdout",
     "output_type": "stream",
     "text": [
      "1/1 [==============================] - 0s 32ms/step\n",
      "8/8 [==============================] - 1s 155ms/step\n",
      "1/1 [==============================] - 0s 16ms/step\n",
      "8/8 [==============================] - 1s 156ms/step\n",
      "1/1 [==============================] - 0s 32ms/step\n",
      "8/8 [==============================] - 1s 162ms/step\n",
      "1/1 [==============================] - 0s 31ms/step\n",
      "8/8 [==============================] - 1s 160ms/step\n"
     ]
    },
    {
     "name": "stderr",
     "output_type": "stream",
     "text": [
      "\r\n",
      " 30%|████████████████████████▉                                                          | 3/10 [00:19<00:46,  6.61s/it]"
     ]
    },
    {
     "name": "stdout",
     "output_type": "stream",
     "text": [
      "1/1 [==============================] - 0s 32ms/step\n",
      "8/8 [==============================] - 1s 154ms/step\n",
      "1/1 [==============================] - 0s 16ms/step\n",
      "8/8 [==============================] - 1s 150ms/step\n",
      "1/1 [==============================] - 0s 16ms/step\n",
      "8/8 [==============================] - 1s 163ms/step\n",
      "1/1 [==============================] - 0s 31ms/step\n",
      "8/8 [==============================] - 1s 167ms/step\n"
     ]
    },
    {
     "name": "stderr",
     "output_type": "stream",
     "text": [
      "\r\n",
      " 40%|█████████████████████████████████▏                                                 | 4/10 [00:26<00:39,  6.64s/it]"
     ]
    },
    {
     "name": "stdout",
     "output_type": "stream",
     "text": [
      "1/1 [==============================] - 0s 31ms/step\n",
      "8/8 [==============================] - 1s 184ms/step\n",
      "1/1 [==============================] - 0s 32ms/step\n",
      "8/8 [==============================] - 2s 186ms/step\n",
      "1/1 [==============================] - 0s 36ms/step\n",
      "8/8 [==============================] - 2s 193ms/step\n",
      "1/1 [==============================] - 0s 31ms/step\n",
      "8/8 [==============================] - 2s 186ms/step\n"
     ]
    },
    {
     "name": "stderr",
     "output_type": "stream",
     "text": [
      "\r\n",
      " 50%|█████████████████████████████████████████▌                                         | 5/10 [00:34<00:34,  6.96s/it]"
     ]
    },
    {
     "name": "stdout",
     "output_type": "stream",
     "text": [
      "1/1 [==============================] - 0s 32ms/step\n",
      "8/8 [==============================] - 1s 180ms/step\n",
      "1/1 [==============================] - 0s 47ms/step\n",
      "8/8 [==============================] - 2s 194ms/step\n",
      "1/1 [==============================] - 0s 31ms/step\n",
      "8/8 [==============================] - 2s 191ms/step\n",
      "1/1 [==============================] - 0s 31ms/step\n",
      "8/8 [==============================] - 2s 191ms/step\n"
     ]
    },
    {
     "name": "stderr",
     "output_type": "stream",
     "text": [
      "\r\n",
      " 60%|█████████████████████████████████████████████████▊                                 | 6/10 [00:41<00:28,  7.24s/it]"
     ]
    },
    {
     "name": "stdout",
     "output_type": "stream",
     "text": [
      "1/1 [==============================] - 0s 32ms/step\n",
      "8/8 [==============================] - 1s 178ms/step\n",
      "1/1 [==============================] - 0s 31ms/step\n",
      "8/8 [==============================] - 2s 187ms/step\n",
      "1/1 [==============================] - 0s 34ms/step\n",
      "8/8 [==============================] - 1s 185ms/step\n",
      "1/1 [==============================] - 0s 43ms/step\n",
      "8/8 [==============================] - 2s 191ms/step\n"
     ]
    },
    {
     "name": "stderr",
     "output_type": "stream",
     "text": [
      "\r\n",
      " 70%|██████████████████████████████████████████████████████████                         | 7/10 [00:49<00:21,  7.31s/it]"
     ]
    },
    {
     "name": "stdout",
     "output_type": "stream",
     "text": [
      "1/1 [==============================] - 0s 24ms/step\n",
      "8/8 [==============================] - 2s 186ms/step\n",
      "1/1 [==============================] - 0s 16ms/step\n",
      "8/8 [==============================] - 2s 189ms/step\n",
      "1/1 [==============================] - 0s 17ms/step\n",
      "8/8 [==============================] - 2s 191ms/step\n",
      "1/1 [==============================] - 0s 31ms/step\n",
      "8/8 [==============================] - 1s 178ms/step\n"
     ]
    },
    {
     "name": "stderr",
     "output_type": "stream",
     "text": [
      "\r\n",
      " 80%|██████████████████████████████████████████████████████████████████▍                | 8/10 [00:56<00:14,  7.44s/it]"
     ]
    },
    {
     "name": "stdout",
     "output_type": "stream",
     "text": [
      "1/1 [==============================] - 0s 32ms/step\n",
      "8/8 [==============================] - 2s 195ms/step\n",
      "1/1 [==============================] - 0s 31ms/step\n",
      "8/8 [==============================] - 2s 185ms/step\n",
      "1/1 [==============================] - 0s 31ms/step\n",
      "8/8 [==============================] - 2s 188ms/step\n",
      "1/1 [==============================] - 0s 16ms/step\n",
      "8/8 [==============================] - 2s 186ms/step\n"
     ]
    },
    {
     "name": "stderr",
     "output_type": "stream",
     "text": [
      "\r\n",
      " 90%|██████████████████████████████████████████████████████████████████████████▋        | 9/10 [01:04<00:07,  7.56s/it]"
     ]
    },
    {
     "name": "stdout",
     "output_type": "stream",
     "text": [
      "1/1 [==============================] - 0s 22ms/step\n",
      "8/8 [==============================] - 2s 189ms/step\n",
      "1/1 [==============================] - 0s 31ms/step\n",
      "8/8 [==============================] - 2s 187ms/step\n",
      "1/1 [==============================] - 0s 31ms/step\n",
      "8/8 [==============================] - 2s 188ms/step\n",
      "1/1 [==============================] - 0s 32ms/step\n",
      "8/8 [==============================] - 2s 195ms/step\n"
     ]
    },
    {
     "name": "stderr",
     "output_type": "stream",
     "text": [
      "100%|██████████████████████████████████████████████████████████████████████████████████| 10/10 [01:12<00:00,  7.23s/it]"
     ]
    },
    {
     "name": "stdout",
     "output_type": "stream",
     "text": [
      "shap OK !!\n",
      "1/1 [==============================] - 0s 78ms/step\n"
     ]
    },
    {
     "name": "stderr",
     "output_type": "stream",
     "text": [
      "\n"
     ]
    },
    {
     "name": "stdout",
     "output_type": "stream",
     "text": [
      "1/1 [==============================] - 3s 3s/step - loss: 6029.0166 - mse: 6028.2490 - val_loss: 6063.1782 - val_mse: 6062.4189\n",
      "1/1 [==============================] - 2s 2s/step - loss: 5978.8267 - mse: 5978.0601 - val_loss: 5955.7119 - val_mse: 5954.9546\n",
      "1/1 [==============================] - 2s 2s/step - loss: 6053.5840 - mse: 6052.8154 - val_loss: 6044.9175 - val_mse: 6044.1572\n",
      "1/1 [==============================] - 3s 3s/step - loss: 6041.3882 - mse: 6040.6201 - val_loss: 6052.5981 - val_mse: 6051.8379\n",
      "1/1 [==============================] - 3s 3s/step - loss: 6080.8589 - mse: 6080.0952 - val_loss: 6210.7192 - val_mse: 6209.9639\n",
      "1/1 [==============================] - 3s 3s/step - loss: 6044.3555 - mse: 6043.5898 - val_loss: 6028.3096 - val_mse: 6027.5508\n",
      "1/1 [==============================] - 2s 2s/step - loss: 6061.9121 - mse: 6061.1426 - val_loss: 6045.6616 - val_mse: 6044.8994\n",
      "1/1 [==============================] - 3s 3s/step - loss: 6095.7715 - mse: 6095.0054 - val_loss: 6156.9829 - val_mse: 6156.2236\n",
      "1/1 [==============================] - 3s 3s/step - loss: 6122.8154 - mse: 6122.0483 - val_loss: 6034.4150 - val_mse: 6033.6548\n",
      "1/1 [==============================] - 2s 2s/step - loss: 6037.3838 - mse: 6036.6211 - val_loss: 6159.7891 - val_mse: 6159.0332\n",
      "1/1 [==============================] - 2s 2s/step - loss: 6068.1147 - mse: 6067.3511 - val_loss: 6115.7153 - val_mse: 6114.9580\n",
      "1/1 [==============================] - 3s 3s/step - loss: 6062.9233 - mse: 6062.1553 - val_loss: 5749.3325 - val_mse: 5748.5713\n",
      "1/1 [==============================] - 3s 3s/step - loss: 6014.0483 - mse: 6013.2822 - val_loss: 5904.5112 - val_mse: 5903.7515\n",
      "1/1 [==============================] - 2s 2s/step - loss: 6040.0308 - mse: 6039.2651 - val_loss: 6027.1465 - val_mse: 6026.3862\n",
      "1/1 [==============================] - 2s 2s/step - loss: 6028.2451 - mse: 6027.4780 - val_loss: 6191.5786 - val_mse: 6190.8174\n",
      "1/1 [==============================] - 2s 2s/step - loss: 6090.4951 - mse: 6089.7295 - val_loss: 6254.5488 - val_mse: 6253.7886\n",
      "1/1 [==============================] - 2s 2s/step - loss: 6020.9238 - mse: 6020.1572 - val_loss: 5934.8843 - val_mse: 5934.1226\n",
      "1/1 [==============================] - 2s 2s/step - loss: 6084.9629 - mse: 6084.1963 - val_loss: 5970.3989 - val_mse: 5969.6377\n",
      "1/1 [==============================] - 2s 2s/step - loss: 5992.1309 - mse: 5991.3647 - val_loss: 5679.9126 - val_mse: 5679.1514\n",
      "1/1 [==============================] - 2s 2s/step - loss: 6042.4717 - mse: 6041.7051 - val_loss: 5796.4370 - val_mse: 5795.6748\n",
      "1/1 [==============================] - 2s 2s/step - loss: 6063.5952 - mse: 6062.8257 - val_loss: 5978.9897 - val_mse: 5978.2241\n",
      "1/1 [==============================] - 2s 2s/step - loss: 6065.3379 - mse: 6064.5703 - val_loss: 5853.3232 - val_mse: 5852.5601\n",
      "1/1 [==============================] - 2s 2s/step - loss: 6096.2793 - mse: 6095.5117 - val_loss: 6029.5596 - val_mse: 6028.7964\n",
      "1/1 [==============================] - 2s 2s/step - loss: 6050.8364 - mse: 6050.0718 - val_loss: 6138.1094 - val_mse: 6137.3491\n",
      "1/1 [==============================] - 2s 2s/step - loss: 6070.2344 - mse: 6069.4717 - val_loss: 5367.1768 - val_mse: 5366.4180\n",
      "1/1 [==============================] - 2s 2s/step - loss: 6121.8501 - mse: 6121.0830 - val_loss: 5794.0830 - val_mse: 5793.3193\n",
      "1/1 [==============================] - 2s 2s/step - loss: 6081.5859 - mse: 6080.8218 - val_loss: 6204.3359 - val_mse: 6203.5752\n",
      "1/1 [==============================] - 2s 2s/step - loss: 6039.5527 - mse: 6038.7876 - val_loss: 6200.7925 - val_mse: 6200.0312\n",
      "1/1 [==============================] - 2s 2s/step - loss: 6035.1074 - mse: 6034.3418 - val_loss: 6115.4175 - val_mse: 6114.6553\n",
      "1/1 [==============================] - 3s 3s/step - loss: 6056.0586 - mse: 6055.2935 - val_loss: 5924.1255 - val_mse: 5923.3643\n",
      "1/1 [==============================] - 3s 3s/step - loss: 6087.7056 - mse: 6086.9385 - val_loss: 5823.2446 - val_mse: 5822.4805\n",
      "1/1 [==============================] - 3s 3s/step - loss: 6037.5308 - mse: 6036.7607 - val_loss: 6236.6123 - val_mse: 6235.8457\n",
      "1/1 [==============================] - 2s 2s/step - loss: 6009.4482 - mse: 6008.6816 - val_loss: 6020.4624 - val_mse: 6019.6987\n",
      "1/1 [==============================] - 2s 2s/step - loss: 6016.2998 - mse: 6015.5347 - val_loss: 5828.3647 - val_mse: 5827.6025\n",
      "1/1 [==============================] - 3s 3s/step - loss: 6038.2021 - mse: 6037.4370 - val_loss: 5828.3901 - val_mse: 5827.6279\n",
      "1/1 [==============================] - 2s 2s/step - loss: 6099.3242 - mse: 6098.5586 - val_loss: 5323.1968 - val_mse: 5322.4341\n",
      "1/1 [==============================] - 3s 3s/step - loss: 6074.2119 - mse: 6073.4434 - val_loss: 5719.6582 - val_mse: 5718.8926\n",
      "1/1 [==============================] - 2s 2s/step - loss: 6035.7231 - mse: 6034.9580 - val_loss: 6423.1533 - val_mse: 6422.3906\n",
      "1/1 [==============================] - 3s 3s/step - loss: 6052.9531 - mse: 6052.1846 - val_loss: 5718.4312 - val_mse: 5717.6650\n",
      "1/1 [==============================] - 2s 2s/step - loss: 6089.8682 - mse: 6089.0996 - val_loss: 6250.7710 - val_mse: 6250.0049\n",
      "1/1 [==============================] - 3s 3s/step - loss: 6009.4517 - mse: 6008.6865 - val_loss: 6025.4946 - val_mse: 6024.7319\n",
      "1/1 [==============================] - 2s 2s/step - loss: 6047.3257 - mse: 6046.5576 - val_loss: 6233.7520 - val_mse: 6232.9863\n",
      "1/1 [==============================] - 3s 3s/step - loss: 6047.0708 - mse: 6046.3071 - val_loss: 6078.7275 - val_mse: 6077.9658\n",
      "1/1 [==============================] - 3s 3s/step - loss: 6089.3154 - mse: 6088.5488 - val_loss: 5536.8916 - val_mse: 5536.1279\n",
      "1/1 [==============================] - 2s 2s/step - loss: 6063.6968 - mse: 6062.9297 - val_loss: 5738.7490 - val_mse: 5737.9844\n",
      "1/1 [==============================] - 3s 3s/step - loss: 6049.5049 - mse: 6048.7358 - val_loss: 5418.0601 - val_mse: 5417.2935\n",
      "1/1 [==============================] - 3s 3s/step - loss: 6055.7466 - mse: 6054.9790 - val_loss: 6157.0474 - val_mse: 6156.2817\n",
      "1/1 [==============================] - 3s 3s/step - loss: 6032.9819 - mse: 6032.2153 - val_loss: 6238.3921 - val_mse: 6237.6279\n",
      "1/1 [==============================] - 3s 3s/step - loss: 6042.1968 - mse: 6041.4307 - val_loss: 6042.8472 - val_mse: 6042.0835\n",
      "1/1 [==============================] - 2s 2s/step - loss: 6082.2803 - mse: 6081.5122 - val_loss: 6133.5508 - val_mse: 6132.7847\n",
      "1/1 [==============================] - 3s 3s/step - loss: 6049.6592 - mse: 6048.8931 - val_loss: 6031.4072 - val_mse: 6030.6431\n",
      "1/1 [==============================] - 3s 3s/step - loss: 6046.7119 - mse: 6045.9482 - val_loss: 5631.1665 - val_mse: 5630.4053\n",
      "1/1 [==============================] - 3s 3s/step - loss: 6031.8184 - mse: 6031.0522 - val_loss: 5633.4067 - val_mse: 5632.6421\n",
      "1/1 [==============================] - 2s 2s/step - loss: 6103.0596 - mse: 6102.2915 - val_loss: 6452.9565 - val_mse: 6452.1899\n",
      "1/1 [==============================] - 2s 2s/step - loss: 6109.0483 - mse: 6108.2827 - val_loss: 5942.8901 - val_mse: 5942.1265\n",
      "1/1 [==============================] - 3s 3s/step - loss: 6066.3799 - mse: 6065.6143 - val_loss: 5925.1670 - val_mse: 5924.4033\n",
      "1/1 [==============================] - 3s 3s/step - loss: 6028.6592 - mse: 6027.8940 - val_loss: 6042.9346 - val_mse: 6042.1714\n",
      "1/1 [==============================] - 3s 3s/step - loss: 6044.4482 - mse: 6043.6802 - val_loss: 5609.6450 - val_mse: 5608.8779\n",
      "1/1 [==============================] - 2s 2s/step - loss: 6072.0010 - mse: 6071.2344 - val_loss: 5909.8477 - val_mse: 5909.0830\n",
      "1/1 [==============================] - 3s 3s/step - loss: 6056.0522 - mse: 6055.2861 - val_loss: 6353.4580 - val_mse: 6352.6938\n",
      "1/1 [==============================] - 2s 2s/step - loss: 6038.0864 - mse: 6037.3232 - val_loss: 6539.5420 - val_mse: 6538.7803\n",
      "1/1 [==============================] - 2s 2s/step - loss: 6100.9019 - mse: 6100.1333 - val_loss: 6009.9971 - val_mse: 6009.2295\n",
      "1/1 [==============================] - 2s 2s/step - loss: 6023.2554 - mse: 6022.4893 - val_loss: 6114.8711 - val_mse: 6114.1060\n",
      "1/1 [==============================] - 2s 2s/step - loss: 6046.0405 - mse: 6045.2710 - val_loss: 6022.1851 - val_mse: 6021.4170\n",
      "1/1 [==============================] - 2s 2s/step - loss: 6086.5522 - mse: 6085.7856 - val_loss: 6922.7451 - val_mse: 6921.9790\n",
      "1/1 [==============================] - 2s 2s/step - loss: 6085.7725 - mse: 6085.0039 - val_loss: 6229.2852 - val_mse: 6228.5181\n",
      "1/1 [==============================] - 2s 2s/step - loss: 6032.5498 - mse: 6031.7837 - val_loss: 6233.4326 - val_mse: 6232.6675\n",
      "1/1 [==============================] - 2s 2s/step - loss: 6049.1323 - mse: 6048.3628 - val_loss: 6502.9458 - val_mse: 6502.1772\n",
      "1/1 [==============================] - 2s 2s/step - loss: 6117.8623 - mse: 6117.0962 - val_loss: 5716.1470 - val_mse: 5715.3818\n",
      "1/1 [==============================] - 2s 2s/step - loss: 6042.2559 - mse: 6041.4897 - val_loss: 6163.0674 - val_mse: 6162.3022\n",
      "1/1 [==============================] - 2s 2s/step - loss: 6036.4736 - mse: 6035.7080 - val_loss: 5783.8403 - val_mse: 5783.0757\n",
      "1/1 [==============================] - 2s 2s/step - loss: 6073.3955 - mse: 6072.6274 - val_loss: 6770.2593 - val_mse: 6769.4922\n",
      "1/1 [==============================] - 2s 2s/step - loss: 6044.4893 - mse: 6043.7246 - val_loss: 5572.6616 - val_mse: 5571.8979\n",
      "1/1 [==============================] - 2s 2s/step - loss: 6080.5322 - mse: 6079.7661 - val_loss: 6206.5547 - val_mse: 6205.7900\n",
      "1/1 [==============================] - 2s 2s/step - loss: 6061.6450 - mse: 6060.8784 - val_loss: 5752.4121 - val_mse: 5751.6460\n",
      "1/1 [==============================] - 2s 2s/step - loss: 6063.0811 - mse: 6062.3135 - val_loss: 5887.9473 - val_mse: 5887.1807\n",
      "1/1 [==============================] - 2s 2s/step - loss: 6042.3428 - mse: 6041.5767 - val_loss: 6512.5195 - val_mse: 6511.7539\n",
      "1/1 [==============================] - 2s 2s/step - loss: 6020.4043 - mse: 6019.6357 - val_loss: 6578.7314 - val_mse: 6577.9639\n",
      "1/1 [==============================] - 2s 2s/step - loss: 6067.0015 - mse: 6066.2363 - val_loss: 5924.8203 - val_mse: 5924.0562\n",
      "1/1 [==============================] - 3s 3s/step - loss: 6078.4009 - mse: 6077.6323 - val_loss: 6524.1650 - val_mse: 6523.3975\n",
      "1/1 [==============================] - 3s 3s/step - loss: 6054.2993 - mse: 6053.5298 - val_loss: 5431.3462 - val_mse: 5430.5771\n",
      "1/1 [==============================] - 3s 3s/step - loss: 6057.3960 - mse: 6056.6284 - val_loss: 6061.9653 - val_mse: 6061.1982\n",
      "1/1 [==============================] - 3s 3s/step - loss: 6065.6167 - mse: 6064.8506 - val_loss: 6636.7393 - val_mse: 6635.9736\n",
      "1/1 [==============================] - 3s 3s/step - loss: 6042.4751 - mse: 6041.7061 - val_loss: 6043.4424 - val_mse: 6042.6738\n",
      "1/1 [==============================] - 2s 2s/step - loss: 6073.9497 - mse: 6073.1812 - val_loss: 6184.0220 - val_mse: 6183.2544\n",
      "1/1 [==============================] - 3s 3s/step - loss: 6098.8066 - mse: 6098.0381 - val_loss: 5945.6709 - val_mse: 5944.9033\n",
      "1/1 [==============================] - 3s 3s/step - loss: 6014.0479 - mse: 6013.2817 - val_loss: 6223.7988 - val_mse: 6223.0337\n",
      "1/1 [==============================] - 3s 3s/step - loss: 6092.7969 - mse: 6092.0312 - val_loss: 5790.4941 - val_mse: 5789.7290\n",
      "1/1 [==============================] - 3s 3s/step - loss: 6013.2671 - mse: 6012.4971 - val_loss: 6319.0605 - val_mse: 6318.2910\n",
      "1/1 [==============================] - 3s 3s/step - loss: 6029.3325 - mse: 6028.5654 - val_loss: 5796.1528 - val_mse: 5795.3867\n",
      "1/1 [==============================] - 3s 3s/step - loss: 6019.1602 - mse: 6018.3921 - val_loss: 6436.0825 - val_mse: 6435.3154\n",
      "1/1 [==============================] - 3s 3s/step - loss: 6038.9751 - mse: 6038.2085 - val_loss: 5654.4790 - val_mse: 5653.7134\n",
      "1/1 [==============================] - 3s 3s/step - loss: 6048.6172 - mse: 6047.8525 - val_loss: 5226.0713 - val_mse: 5225.3076\n",
      "1/1 [==============================] - 3s 3s/step - loss: 6079.0264 - mse: 6078.2588 - val_loss: 6604.9619 - val_mse: 6604.1953\n",
      "1/1 [==============================] - 2s 2s/step - loss: 6054.5962 - mse: 6053.8281 - val_loss: 5663.2192 - val_mse: 5662.4517\n",
      "1/1 [==============================] - 3s 3s/step - loss: 6061.5654 - mse: 6060.7983 - val_loss: 5892.2241 - val_mse: 5891.4575\n",
      "1/1 [==============================] - 3s 3s/step - loss: 6074.2207 - mse: 6073.4541 - val_loss: 6495.0386 - val_mse: 6494.2725\n",
      "1/1 [==============================] - 2s 2s/step - loss: 6083.0591 - mse: 6082.2939 - val_loss: 6423.2842 - val_mse: 6422.5195\n",
      "1/1 [==============================] - 2s 2s/step - loss: 6044.1187 - mse: 6043.3521 - val_loss: 6144.2944 - val_mse: 6143.5283\n",
      "1/1 [==============================] - 0s 94ms/step\n",
      "1/1 [==============================] - 0s 78ms/step\n"
     ]
    },
    {
     "name": "stderr",
     "output_type": "stream",
     "text": [
      "\r\n",
      "  0%|                                                                                           | 0/10 [00:00<?, ?it/s]"
     ]
    },
    {
     "name": "stdout",
     "output_type": "stream",
     "text": [
      "18/18 [==============================] - 1s 81ms/step\n"
     ]
    },
    {
     "name": "stderr",
     "output_type": "stream",
     "text": [
      "\r\n",
      " 10%|████████▎                                                                          | 1/10 [00:17<02:37, 17.50s/it]"
     ]
    },
    {
     "name": "stdout",
     "output_type": "stream",
     "text": [
      "18/18 [==============================] - 1s 75ms/step\n"
     ]
    },
    {
     "name": "stderr",
     "output_type": "stream",
     "text": [
      "\r\n",
      " 20%|████████████████▌                                                                  | 2/10 [00:32<02:06, 15.78s/it]"
     ]
    },
    {
     "name": "stdout",
     "output_type": "stream",
     "text": [
      "18/18 [==============================] - 1s 72ms/step\n"
     ]
    },
    {
     "name": "stderr",
     "output_type": "stream",
     "text": [
      "\r\n",
      " 30%|████████████████████████▉                                                          | 3/10 [00:47<01:47, 15.42s/it]"
     ]
    },
    {
     "name": "stdout",
     "output_type": "stream",
     "text": [
      "18/18 [==============================] - 1s 82ms/step\n"
     ]
    },
    {
     "name": "stderr",
     "output_type": "stream",
     "text": [
      "\r\n",
      " 40%|█████████████████████████████████▏                                                 | 4/10 [01:04<01:36, 16.02s/it]"
     ]
    },
    {
     "name": "stdout",
     "output_type": "stream",
     "text": [
      "18/18 [==============================] - 2s 92ms/step\n"
     ]
    },
    {
     "name": "stderr",
     "output_type": "stream",
     "text": [
      "\r\n",
      " 50%|█████████████████████████████████████████▌                                         | 5/10 [01:21<01:22, 16.54s/it]"
     ]
    },
    {
     "name": "stdout",
     "output_type": "stream",
     "text": [
      "18/18 [==============================] - 2s 91ms/step\n"
     ]
    },
    {
     "name": "stderr",
     "output_type": "stream",
     "text": [
      "\r\n",
      " 60%|█████████████████████████████████████████████████▊                                 | 6/10 [01:39<01:07, 16.99s/it]"
     ]
    },
    {
     "name": "stdout",
     "output_type": "stream",
     "text": [
      "18/18 [==============================] - 2s 90ms/step\n"
     ]
    },
    {
     "name": "stderr",
     "output_type": "stream",
     "text": [
      "\r\n",
      " 70%|██████████████████████████████████████████████████████████                         | 7/10 [01:56<00:51, 17.05s/it]"
     ]
    },
    {
     "name": "stdout",
     "output_type": "stream",
     "text": [
      "18/18 [==============================] - 2s 87ms/step\n"
     ]
    },
    {
     "name": "stderr",
     "output_type": "stream",
     "text": [
      "\r\n",
      " 80%|██████████████████████████████████████████████████████████████████▍                | 8/10 [02:14<00:34, 17.26s/it]"
     ]
    },
    {
     "name": "stdout",
     "output_type": "stream",
     "text": [
      "18/18 [==============================] - 1s 75ms/step\n"
     ]
    },
    {
     "name": "stderr",
     "output_type": "stream",
     "text": [
      "\r\n",
      " 90%|██████████████████████████████████████████████████████████████████████████▋        | 9/10 [02:29<00:16, 16.63s/it]"
     ]
    },
    {
     "name": "stdout",
     "output_type": "stream",
     "text": [
      "18/18 [==============================] - 1s 73ms/step\n"
     ]
    },
    {
     "name": "stderr",
     "output_type": "stream",
     "text": [
      "100%|██████████████████████████████████████████████████████████████████████████████████| 10/10 [02:44<00:00, 16.47s/it]\n",
      "100%|██████████████████████████████████████████████████████████████████████████████████| 10/10 [05:04<00:00, 30.50s/it]\n"
     ]
    },
    {
     "name": "stdout",
     "output_type": "stream",
     "text": [
      "L2X OK !!\n",
      "(10, 40, 14) (10, 1)\n",
      "157/157 [==============================] - 13s 83ms/step\n",
      "157/157 [==============================] - 11s 71ms/step\n",
      "157/157 [==============================] - 11s 69ms/step\n",
      "157/157 [==============================] - 13s 82ms/step\n",
      "157/157 [==============================] - 13s 81ms/step\n",
      "157/157 [==============================] - 13s 84ms/step\n",
      "157/157 [==============================] - 11s 70ms/step\n",
      "157/157 [==============================] - 11s 70ms/step\n",
      "157/157 [==============================] - 13s 80ms/step\n",
      "157/157 [==============================] - 11s 68ms/step\n",
      "157/157 [==============================] - 11s 67ms/step\n",
      "157/157 [==============================] - 11s 68ms/step\n",
      "157/157 [==============================] - 10s 67ms/step\n",
      "157/157 [==============================] - 11s 68ms/step\n",
      "157/157 [==============================] - 11s 69ms/step\n",
      "157/157 [==============================] - 11s 72ms/step\n",
      "157/157 [==============================] - 11s 71ms/step\n",
      "157/157 [==============================] - 11s 71ms/step\n",
      "157/157 [==============================] - 11s 71ms/step\n",
      "157/157 [==============================] - 11s 68ms/step\n",
      "1/1 [==============================] - 0s 57ms/step\n",
      "1/1 [==============================] - 0s 63ms/step\n"
     ]
    },
    {
     "name": "stderr",
     "output_type": "stream",
     "text": [
      "\r\n",
      "  0%|                                                                                           | 0/10 [00:00<?, ?it/s]"
     ]
    },
    {
     "name": "stdout",
     "output_type": "stream",
     "text": [
      "157/157 [==============================] - 10s 66ms/step\n",
      "18/18 [==============================] - 1s 71ms/step\n"
     ]
    },
    {
     "name": "stderr",
     "output_type": "stream",
     "text": [
      "\r\n",
      " 10%|████████▎                                                                          | 1/10 [00:18<02:48, 18.73s/it]"
     ]
    },
    {
     "name": "stdout",
     "output_type": "stream",
     "text": [
      "157/157 [==============================] - 11s 69ms/step\n",
      "18/18 [==============================] - 1s 71ms/step\n"
     ]
    },
    {
     "name": "stderr",
     "output_type": "stream",
     "text": [
      "\r\n",
      " 20%|████████████████▌                                                                  | 2/10 [00:38<02:33, 19.25s/it]"
     ]
    },
    {
     "name": "stdout",
     "output_type": "stream",
     "text": [
      "157/157 [==============================] - 12s 75ms/step\n",
      "18/18 [==============================] - 2s 85ms/step\n"
     ]
    },
    {
     "name": "stderr",
     "output_type": "stream",
     "text": [
      "\r\n",
      " 30%|████████████████████████▉                                                          | 3/10 [00:59<02:19, 19.95s/it]"
     ]
    },
    {
     "name": "stdout",
     "output_type": "stream",
     "text": [
      "157/157 [==============================] - 13s 81ms/step\n",
      "18/18 [==============================] - 2s 84ms/step\n"
     ]
    },
    {
     "name": "stderr",
     "output_type": "stream",
     "text": [
      "\r\n",
      " 40%|█████████████████████████████████▏                                                 | 4/10 [01:24<02:13, 22.23s/it]"
     ]
    },
    {
     "name": "stdout",
     "output_type": "stream",
     "text": [
      "157/157 [==============================] - 12s 76ms/step\n",
      "18/18 [==============================] - 1s 72ms/step\n"
     ]
    },
    {
     "name": "stderr",
     "output_type": "stream",
     "text": [
      "\r\n",
      " 50%|█████████████████████████████████████████▌                                         | 5/10 [01:49<01:55, 23.05s/it]"
     ]
    },
    {
     "name": "stdout",
     "output_type": "stream",
     "text": [
      "157/157 [==============================] - 11s 70ms/step\n",
      "18/18 [==============================] - 1s 68ms/step\n"
     ]
    },
    {
     "name": "stderr",
     "output_type": "stream",
     "text": [
      "\r\n",
      " 60%|█████████████████████████████████████████████████▊                                 | 6/10 [02:10<01:29, 22.32s/it]"
     ]
    },
    {
     "name": "stdout",
     "output_type": "stream",
     "text": [
      "157/157 [==============================] - 13s 81ms/step\n",
      "18/18 [==============================] - 1s 82ms/step\n"
     ]
    },
    {
     "name": "stderr",
     "output_type": "stream",
     "text": [
      "\r\n",
      " 70%|██████████████████████████████████████████████████████████                         | 7/10 [02:32<01:07, 22.40s/it]"
     ]
    },
    {
     "name": "stdout",
     "output_type": "stream",
     "text": [
      "157/157 [==============================] - 13s 80ms/step\n",
      "18/18 [==============================] - 1s 77ms/step\n"
     ]
    },
    {
     "name": "stderr",
     "output_type": "stream",
     "text": [
      "\r\n",
      " 80%|██████████████████████████████████████████████████████████████████▍                | 8/10 [02:58<00:46, 23.43s/it]"
     ]
    },
    {
     "name": "stdout",
     "output_type": "stream",
     "text": [
      "157/157 [==============================] - 12s 76ms/step\n",
      "18/18 [==============================] - 1s 75ms/step\n"
     ]
    },
    {
     "name": "stderr",
     "output_type": "stream",
     "text": [
      "\r\n",
      " 90%|██████████████████████████████████████████████████████████████████████████▋        | 9/10 [03:23<00:23, 23.96s/it]"
     ]
    },
    {
     "name": "stdout",
     "output_type": "stream",
     "text": [
      "157/157 [==============================] - 12s 76ms/step\n",
      "18/18 [==============================] - 1s 63ms/step\n"
     ]
    },
    {
     "name": "stderr",
     "output_type": "stream",
     "text": [
      "100%|██████████████████████████████████████████████████████████████████████████████████| 10/10 [03:48<00:00, 22.82s/it]\n",
      "  0%|                                                                                           | 0/10 [00:00<?, ?it/s]"
     ]
    },
    {
     "name": "stdout",
     "output_type": "stream",
     "text": [
      "157/157 [==============================] - 11s 71ms/step\n",
      "157/157 [==============================] - 12s 79ms/step\n"
     ]
    },
    {
     "name": "stderr",
     "output_type": "stream",
     "text": [
      "\r\n",
      " 10%|████████▎                                                                          | 1/10 [00:40<06:02, 40.23s/it]"
     ]
    },
    {
     "name": "stdout",
     "output_type": "stream",
     "text": [
      "157/157 [==============================] - 13s 82ms/step\n",
      "157/157 [==============================] - 13s 82ms/step\n"
     ]
    },
    {
     "name": "stderr",
     "output_type": "stream",
     "text": [
      "\r\n",
      " 20%|████████████████▌                                                                  | 2/10 [01:29<06:03, 45.41s/it]"
     ]
    },
    {
     "name": "stdout",
     "output_type": "stream",
     "text": [
      "157/157 [==============================] - 13s 81ms/step\n",
      "157/157 [==============================] - 11s 70ms/step\n"
     ]
    },
    {
     "name": "stderr",
     "output_type": "stream",
     "text": [
      "\r\n",
      " 30%|████████████████████████▉                                                          | 3/10 [02:13<05:14, 44.92s/it]"
     ]
    },
    {
     "name": "stdout",
     "output_type": "stream",
     "text": [
      "157/157 [==============================] - 11s 73ms/step\n",
      "157/157 [==============================] - 13s 83ms/step\n"
     ]
    },
    {
     "name": "stderr",
     "output_type": "stream",
     "text": [
      "\r\n",
      " 40%|█████████████████████████████████▏                                                 | 4/10 [02:57<04:27, 44.66s/it]"
     ]
    },
    {
     "name": "stdout",
     "output_type": "stream",
     "text": [
      "157/157 [==============================] - 13s 80ms/step\n",
      "157/157 [==============================] - 13s 83ms/step\n"
     ]
    },
    {
     "name": "stderr",
     "output_type": "stream",
     "text": [
      "\r\n",
      " 50%|█████████████████████████████████████████▌                                         | 5/10 [03:46<03:51, 46.26s/it]"
     ]
    },
    {
     "name": "stdout",
     "output_type": "stream",
     "text": [
      "157/157 [==============================] - 11s 69ms/step\n",
      "157/157 [==============================] - 11s 70ms/step\n"
     ]
    },
    {
     "name": "stderr",
     "output_type": "stream",
     "text": [
      "\r\n",
      " 60%|█████████████████████████████████████████████████▊                                 | 6/10 [04:27<02:57, 44.34s/it]"
     ]
    },
    {
     "name": "stdout",
     "output_type": "stream",
     "text": [
      "157/157 [==============================] - 13s 81ms/step\n",
      "157/157 [==============================] - 12s 77ms/step\n"
     ]
    },
    {
     "name": "stderr",
     "output_type": "stream",
     "text": [
      "\r\n",
      " 70%|██████████████████████████████████████████████████████████                         | 7/10 [05:14<02:15, 45.16s/it]"
     ]
    },
    {
     "name": "stdout",
     "output_type": "stream",
     "text": [
      "157/157 [==============================] - 10s 66ms/step\n",
      "157/157 [==============================] - 10s 66ms/step\n"
     ]
    },
    {
     "name": "stderr",
     "output_type": "stream",
     "text": [
      "\r\n",
      " 80%|██████████████████████████████████████████████████████████████████▍                | 8/10 [05:48<01:23, 41.77s/it]"
     ]
    },
    {
     "name": "stdout",
     "output_type": "stream",
     "text": [
      "157/157 [==============================] - 10s 65ms/step\n",
      "157/157 [==============================] - 10s 66ms/step\n"
     ]
    },
    {
     "name": "stderr",
     "output_type": "stream",
     "text": [
      "\r\n",
      " 90%|██████████████████████████████████████████████████████████████████████████▋        | 9/10 [06:23<00:39, 39.57s/it]"
     ]
    },
    {
     "name": "stdout",
     "output_type": "stream",
     "text": [
      "157/157 [==============================] - 10s 66ms/step\n",
      "157/157 [==============================] - 10s 65ms/step\n"
     ]
    },
    {
     "name": "stderr",
     "output_type": "stream",
     "text": [
      "100%|██████████████████████████████████████████████████████████████████████████████████| 10/10 [06:58<00:00, 41.83s/it]"
     ]
    },
    {
     "name": "stdout",
     "output_type": "stream",
     "text": [
      "Lime OK!!\n",
      "1/1 [==============================] - 0s 30ms/step\n"
     ]
    },
    {
     "name": "stderr",
     "output_type": "stream",
     "text": [
      "\n"
     ]
    },
    {
     "name": "stdout",
     "output_type": "stream",
     "text": [
      "8/8 [==============================] - 1s 126ms/step\n",
      "1/1 [==============================] - 0s 21ms/step\n",
      "8/8 [==============================] - 1s 133ms/step\n",
      "1/1 [==============================] - 0s 20ms/step\n",
      "8/8 [==============================] - 1s 130ms/step\n",
      "1/1 [==============================] - 0s 29ms/step\n",
      "8/8 [==============================] - 1s 132ms/step\n",
      "1/1 [==============================] - 0s 21ms/step\n",
      "8/8 [==============================] - 1s 129ms/step\n",
      "1/1 [==============================] - 0s 26ms/step\n",
      "8/8 [==============================] - 1s 128ms/step\n",
      "1/1 [==============================] - 0s 39ms/step\n",
      "8/8 [==============================] - 1s 131ms/step\n",
      "1/1 [==============================] - 0s 34ms/step\n",
      "8/8 [==============================] - 1s 131ms/step\n",
      "1/1 [==============================] - 0s 20ms/step\n",
      "8/8 [==============================] - 1s 126ms/step\n",
      "1/1 [==============================] - 0s 20ms/step\n",
      "8/8 [==============================] - 1s 137ms/step\n",
      "1/1 [==============================] - 0s 21ms/step\n",
      "8/8 [==============================] - 1s 133ms/step\n",
      "1/1 [==============================] - 0s 22ms/step\n",
      "8/8 [==============================] - 1s 134ms/step\n",
      "1/1 [==============================] - 0s 26ms/step\n",
      "8/8 [==============================] - 1s 135ms/step\n",
      "1/1 [==============================] - 0s 28ms/step\n",
      "8/8 [==============================] - 1s 132ms/step\n",
      "1/1 [==============================] - 0s 22ms/step\n",
      "8/8 [==============================] - 1s 128ms/step\n",
      "1/1 [==============================] - 0s 24ms/step\n",
      "8/8 [==============================] - 1s 131ms/step\n",
      "1/1 [==============================] - 0s 21ms/step\n",
      "8/8 [==============================] - 1s 131ms/step\n",
      "1/1 [==============================] - 0s 30ms/step\n",
      "8/8 [==============================] - 1s 130ms/step\n",
      "1/1 [==============================] - 0s 20ms/step\n",
      "8/8 [==============================] - 1s 128ms/step\n",
      "1/1 [==============================] - 0s 23ms/step\n",
      "8/8 [==============================] - 1s 129ms/step\n",
      "1/1 [==============================] - 0s 21ms/step\n",
      "8/8 [==============================] - 1s 130ms/step\n",
      "1/1 [==============================] - 0s 30ms/step\n",
      "8/8 [==============================] - 1s 133ms/step\n",
      "1/1 [==============================] - 0s 22ms/step\n",
      "8/8 [==============================] - 1s 131ms/step\n",
      "1/1 [==============================] - 0s 28ms/step\n",
      "8/8 [==============================] - 1s 132ms/step\n",
      "1/1 [==============================] - 0s 21ms/step\n",
      "8/8 [==============================] - 1s 128ms/step\n",
      "1/1 [==============================] - 0s 23ms/step\n",
      "8/8 [==============================] - 1s 129ms/step\n",
      "1/1 [==============================] - 0s 21ms/step\n",
      "8/8 [==============================] - 1s 127ms/step\n",
      "1/1 [==============================] - 0s 30ms/step\n",
      "8/8 [==============================] - 1s 130ms/step\n",
      "1/1 [==============================] - 0s 25ms/step\n",
      "8/8 [==============================] - 1s 130ms/step\n",
      "1/1 [==============================] - 0s 22ms/step\n",
      "8/8 [==============================] - 1s 132ms/step\n",
      "1/1 [==============================] - 0s 22ms/step\n",
      "8/8 [==============================] - 1s 132ms/step\n",
      "1/1 [==============================] - 0s 60ms/step\n",
      "1/1 [==============================] - 0s 51ms/step\n"
     ]
    },
    {
     "name": "stderr",
     "output_type": "stream",
     "text": [
      "\r\n",
      "  0%|                                                                                           | 0/10 [00:00<?, ?it/s]"
     ]
    },
    {
     "name": "stdout",
     "output_type": "stream",
     "text": [
      "1/1 [==============================] - 0s 20ms/step\n",
      "8/8 [==============================] - 1s 134ms/step\n",
      "1/1 [==============================] - 0s 21ms/step\n",
      "8/8 [==============================] - 1s 133ms/step\n",
      "18/18 [==============================] - 1s 65ms/step\n"
     ]
    },
    {
     "name": "stderr",
     "output_type": "stream",
     "text": [
      "\r\n",
      " 10%|████████▎                                                                          | 1/10 [00:03<00:34,  3.83s/it]"
     ]
    },
    {
     "name": "stdout",
     "output_type": "stream",
     "text": [
      "1/1 [==============================] - 0s 19ms/step\n",
      "8/8 [==============================] - 1s 132ms/step\n",
      "1/1 [==============================] - 0s 23ms/step\n",
      "8/8 [==============================] - 1s 131ms/step\n",
      "18/18 [==============================] - 1s 64ms/step\n"
     ]
    },
    {
     "name": "stderr",
     "output_type": "stream",
     "text": [
      "\r\n",
      " 20%|████████████████▌                                                                  | 2/10 [00:07<00:30,  3.82s/it]"
     ]
    },
    {
     "name": "stdout",
     "output_type": "stream",
     "text": [
      "1/1 [==============================] - 0s 21ms/step\n",
      "8/8 [==============================] - 1s 130ms/step\n",
      "1/1 [==============================] - 0s 20ms/step\n",
      "8/8 [==============================] - 1s 129ms/step\n",
      "18/18 [==============================] - 1s 64ms/step\n"
     ]
    },
    {
     "name": "stderr",
     "output_type": "stream",
     "text": [
      "\r\n",
      " 30%|████████████████████████▉                                                          | 3/10 [00:11<00:26,  3.79s/it]"
     ]
    },
    {
     "name": "stdout",
     "output_type": "stream",
     "text": [
      "1/1 [==============================] - 0s 21ms/step\n",
      "8/8 [==============================] - 1s 129ms/step\n",
      "1/1 [==============================] - 0s 19ms/step\n",
      "8/8 [==============================] - 1s 132ms/step\n",
      "18/18 [==============================] - 1s 64ms/step\n"
     ]
    },
    {
     "name": "stderr",
     "output_type": "stream",
     "text": [
      "\r\n",
      " 40%|█████████████████████████████████▏                                                 | 4/10 [00:15<00:22,  3.77s/it]"
     ]
    },
    {
     "name": "stdout",
     "output_type": "stream",
     "text": [
      "1/1 [==============================] - 0s 20ms/step\n",
      "8/8 [==============================] - 1s 133ms/step\n",
      "1/1 [==============================] - 0s 21ms/step\n",
      "8/8 [==============================] - 1s 132ms/step\n",
      "18/18 [==============================] - 1s 61ms/step\n"
     ]
    },
    {
     "name": "stderr",
     "output_type": "stream",
     "text": [
      "\r\n",
      " 50%|█████████████████████████████████████████▌                                         | 5/10 [00:18<00:18,  3.79s/it]"
     ]
    },
    {
     "name": "stdout",
     "output_type": "stream",
     "text": [
      "1/1 [==============================] - 0s 23ms/step\n",
      "8/8 [==============================] - 1s 129ms/step\n",
      "1/1 [==============================] - 0s 26ms/step\n",
      "8/8 [==============================] - 1s 132ms/step\n",
      "18/18 [==============================] - 1s 66ms/step\n"
     ]
    },
    {
     "name": "stderr",
     "output_type": "stream",
     "text": [
      "\r\n",
      " 60%|█████████████████████████████████████████████████▊                                 | 6/10 [00:22<00:15,  3.84s/it]"
     ]
    },
    {
     "name": "stdout",
     "output_type": "stream",
     "text": [
      "1/1 [==============================] - 0s 28ms/step\n",
      "8/8 [==============================] - 1s 134ms/step\n",
      "1/1 [==============================] - 0s 31ms/step\n",
      "8/8 [==============================] - 1s 132ms/step\n",
      "18/18 [==============================] - 1s 61ms/step\n"
     ]
    },
    {
     "name": "stderr",
     "output_type": "stream",
     "text": [
      "\r\n",
      " 70%|██████████████████████████████████████████████████████████                         | 7/10 [00:26<00:11,  3.86s/it]"
     ]
    },
    {
     "name": "stdout",
     "output_type": "stream",
     "text": [
      "1/1 [==============================] - 0s 22ms/step\n",
      "8/8 [==============================] - 1s 131ms/step\n",
      "1/1 [==============================] - 0s 29ms/step\n",
      "8/8 [==============================] - 1s 140ms/step\n",
      "18/18 [==============================] - 1s 66ms/step\n"
     ]
    },
    {
     "name": "stderr",
     "output_type": "stream",
     "text": [
      "\r\n",
      " 80%|██████████████████████████████████████████████████████████████████▍                | 8/10 [00:30<00:07,  3.89s/it]"
     ]
    },
    {
     "name": "stdout",
     "output_type": "stream",
     "text": [
      "1/1 [==============================] - 0s 26ms/step\n",
      "8/8 [==============================] - 1s 133ms/step\n",
      "1/1 [==============================] - 0s 25ms/step\n",
      "8/8 [==============================] - 1s 132ms/step\n",
      "18/18 [==============================] - 1s 62ms/step\n"
     ]
    },
    {
     "name": "stderr",
     "output_type": "stream",
     "text": [
      "\r\n",
      " 90%|██████████████████████████████████████████████████████████████████████████▋        | 9/10 [00:34<00:03,  3.88s/it]"
     ]
    },
    {
     "name": "stdout",
     "output_type": "stream",
     "text": [
      "1/1 [==============================] - 0s 34ms/step\n",
      "8/8 [==============================] - 1s 128ms/step\n",
      "1/1 [==============================] - 0s 25ms/step\n",
      "8/8 [==============================] - 1s 129ms/step\n",
      "18/18 [==============================] - 1s 66ms/step\n"
     ]
    },
    {
     "name": "stderr",
     "output_type": "stream",
     "text": [
      "100%|██████████████████████████████████████████████████████████████████████████████████| 10/10 [00:38<00:00,  3.85s/it]\n",
      "  0%|                                                                                           | 0/10 [00:00<?, ?it/s]"
     ]
    },
    {
     "name": "stdout",
     "output_type": "stream",
     "text": [
      "1/1 [==============================] - 0s 26ms/step\n",
      "8/8 [==============================] - 1s 134ms/step\n",
      "1/1 [==============================] - 0s 24ms/step\n",
      "8/8 [==============================] - 1s 131ms/step\n",
      "1/1 [==============================] - 0s 24ms/step\n",
      "8/8 [==============================] - 1s 131ms/step\n",
      "1/1 [==============================] - 0s 26ms/step\n",
      "8/8 [==============================] - 1s 130ms/step\n"
     ]
    },
    {
     "name": "stderr",
     "output_type": "stream",
     "text": [
      "\r\n",
      " 10%|████████▎                                                                          | 1/10 [00:05<00:48,  5.36s/it]"
     ]
    },
    {
     "name": "stdout",
     "output_type": "stream",
     "text": [
      "1/1 [==============================] - 0s 28ms/step\n",
      "8/8 [==============================] - 1s 137ms/step\n",
      "1/1 [==============================] - 0s 28ms/step\n",
      "8/8 [==============================] - 1s 135ms/step\n",
      "1/1 [==============================] - 0s 27ms/step\n",
      "8/8 [==============================] - 1s 135ms/step\n",
      "1/1 [==============================] - 0s 23ms/step\n",
      "8/8 [==============================] - 1s 127ms/step\n"
     ]
    },
    {
     "name": "stderr",
     "output_type": "stream",
     "text": [
      "\r\n",
      " 20%|████████████████▌                                                                  | 2/10 [00:10<00:42,  5.36s/it]"
     ]
    },
    {
     "name": "stdout",
     "output_type": "stream",
     "text": [
      "1/1 [==============================] - 0s 24ms/step\n",
      "8/8 [==============================] - 1s 129ms/step\n",
      "1/1 [==============================] - 0s 23ms/step\n",
      "8/8 [==============================] - 1s 129ms/step\n",
      "1/1 [==============================] - 0s 20ms/step\n",
      "8/8 [==============================] - 1s 130ms/step\n",
      "1/1 [==============================] - 0s 26ms/step\n",
      "8/8 [==============================] - 1s 129ms/step\n"
     ]
    },
    {
     "name": "stderr",
     "output_type": "stream",
     "text": [
      "\r\n",
      " 30%|████████████████████████▉                                                          | 3/10 [00:15<00:36,  5.25s/it]"
     ]
    },
    {
     "name": "stdout",
     "output_type": "stream",
     "text": [
      "1/1 [==============================] - 0s 33ms/step\n",
      "8/8 [==============================] - 1s 131ms/step\n",
      "1/1 [==============================] - 0s 20ms/step\n",
      "8/8 [==============================] - 1s 128ms/step\n",
      "1/1 [==============================] - 0s 23ms/step\n",
      "8/8 [==============================] - 1s 130ms/step\n",
      "1/1 [==============================] - 0s 30ms/step\n",
      "8/8 [==============================] - 1s 133ms/step\n"
     ]
    },
    {
     "name": "stderr",
     "output_type": "stream",
     "text": [
      "\r\n",
      " 40%|█████████████████████████████████▏                                                 | 4/10 [00:21<00:31,  5.22s/it]"
     ]
    },
    {
     "name": "stdout",
     "output_type": "stream",
     "text": [
      "1/1 [==============================] - 0s 21ms/step\n",
      "8/8 [==============================] - 1s 129ms/step\n",
      "1/1 [==============================] - 0s 21ms/step\n",
      "8/8 [==============================] - 1s 133ms/step\n",
      "1/1 [==============================] - 0s 34ms/step\n",
      "8/8 [==============================] - 1s 133ms/step\n",
      "1/1 [==============================] - 0s 23ms/step\n",
      "8/8 [==============================] - 1s 130ms/step\n"
     ]
    },
    {
     "name": "stderr",
     "output_type": "stream",
     "text": [
      "\r\n",
      " 50%|█████████████████████████████████████████▌                                         | 5/10 [00:26<00:26,  5.21s/it]"
     ]
    },
    {
     "name": "stdout",
     "output_type": "stream",
     "text": [
      "1/1 [==============================] - 0s 19ms/step\n",
      "8/8 [==============================] - 1s 137ms/step\n",
      "1/1 [==============================] - 0s 20ms/step\n",
      "8/8 [==============================] - 1s 128ms/step\n",
      "1/1 [==============================] - 0s 21ms/step\n",
      "8/8 [==============================] - 1s 128ms/step\n",
      "1/1 [==============================] - 0s 20ms/step\n",
      "8/8 [==============================] - 1s 134ms/step\n"
     ]
    },
    {
     "name": "stderr",
     "output_type": "stream",
     "text": [
      "\r\n",
      " 60%|█████████████████████████████████████████████████▊                                 | 6/10 [00:31<00:20,  5.23s/it]"
     ]
    },
    {
     "name": "stdout",
     "output_type": "stream",
     "text": [
      "1/1 [==============================] - 0s 21ms/step\n",
      "8/8 [==============================] - 1s 133ms/step\n",
      "1/1 [==============================] - 0s 21ms/step\n",
      "8/8 [==============================] - 1s 134ms/step\n",
      "1/1 [==============================] - 0s 25ms/step\n",
      "8/8 [==============================] - 1s 128ms/step\n",
      "1/1 [==============================] - 0s 20ms/step\n",
      "8/8 [==============================] - 1s 133ms/step\n"
     ]
    },
    {
     "name": "stderr",
     "output_type": "stream",
     "text": [
      "\r\n",
      " 70%|██████████████████████████████████████████████████████████                         | 7/10 [00:36<00:15,  5.22s/it]"
     ]
    },
    {
     "name": "stdout",
     "output_type": "stream",
     "text": [
      "1/1 [==============================] - 0s 20ms/step\n",
      "8/8 [==============================] - 1s 133ms/step\n",
      "1/1 [==============================] - 0s 22ms/step\n",
      "8/8 [==============================] - 1s 131ms/step\n",
      "1/1 [==============================] - 0s 25ms/step\n",
      "8/8 [==============================] - 1s 132ms/step\n",
      "1/1 [==============================] - 0s 29ms/step\n",
      "8/8 [==============================] - 1s 130ms/step\n"
     ]
    },
    {
     "name": "stderr",
     "output_type": "stream",
     "text": [
      "\r\n",
      " 80%|██████████████████████████████████████████████████████████████████▍                | 8/10 [00:41<00:10,  5.23s/it]"
     ]
    },
    {
     "name": "stdout",
     "output_type": "stream",
     "text": [
      "1/1 [==============================] - 0s 20ms/step\n",
      "8/8 [==============================] - 1s 129ms/step\n",
      "1/1 [==============================] - 0s 32ms/step\n",
      "8/8 [==============================] - 1s 127ms/step\n",
      "1/1 [==============================] - 0s 20ms/step\n",
      "8/8 [==============================] - 1s 129ms/step\n",
      "1/1 [==============================] - 0s 21ms/step\n",
      "8/8 [==============================] - 1s 128ms/step\n"
     ]
    },
    {
     "name": "stderr",
     "output_type": "stream",
     "text": [
      "\r\n",
      " 90%|██████████████████████████████████████████████████████████████████████████▋        | 9/10 [00:46<00:05,  5.17s/it]"
     ]
    },
    {
     "name": "stdout",
     "output_type": "stream",
     "text": [
      "1/1 [==============================] - 0s 24ms/step\n",
      "8/8 [==============================] - 1s 127ms/step\n",
      "1/1 [==============================] - 0s 21ms/step\n",
      "8/8 [==============================] - 1s 129ms/step\n",
      "1/1 [==============================] - 0s 28ms/step\n",
      "8/8 [==============================] - 1s 132ms/step\n",
      "1/1 [==============================] - 0s 25ms/step\n",
      "8/8 [==============================] - 1s 133ms/step\n"
     ]
    },
    {
     "name": "stderr",
     "output_type": "stream",
     "text": [
      "100%|██████████████████████████████████████████████████████████████████████████████████| 10/10 [00:52<00:00,  5.21s/it]"
     ]
    },
    {
     "name": "stdout",
     "output_type": "stream",
     "text": [
      "shap OK !!\n",
      "1/1 [==============================] - 0s 64ms/step\n"
     ]
    },
    {
     "name": "stderr",
     "output_type": "stream",
     "text": [
      "\n"
     ]
    },
    {
     "name": "stdout",
     "output_type": "stream",
     "text": [
      "1/1 [==============================] - 1s 1s/step - loss: 5883.3511 - mse: 5882.5835 - val_loss: 5886.8218 - val_mse: 5886.0630\n",
      "1/1 [==============================] - 1s 1s/step - loss: 5854.7236 - mse: 5853.9570 - val_loss: 5892.2520 - val_mse: 5891.4941\n",
      "1/1 [==============================] - 1s 1s/step - loss: 5887.3462 - mse: 5886.5806 - val_loss: 5612.6084 - val_mse: 5611.8506\n",
      "1/1 [==============================] - 2s 2s/step - loss: 5939.1943 - mse: 5938.4282 - val_loss: 5894.8042 - val_mse: 5894.0464\n",
      "1/1 [==============================] - 3s 3s/step - loss: 5870.8003 - mse: 5870.0356 - val_loss: 5890.4556 - val_mse: 5889.6982\n",
      "1/1 [==============================] - 3s 3s/step - loss: 5927.4399 - mse: 5926.6753 - val_loss: 5909.3228 - val_mse: 5908.5649\n",
      "1/1 [==============================] - 2s 2s/step - loss: 5878.2192 - mse: 5877.4517 - val_loss: 5935.4277 - val_mse: 5934.6675\n",
      "1/1 [==============================] - 3s 3s/step - loss: 5866.5601 - mse: 5865.7944 - val_loss: 5902.5859 - val_mse: 5901.8271\n",
      "1/1 [==============================] - 3s 3s/step - loss: 5857.3032 - mse: 5856.5332 - val_loss: 5873.4429 - val_mse: 5872.6792\n",
      "1/1 [==============================] - 3s 3s/step - loss: 5896.3237 - mse: 5895.5552 - val_loss: 5893.6895 - val_mse: 5892.9268\n",
      "1/1 [==============================] - 3s 3s/step - loss: 5898.7012 - mse: 5897.9331 - val_loss: 5899.7544 - val_mse: 5898.9927\n",
      "1/1 [==============================] - 3s 3s/step - loss: 5879.8818 - mse: 5879.1157 - val_loss: 5894.6899 - val_mse: 5893.9297\n",
      "1/1 [==============================] - 3s 3s/step - loss: 5897.9922 - mse: 5897.2280 - val_loss: 5887.5269 - val_mse: 5886.7681\n",
      "1/1 [==============================] - 2s 2s/step - loss: 5901.8003 - mse: 5901.0352 - val_loss: 6040.2939 - val_mse: 6039.5342\n",
      "1/1 [==============================] - 3s 3s/step - loss: 5880.0063 - mse: 5879.2417 - val_loss: 5891.3647 - val_mse: 5890.6055\n",
      "1/1 [==============================] - 3s 3s/step - loss: 5871.3960 - mse: 5870.6289 - val_loss: 5706.8828 - val_mse: 5706.1211\n",
      "1/1 [==============================] - 2s 2s/step - loss: 5914.2554 - mse: 5913.4893 - val_loss: 6011.5400 - val_mse: 6010.7788\n",
      "1/1 [==============================] - 2s 2s/step - loss: 5904.1719 - mse: 5903.4072 - val_loss: 6007.4673 - val_mse: 6006.7070\n",
      "1/1 [==============================] - 2s 2s/step - loss: 5887.9443 - mse: 5887.1787 - val_loss: 5856.3418 - val_mse: 5855.5806\n",
      "1/1 [==============================] - 2s 2s/step - loss: 5894.4668 - mse: 5893.6992 - val_loss: 5800.8198 - val_mse: 5800.0566\n",
      "1/1 [==============================] - 2s 2s/step - loss: 5880.9297 - mse: 5880.1655 - val_loss: 6000.9272 - val_mse: 6000.1670\n",
      "1/1 [==============================] - 2s 2s/step - loss: 5872.5054 - mse: 5871.7397 - val_loss: 5840.1021 - val_mse: 5839.3408\n",
      "1/1 [==============================] - 2s 2s/step - loss: 5891.2227 - mse: 5890.4565 - val_loss: 5972.9712 - val_mse: 5972.2090\n",
      "1/1 [==============================] - 2s 2s/step - loss: 5885.7500 - mse: 5884.9834 - val_loss: 5823.6411 - val_mse: 5822.8789\n",
      "1/1 [==============================] - 2s 2s/step - loss: 5931.3623 - mse: 5930.5957 - val_loss: 5944.6470 - val_mse: 5943.8843\n",
      "1/1 [==============================] - 2s 2s/step - loss: 5910.4863 - mse: 5909.7163 - val_loss: 5908.9712 - val_mse: 5908.2051\n",
      "1/1 [==============================] - 2s 2s/step - loss: 5881.3481 - mse: 5880.5820 - val_loss: 5863.3667 - val_mse: 5862.6045\n",
      "1/1 [==============================] - 2s 2s/step - loss: 5924.2466 - mse: 5923.4805 - val_loss: 5912.5835 - val_mse: 5911.8213\n",
      "1/1 [==============================] - 2s 2s/step - loss: 5883.7344 - mse: 5882.9678 - val_loss: 5519.0640 - val_mse: 5518.3008\n",
      "1/1 [==============================] - 2s 2s/step - loss: 5903.1709 - mse: 5902.4028 - val_loss: 6038.2871 - val_mse: 6037.5225\n",
      "1/1 [==============================] - 2s 2s/step - loss: 5897.9351 - mse: 5897.1670 - val_loss: 5444.2734 - val_mse: 5443.5088\n",
      "1/1 [==============================] - 2s 2s/step - loss: 5867.8369 - mse: 5867.0703 - val_loss: 5842.5020 - val_mse: 5841.7383\n",
      "1/1 [==============================] - 2s 2s/step - loss: 5913.6655 - mse: 5912.8994 - val_loss: 5865.0703 - val_mse: 5864.3076\n",
      "1/1 [==============================] - 3s 3s/step - loss: 5898.7153 - mse: 5897.9487 - val_loss: 5865.9092 - val_mse: 5865.1455\n",
      "1/1 [==============================] - 3s 3s/step - loss: 5925.3447 - mse: 5924.5767 - val_loss: 5986.2837 - val_mse: 5985.5186\n",
      "1/1 [==============================] - 3s 3s/step - loss: 5854.4492 - mse: 5853.6821 - val_loss: 5984.7046 - val_mse: 5983.9404\n",
      "1/1 [==============================] - 2s 2s/step - loss: 5889.7959 - mse: 5889.0288 - val_loss: 5604.7881 - val_mse: 5604.0239\n",
      "1/1 [==============================] - 3s 3s/step - loss: 5854.1348 - mse: 5853.3696 - val_loss: 5754.2852 - val_mse: 5753.5229\n",
      "1/1 [==============================] - 3s 3s/step - loss: 5845.1553 - mse: 5844.3882 - val_loss: 5846.4785 - val_mse: 5845.7139\n",
      "1/1 [==============================] - 3s 3s/step - loss: 5894.2383 - mse: 5893.4751 - val_loss: 6023.4141 - val_mse: 6022.6533\n",
      "1/1 [==============================] - 3s 3s/step - loss: 5861.1245 - mse: 5860.3569 - val_loss: 5870.6909 - val_mse: 5869.9258\n",
      "1/1 [==============================] - 3s 3s/step - loss: 5903.5620 - mse: 5902.7930 - val_loss: 5769.7944 - val_mse: 5769.0278\n",
      "1/1 [==============================] - 3s 3s/step - loss: 5861.6353 - mse: 5860.8701 - val_loss: 5776.2788 - val_mse: 5775.5166\n",
      "1/1 [==============================] - 3s 3s/step - loss: 5851.4097 - mse: 5850.6426 - val_loss: 5421.2925 - val_mse: 5420.5278\n",
      "1/1 [==============================] - 2s 2s/step - loss: 5932.2808 - mse: 5931.5166 - val_loss: 5614.5400 - val_mse: 5613.7783\n",
      "1/1 [==============================] - 3s 3s/step - loss: 5874.2979 - mse: 5873.5332 - val_loss: 5809.4951 - val_mse: 5808.7329\n",
      "1/1 [==============================] - 3s 3s/step - loss: 5923.0293 - mse: 5922.2627 - val_loss: 5432.6519 - val_mse: 5431.8877\n",
      "1/1 [==============================] - 3s 3s/step - loss: 5905.7339 - mse: 5904.9692 - val_loss: 6019.3530 - val_mse: 6018.5898\n",
      "1/1 [==============================] - 3s 3s/step - loss: 5908.9463 - mse: 5908.1797 - val_loss: 5928.9487 - val_mse: 5928.1836\n",
      "1/1 [==============================] - 3s 3s/step - loss: 5917.8921 - mse: 5917.1235 - val_loss: 5650.2114 - val_mse: 5649.4438\n",
      "1/1 [==============================] - 3s 3s/step - loss: 5802.1060 - mse: 5801.3389 - val_loss: 5917.7236 - val_mse: 5916.9580\n",
      "1/1 [==============================] - 3s 3s/step - loss: 5895.0132 - mse: 5894.2485 - val_loss: 5477.0000 - val_mse: 5476.2373\n",
      "1/1 [==============================] - 3s 3s/step - loss: 5904.2925 - mse: 5903.5249 - val_loss: 5763.8291 - val_mse: 5763.0635\n",
      "1/1 [==============================] - 2s 2s/step - loss: 5950.3042 - mse: 5949.5361 - val_loss: 5663.5352 - val_mse: 5662.7686\n",
      "1/1 [==============================] - 26s 26s/step - loss: 5909.2324 - mse: 5908.4663 - val_loss: 6000.8472 - val_mse: 6000.0825\n",
      "1/1 [==============================] - 2s 2s/step - loss: 5892.0679 - mse: 5891.3027 - val_loss: 5688.0020 - val_mse: 5687.2388\n",
      "1/1 [==============================] - 2s 2s/step - loss: 5898.7441 - mse: 5897.9780 - val_loss: 5765.8193 - val_mse: 5765.0547\n",
      "1/1 [==============================] - 2s 2s/step - loss: 5952.0386 - mse: 5951.2705 - val_loss: 5749.9663 - val_mse: 5749.2002\n",
      "1/1 [==============================] - 2s 2s/step - loss: 5912.1045 - mse: 5911.3384 - val_loss: 5392.9150 - val_mse: 5392.1504\n",
      "1/1 [==============================] - 2s 2s/step - loss: 5893.8599 - mse: 5893.0962 - val_loss: 5619.8179 - val_mse: 5619.0557\n",
      "1/1 [==============================] - 2s 2s/step - loss: 5954.6572 - mse: 5953.8911 - val_loss: 5972.7471 - val_mse: 5971.9819\n",
      "1/1 [==============================] - 2s 2s/step - loss: 5923.6333 - mse: 5922.8633 - val_loss: 5795.4277 - val_mse: 5794.6587\n",
      "1/1 [==============================] - 2s 2s/step - loss: 5898.4966 - mse: 5897.7275 - val_loss: 5824.2715 - val_mse: 5823.5049\n",
      "1/1 [==============================] - 2s 2s/step - loss: 5861.2280 - mse: 5860.4639 - val_loss: 6544.9287 - val_mse: 6544.1660\n"
     ]
    },
    {
     "name": "stdout",
     "output_type": "stream",
     "text": [
      "1/1 [==============================] - 2s 2s/step - loss: 5953.7759 - mse: 5953.0093 - val_loss: 6149.7002 - val_mse: 6148.9351\n",
      "1/1 [==============================] - 2s 2s/step - loss: 5862.1045 - mse: 5861.3389 - val_loss: 5839.1094 - val_mse: 5838.3452\n",
      "1/1 [==============================] - 2s 2s/step - loss: 5900.2998 - mse: 5899.5337 - val_loss: 6196.6973 - val_mse: 6195.9326\n",
      "1/1 [==============================] - 2s 2s/step - loss: 5915.9990 - mse: 5915.2334 - val_loss: 5835.8555 - val_mse: 5835.0913\n",
      "1/1 [==============================] - 2s 2s/step - loss: 5915.7886 - mse: 5915.0234 - val_loss: 5784.8257 - val_mse: 5784.0615\n",
      "1/1 [==============================] - 2s 2s/step - loss: 5906.1582 - mse: 5905.3882 - val_loss: 6337.4751 - val_mse: 6336.7061\n",
      "1/1 [==============================] - 2s 2s/step - loss: 5884.3940 - mse: 5883.6289 - val_loss: 5891.8467 - val_mse: 5891.0830\n",
      "1/1 [==============================] - 2s 2s/step - loss: 5883.3105 - mse: 5882.5454 - val_loss: 5994.9683 - val_mse: 5994.2041\n",
      "1/1 [==============================] - 2s 2s/step - loss: 5855.7949 - mse: 5855.0293 - val_loss: 5630.0059 - val_mse: 5629.2412\n",
      "1/1 [==============================] - 1s 1s/step - loss: 5891.5703 - mse: 5890.8047 - val_loss: 6159.2012 - val_mse: 6158.4365\n",
      "1/1 [==============================] - 2s 2s/step - loss: 5895.0435 - mse: 5894.2773 - val_loss: 5576.2866 - val_mse: 5575.5215\n",
      "1/1 [==============================] - 2s 2s/step - loss: 5920.8564 - mse: 5920.0923 - val_loss: 5850.5264 - val_mse: 5849.7627\n",
      "1/1 [==============================] - 2s 2s/step - loss: 5862.2603 - mse: 5861.4937 - val_loss: 4947.2666 - val_mse: 4946.5010\n",
      "1/1 [==============================] - 2s 2s/step - loss: 5912.3232 - mse: 5911.5581 - val_loss: 5669.9941 - val_mse: 5669.2300\n",
      "1/1 [==============================] - 1s 1s/step - loss: 5917.5347 - mse: 5916.7695 - val_loss: 6083.3945 - val_mse: 6082.6304\n",
      "1/1 [==============================] - 2s 2s/step - loss: 5860.9448 - mse: 5860.1792 - val_loss: 5782.7632 - val_mse: 5781.9985\n",
      "1/1 [==============================] - 2s 2s/step - loss: 5893.6357 - mse: 5892.8701 - val_loss: 6031.3223 - val_mse: 6030.5576\n",
      "1/1 [==============================] - 2s 2s/step - loss: 5894.5537 - mse: 5893.7871 - val_loss: 6092.5898 - val_mse: 6091.8237\n",
      "1/1 [==============================] - 2s 2s/step - loss: 5869.8604 - mse: 5869.0947 - val_loss: 5906.4131 - val_mse: 5905.6484\n",
      "1/1 [==============================] - 2s 2s/step - loss: 5903.1562 - mse: 5902.3901 - val_loss: 5173.4888 - val_mse: 5172.7236\n",
      "1/1 [==============================] - 2s 2s/step - loss: 5891.4160 - mse: 5890.6475 - val_loss: 6143.2993 - val_mse: 6142.5312\n",
      "1/1 [==============================] - 1s 1s/step - loss: 5906.3105 - mse: 5905.5479 - val_loss: 6116.7349 - val_mse: 6115.9727\n",
      "1/1 [==============================] - 1s 1s/step - loss: 5863.2861 - mse: 5862.5181 - val_loss: 6221.5034 - val_mse: 6220.7354\n",
      "1/1 [==============================] - 2s 2s/step - loss: 5880.3701 - mse: 5879.6064 - val_loss: 5981.5903 - val_mse: 5980.8281\n",
      "1/1 [==============================] - 1s 1s/step - loss: 5921.2383 - mse: 5920.4707 - val_loss: 5449.0952 - val_mse: 5448.3281\n",
      "1/1 [==============================] - 2s 2s/step - loss: 5929.6279 - mse: 5928.8613 - val_loss: 5727.9287 - val_mse: 5727.1626\n",
      "1/1 [==============================] - 2s 2s/step - loss: 5863.1221 - mse: 5862.3540 - val_loss: 5545.0435 - val_mse: 5544.2764\n",
      "1/1 [==============================] - 1s 1s/step - loss: 5854.5874 - mse: 5853.8213 - val_loss: 6123.1226 - val_mse: 6122.3569\n",
      "1/1 [==============================] - 2s 2s/step - loss: 5931.5708 - mse: 5930.8018 - val_loss: 6019.8091 - val_mse: 6019.0405\n",
      "1/1 [==============================] - 2s 2s/step - loss: 5851.0928 - mse: 5850.3257 - val_loss: 5945.1230 - val_mse: 5944.3564\n",
      "1/1 [==============================] - 2s 2s/step - loss: 5962.6523 - mse: 5961.8838 - val_loss: 5587.2417 - val_mse: 5586.4736\n",
      "1/1 [==============================] - 2s 2s/step - loss: 5894.9512 - mse: 5894.1846 - val_loss: 5344.3818 - val_mse: 5343.6157\n",
      "1/1 [==============================] - 2s 2s/step - loss: 5924.6758 - mse: 5923.9111 - val_loss: 5653.5195 - val_mse: 5652.7554\n",
      "1/1 [==============================] - 1s 1s/step - loss: 5883.9199 - mse: 5883.1509 - val_loss: 5567.1230 - val_mse: 5566.3540\n",
      "1/1 [==============================] - 2s 2s/step - loss: 5881.6670 - mse: 5880.8989 - val_loss: 6662.4233 - val_mse: 6661.6562\n",
      "1/1 [==============================] - 0s 63ms/step\n",
      "1/1 [==============================] - 0s 63ms/step\n"
     ]
    },
    {
     "name": "stderr",
     "output_type": "stream",
     "text": [
      "\r\n",
      "  0%|                                                                                           | 0/10 [00:00<?, ?it/s]"
     ]
    },
    {
     "name": "stdout",
     "output_type": "stream",
     "text": [
      "18/18 [==============================] - 1s 74ms/step\n"
     ]
    },
    {
     "name": "stderr",
     "output_type": "stream",
     "text": [
      "\r\n",
      " 10%|████████▎                                                                          | 1/10 [00:14<02:10, 14.46s/it]"
     ]
    },
    {
     "name": "stdout",
     "output_type": "stream",
     "text": [
      "18/18 [==============================] - 1s 69ms/step\n"
     ]
    },
    {
     "name": "stderr",
     "output_type": "stream",
     "text": [
      "\r\n",
      " 20%|████████████████▌                                                                  | 2/10 [00:28<01:55, 14.46s/it]"
     ]
    },
    {
     "name": "stdout",
     "output_type": "stream",
     "text": [
      "18/18 [==============================] - 2s 88ms/step\n"
     ]
    },
    {
     "name": "stderr",
     "output_type": "stream",
     "text": [
      "\r\n",
      " 30%|████████████████████████▉                                                          | 3/10 [00:45<01:47, 15.42s/it]"
     ]
    },
    {
     "name": "stdout",
     "output_type": "stream",
     "text": [
      "18/18 [==============================] - 2s 84ms/step\n"
     ]
    },
    {
     "name": "stderr",
     "output_type": "stream",
     "text": [
      "\r\n",
      " 40%|█████████████████████████████████▏                                                 | 4/10 [01:02<01:36, 16.15s/it]"
     ]
    },
    {
     "name": "stdout",
     "output_type": "stream",
     "text": [
      "18/18 [==============================] - 1s 69ms/step\n"
     ]
    },
    {
     "name": "stderr",
     "output_type": "stream",
     "text": [
      "\r\n",
      " 50%|█████████████████████████████████████████▌                                         | 5/10 [01:18<01:20, 16.06s/it]"
     ]
    },
    {
     "name": "stdout",
     "output_type": "stream",
     "text": [
      "18/18 [==============================] - 1s 75ms/step\n"
     ]
    },
    {
     "name": "stderr",
     "output_type": "stream",
     "text": [
      "\r\n",
      " 60%|█████████████████████████████████████████████████▊                                 | 6/10 [01:33<01:03, 15.77s/it]"
     ]
    },
    {
     "name": "stdout",
     "output_type": "stream",
     "text": [
      "18/18 [==============================] - 2s 85ms/step\n"
     ]
    },
    {
     "name": "stderr",
     "output_type": "stream",
     "text": [
      "\r\n",
      " 70%|██████████████████████████████████████████████████████████                         | 7/10 [01:49<00:47, 15.75s/it]"
     ]
    },
    {
     "name": "stdout",
     "output_type": "stream",
     "text": [
      "18/18 [==============================] - 2s 86ms/step\n"
     ]
    },
    {
     "name": "stderr",
     "output_type": "stream",
     "text": [
      "\r\n",
      " 80%|██████████████████████████████████████████████████████████████████▍                | 8/10 [02:06<00:32, 16.13s/it]"
     ]
    },
    {
     "name": "stdout",
     "output_type": "stream",
     "text": [
      "18/18 [==============================] - 2s 84ms/step\n"
     ]
    },
    {
     "name": "stderr",
     "output_type": "stream",
     "text": [
      "\r\n",
      " 90%|██████████████████████████████████████████████████████████████████████████▋        | 9/10 [02:23<00:16, 16.40s/it]"
     ]
    },
    {
     "name": "stdout",
     "output_type": "stream",
     "text": [
      "18/18 [==============================] - 2s 90ms/step\n"
     ]
    },
    {
     "name": "stderr",
     "output_type": "stream",
     "text": [
      "100%|██████████████████████████████████████████████████████████████████████████████████| 10/10 [02:40<00:00, 16.02s/it]\n",
      "100%|██████████████████████████████████████████████████████████████████████████████████| 10/10 [04:54<00:00, 29.50s/it]\n"
     ]
    },
    {
     "name": "stdout",
     "output_type": "stream",
     "text": [
      "L2X OK !!\n",
      "(10, 40, 14) (10, 1)\n",
      "157/157 [==============================] - 14s 92ms/step\n",
      "157/157 [==============================] - 14s 92ms/step\n",
      "157/157 [==============================] - 15s 94ms/step\n",
      "157/157 [==============================] - 12s 79ms/step\n",
      "157/157 [==============================] - 12s 78ms/step\n",
      "157/157 [==============================] - 15s 94ms/step\n",
      "157/157 [==============================] - 15s 93ms/step\n",
      "157/157 [==============================] - 15s 94ms/step\n",
      "157/157 [==============================] - 12s 79ms/step\n",
      "157/157 [==============================] - 13s 81ms/step\n",
      "157/157 [==============================] - 13s 85ms/step\n",
      "157/157 [==============================] - 13s 81ms/step\n",
      "157/157 [==============================] - 13s 81ms/step\n",
      "157/157 [==============================] - 12s 77ms/step\n",
      "157/157 [==============================] - 12s 77ms/step\n",
      "157/157 [==============================] - 13s 81ms/step\n",
      "157/157 [==============================] - 13s 81ms/step\n",
      "157/157 [==============================] - 13s 81ms/step\n",
      "157/157 [==============================] - 13s 81ms/step\n",
      "157/157 [==============================] - 12s 76ms/step\n",
      "1/1 [==============================] - 0s 62ms/step\n",
      "1/1 [==============================] - 0s 68ms/step\n"
     ]
    },
    {
     "name": "stderr",
     "output_type": "stream",
     "text": [
      "\r\n",
      "  0%|                                                                                           | 0/10 [00:00<?, ?it/s]"
     ]
    },
    {
     "name": "stdout",
     "output_type": "stream",
     "text": [
      "157/157 [==============================] - 12s 75ms/step\n",
      "18/18 [==============================] - 1s 68ms/step\n"
     ]
    },
    {
     "name": "stderr",
     "output_type": "stream",
     "text": [
      "\r\n",
      " 10%|████████▎                                                                          | 1/10 [00:21<03:10, 21.21s/it]"
     ]
    },
    {
     "name": "stdout",
     "output_type": "stream",
     "text": [
      "157/157 [==============================] - 13s 80ms/step\n",
      "18/18 [==============================] - 1s 71ms/step\n"
     ]
    },
    {
     "name": "stderr",
     "output_type": "stream",
     "text": [
      "\r\n",
      " 20%|████████████████▌                                                                  | 2/10 [00:43<02:54, 21.80s/it]"
     ]
    },
    {
     "name": "stdout",
     "output_type": "stream",
     "text": [
      "157/157 [==============================] - 13s 83ms/step\n",
      "18/18 [==============================] - 1s 78ms/step\n"
     ]
    },
    {
     "name": "stderr",
     "output_type": "stream",
     "text": [
      "\r\n",
      " 30%|████████████████████████▉                                                          | 3/10 [01:05<02:34, 22.00s/it]"
     ]
    },
    {
     "name": "stdout",
     "output_type": "stream",
     "text": [
      "157/157 [==============================] - 13s 83ms/step\n",
      "18/18 [==============================] - 1s 73ms/step\n"
     ]
    },
    {
     "name": "stderr",
     "output_type": "stream",
     "text": [
      "\r\n",
      " 40%|█████████████████████████████████▏                                                 | 4/10 [01:30<02:18, 23.04s/it]"
     ]
    },
    {
     "name": "stdout",
     "output_type": "stream",
     "text": [
      "157/157 [==============================] - 13s 81ms/step\n",
      "18/18 [==============================] - 1s 73ms/step\n"
     ]
    },
    {
     "name": "stderr",
     "output_type": "stream",
     "text": [
      "\r\n",
      " 50%|█████████████████████████████████████████▌                                         | 5/10 [01:54<01:56, 23.36s/it]"
     ]
    },
    {
     "name": "stdout",
     "output_type": "stream",
     "text": [
      "157/157 [==============================] - 12s 79ms/step\n",
      "18/18 [==============================] - 1s 68ms/step\n"
     ]
    },
    {
     "name": "stderr",
     "output_type": "stream",
     "text": [
      "\r\n",
      " 60%|█████████████████████████████████████████████████▊                                 | 6/10 [02:17<01:32, 23.17s/it]"
     ]
    },
    {
     "name": "stdout",
     "output_type": "stream",
     "text": [
      "157/157 [==============================] - 12s 79ms/step\n",
      "18/18 [==============================] - 1s 73ms/step\n"
     ]
    },
    {
     "name": "stderr",
     "output_type": "stream",
     "text": [
      "\r\n",
      " 70%|██████████████████████████████████████████████████████████                         | 7/10 [02:38<01:07, 22.56s/it]"
     ]
    },
    {
     "name": "stdout",
     "output_type": "stream",
     "text": [
      "157/157 [==============================] - 13s 82ms/step\n",
      "18/18 [==============================] - 1s 74ms/step\n"
     ]
    },
    {
     "name": "stderr",
     "output_type": "stream",
     "text": [
      "\r\n",
      " 80%|██████████████████████████████████████████████████████████████████▍                | 8/10 [03:01<00:45, 22.60s/it]"
     ]
    },
    {
     "name": "stdout",
     "output_type": "stream",
     "text": [
      "157/157 [==============================] - 13s 80ms/step\n",
      "18/18 [==============================] - 1s 71ms/step\n"
     ]
    },
    {
     "name": "stderr",
     "output_type": "stream",
     "text": [
      "\r\n",
      " 90%|██████████████████████████████████████████████████████████████████████████▋        | 9/10 [03:23<00:22, 22.49s/it]"
     ]
    },
    {
     "name": "stdout",
     "output_type": "stream",
     "text": [
      "157/157 [==============================] - 13s 82ms/step\n",
      "18/18 [==============================] - 1s 75ms/step\n"
     ]
    },
    {
     "name": "stderr",
     "output_type": "stream",
     "text": [
      "100%|██████████████████████████████████████████████████████████████████████████████████| 10/10 [03:45<00:00, 22.56s/it]\n",
      "  0%|                                                                                           | 0/10 [00:00<?, ?it/s]"
     ]
    },
    {
     "name": "stdout",
     "output_type": "stream",
     "text": [
      "157/157 [==============================] - 12s 74ms/step\n",
      "157/157 [==============================] - 12s 76ms/step\n"
     ]
    },
    {
     "name": "stderr",
     "output_type": "stream",
     "text": [
      "\r\n",
      " 10%|████████▎                                                                          | 1/10 [00:38<05:50, 38.98s/it]"
     ]
    },
    {
     "name": "stdout",
     "output_type": "stream",
     "text": [
      "157/157 [==============================] - 13s 83ms/step\n",
      "157/157 [==============================] - 13s 81ms/step\n"
     ]
    },
    {
     "name": "stderr",
     "output_type": "stream",
     "text": [
      "\r\n",
      " 20%|████████████████▌                                                                  | 2/10 [01:21<05:26, 40.87s/it]"
     ]
    },
    {
     "name": "stdout",
     "output_type": "stream",
     "text": [
      "157/157 [==============================] - 12s 79ms/step\n",
      "157/157 [==============================] - 13s 82ms/step\n"
     ]
    },
    {
     "name": "stderr",
     "output_type": "stream",
     "text": [
      "\r\n",
      " 30%|████████████████████████▉                                                          | 3/10 [02:02<04:48, 41.15s/it]"
     ]
    },
    {
     "name": "stdout",
     "output_type": "stream",
     "text": [
      "157/157 [==============================] - 12s 74ms/step\n",
      "157/157 [==============================] - 12s 75ms/step\n"
     ]
    },
    {
     "name": "stderr",
     "output_type": "stream",
     "text": [
      "\r\n",
      " 40%|█████████████████████████████████▏                                                 | 4/10 [02:40<04:00, 40.04s/it]"
     ]
    },
    {
     "name": "stdout",
     "output_type": "stream",
     "text": [
      "157/157 [==============================] - 13s 82ms/step\n",
      "157/157 [==============================] - 13s 82ms/step\n"
     ]
    },
    {
     "name": "stderr",
     "output_type": "stream",
     "text": [
      "\r\n",
      " 50%|█████████████████████████████████████████▌                                         | 5/10 [03:23<03:24, 40.82s/it]"
     ]
    },
    {
     "name": "stdout",
     "output_type": "stream",
     "text": [
      "157/157 [==============================] - 14s 86ms/step\n",
      "157/157 [==============================] - 13s 84ms/step\n"
     ]
    },
    {
     "name": "stderr",
     "output_type": "stream",
     "text": [
      "\r\n",
      " 60%|█████████████████████████████████████████████████▊                                 | 6/10 [04:10<02:52, 43.01s/it]"
     ]
    },
    {
     "name": "stdout",
     "output_type": "stream",
     "text": [
      "157/157 [==============================] - 13s 80ms/step\n",
      "157/157 [==============================] - 14s 92ms/step\n"
     ]
    },
    {
     "name": "stderr",
     "output_type": "stream",
     "text": [
      "\r\n",
      " 70%|██████████████████████████████████████████████████████████                         | 7/10 [04:56<02:11, 43.89s/it]"
     ]
    },
    {
     "name": "stdout",
     "output_type": "stream",
     "text": [
      "157/157 [==============================] - 15s 93ms/step\n",
      "157/157 [==============================] - 14s 91ms/step\n"
     ]
    },
    {
     "name": "stderr",
     "output_type": "stream",
     "text": [
      "\r\n",
      " 80%|██████████████████████████████████████████████████████████████████▍                | 8/10 [05:49<01:33, 46.80s/it]"
     ]
    },
    {
     "name": "stdout",
     "output_type": "stream",
     "text": [
      "157/157 [==============================] - 13s 81ms/step\n",
      "157/157 [==============================] - 12s 78ms/step\n"
     ]
    },
    {
     "name": "stderr",
     "output_type": "stream",
     "text": [
      "\r\n",
      " 90%|██████████████████████████████████████████████████████████████████████████▋        | 9/10 [06:36<00:46, 46.96s/it]"
     ]
    },
    {
     "name": "stdout",
     "output_type": "stream",
     "text": [
      "157/157 [==============================] - 15s 92ms/step\n",
      "157/157 [==============================] - 15s 94ms/step\n"
     ]
    },
    {
     "name": "stderr",
     "output_type": "stream",
     "text": [
      "100%|██████████████████████████████████████████████████████████████████████████████████| 10/10 [07:30<00:00, 45.04s/it]"
     ]
    },
    {
     "name": "stdout",
     "output_type": "stream",
     "text": [
      "Lime OK!!\n",
      "1/1 [==============================] - 0s 43ms/step\n"
     ]
    },
    {
     "name": "stderr",
     "output_type": "stream",
     "text": [
      "\n"
     ]
    },
    {
     "name": "stdout",
     "output_type": "stream",
     "text": [
      "8/8 [==============================] - 2s 194ms/step\n",
      "1/1 [==============================] - 0s 32ms/step\n",
      "8/8 [==============================] - 2s 187ms/step\n",
      "1/1 [==============================] - 0s 32ms/step\n",
      "8/8 [==============================] - 2s 185ms/step\n",
      "1/1 [==============================] - 0s 16ms/step\n",
      "8/8 [==============================] - 2s 190ms/step\n",
      "1/1 [==============================] - 0s 47ms/step\n",
      "8/8 [==============================] - 2s 196ms/step\n",
      "1/1 [==============================] - 0s 16ms/step\n",
      "8/8 [==============================] - 2s 184ms/step\n",
      "1/1 [==============================] - 0s 47ms/step\n",
      "8/8 [==============================] - 2s 191ms/step\n",
      "1/1 [==============================] - 0s 32ms/step\n",
      "8/8 [==============================] - 2s 186ms/step\n",
      "1/1 [==============================] - 0s 31ms/step\n",
      "8/8 [==============================] - 1s 184ms/step\n",
      "1/1 [==============================] - 0s 31ms/step\n",
      "8/8 [==============================] - 2s 186ms/step\n",
      "1/1 [==============================] - 0s 31ms/step\n",
      "8/8 [==============================] - 2s 194ms/step\n",
      "1/1 [==============================] - 0s 32ms/step\n",
      "8/8 [==============================] - 2s 194ms/step\n",
      "1/1 [==============================] - 0s 34ms/step\n",
      "8/8 [==============================] - 2s 184ms/step\n",
      "1/1 [==============================] - 0s 31ms/step\n",
      "8/8 [==============================] - 2s 192ms/step\n",
      "1/1 [==============================] - 0s 51ms/step\n",
      "8/8 [==============================] - 2s 186ms/step\n",
      "1/1 [==============================] - 0s 47ms/step\n",
      "8/8 [==============================] - 2s 191ms/step\n",
      "1/1 [==============================] - 0s 33ms/step\n",
      "8/8 [==============================] - 2s 200ms/step\n",
      "1/1 [==============================] - 0s 16ms/step\n",
      "8/8 [==============================] - 2s 184ms/step\n",
      "1/1 [==============================] - 0s 16ms/step\n",
      "8/8 [==============================] - 1s 154ms/step\n",
      "1/1 [==============================] - 0s 32ms/step\n",
      "8/8 [==============================] - 1s 151ms/step\n",
      "1/1 [==============================] - 0s 31ms/step\n",
      "8/8 [==============================] - 1s 171ms/step\n",
      "1/1 [==============================] - 0s 31ms/step\n",
      "8/8 [==============================] - 1s 165ms/step\n",
      "1/1 [==============================] - 0s 16ms/step\n",
      "8/8 [==============================] - 1s 163ms/step\n",
      "1/1 [==============================] - 0s 16ms/step\n",
      "8/8 [==============================] - 1s 161ms/step\n",
      "1/1 [==============================] - 0s 31ms/step\n",
      "8/8 [==============================] - 1s 154ms/step\n",
      "1/1 [==============================] - 0s 16ms/step\n",
      "8/8 [==============================] - 1s 156ms/step\n",
      "1/1 [==============================] - 0s 31ms/step\n",
      "8/8 [==============================] - 1s 153ms/step\n",
      "1/1 [==============================] - 0s 31ms/step\n",
      "8/8 [==============================] - 1s 166ms/step\n",
      "1/1 [==============================] - 0s 32ms/step\n",
      "8/8 [==============================] - 1s 174ms/step\n",
      "1/1 [==============================] - 0s 19ms/step\n",
      "8/8 [==============================] - 1s 158ms/step\n",
      "1/1 [==============================] - 0s 31ms/step\n",
      "8/8 [==============================] - 1s 158ms/step\n",
      "1/1 [==============================] - 0s 63ms/step\n",
      "1/1 [==============================] - 0s 61ms/step\n"
     ]
    },
    {
     "name": "stderr",
     "output_type": "stream",
     "text": [
      "\r\n",
      "  0%|                                                                                           | 0/10 [00:00<?, ?it/s]"
     ]
    },
    {
     "name": "stdout",
     "output_type": "stream",
     "text": [
      "1/1 [==============================] - 0s 31ms/step\n",
      "8/8 [==============================] - 1s 169ms/step\n",
      "1/1 [==============================] - 0s 34ms/step\n",
      "8/8 [==============================] - 1s 155ms/step\n",
      "18/18 [==============================] - 1s 74ms/step\n"
     ]
    },
    {
     "name": "stderr",
     "output_type": "stream",
     "text": [
      "\r\n",
      " 10%|████████▎                                                                          | 1/10 [00:04<00:43,  4.82s/it]"
     ]
    },
    {
     "name": "stdout",
     "output_type": "stream",
     "text": [
      "1/1 [==============================] - 0s 31ms/step\n",
      "8/8 [==============================] - 1s 151ms/step\n",
      "1/1 [==============================] - 0s 31ms/step\n",
      "8/8 [==============================] - 1s 159ms/step\n",
      "18/18 [==============================] - 1s 72ms/step\n"
     ]
    },
    {
     "name": "stderr",
     "output_type": "stream",
     "text": [
      "\r\n",
      " 20%|████████████████▌                                                                  | 2/10 [00:09<00:37,  4.75s/it]"
     ]
    },
    {
     "name": "stdout",
     "output_type": "stream",
     "text": [
      "1/1 [==============================] - 0s 16ms/step\n",
      "8/8 [==============================] - 1s 154ms/step\n",
      "1/1 [==============================] - 0s 16ms/step\n",
      "8/8 [==============================] - 1s 180ms/step\n",
      "18/18 [==============================] - 1s 74ms/step\n"
     ]
    },
    {
     "name": "stderr",
     "output_type": "stream",
     "text": [
      "\r\n",
      " 30%|████████████████████████▉                                                          | 3/10 [00:14<00:33,  4.81s/it]"
     ]
    },
    {
     "name": "stdout",
     "output_type": "stream",
     "text": [
      "1/1 [==============================] - 0s 47ms/step\n",
      "8/8 [==============================] - 2s 194ms/step\n",
      "1/1 [==============================] - 0s 31ms/step\n",
      "8/8 [==============================] - 2s 196ms/step\n",
      "18/18 [==============================] - 2s 87ms/step\n"
     ]
    },
    {
     "name": "stderr",
     "output_type": "stream",
     "text": [
      "\r\n",
      " 40%|█████████████████████████████████▏                                                 | 4/10 [00:20<00:30,  5.15s/it]"
     ]
    },
    {
     "name": "stdout",
     "output_type": "stream",
     "text": [
      "1/1 [==============================] - 0s 32ms/step\n",
      "8/8 [==============================] - 2s 196ms/step\n",
      "1/1 [==============================] - 0s 31ms/step\n",
      "8/8 [==============================] - 2s 204ms/step\n",
      "18/18 [==============================] - 1s 79ms/step\n"
     ]
    },
    {
     "name": "stderr",
     "output_type": "stream",
     "text": [
      "\r\n",
      " 50%|█████████████████████████████████████████▌                                         | 5/10 [00:25<00:26,  5.23s/it]"
     ]
    },
    {
     "name": "stdout",
     "output_type": "stream",
     "text": [
      "1/1 [==============================] - 0s 47ms/step\n",
      "8/8 [==============================] - 2s 197ms/step\n",
      "1/1 [==============================] - 0s 31ms/step\n",
      "8/8 [==============================] - 2s 189ms/step\n",
      "18/18 [==============================] - 2s 90ms/step\n"
     ]
    },
    {
     "name": "stderr",
     "output_type": "stream",
     "text": [
      "\r\n",
      " 60%|█████████████████████████████████████████████████▊                                 | 6/10 [00:31<00:21,  5.40s/it]"
     ]
    },
    {
     "name": "stdout",
     "output_type": "stream",
     "text": [
      "1/1 [==============================] - 0s 7ms/step\n",
      "8/8 [==============================] - 1s 176ms/step\n",
      "1/1 [==============================] - 0s 32ms/step\n",
      "8/8 [==============================] - 2s 185ms/step\n",
      "18/18 [==============================] - 2s 88ms/step\n"
     ]
    },
    {
     "name": "stderr",
     "output_type": "stream",
     "text": [
      "\r\n",
      " 70%|██████████████████████████████████████████████████████████                         | 7/10 [00:36<00:16,  5.36s/it]"
     ]
    },
    {
     "name": "stdout",
     "output_type": "stream",
     "text": [
      "1/1 [==============================] - 0s 19ms/step\n",
      "8/8 [==============================] - 2s 183ms/step\n",
      "1/1 [==============================] - 0s 31ms/step\n",
      "8/8 [==============================] - 2s 197ms/step\n",
      "18/18 [==============================] - 2s 86ms/step\n"
     ]
    },
    {
     "name": "stderr",
     "output_type": "stream",
     "text": [
      "\r\n",
      " 80%|██████████████████████████████████████████████████████████████████▍                | 8/10 [00:41<00:10,  5.36s/it]"
     ]
    },
    {
     "name": "stdout",
     "output_type": "stream",
     "text": [
      "1/1 [==============================] - 0s 16ms/step\n",
      "8/8 [==============================] - 2s 190ms/step\n",
      "1/1 [==============================] - 0s 17ms/step\n",
      "8/8 [==============================] - 2s 192ms/step\n",
      "18/18 [==============================] - 2s 85ms/step\n"
     ]
    },
    {
     "name": "stderr",
     "output_type": "stream",
     "text": [
      "\r\n",
      " 90%|██████████████████████████████████████████████████████████████████████████▋        | 9/10 [00:47<00:05,  5.33s/it]"
     ]
    },
    {
     "name": "stdout",
     "output_type": "stream",
     "text": [
      "1/1 [==============================] - 0s 31ms/step\n",
      "8/8 [==============================] - 2s 193ms/step\n",
      "1/1 [==============================] - 0s 31ms/step\n",
      "8/8 [==============================] - 2s 195ms/step\n",
      "18/18 [==============================] - 2s 84ms/step\n"
     ]
    },
    {
     "name": "stderr",
     "output_type": "stream",
     "text": [
      "100%|██████████████████████████████████████████████████████████████████████████████████| 10/10 [00:52<00:00,  5.27s/it]\n",
      "  0%|                                                                                           | 0/10 [00:00<?, ?it/s]"
     ]
    },
    {
     "name": "stdout",
     "output_type": "stream",
     "text": [
      "1/1 [==============================] - 0s 32ms/step\n",
      "8/8 [==============================] - 2s 199ms/step\n",
      "1/1 [==============================] - 0s 30ms/step\n",
      "8/8 [==============================] - 2s 191ms/step\n",
      "1/1 [==============================] - 0s 31ms/step\n",
      "8/8 [==============================] - 2s 195ms/step\n",
      "1/1 [==============================] - 0s 31ms/step\n",
      "8/8 [==============================] - 1s 184ms/step\n"
     ]
    },
    {
     "name": "stderr",
     "output_type": "stream",
     "text": [
      "\r\n",
      " 10%|████████▎                                                                          | 1/10 [00:07<01:09,  7.68s/it]"
     ]
    },
    {
     "name": "stdout",
     "output_type": "stream",
     "text": [
      "1/1 [==============================] - 0s 44ms/step\n",
      "8/8 [==============================] - 2s 193ms/step\n",
      "1/1 [==============================] - 0s 33ms/step\n",
      "8/8 [==============================] - 2s 200ms/step\n",
      "1/1 [==============================] - 0s 16ms/step\n",
      "8/8 [==============================] - 1s 183ms/step\n",
      "1/1 [==============================] - 0s 32ms/step\n",
      "8/8 [==============================] - 1s 176ms/step\n"
     ]
    },
    {
     "name": "stderr",
     "output_type": "stream",
     "text": [
      "\r\n",
      " 20%|████████████████▌                                                                  | 2/10 [00:15<01:00,  7.62s/it]"
     ]
    },
    {
     "name": "stdout",
     "output_type": "stream",
     "text": [
      "1/1 [==============================] - 0s 32ms/step\n",
      "8/8 [==============================] - 2s 194ms/step\n",
      "1/1 [==============================] - 0s 33ms/step\n",
      "8/8 [==============================] - 2s 193ms/step\n",
      "1/1 [==============================] - 0s 31ms/step\n",
      "8/8 [==============================] - 2s 190ms/step\n",
      "1/1 [==============================] - 0s 32ms/step\n",
      "8/8 [==============================] - 2s 184ms/step\n"
     ]
    },
    {
     "name": "stderr",
     "output_type": "stream",
     "text": [
      "\r\n",
      " 30%|████████████████████████▉                                                          | 3/10 [00:23<00:53,  7.68s/it]"
     ]
    },
    {
     "name": "stdout",
     "output_type": "stream",
     "text": [
      "1/1 [==============================] - 0s 31ms/step\n",
      "8/8 [==============================] - 2s 198ms/step\n",
      "1/1 [==============================] - 0s 47ms/step\n",
      "8/8 [==============================] - 2s 193ms/step\n",
      "1/1 [==============================] - 0s 31ms/step\n",
      "8/8 [==============================] - 2s 191ms/step\n",
      "1/1 [==============================] - 0s 32ms/step\n",
      "8/8 [==============================] - 2s 202ms/step\n"
     ]
    },
    {
     "name": "stderr",
     "output_type": "stream",
     "text": [
      "\r\n",
      " 40%|█████████████████████████████████▏                                                 | 4/10 [00:30<00:46,  7.79s/it]"
     ]
    },
    {
     "name": "stdout",
     "output_type": "stream",
     "text": [
      "1/1 [==============================] - 0s 16ms/step\n",
      "8/8 [==============================] - 2s 194ms/step\n",
      "1/1 [==============================] - 0s 31ms/step\n",
      "8/8 [==============================] - 2s 183ms/step\n",
      "1/1 [==============================] - 0s 31ms/step\n",
      "8/8 [==============================] - 2s 183ms/step\n",
      "1/1 [==============================] - 0s 25ms/step\n",
      "8/8 [==============================] - 1s 161ms/step\n"
     ]
    },
    {
     "name": "stderr",
     "output_type": "stream",
     "text": [
      "\r\n",
      " 50%|█████████████████████████████████████████▌                                         | 5/10 [00:38<00:37,  7.58s/it]"
     ]
    },
    {
     "name": "stdout",
     "output_type": "stream",
     "text": [
      "1/1 [==============================] - 0s 16ms/step\n",
      "8/8 [==============================] - 1s 159ms/step\n",
      "1/1 [==============================] - 0s 16ms/step\n",
      "8/8 [==============================] - 1s 169ms/step\n",
      "1/1 [==============================] - 0s 15ms/step\n",
      "8/8 [==============================] - 1s 165ms/step\n",
      "1/1 [==============================] - 0s 15ms/step\n",
      "8/8 [==============================] - 1s 177ms/step\n"
     ]
    },
    {
     "name": "stderr",
     "output_type": "stream",
     "text": [
      "\r\n",
      " 60%|█████████████████████████████████████████████████▊                                 | 6/10 [00:45<00:29,  7.34s/it]"
     ]
    },
    {
     "name": "stdout",
     "output_type": "stream",
     "text": [
      "1/1 [==============================] - 0s 63ms/step\n",
      "8/8 [==============================] - 1s 161ms/step\n",
      "1/1 [==============================] - 0s 30ms/step\n",
      "8/8 [==============================] - 1s 159ms/step\n",
      "1/1 [==============================] - 0s 16ms/step\n",
      "8/8 [==============================] - 1s 166ms/step\n",
      "1/1 [==============================] - 0s 16ms/step\n",
      "8/8 [==============================] - 1s 161ms/step\n"
     ]
    },
    {
     "name": "stderr",
     "output_type": "stream",
     "text": [
      "\r\n",
      " 70%|██████████████████████████████████████████████████████████                         | 7/10 [00:52<00:21,  7.23s/it]"
     ]
    },
    {
     "name": "stdout",
     "output_type": "stream",
     "text": [
      "1/1 [==============================] - 0s 31ms/step\n",
      "8/8 [==============================] - 1s 162ms/step\n",
      "1/1 [==============================] - 0s 16ms/step\n",
      "8/8 [==============================] - 1s 161ms/step\n",
      "1/1 [==============================] - 0s 26ms/step\n",
      "8/8 [==============================] - 1s 148ms/step\n",
      "1/1 [==============================] - 0s 31ms/step\n",
      "8/8 [==============================] - 1s 150ms/step\n"
     ]
    },
    {
     "name": "stderr",
     "output_type": "stream",
     "text": [
      "\r\n",
      " 80%|██████████████████████████████████████████████████████████████████▍                | 8/10 [00:58<00:13,  6.94s/it]"
     ]
    },
    {
     "name": "stdout",
     "output_type": "stream",
     "text": [
      "1/1 [==============================] - 0s 32ms/step\n",
      "8/8 [==============================] - 1s 148ms/step\n",
      "1/1 [==============================] - 0s 31ms/step\n",
      "8/8 [==============================] - 1s 158ms/step\n",
      "1/1 [==============================] - 0s 31ms/step\n",
      "8/8 [==============================] - 1s 161ms/step\n",
      "1/1 [==============================] - 0s 31ms/step\n",
      "8/8 [==============================] - 1s 149ms/step\n"
     ]
    },
    {
     "name": "stderr",
     "output_type": "stream",
     "text": [
      "\r\n",
      " 90%|██████████████████████████████████████████████████████████████████████████▋        | 9/10 [01:04<00:06,  6.69s/it]"
     ]
    },
    {
     "name": "stdout",
     "output_type": "stream",
     "text": [
      "1/1 [==============================] - 0s 19ms/step\n",
      "8/8 [==============================] - 1s 154ms/step\n",
      "1/1 [==============================] - 0s 30ms/step\n",
      "8/8 [==============================] - 1s 147ms/step\n",
      "1/1 [==============================] - 0s 16ms/step\n",
      "8/8 [==============================] - 1s 147ms/step\n",
      "1/1 [==============================] - 0s 16ms/step\n",
      "8/8 [==============================] - 1s 157ms/step\n"
     ]
    },
    {
     "name": "stderr",
     "output_type": "stream",
     "text": [
      "100%|██████████████████████████████████████████████████████████████████████████████████| 10/10 [01:10<00:00,  7.06s/it]"
     ]
    },
    {
     "name": "stdout",
     "output_type": "stream",
     "text": [
      "shap OK !!\n",
      "1/1 [==============================] - 0s 69ms/step\n"
     ]
    },
    {
     "name": "stderr",
     "output_type": "stream",
     "text": [
      "\n"
     ]
    },
    {
     "name": "stdout",
     "output_type": "stream",
     "text": [
      "1/1 [==============================] - 2s 2s/step - loss: 6179.2886 - mse: 6178.5210 - val_loss: 6210.8965 - val_mse: 6210.1377\n",
      "1/1 [==============================] - 2s 2s/step - loss: 6211.6216 - mse: 6210.8540 - val_loss: 6205.9888 - val_mse: 6205.2300\n",
      "1/1 [==============================] - 2s 2s/step - loss: 6219.6294 - mse: 6218.8643 - val_loss: 6205.2212 - val_mse: 6204.4639\n",
      "1/1 [==============================] - 2s 2s/step - loss: 6193.4585 - mse: 6192.6914 - val_loss: 6219.6953 - val_mse: 6218.9360\n",
      "1/1 [==============================] - 2s 2s/step - loss: 6192.6191 - mse: 6191.8540 - val_loss: 6220.7192 - val_mse: 6219.9614\n",
      "1/1 [==============================] - 2s 2s/step - loss: 6243.8457 - mse: 6243.0796 - val_loss: 6212.5625 - val_mse: 6211.8032\n",
      "1/1 [==============================] - 2s 2s/step - loss: 6212.1641 - mse: 6211.3945 - val_loss: 6215.0513 - val_mse: 6214.2886\n",
      "1/1 [==============================] - 2s 2s/step - loss: 6168.7773 - mse: 6168.0117 - val_loss: 6248.3442 - val_mse: 6247.5850\n",
      "1/1 [==============================] - 2s 2s/step - loss: 6275.7827 - mse: 6275.0171 - val_loss: 6218.5781 - val_mse: 6217.8188\n",
      "1/1 [==============================] - 1s 1s/step - loss: 6205.2720 - mse: 6204.5093 - val_loss: 6216.1782 - val_mse: 6215.4214\n",
      "1/1 [==============================] - 2s 2s/step - loss: 6226.1914 - mse: 6225.4282 - val_loss: 6242.8711 - val_mse: 6242.1133\n",
      "1/1 [==============================] - 1s 1s/step - loss: 6190.9722 - mse: 6190.2061 - val_loss: 6207.3638 - val_mse: 6206.6030\n",
      "1/1 [==============================] - 2s 2s/step - loss: 6200.6025 - mse: 6199.8335 - val_loss: 6212.9639 - val_mse: 6212.2002\n",
      "1/1 [==============================] - 2s 2s/step - loss: 6200.4043 - mse: 6199.6367 - val_loss: 6201.8496 - val_mse: 6201.0874\n",
      "1/1 [==============================] - 2s 2s/step - loss: 6194.5347 - mse: 6193.7681 - val_loss: 6243.9868 - val_mse: 6243.2256\n",
      "1/1 [==============================] - 2s 2s/step - loss: 6173.2183 - mse: 6172.4521 - val_loss: 6202.7368 - val_mse: 6201.9756\n",
      "1/1 [==============================] - 1s 1s/step - loss: 6152.7222 - mse: 6151.9531 - val_loss: 6211.7651 - val_mse: 6211.0005\n",
      "1/1 [==============================] - 1s 1s/step - loss: 6179.3950 - mse: 6178.6313 - val_loss: 6247.3989 - val_mse: 6246.6396\n",
      "1/1 [==============================] - 1s 1s/step - loss: 6226.4375 - mse: 6225.6675 - val_loss: 6255.9009 - val_mse: 6255.1343\n",
      "1/1 [==============================] - 1s 1s/step - loss: 6223.1826 - mse: 6222.4165 - val_loss: 6193.3062 - val_mse: 6192.5439\n",
      "1/1 [==============================] - 1s 1s/step - loss: 6220.9302 - mse: 6220.1626 - val_loss: 6197.8403 - val_mse: 6197.0767\n",
      "1/1 [==============================] - 2s 2s/step - loss: 6224.1318 - mse: 6223.3647 - val_loss: 6193.0552 - val_mse: 6192.2920\n",
      "1/1 [==============================] - 2s 2s/step - loss: 6222.2471 - mse: 6221.4805 - val_loss: 6228.8901 - val_mse: 6228.1274\n",
      "1/1 [==============================] - 2s 2s/step - loss: 6202.8506 - mse: 6202.0830 - val_loss: 6292.4126 - val_mse: 6291.6489\n",
      "1/1 [==============================] - 2s 2s/step - loss: 6173.5894 - mse: 6172.8267 - val_loss: 6274.0752 - val_mse: 6273.3159\n",
      "1/1 [==============================] - 2s 2s/step - loss: 6229.3174 - mse: 6228.5498 - val_loss: 6156.9209 - val_mse: 6156.1567\n",
      "1/1 [==============================] - 2s 2s/step - loss: 6183.2295 - mse: 6182.4614 - val_loss: 6262.2231 - val_mse: 6261.4585\n",
      "1/1 [==============================] - 2s 2s/step - loss: 6171.0229 - mse: 6170.2559 - val_loss: 6184.1885 - val_mse: 6183.4243\n",
      "1/1 [==============================] - 2s 2s/step - loss: 6195.6958 - mse: 6194.9268 - val_loss: 6173.5391 - val_mse: 6172.7729\n",
      "1/1 [==============================] - 2s 2s/step - loss: 6202.3638 - mse: 6201.5947 - val_loss: 6258.8564 - val_mse: 6258.0898\n",
      "1/1 [==============================] - 2s 2s/step - loss: 6226.0698 - mse: 6225.3018 - val_loss: 6130.2808 - val_mse: 6129.5156\n",
      "1/1 [==============================] - 1s 1s/step - loss: 6236.1943 - mse: 6235.4292 - val_loss: 6244.9126 - val_mse: 6244.1499\n",
      "1/1 [==============================] - 1s 1s/step - loss: 6247.1172 - mse: 6246.3486 - val_loss: 6204.0459 - val_mse: 6203.2803\n",
      "1/1 [==============================] - 2s 2s/step - loss: 6182.2383 - mse: 6181.4722 - val_loss: 6163.9580 - val_mse: 6163.1943\n",
      "1/1 [==============================] - 1s 1s/step - loss: 6225.3945 - mse: 6224.6240 - val_loss: 6236.7778 - val_mse: 6236.0098\n",
      "1/1 [==============================] - 2s 2s/step - loss: 6286.9194 - mse: 6286.1523 - val_loss: 6117.3022 - val_mse: 6116.5366\n",
      "1/1 [==============================] - 2s 2s/step - loss: 6184.5391 - mse: 6183.7695 - val_loss: 6269.9263 - val_mse: 6269.1587\n",
      "1/1 [==============================] - 1s 1s/step - loss: 6226.4497 - mse: 6225.6836 - val_loss: 6213.4409 - val_mse: 6212.6768\n",
      "1/1 [==============================] - 1s 1s/step - loss: 6191.9634 - mse: 6191.1963 - val_loss: 6170.9888 - val_mse: 6170.2236\n",
      "1/1 [==============================] - 2s 2s/step - loss: 6248.2739 - mse: 6247.5044 - val_loss: 6155.1128 - val_mse: 6154.3452\n",
      "1/1 [==============================] - 2s 2s/step - loss: 6214.2192 - mse: 6213.4536 - val_loss: 6286.0610 - val_mse: 6285.2969\n",
      "1/1 [==============================] - 2s 2s/step - loss: 6203.9966 - mse: 6203.2314 - val_loss: 6121.9014 - val_mse: 6121.1377\n",
      "1/1 [==============================] - 2s 2s/step - loss: 6198.4194 - mse: 6197.6514 - val_loss: 6117.5249 - val_mse: 6116.7588\n",
      "1/1 [==============================] - 2s 2s/step - loss: 6189.8550 - mse: 6189.0898 - val_loss: 6257.7275 - val_mse: 6256.9639\n",
      "1/1 [==============================] - 1s 1s/step - loss: 6195.8633 - mse: 6195.0967 - val_loss: 6229.6377 - val_mse: 6228.8726\n",
      "1/1 [==============================] - 2s 2s/step - loss: 6204.8813 - mse: 6204.1157 - val_loss: 6246.5269 - val_mse: 6245.7627\n",
      "1/1 [==============================] - 2s 2s/step - loss: 6166.8848 - mse: 6166.1221 - val_loss: 6219.5986 - val_mse: 6218.8369\n",
      "1/1 [==============================] - 1s 1s/step - loss: 6215.4072 - mse: 6214.6416 - val_loss: 6161.1240 - val_mse: 6160.3599\n",
      "1/1 [==============================] - 1s 1s/step - loss: 6166.7798 - mse: 6166.0127 - val_loss: 6334.6460 - val_mse: 6333.8799\n",
      "1/1 [==============================] - 1s 1s/step - loss: 6286.1035 - mse: 6285.3389 - val_loss: 6235.3979 - val_mse: 6234.6348\n",
      "1/1 [==============================] - 1s 1s/step - loss: 6219.2017 - mse: 6218.4365 - val_loss: 6221.1924 - val_mse: 6220.4282\n",
      "1/1 [==============================] - 2s 2s/step - loss: 6213.4341 - mse: 6212.6694 - val_loss: 6208.4653 - val_mse: 6207.7021\n",
      "1/1 [==============================] - 1s 1s/step - loss: 6190.5508 - mse: 6189.7842 - val_loss: 6219.3711 - val_mse: 6218.6055\n",
      "1/1 [==============================] - 1s 1s/step - loss: 6228.6870 - mse: 6227.9204 - val_loss: 6229.8755 - val_mse: 6229.1104\n",
      "1/1 [==============================] - 1s 1s/step - loss: 6157.2983 - mse: 6156.5327 - val_loss: 6213.3389 - val_mse: 6212.5742\n",
      "1/1 [==============================] - 2s 2s/step - loss: 6227.2954 - mse: 6226.5283 - val_loss: 6266.5698 - val_mse: 6265.8042\n",
      "1/1 [==============================] - 2s 2s/step - loss: 6226.3149 - mse: 6225.5488 - val_loss: 6154.5957 - val_mse: 6153.8311\n",
      "1/1 [==============================] - 2s 2s/step - loss: 6268.9487 - mse: 6268.1826 - val_loss: 6164.1958 - val_mse: 6163.4307\n",
      "1/1 [==============================] - 2s 2s/step - loss: 6211.3867 - mse: 6210.6172 - val_loss: 6186.5376 - val_mse: 6185.7695\n",
      "1/1 [==============================] - 2s 2s/step - loss: 6211.8477 - mse: 6211.0781 - val_loss: 6193.5645 - val_mse: 6192.7954\n",
      "1/1 [==============================] - 2s 2s/step - loss: 6153.2524 - mse: 6152.4883 - val_loss: 6187.7236 - val_mse: 6186.9600\n",
      "1/1 [==============================] - 2s 2s/step - loss: 6220.3994 - mse: 6219.6338 - val_loss: 6266.2109 - val_mse: 6265.4463\n",
      "1/1 [==============================] - 2s 2s/step - loss: 6224.5146 - mse: 6223.7476 - val_loss: 6169.7563 - val_mse: 6168.9897\n",
      "1/1 [==============================] - 2s 2s/step - loss: 6244.9219 - mse: 6244.1567 - val_loss: 6229.5400 - val_mse: 6228.7759\n",
      "1/1 [==============================] - 2s 2s/step - loss: 6237.5396 - mse: 6236.7729 - val_loss: 6189.1162 - val_mse: 6188.3506\n",
      "1/1 [==============================] - 2s 2s/step - loss: 6235.3091 - mse: 6234.5449 - val_loss: 6315.2920 - val_mse: 6314.5278\n",
      "1/1 [==============================] - 2s 2s/step - loss: 6169.0972 - mse: 6168.3330 - val_loss: 6338.5083 - val_mse: 6337.7451\n",
      "1/1 [==============================] - 2s 2s/step - loss: 6170.8589 - mse: 6170.0938 - val_loss: 6249.5444 - val_mse: 6248.7803\n",
      "1/1 [==============================] - 2s 2s/step - loss: 6197.1987 - mse: 6196.4321 - val_loss: 6235.5786 - val_mse: 6234.8125\n",
      "1/1 [==============================] - 2s 2s/step - loss: 6234.4722 - mse: 6233.7041 - val_loss: 6186.5552 - val_mse: 6185.7881\n",
      "1/1 [==============================] - 2s 2s/step - loss: 6197.7676 - mse: 6197.0024 - val_loss: 6218.2573 - val_mse: 6217.4932\n",
      "1/1 [==============================] - 2s 2s/step - loss: 6254.5269 - mse: 6253.7617 - val_loss: 6091.3916 - val_mse: 6090.6265\n",
      "1/1 [==============================] - 2s 2s/step - loss: 6231.2446 - mse: 6230.4746 - val_loss: 6045.1528 - val_mse: 6044.3833\n",
      "1/1 [==============================] - 2s 2s/step - loss: 6226.4585 - mse: 6225.6948 - val_loss: 6284.8335 - val_mse: 6284.0703\n",
      "1/1 [==============================] - 2s 2s/step - loss: 6241.7056 - mse: 6240.9399 - val_loss: 6197.6167 - val_mse: 6196.8516\n",
      "1/1 [==============================] - 2s 2s/step - loss: 6183.6294 - mse: 6182.8647 - val_loss: 6191.0635 - val_mse: 6190.2988\n",
      "1/1 [==============================] - 1s 1s/step - loss: 6161.0464 - mse: 6160.2822 - val_loss: 6239.8105 - val_mse: 6239.0469\n",
      "1/1 [==============================] - 2s 2s/step - loss: 6236.0962 - mse: 6235.3296 - val_loss: 6196.7354 - val_mse: 6195.9697\n",
      "1/1 [==============================] - 2s 2s/step - loss: 6214.4595 - mse: 6213.6929 - val_loss: 6176.3066 - val_mse: 6175.5400\n",
      "1/1 [==============================] - 1s 1s/step - loss: 6189.6318 - mse: 6188.8662 - val_loss: 6160.5645 - val_mse: 6159.7993\n",
      "1/1 [==============================] - 1s 1s/step - loss: 6194.1670 - mse: 6193.3979 - val_loss: 6054.9834 - val_mse: 6054.2148\n",
      "1/1 [==============================] - 1s 1s/step - loss: 6246.5078 - mse: 6245.7412 - val_loss: 6204.7144 - val_mse: 6203.9482\n",
      "1/1 [==============================] - 2s 2s/step - loss: 6204.5859 - mse: 6203.8198 - val_loss: 6255.3140 - val_mse: 6254.5479\n",
      "1/1 [==============================] - 1s 1s/step - loss: 6255.8657 - mse: 6255.0986 - val_loss: 6218.7495 - val_mse: 6217.9824\n",
      "1/1 [==============================] - 2s 2s/step - loss: 6167.3311 - mse: 6166.5635 - val_loss: 6136.0386 - val_mse: 6135.2715\n",
      "1/1 [==============================] - 2s 2s/step - loss: 6204.8271 - mse: 6204.0654 - val_loss: 6247.2368 - val_mse: 6246.4756\n",
      "1/1 [==============================] - 1s 1s/step - loss: 6241.9258 - mse: 6241.1602 - val_loss: 6303.7769 - val_mse: 6303.0117\n",
      "1/1 [==============================] - 1s 1s/step - loss: 6197.0635 - mse: 6196.2959 - val_loss: 6136.9214 - val_mse: 6136.1538\n",
      "1/1 [==============================] - 1s 1s/step - loss: 6179.5278 - mse: 6178.7627 - val_loss: 6304.2905 - val_mse: 6303.5259\n",
      "1/1 [==============================] - 2s 2s/step - loss: 6201.2754 - mse: 6200.5127 - val_loss: 6227.8833 - val_mse: 6227.1201\n",
      "1/1 [==============================] - 2s 2s/step - loss: 6209.4048 - mse: 6208.6416 - val_loss: 6394.3086 - val_mse: 6393.5459\n",
      "1/1 [==============================] - 1s 1s/step - loss: 6224.5454 - mse: 6223.7783 - val_loss: 6069.7759 - val_mse: 6069.0088\n",
      "1/1 [==============================] - 1s 1s/step - loss: 6195.8350 - mse: 6195.0698 - val_loss: 6105.7861 - val_mse: 6105.0210\n",
      "1/1 [==============================] - 1s 1s/step - loss: 6219.0103 - mse: 6218.2397 - val_loss: 6211.2378 - val_mse: 6210.4673\n",
      "1/1 [==============================] - 2s 2s/step - loss: 6265.9038 - mse: 6265.1382 - val_loss: 6170.3677 - val_mse: 6169.6025\n",
      "1/1 [==============================] - 2s 2s/step - loss: 6272.3301 - mse: 6271.5625 - val_loss: 6241.2085 - val_mse: 6240.4414\n",
      "1/1 [==============================] - 2s 2s/step - loss: 6181.7417 - mse: 6180.9741 - val_loss: 6280.6665 - val_mse: 6279.8994\n",
      "1/1 [==============================] - 2s 2s/step - loss: 6215.1709 - mse: 6214.4053 - val_loss: 6237.5518 - val_mse: 6236.7861\n",
      "1/1 [==============================] - 2s 2s/step - loss: 6170.7969 - mse: 6170.0322 - val_loss: 6220.8779 - val_mse: 6220.1133\n",
      "1/1 [==============================] - 0s 63ms/step\n",
      "1/1 [==============================] - 0s 69ms/step\n"
     ]
    },
    {
     "name": "stderr",
     "output_type": "stream",
     "text": [
      "\r\n",
      "  0%|                                                                                           | 0/10 [00:00<?, ?it/s]"
     ]
    },
    {
     "name": "stdout",
     "output_type": "stream",
     "text": [
      "18/18 [==============================] - 1s 73ms/step\n"
     ]
    },
    {
     "name": "stderr",
     "output_type": "stream",
     "text": [
      "\r\n",
      " 10%|████████▎                                                                          | 1/10 [00:14<02:13, 14.82s/it]"
     ]
    },
    {
     "name": "stdout",
     "output_type": "stream",
     "text": [
      "18/18 [==============================] - 1s 77ms/step\n"
     ]
    },
    {
     "name": "stderr",
     "output_type": "stream",
     "text": [
      "\r\n",
      " 20%|████████████████▌                                                                  | 2/10 [00:29<01:56, 14.54s/it]"
     ]
    },
    {
     "name": "stdout",
     "output_type": "stream",
     "text": [
      "18/18 [==============================] - 1s 72ms/step\n"
     ]
    },
    {
     "name": "stderr",
     "output_type": "stream",
     "text": [
      "\r\n",
      " 30%|████████████████████████▉                                                          | 3/10 [00:43<01:40, 14.39s/it]"
     ]
    },
    {
     "name": "stdout",
     "output_type": "stream",
     "text": [
      "18/18 [==============================] - 1s 80ms/step\n"
     ]
    },
    {
     "name": "stderr",
     "output_type": "stream",
     "text": [
      "\r\n",
      " 40%|█████████████████████████████████▏                                                 | 4/10 [00:59<01:30, 15.00s/it]"
     ]
    },
    {
     "name": "stdout",
     "output_type": "stream",
     "text": [
      "18/18 [==============================] - 1s 66ms/step\n"
     ]
    },
    {
     "name": "stderr",
     "output_type": "stream",
     "text": [
      "\r\n",
      " 50%|█████████████████████████████████████████▌                                         | 5/10 [01:15<01:17, 15.43s/it]"
     ]
    },
    {
     "name": "stdout",
     "output_type": "stream",
     "text": [
      "18/18 [==============================] - 1s 67ms/step\n"
     ]
    },
    {
     "name": "stderr",
     "output_type": "stream",
     "text": [
      "\r\n",
      " 60%|█████████████████████████████████████████████████▊                                 | 6/10 [01:29<00:59, 14.95s/it]"
     ]
    },
    {
     "name": "stdout",
     "output_type": "stream",
     "text": [
      "18/18 [==============================] - 1s 69ms/step\n"
     ]
    },
    {
     "name": "stderr",
     "output_type": "stream",
     "text": [
      "\r\n",
      " 70%|██████████████████████████████████████████████████████████                         | 7/10 [01:43<00:43, 14.59s/it]"
     ]
    },
    {
     "name": "stdout",
     "output_type": "stream",
     "text": [
      "18/18 [==============================] - 1s 82ms/step\n"
     ]
    },
    {
     "name": "stderr",
     "output_type": "stream",
     "text": [
      "\r\n",
      " 80%|██████████████████████████████████████████████████████████████████▍                | 8/10 [01:59<00:30, 15.19s/it]"
     ]
    },
    {
     "name": "stdout",
     "output_type": "stream",
     "text": [
      "18/18 [==============================] - 2s 81ms/step\n"
     ]
    },
    {
     "name": "stderr",
     "output_type": "stream",
     "text": [
      "\r\n",
      " 90%|██████████████████████████████████████████████████████████████████████████▋        | 9/10 [02:16<00:15, 15.77s/it]"
     ]
    },
    {
     "name": "stdout",
     "output_type": "stream",
     "text": [
      "18/18 [==============================] - 1s 79ms/step\n"
     ]
    },
    {
     "name": "stderr",
     "output_type": "stream",
     "text": [
      "100%|██████████████████████████████████████████████████████████████████████████████████| 10/10 [02:33<00:00, 15.38s/it]\n",
      "100%|██████████████████████████████████████████████████████████████████████████████████| 10/10 [04:55<00:00, 29.51s/it]\n"
     ]
    },
    {
     "name": "stdout",
     "output_type": "stream",
     "text": [
      "L2X OK !!\n",
      "(10, 40, 14) (10, 1)\n",
      "157/157 [==============================] - 10s 66ms/step\n",
      "157/157 [==============================] - 12s 76ms/step\n",
      "157/157 [==============================] - 12s 79ms/step\n",
      "157/157 [==============================] - 12s 77ms/step\n",
      "157/157 [==============================] - 11s 71ms/step\n",
      "157/157 [==============================] - 10s 65ms/step\n",
      "157/157 [==============================] - 11s 71ms/step\n",
      "157/157 [==============================] - 12s 76ms/step\n",
      "157/157 [==============================] - 12s 76ms/step\n",
      "157/157 [==============================] - 12s 73ms/step\n",
      "157/157 [==============================] - 10s 65ms/step\n",
      "157/157 [==============================] - 11s 67ms/step\n",
      "157/157 [==============================] - 12s 73ms/step\n",
      "157/157 [==============================] - 12s 75ms/step\n",
      "157/157 [==============================] - 12s 75ms/step\n",
      "157/157 [==============================] - 12s 75ms/step\n",
      "157/157 [==============================] - 10s 67ms/step\n",
      "157/157 [==============================] - 10s 66ms/step\n",
      "157/157 [==============================] - 12s 78ms/step\n",
      "157/157 [==============================] - 12s 78ms/step\n",
      "1/1 [==============================] - 0s 63ms/step\n",
      "1/1 [==============================] - 0s 91ms/step\n"
     ]
    },
    {
     "name": "stderr",
     "output_type": "stream",
     "text": [
      "\r\n",
      "  0%|                                                                                           | 0/10 [00:00<?, ?it/s]"
     ]
    },
    {
     "name": "stdout",
     "output_type": "stream",
     "text": [
      "157/157 [==============================] - 12s 76ms/step\n",
      "18/18 [==============================] - 1s 74ms/step\n"
     ]
    },
    {
     "name": "stderr",
     "output_type": "stream",
     "text": [
      "\r\n",
      " 10%|████████▎                                                                          | 1/10 [00:23<03:34, 23.81s/it]"
     ]
    },
    {
     "name": "stdout",
     "output_type": "stream",
     "text": [
      "157/157 [==============================] - 11s 72ms/step\n",
      "18/18 [==============================] - 1s 62ms/step\n"
     ]
    },
    {
     "name": "stderr",
     "output_type": "stream",
     "text": [
      "\r\n",
      " 20%|████████████████▌                                                                  | 2/10 [00:46<03:05, 23.19s/it]"
     ]
    },
    {
     "name": "stdout",
     "output_type": "stream",
     "text": [
      "157/157 [==============================] - 11s 67ms/step\n",
      "18/18 [==============================] - 1s 63ms/step\n"
     ]
    },
    {
     "name": "stderr",
     "output_type": "stream",
     "text": [
      "\r\n",
      " 30%|████████████████████████▉                                                          | 3/10 [01:05<02:29, 21.39s/it]"
     ]
    },
    {
     "name": "stdout",
     "output_type": "stream",
     "text": [
      "157/157 [==============================] - 11s 71ms/step\n",
      "18/18 [==============================] - 1s 74ms/step\n"
     ]
    },
    {
     "name": "stderr",
     "output_type": "stream",
     "text": [
      "\r\n",
      " 40%|█████████████████████████████████▏                                                 | 4/10 [01:25<02:04, 20.75s/it]"
     ]
    },
    {
     "name": "stdout",
     "output_type": "stream",
     "text": [
      "157/157 [==============================] - 12s 74ms/step\n",
      "18/18 [==============================] - 1s 70ms/step\n"
     ]
    },
    {
     "name": "stderr",
     "output_type": "stream",
     "text": [
      "\r\n",
      " 50%|█████████████████████████████████████████▌                                         | 5/10 [01:49<01:49, 21.80s/it]"
     ]
    },
    {
     "name": "stdout",
     "output_type": "stream",
     "text": [
      "157/157 [==============================] - 12s 73ms/step\n",
      "18/18 [==============================] - 1s 76ms/step\n"
     ]
    },
    {
     "name": "stderr",
     "output_type": "stream",
     "text": [
      "\r\n",
      " 60%|█████████████████████████████████████████████████▊                                 | 6/10 [02:12<01:28, 22.24s/it]"
     ]
    },
    {
     "name": "stdout",
     "output_type": "stream",
     "text": [
      "157/157 [==============================] - 12s 75ms/step\n",
      "18/18 [==============================] - 1s 76ms/step\n"
     ]
    },
    {
     "name": "stderr",
     "output_type": "stream",
     "text": [
      "\r\n",
      " 70%|██████████████████████████████████████████████████████████                         | 7/10 [02:35<01:07, 22.64s/it]"
     ]
    },
    {
     "name": "stdout",
     "output_type": "stream",
     "text": [
      "157/157 [==============================] - 10s 65ms/step\n",
      "18/18 [==============================] - 1s 60ms/step\n"
     ]
    },
    {
     "name": "stderr",
     "output_type": "stream",
     "text": [
      "\r\n",
      " 80%|██████████████████████████████████████████████████████████████████▍                | 8/10 [02:56<00:44, 22.01s/it]"
     ]
    },
    {
     "name": "stdout",
     "output_type": "stream",
     "text": [
      "157/157 [==============================] - 10s 65ms/step\n",
      "18/18 [==============================] - 1s 61ms/step\n"
     ]
    },
    {
     "name": "stderr",
     "output_type": "stream",
     "text": [
      "\r\n",
      " 90%|██████████████████████████████████████████████████████████████████████████▋        | 9/10 [03:15<00:21, 21.01s/it]"
     ]
    },
    {
     "name": "stdout",
     "output_type": "stream",
     "text": [
      "157/157 [==============================] - 12s 74ms/step\n",
      "18/18 [==============================] - 1s 72ms/step\n"
     ]
    },
    {
     "name": "stderr",
     "output_type": "stream",
     "text": [
      "100%|██████████████████████████████████████████████████████████████████████████████████| 10/10 [03:38<00:00, 21.82s/it]\n",
      "  0%|                                                                                           | 0/10 [00:00<?, ?it/s]"
     ]
    },
    {
     "name": "stdout",
     "output_type": "stream",
     "text": [
      "157/157 [==============================] - 12s 75ms/step\n",
      "157/157 [==============================] - 11s 73ms/step\n"
     ]
    },
    {
     "name": "stderr",
     "output_type": "stream",
     "text": [
      "\r\n",
      " 10%|████████▎                                                                          | 1/10 [00:43<06:35, 43.98s/it]"
     ]
    },
    {
     "name": "stdout",
     "output_type": "stream",
     "text": [
      "157/157 [==============================] - 12s 74ms/step\n",
      "157/157 [==============================] - 10s 65ms/step\n"
     ]
    },
    {
     "name": "stderr",
     "output_type": "stream",
     "text": [
      "\r\n",
      " 20%|████████████████▌                                                                  | 2/10 [01:23<05:29, 41.17s/it]"
     ]
    },
    {
     "name": "stdout",
     "output_type": "stream",
     "text": [
      "157/157 [==============================] - 10s 64ms/step\n",
      "157/157 [==============================] - 12s 75ms/step\n"
     ]
    },
    {
     "name": "stderr",
     "output_type": "stream",
     "text": [
      "\r\n",
      " 30%|████████████████████████▉                                                          | 3/10 [02:01<04:39, 39.97s/it]"
     ]
    },
    {
     "name": "stdout",
     "output_type": "stream",
     "text": [
      "157/157 [==============================] - 12s 74ms/step\n",
      "157/157 [==============================] - 12s 74ms/step\n"
     ]
    },
    {
     "name": "stderr",
     "output_type": "stream",
     "text": [
      "\r\n",
      " 40%|█████████████████████████████████▏                                                 | 4/10 [02:45<04:08, 41.38s/it]"
     ]
    },
    {
     "name": "stdout",
     "output_type": "stream",
     "text": [
      "157/157 [==============================] - 11s 73ms/step\n",
      "157/157 [==============================] - 10s 66ms/step\n"
     ]
    },
    {
     "name": "stderr",
     "output_type": "stream",
     "text": [
      "\r\n",
      " 50%|█████████████████████████████████████████▌                                         | 5/10 [03:24<03:22, 40.55s/it]"
     ]
    },
    {
     "name": "stdout",
     "output_type": "stream",
     "text": [
      "157/157 [==============================] - 11s 68ms/step\n",
      "157/157 [==============================] - 12s 77ms/step\n"
     ]
    },
    {
     "name": "stderr",
     "output_type": "stream",
     "text": [
      "\r\n",
      " 60%|█████████████████████████████████████████████████▊                                 | 6/10 [04:05<02:43, 40.77s/it]"
     ]
    },
    {
     "name": "stdout",
     "output_type": "stream",
     "text": [
      "157/157 [==============================] - 12s 76ms/step\n",
      "157/157 [==============================] - 12s 76ms/step\n"
     ]
    },
    {
     "name": "stderr",
     "output_type": "stream",
     "text": [
      "\r\n",
      " 70%|██████████████████████████████████████████████████████████                         | 7/10 [04:49<02:05, 41.88s/it]"
     ]
    },
    {
     "name": "stdout",
     "output_type": "stream",
     "text": [
      "157/157 [==============================] - 11s 70ms/step\n",
      "157/157 [==============================] - 10s 66ms/step\n"
     ]
    },
    {
     "name": "stderr",
     "output_type": "stream",
     "text": [
      "\r\n",
      " 80%|██████████████████████████████████████████████████████████████████▍                | 8/10 [05:28<01:21, 40.87s/it]"
     ]
    },
    {
     "name": "stdout",
     "output_type": "stream",
     "text": [
      "157/157 [==============================] - 12s 74ms/step\n",
      "157/157 [==============================] - 12s 76ms/step\n"
     ]
    },
    {
     "name": "stderr",
     "output_type": "stream",
     "text": [
      "\r\n",
      " 90%|██████████████████████████████████████████████████████████████████████████▋        | 9/10 [06:09<00:41, 41.03s/it]"
     ]
    },
    {
     "name": "stdout",
     "output_type": "stream",
     "text": [
      "157/157 [==============================] - 12s 75ms/step\n",
      "157/157 [==============================] - 12s 75ms/step\n"
     ]
    },
    {
     "name": "stderr",
     "output_type": "stream",
     "text": [
      "100%|██████████████████████████████████████████████████████████████████████████████████| 10/10 [06:53<00:00, 41.36s/it]"
     ]
    },
    {
     "name": "stdout",
     "output_type": "stream",
     "text": [
      "Lime OK!!\n",
      "1/1 [==============================] - 0s 33ms/step\n"
     ]
    },
    {
     "name": "stderr",
     "output_type": "stream",
     "text": [
      "\n"
     ]
    },
    {
     "name": "stdout",
     "output_type": "stream",
     "text": [
      "8/8 [==============================] - 1s 158ms/step\n",
      "1/1 [==============================] - 0s 31ms/step\n",
      "8/8 [==============================] - 1s 156ms/step\n",
      "1/1 [==============================] - 0s 31ms/step\n",
      "8/8 [==============================] - 1s 170ms/step\n",
      "1/1 [==============================] - 0s 47ms/step\n",
      "8/8 [==============================] - 1s 161ms/step\n",
      "1/1 [==============================] - 0s 31ms/step\n",
      "8/8 [==============================] - 1s 164ms/step\n",
      "1/1 [==============================] - 0s 31ms/step\n",
      "8/8 [==============================] - 1s 167ms/step\n",
      "1/1 [==============================] - 0s 25ms/step\n",
      "8/8 [==============================] - 1s 139ms/step\n",
      "1/1 [==============================] - 0s 31ms/step\n",
      "8/8 [==============================] - 1s 134ms/step\n",
      "1/1 [==============================] - 0s 31ms/step\n",
      "8/8 [==============================] - 1s 135ms/step\n",
      "1/1 [==============================] - 0s 16ms/step\n",
      "8/8 [==============================] - 1s 132ms/step\n",
      "1/1 [==============================] - 0s 31ms/step\n",
      "8/8 [==============================] - 1s 140ms/step\n",
      "1/1 [==============================] - 0s 31ms/step\n",
      "8/8 [==============================] - 1s 135ms/step\n",
      "1/1 [==============================] - 0s 37ms/step\n",
      "8/8 [==============================] - 1s 132ms/step\n",
      "1/1 [==============================] - 0s 31ms/step\n",
      "8/8 [==============================] - 1s 131ms/step\n",
      "1/1 [==============================] - 0s 32ms/step\n",
      "8/8 [==============================] - 1s 136ms/step\n",
      "1/1 [==============================] - 0s 16ms/step\n",
      "8/8 [==============================] - 1s 130ms/step\n",
      "1/1 [==============================] - 0s 32ms/step\n",
      "8/8 [==============================] - 1s 139ms/step\n",
      "1/1 [==============================] - 0s 31ms/step\n",
      "8/8 [==============================] - 1s 141ms/step\n",
      "1/1 [==============================] - 0s 31ms/step\n",
      "8/8 [==============================] - 1s 149ms/step\n",
      "1/1 [==============================] - 0s 31ms/step\n",
      "8/8 [==============================] - 1s 137ms/step\n",
      "1/1 [==============================] - 0s 32ms/step\n",
      "8/8 [==============================] - 1s 137ms/step\n",
      "1/1 [==============================] - 0s 31ms/step\n",
      "8/8 [==============================] - 1s 135ms/step\n",
      "1/1 [==============================] - 0s 47ms/step\n",
      "8/8 [==============================] - 1s 134ms/step\n",
      "1/1 [==============================] - 0s 16ms/step\n",
      "8/8 [==============================] - 1s 148ms/step\n",
      "1/1 [==============================] - 0s 16ms/step\n",
      "8/8 [==============================] - 1s 133ms/step\n",
      "1/1 [==============================] - 0s 16ms/step\n",
      "8/8 [==============================] - 1s 127ms/step\n",
      "1/1 [==============================] - 0s 16ms/step\n",
      "8/8 [==============================] - 1s 133ms/step\n",
      "1/1 [==============================] - 0s 31ms/step\n",
      "8/8 [==============================] - 1s 134ms/step\n",
      "1/1 [==============================] - 0s 31ms/step\n",
      "8/8 [==============================] - 1s 138ms/step\n",
      "1/1 [==============================] - 0s 33ms/step\n",
      "8/8 [==============================] - 1s 133ms/step\n",
      "1/1 [==============================] - 0s 16ms/step\n",
      "8/8 [==============================] - 1s 153ms/step\n",
      "1/1 [==============================] - 0s 79ms/step\n",
      "1/1 [==============================] - 0s 64ms/step\n"
     ]
    },
    {
     "name": "stderr",
     "output_type": "stream",
     "text": [
      "\r\n",
      "  0%|                                                                                           | 0/10 [00:00<?, ?it/s]"
     ]
    },
    {
     "name": "stdout",
     "output_type": "stream",
     "text": [
      "1/1 [==============================] - 0s 31ms/step\n",
      "8/8 [==============================] - 1s 165ms/step\n",
      "1/1 [==============================] - 0s 32ms/step\n",
      "8/8 [==============================] - 1s 159ms/step\n",
      "18/18 [==============================] - 1s 73ms/step\n"
     ]
    },
    {
     "name": "stderr",
     "output_type": "stream",
     "text": [
      "\r\n",
      " 10%|████████▎                                                                          | 1/10 [00:04<00:44,  4.94s/it]"
     ]
    },
    {
     "name": "stdout",
     "output_type": "stream",
     "text": [
      "1/1 [==============================] - 0s 31ms/step\n",
      "8/8 [==============================] - 1s 161ms/step\n",
      "1/1 [==============================] - 0s 47ms/step\n",
      "8/8 [==============================] - 1s 163ms/step\n",
      "18/18 [==============================] - 1s 74ms/step\n"
     ]
    },
    {
     "name": "stderr",
     "output_type": "stream",
     "text": [
      "\r\n",
      " 20%|████████████████▌                                                                  | 2/10 [00:09<00:38,  4.77s/it]"
     ]
    },
    {
     "name": "stdout",
     "output_type": "stream",
     "text": [
      "1/1 [==============================] - 0s 32ms/step\n",
      "8/8 [==============================] - 1s 165ms/step\n",
      "1/1 [==============================] - 0s 39ms/step\n",
      "8/8 [==============================] - 1s 154ms/step\n",
      "18/18 [==============================] - 1s 72ms/step\n"
     ]
    },
    {
     "name": "stderr",
     "output_type": "stream",
     "text": [
      "\r\n",
      " 30%|████████████████████████▉                                                          | 3/10 [00:14<00:33,  4.73s/it]"
     ]
    },
    {
     "name": "stdout",
     "output_type": "stream",
     "text": [
      "1/1 [==============================] - 0s 33ms/step\n",
      "8/8 [==============================] - 1s 154ms/step\n",
      "1/1 [==============================] - 0s 33ms/step\n",
      "8/8 [==============================] - 1s 154ms/step\n",
      "18/18 [==============================] - 1s 74ms/step\n"
     ]
    },
    {
     "name": "stderr",
     "output_type": "stream",
     "text": [
      "\r\n",
      " 40%|█████████████████████████████████▏                                                 | 4/10 [00:18<00:28,  4.72s/it]"
     ]
    },
    {
     "name": "stdout",
     "output_type": "stream",
     "text": [
      "1/1 [==============================] - 0s 41ms/step\n",
      "8/8 [==============================] - 1s 155ms/step\n",
      "1/1 [==============================] - 0s 32ms/step\n",
      "8/8 [==============================] - 1s 161ms/step\n",
      "18/18 [==============================] - 1s 69ms/step\n"
     ]
    },
    {
     "name": "stderr",
     "output_type": "stream",
     "text": [
      "\r\n",
      " 50%|█████████████████████████████████████████▌                                         | 5/10 [00:23<00:23,  4.71s/it]"
     ]
    },
    {
     "name": "stdout",
     "output_type": "stream",
     "text": [
      "1/1 [==============================] - 0s 34ms/step\n",
      "8/8 [==============================] - 1s 157ms/step\n",
      "1/1 [==============================] - 0s 18ms/step\n",
      "8/8 [==============================] - 1s 157ms/step\n",
      "18/18 [==============================] - 1s 72ms/step\n"
     ]
    },
    {
     "name": "stderr",
     "output_type": "stream",
     "text": [
      "\r\n",
      " 60%|█████████████████████████████████████████████████▊                                 | 6/10 [00:28<00:18,  4.72s/it]"
     ]
    },
    {
     "name": "stdout",
     "output_type": "stream",
     "text": [
      "1/1 [==============================] - 0s 15ms/step\n",
      "8/8 [==============================] - 1s 163ms/step\n",
      "1/1 [==============================] - 0s 32ms/step\n",
      "8/8 [==============================] - 1s 174ms/step\n",
      "18/18 [==============================] - 1s 76ms/step\n"
     ]
    },
    {
     "name": "stderr",
     "output_type": "stream",
     "text": [
      "\r\n",
      " 70%|██████████████████████████████████████████████████████████                         | 7/10 [00:33<00:14,  4.78s/it]"
     ]
    },
    {
     "name": "stdout",
     "output_type": "stream",
     "text": [
      "1/1 [==============================] - 0s 29ms/step\n",
      "8/8 [==============================] - 1s 166ms/step\n",
      "1/1 [==============================] - 0s 31ms/step\n",
      "8/8 [==============================] - 1s 153ms/step\n",
      "18/18 [==============================] - 1s 68ms/step\n"
     ]
    },
    {
     "name": "stderr",
     "output_type": "stream",
     "text": [
      "\r\n",
      " 80%|██████████████████████████████████████████████████████████████████▍                | 8/10 [00:38<00:09,  4.77s/it]"
     ]
    },
    {
     "name": "stdout",
     "output_type": "stream",
     "text": [
      "1/1 [==============================] - 0s 16ms/step\n",
      "8/8 [==============================] - 1s 158ms/step\n",
      "1/1 [==============================] - 0s 31ms/step\n",
      "8/8 [==============================] - 1s 152ms/step\n",
      "18/18 [==============================] - 1s 73ms/step\n"
     ]
    },
    {
     "name": "stderr",
     "output_type": "stream",
     "text": [
      "\r\n",
      " 90%|██████████████████████████████████████████████████████████████████████████▋        | 9/10 [00:42<00:04,  4.72s/it]"
     ]
    },
    {
     "name": "stdout",
     "output_type": "stream",
     "text": [
      "1/1 [==============================] - 0s 31ms/step\n",
      "8/8 [==============================] - 1s 157ms/step\n",
      "1/1 [==============================] - 0s 31ms/step\n",
      "8/8 [==============================] - 1s 152ms/step\n",
      "18/18 [==============================] - 1s 74ms/step\n"
     ]
    },
    {
     "name": "stderr",
     "output_type": "stream",
     "text": [
      "100%|██████████████████████████████████████████████████████████████████████████████████| 10/10 [00:47<00:00,  4.74s/it]\n",
      "  0%|                                                                                           | 0/10 [00:00<?, ?it/s]"
     ]
    },
    {
     "name": "stdout",
     "output_type": "stream",
     "text": [
      "1/1 [==============================] - 0s 16ms/step\n",
      "8/8 [==============================] - 1s 161ms/step\n",
      "1/1 [==============================] - 0s 31ms/step\n",
      "8/8 [==============================] - 1s 155ms/step\n",
      "1/1 [==============================] - 0s 48ms/step\n",
      "8/8 [==============================] - 1s 162ms/step\n",
      "1/1 [==============================] - 0s 47ms/step\n",
      "8/8 [==============================] - 1s 159ms/step\n"
     ]
    },
    {
     "name": "stderr",
     "output_type": "stream",
     "text": [
      "\r\n",
      " 10%|████████▎                                                                          | 1/10 [00:06<00:59,  6.66s/it]"
     ]
    },
    {
     "name": "stdout",
     "output_type": "stream",
     "text": [
      "1/1 [==============================] - 0s 32ms/step\n",
      "8/8 [==============================] - 1s 158ms/step\n",
      "1/1 [==============================] - 0s 32ms/step\n",
      "8/8 [==============================] - 1s 166ms/step\n",
      "1/1 [==============================] - 0s 49ms/step\n",
      "8/8 [==============================] - 1s 159ms/step\n",
      "1/1 [==============================] - 0s 31ms/step\n",
      "8/8 [==============================] - 1s 154ms/step\n"
     ]
    },
    {
     "name": "stderr",
     "output_type": "stream",
     "text": [
      "\r\n",
      " 20%|████████████████▌                                                                  | 2/10 [00:13<00:53,  6.66s/it]"
     ]
    },
    {
     "name": "stdout",
     "output_type": "stream",
     "text": [
      "1/1 [==============================] - 0s 31ms/step\n",
      "8/8 [==============================] - 1s 146ms/step\n",
      "1/1 [==============================] - 0s 16ms/step\n",
      "8/8 [==============================] - 1s 151ms/step\n",
      "1/1 [==============================] - 0s 16ms/step\n",
      "8/8 [==============================] - 1s 153ms/step\n",
      "1/1 [==============================] - 0s 45ms/step\n",
      "8/8 [==============================] - 1s 154ms/step\n"
     ]
    },
    {
     "name": "stderr",
     "output_type": "stream",
     "text": [
      "\r\n",
      " 30%|████████████████████████▉                                                          | 3/10 [00:19<00:45,  6.50s/it]"
     ]
    },
    {
     "name": "stdout",
     "output_type": "stream",
     "text": [
      "1/1 [==============================] - 0s 18ms/step\n",
      "8/8 [==============================] - 1s 158ms/step\n",
      "1/1 [==============================] - 0s 47ms/step\n",
      "8/8 [==============================] - 1s 152ms/step\n",
      "1/1 [==============================] - 0s 31ms/step\n",
      "8/8 [==============================] - 1s 158ms/step\n",
      "1/1 [==============================] - 0s 16ms/step\n",
      "8/8 [==============================] - 1s 159ms/step\n"
     ]
    },
    {
     "name": "stderr",
     "output_type": "stream",
     "text": [
      "\r\n",
      " 40%|█████████████████████████████████▏                                                 | 4/10 [00:26<00:39,  6.56s/it]"
     ]
    },
    {
     "name": "stdout",
     "output_type": "stream",
     "text": [
      "1/1 [==============================] - 0s 16ms/step\n",
      "8/8 [==============================] - 1s 172ms/step\n",
      "1/1 [==============================] - 0s 44ms/step\n",
      "8/8 [==============================] - 1s 151ms/step\n",
      "1/1 [==============================] - 0s 32ms/step\n",
      "8/8 [==============================] - 1s 158ms/step\n",
      "1/1 [==============================] - 0s 17ms/step\n",
      "8/8 [==============================] - 1s 159ms/step\n"
     ]
    },
    {
     "name": "stderr",
     "output_type": "stream",
     "text": [
      "\r\n",
      " 50%|█████████████████████████████████████████▌                                         | 5/10 [00:32<00:32,  6.58s/it]"
     ]
    },
    {
     "name": "stdout",
     "output_type": "stream",
     "text": [
      "1/1 [==============================] - 0s 25ms/step\n",
      "8/8 [==============================] - 1s 164ms/step\n",
      "1/1 [==============================] - 0s 16ms/step\n",
      "8/8 [==============================] - 1s 153ms/step\n",
      "1/1 [==============================] - 0s 31ms/step\n",
      "8/8 [==============================] - 1s 130ms/step\n",
      "1/1 [==============================] - 0s 31ms/step\n",
      "8/8 [==============================] - 1s 135ms/step\n"
     ]
    },
    {
     "name": "stderr",
     "output_type": "stream",
     "text": [
      "\r\n",
      " 60%|█████████████████████████████████████████████████▊                                 | 6/10 [00:39<00:25,  6.46s/it]"
     ]
    },
    {
     "name": "stdout",
     "output_type": "stream",
     "text": [
      "1/1 [==============================] - 0s 16ms/step\n",
      "8/8 [==============================] - 1s 139ms/step\n",
      "1/1 [==============================] - 0s 32ms/step\n",
      "8/8 [==============================] - 1s 140ms/step\n",
      "1/1 [==============================] - 0s 31ms/step\n",
      "8/8 [==============================] - 1s 135ms/step\n",
      "1/1 [==============================] - 0s 31ms/step\n",
      "8/8 [==============================] - 1s 143ms/step\n"
     ]
    },
    {
     "name": "stderr",
     "output_type": "stream",
     "text": [
      "\r\n",
      " 70%|██████████████████████████████████████████████████████████                         | 7/10 [00:45<00:18,  6.31s/it]"
     ]
    },
    {
     "name": "stdout",
     "output_type": "stream",
     "text": [
      "1/1 [==============================] - 0s 31ms/step\n",
      "8/8 [==============================] - 1s 132ms/step\n",
      "1/1 [==============================] - 0s 31ms/step\n",
      "8/8 [==============================] - 1s 136ms/step\n",
      "1/1 [==============================] - 0s 31ms/step\n",
      "8/8 [==============================] - 1s 135ms/step\n",
      "1/1 [==============================] - 0s 31ms/step\n",
      "8/8 [==============================] - 1s 137ms/step\n"
     ]
    },
    {
     "name": "stderr",
     "output_type": "stream",
     "text": [
      "\r\n",
      " 80%|██████████████████████████████████████████████████████████████████▍                | 8/10 [00:50<00:12,  6.17s/it]"
     ]
    },
    {
     "name": "stdout",
     "output_type": "stream",
     "text": [
      "1/1 [==============================] - 0s 31ms/step\n",
      "8/8 [==============================] - 1s 141ms/step\n",
      "1/1 [==============================] - 0s 16ms/step\n",
      "8/8 [==============================] - 1s 153ms/step\n",
      "1/1 [==============================] - 0s 31ms/step\n",
      "8/8 [==============================] - 1s 135ms/step\n",
      "1/1 [==============================] - 0s 31ms/step\n",
      "8/8 [==============================] - 1s 133ms/step\n"
     ]
    },
    {
     "name": "stderr",
     "output_type": "stream",
     "text": [
      "\r\n",
      " 90%|██████████████████████████████████████████████████████████████████████████▋        | 9/10 [00:56<00:06,  6.11s/it]"
     ]
    },
    {
     "name": "stdout",
     "output_type": "stream",
     "text": [
      "1/1 [==============================] - 0s 19ms/step\n",
      "8/8 [==============================] - 1s 133ms/step\n",
      "1/1 [==============================] - 0s 24ms/step\n",
      "8/8 [==============================] - 1s 135ms/step\n",
      "1/1 [==============================] - 0s 31ms/step\n",
      "8/8 [==============================] - 1s 138ms/step\n",
      "1/1 [==============================] - 0s 16ms/step\n",
      "8/8 [==============================] - 1s 136ms/step\n"
     ]
    },
    {
     "name": "stderr",
     "output_type": "stream",
     "text": [
      "100%|██████████████████████████████████████████████████████████████████████████████████| 10/10 [01:02<00:00,  6.27s/it]"
     ]
    },
    {
     "name": "stdout",
     "output_type": "stream",
     "text": [
      "shap OK !!\n",
      "1/1 [==============================] - 0s 47ms/step\n"
     ]
    },
    {
     "name": "stderr",
     "output_type": "stream",
     "text": [
      "\n"
     ]
    },
    {
     "name": "stdout",
     "output_type": "stream",
     "text": [
      "1/1 [==============================] - 2s 2s/step - loss: 5092.9507 - mse: 5092.1831 - val_loss: 5103.0049 - val_mse: 5102.2461\n",
      "1/1 [==============================] - 2s 2s/step - loss: 5115.6895 - mse: 5114.9209 - val_loss: 5091.8569 - val_mse: 5091.0967\n",
      "1/1 [==============================] - 2s 2s/step - loss: 5166.5103 - mse: 5165.7446 - val_loss: 5087.5317 - val_mse: 5086.7744\n",
      "1/1 [==============================] - 2s 2s/step - loss: 5146.5884 - mse: 5145.8247 - val_loss: 5114.4390 - val_mse: 5113.6826\n",
      "1/1 [==============================] - 3s 3s/step - loss: 5125.1836 - mse: 5124.4150 - val_loss: 5119.1895 - val_mse: 5118.4282\n",
      "1/1 [==============================] - 3s 3s/step - loss: 5147.8940 - mse: 5147.1250 - val_loss: 5121.2231 - val_mse: 5120.4609\n",
      "1/1 [==============================] - 3s 3s/step - loss: 5192.5190 - mse: 5191.7520 - val_loss: 5119.4351 - val_mse: 5118.6748\n",
      "1/1 [==============================] - 3s 3s/step - loss: 5129.1475 - mse: 5128.3818 - val_loss: 5107.4097 - val_mse: 5106.6504\n",
      "1/1 [==============================] - 2s 2s/step - loss: 5114.5391 - mse: 5113.7710 - val_loss: 5105.5562 - val_mse: 5104.7939\n",
      "1/1 [==============================] - 3s 3s/step - loss: 5076.5127 - mse: 5075.7466 - val_loss: 5142.4062 - val_mse: 5141.6455\n",
      "1/1 [==============================] - 3s 3s/step - loss: 5120.1182 - mse: 5119.3506 - val_loss: 5134.3682 - val_mse: 5133.6064\n",
      "1/1 [==============================] - 3s 3s/step - loss: 5129.7720 - mse: 5129.0078 - val_loss: 5115.2041 - val_mse: 5114.4453\n",
      "1/1 [==============================] - 3s 3s/step - loss: 5099.1274 - mse: 5098.3608 - val_loss: 5139.8228 - val_mse: 5139.0610\n",
      "1/1 [==============================] - 3s 3s/step - loss: 5120.9746 - mse: 5120.2085 - val_loss: 5084.3608 - val_mse: 5083.5996\n",
      "1/1 [==============================] - 3s 3s/step - loss: 5143.5693 - mse: 5142.7998 - val_loss: 5117.6777 - val_mse: 5116.9131\n",
      "1/1 [==============================] - 3s 3s/step - loss: 5090.2686 - mse: 5089.5024 - val_loss: 5083.5322 - val_mse: 5082.7705\n",
      "1/1 [==============================] - 3s 3s/step - loss: 5080.8530 - mse: 5080.0874 - val_loss: 5110.6289 - val_mse: 5109.8682\n",
      "1/1 [==============================] - 3s 3s/step - loss: 5091.5425 - mse: 5090.7759 - val_loss: 5030.6309 - val_mse: 5029.8682\n",
      "1/1 [==============================] - 3s 3s/step - loss: 5088.5254 - mse: 5087.7568 - val_loss: 5128.9976 - val_mse: 5128.2334\n",
      "1/1 [==============================] - 3s 3s/step - loss: 5174.7842 - mse: 5174.0166 - val_loss: 5142.3877 - val_mse: 5141.6240\n",
      "1/1 [==============================] - 3s 3s/step - loss: 5110.7949 - mse: 5110.0288 - val_loss: 5145.6826 - val_mse: 5144.9194\n",
      "1/1 [==============================] - 3s 3s/step - loss: 5158.2817 - mse: 5157.5137 - val_loss: 5121.4067 - val_mse: 5120.6421\n",
      "1/1 [==============================] - 3s 3s/step - loss: 5084.3076 - mse: 5083.5400 - val_loss: 5057.8462 - val_mse: 5057.0820\n",
      "1/1 [==============================] - 3s 3s/step - loss: 5110.5903 - mse: 5109.8252 - val_loss: 5116.2939 - val_mse: 5115.5322\n",
      "1/1 [==============================] - 3s 3s/step - loss: 5122.4629 - mse: 5121.6968 - val_loss: 5115.9424 - val_mse: 5115.1797\n",
      "1/1 [==============================] - 3s 3s/step - loss: 5128.4316 - mse: 5127.6646 - val_loss: 5146.4673 - val_mse: 5145.7036\n",
      "1/1 [==============================] - 3s 3s/step - loss: 5144.2793 - mse: 5143.5127 - val_loss: 5128.1611 - val_mse: 5127.3975\n",
      "1/1 [==============================] - 3s 3s/step - loss: 5122.0015 - mse: 5121.2354 - val_loss: 5074.7202 - val_mse: 5073.9575\n",
      "1/1 [==============================] - 3s 3s/step - loss: 5059.7295 - mse: 5058.9629 - val_loss: 5141.6201 - val_mse: 5140.8564\n",
      "1/1 [==============================] - 3s 3s/step - loss: 5151.2505 - mse: 5150.4829 - val_loss: 5104.4976 - val_mse: 5103.7329\n",
      "1/1 [==============================] - 3s 3s/step - loss: 5083.7603 - mse: 5082.9951 - val_loss: 5141.7915 - val_mse: 5141.0293\n",
      "1/1 [==============================] - 3s 3s/step - loss: 5138.2095 - mse: 5137.4395 - val_loss: 5144.2612 - val_mse: 5143.4932\n",
      "1/1 [==============================] - 2s 2s/step - loss: 5133.3691 - mse: 5132.6025 - val_loss: 5075.5410 - val_mse: 5074.7764\n",
      "1/1 [==============================] - 2s 2s/step - loss: 5066.8857 - mse: 5066.1201 - val_loss: 5245.3687 - val_mse: 5244.6055\n",
      "1/1 [==============================] - 2s 2s/step - loss: 5104.8999 - mse: 5104.1333 - val_loss: 5141.0439 - val_mse: 5140.2793\n",
      "1/1 [==============================] - 2s 2s/step - loss: 5096.9419 - mse: 5096.1758 - val_loss: 5141.0073 - val_mse: 5140.2432\n",
      "1/1 [==============================] - 2s 2s/step - loss: 5148.6782 - mse: 5147.9111 - val_loss: 5166.3984 - val_mse: 5165.6328\n",
      "1/1 [==============================] - 2s 2s/step - loss: 5125.9858 - mse: 5125.2202 - val_loss: 5138.0439 - val_mse: 5137.2803\n",
      "1/1 [==============================] - 2s 2s/step - loss: 5092.1611 - mse: 5091.3945 - val_loss: 5089.6426 - val_mse: 5088.8774\n",
      "1/1 [==============================] - 2s 2s/step - loss: 5128.8228 - mse: 5128.0562 - val_loss: 5102.3872 - val_mse: 5101.6221\n",
      "1/1 [==============================] - 2s 2s/step - loss: 5069.2822 - mse: 5068.5156 - val_loss: 5124.8174 - val_mse: 5124.0522\n",
      "1/1 [==============================] - 2s 2s/step - loss: 5108.5928 - mse: 5107.8257 - val_loss: 5163.8281 - val_mse: 5163.0625\n",
      "1/1 [==============================] - 2s 2s/step - loss: 5070.5859 - mse: 5069.8203 - val_loss: 5149.2441 - val_mse: 5148.4800\n",
      "1/1 [==============================] - 29s 29s/step - loss: 5126.6304 - mse: 5125.8613 - val_loss: 5150.9102 - val_mse: 5150.1431\n",
      "1/1 [==============================] - 3s 3s/step - loss: 5087.3955 - mse: 5086.6294 - val_loss: 5059.2188 - val_mse: 5058.4546\n",
      "1/1 [==============================] - 3s 3s/step - loss: 5150.3193 - mse: 5149.5537 - val_loss: 5162.7651 - val_mse: 5162.0010\n",
      "1/1 [==============================] - 3s 3s/step - loss: 5171.6880 - mse: 5170.9209 - val_loss: 5112.3682 - val_mse: 5111.6025\n",
      "1/1 [==============================] - 3s 3s/step - loss: 5203.1606 - mse: 5202.3911 - val_loss: 5193.8652 - val_mse: 5193.0972\n",
      "1/1 [==============================] - 3s 3s/step - loss: 5096.0034 - mse: 5095.2354 - val_loss: 5144.4683 - val_mse: 5143.7012\n",
      "1/1 [==============================] - 3s 3s/step - loss: 5135.6528 - mse: 5134.8848 - val_loss: 5078.6562 - val_mse: 5077.8896\n",
      "1/1 [==============================] - 3s 3s/step - loss: 5101.1572 - mse: 5100.3896 - val_loss: 5093.1938 - val_mse: 5092.4272\n",
      "1/1 [==============================] - 3s 3s/step - loss: 5136.4766 - mse: 5135.7090 - val_loss: 5139.1504 - val_mse: 5138.3838\n",
      "1/1 [==============================] - 3s 3s/step - loss: 5129.6108 - mse: 5128.8447 - val_loss: 5217.1362 - val_mse: 5216.3716\n",
      "1/1 [==============================] - 3s 3s/step - loss: 5117.2456 - mse: 5116.4819 - val_loss: 5096.6157 - val_mse: 5095.8530\n",
      "1/1 [==============================] - 3s 3s/step - loss: 5062.7563 - mse: 5061.9912 - val_loss: 5110.9380 - val_mse: 5110.1743\n",
      "1/1 [==============================] - 2s 2s/step - loss: 5115.4292 - mse: 5114.6602 - val_loss: 5263.5210 - val_mse: 5262.7529\n",
      "1/1 [==============================] - 3s 3s/step - loss: 5127.8721 - mse: 5127.1045 - val_loss: 5177.3438 - val_mse: 5176.5771\n",
      "1/1 [==============================] - 3s 3s/step - loss: 5106.4473 - mse: 5105.6826 - val_loss: 5106.8735 - val_mse: 5106.1099\n",
      "1/1 [==============================] - 3s 3s/step - loss: 5110.8779 - mse: 5110.1108 - val_loss: 5137.1357 - val_mse: 5136.3696\n",
      "1/1 [==============================] - 2s 2s/step - loss: 5173.2148 - mse: 5172.4521 - val_loss: 5126.6514 - val_mse: 5125.8896\n",
      "1/1 [==============================] - 2s 2s/step - loss: 5064.4302 - mse: 5063.6621 - val_loss: 5193.7021 - val_mse: 5192.9346\n",
      "1/1 [==============================] - 3s 3s/step - loss: 5104.1938 - mse: 5103.4263 - val_loss: 5066.7119 - val_mse: 5065.9453\n",
      "1/1 [==============================] - 3s 3s/step - loss: 5107.6396 - mse: 5106.8735 - val_loss: 5193.9307 - val_mse: 5193.1655\n",
      "1/1 [==============================] - 3s 3s/step - loss: 5177.5728 - mse: 5176.8086 - val_loss: 5149.3110 - val_mse: 5148.5479\n"
     ]
    },
    {
     "name": "stdout",
     "output_type": "stream",
     "text": [
      "1/1 [==============================] - 3s 3s/step - loss: 5096.9229 - mse: 5096.1572 - val_loss: 5103.8774 - val_mse: 5103.1123\n",
      "1/1 [==============================] - 3s 3s/step - loss: 5099.0259 - mse: 5098.2583 - val_loss: 5101.4028 - val_mse: 5100.6357\n",
      "1/1 [==============================] - 3s 3s/step - loss: 5087.6587 - mse: 5086.8911 - val_loss: 5133.6055 - val_mse: 5132.8384\n",
      "1/1 [==============================] - 3s 3s/step - loss: 5131.8818 - mse: 5131.1138 - val_loss: 5157.4102 - val_mse: 5156.6426\n",
      "1/1 [==============================] - 2s 2s/step - loss: 5163.5747 - mse: 5162.8101 - val_loss: 5158.0347 - val_mse: 5157.2710\n",
      "1/1 [==============================] - 2s 2s/step - loss: 5108.9180 - mse: 5108.1504 - val_loss: 5122.4814 - val_mse: 5121.7144\n",
      "1/1 [==============================] - 2s 2s/step - loss: 5099.1147 - mse: 5098.3501 - val_loss: 5189.4790 - val_mse: 5188.7148\n",
      "1/1 [==============================] - 2s 2s/step - loss: 5053.1099 - mse: 5052.3438 - val_loss: 5069.7212 - val_mse: 5068.9561\n",
      "1/1 [==============================] - 2s 2s/step - loss: 5159.4033 - mse: 5158.6382 - val_loss: 5149.0278 - val_mse: 5148.2632\n",
      "1/1 [==============================] - 2s 2s/step - loss: 5154.2202 - mse: 5153.4531 - val_loss: 5164.9336 - val_mse: 5164.1670\n",
      "1/1 [==============================] - 2s 2s/step - loss: 5075.3872 - mse: 5074.6201 - val_loss: 5205.4688 - val_mse: 5204.7021\n",
      "1/1 [==============================] - 2s 2s/step - loss: 5115.3955 - mse: 5114.6279 - val_loss: 5191.3213 - val_mse: 5190.5542\n",
      "1/1 [==============================] - 2s 2s/step - loss: 5143.0732 - mse: 5142.3081 - val_loss: 5216.6440 - val_mse: 5215.8789\n",
      "1/1 [==============================] - 2s 2s/step - loss: 5143.3652 - mse: 5142.5986 - val_loss: 5086.0234 - val_mse: 5085.2573\n",
      "1/1 [==============================] - 2s 2s/step - loss: 5070.3550 - mse: 5069.5884 - val_loss: 5137.5171 - val_mse: 5136.7510\n",
      "1/1 [==============================] - 2s 2s/step - loss: 5118.9482 - mse: 5118.1792 - val_loss: 5064.6392 - val_mse: 5063.8706\n",
      "1/1 [==============================] - 2s 2s/step - loss: 5111.3828 - mse: 5110.6162 - val_loss: 5169.9741 - val_mse: 5169.2080\n",
      "1/1 [==============================] - 2s 2s/step - loss: 5124.7529 - mse: 5123.9878 - val_loss: 5162.1108 - val_mse: 5161.3462\n",
      "1/1 [==============================] - 2s 2s/step - loss: 5073.4019 - mse: 5072.6392 - val_loss: 5106.1772 - val_mse: 5105.4150\n",
      "1/1 [==============================] - 2s 2s/step - loss: 5138.5239 - mse: 5137.7529 - val_loss: 5167.2681 - val_mse: 5166.4976\n",
      "1/1 [==============================] - 2s 2s/step - loss: 5107.5986 - mse: 5106.8330 - val_loss: 5185.6030 - val_mse: 5184.8374\n",
      "1/1 [==============================] - 3s 3s/step - loss: 5147.0459 - mse: 5146.2759 - val_loss: 5182.9893 - val_mse: 5182.2197\n",
      "1/1 [==============================] - 3s 3s/step - loss: 5134.0205 - mse: 5133.2563 - val_loss: 5165.1016 - val_mse: 5164.3379\n",
      "1/1 [==============================] - 3s 3s/step - loss: 5124.9478 - mse: 5124.1782 - val_loss: 5123.3721 - val_mse: 5122.6030\n",
      "1/1 [==============================] - 3s 3s/step - loss: 5043.3135 - mse: 5042.5488 - val_loss: 5172.8853 - val_mse: 5172.1211\n",
      "1/1 [==============================] - 3s 3s/step - loss: 5084.6216 - mse: 5083.8540 - val_loss: 5132.3438 - val_mse: 5131.5767\n",
      "1/1 [==============================] - 2s 2s/step - loss: 5172.2744 - mse: 5171.5068 - val_loss: 5159.6226 - val_mse: 5158.8550\n",
      "1/1 [==============================] - 3s 3s/step - loss: 5069.9331 - mse: 5069.1621 - val_loss: 5175.3442 - val_mse: 5174.5737\n",
      "1/1 [==============================] - 3s 3s/step - loss: 5094.6743 - mse: 5093.9102 - val_loss: 5049.2881 - val_mse: 5048.5239\n",
      "1/1 [==============================] - 3s 3s/step - loss: 5102.9932 - mse: 5102.2266 - val_loss: 5209.2593 - val_mse: 5208.4932\n",
      "1/1 [==============================] - 2s 2s/step - loss: 5060.8257 - mse: 5060.0596 - val_loss: 5141.1099 - val_mse: 5140.3438\n",
      "1/1 [==============================] - 2s 2s/step - loss: 5126.2568 - mse: 5125.4917 - val_loss: 5147.2114 - val_mse: 5146.4458\n",
      "1/1 [==============================] - 3s 3s/step - loss: 5151.0527 - mse: 5150.2861 - val_loss: 5085.9922 - val_mse: 5085.2256\n",
      "1/1 [==============================] - 3s 3s/step - loss: 5123.5083 - mse: 5122.7412 - val_loss: 5110.0376 - val_mse: 5109.2705\n",
      "1/1 [==============================] - 3s 3s/step - loss: 5119.3564 - mse: 5118.5908 - val_loss: 5017.5239 - val_mse: 5016.7588\n",
      "1/1 [==============================] - 0s 62ms/step\n",
      "1/1 [==============================] - 0s 63ms/step\n"
     ]
    },
    {
     "name": "stderr",
     "output_type": "stream",
     "text": [
      "\r\n",
      "  0%|                                                                                           | 0/10 [00:00<?, ?it/s]"
     ]
    },
    {
     "name": "stdout",
     "output_type": "stream",
     "text": [
      "18/18 [==============================] - 2s 81ms/step\n"
     ]
    },
    {
     "name": "stderr",
     "output_type": "stream",
     "text": [
      "\r\n",
      " 10%|████████▎                                                                          | 1/10 [00:16<02:32, 16.96s/it]"
     ]
    },
    {
     "name": "stdout",
     "output_type": "stream",
     "text": [
      "18/18 [==============================] - 2s 82ms/step\n"
     ]
    },
    {
     "name": "stderr",
     "output_type": "stream",
     "text": [
      "\r\n",
      " 20%|████████████████▌                                                                  | 2/10 [00:34<02:18, 17.34s/it]"
     ]
    },
    {
     "name": "stdout",
     "output_type": "stream",
     "text": [
      "18/18 [==============================] - 1s 71ms/step\n"
     ]
    },
    {
     "name": "stderr",
     "output_type": "stream",
     "text": [
      "\r\n",
      " 30%|████████████████████████▉                                                          | 3/10 [00:49<01:52, 16.09s/it]"
     ]
    },
    {
     "name": "stdout",
     "output_type": "stream",
     "text": [
      "18/18 [==============================] - 1s 68ms/step\n"
     ]
    },
    {
     "name": "stderr",
     "output_type": "stream",
     "text": [
      "\r\n",
      " 40%|█████████████████████████████████▏                                                 | 4/10 [01:04<01:34, 15.71s/it]"
     ]
    },
    {
     "name": "stdout",
     "output_type": "stream",
     "text": [
      "18/18 [==============================] - 2s 84ms/step\n"
     ]
    },
    {
     "name": "stderr",
     "output_type": "stream",
     "text": [
      "\r\n",
      " 50%|█████████████████████████████████████████▌                                         | 5/10 [01:20<01:19, 15.96s/it]"
     ]
    },
    {
     "name": "stdout",
     "output_type": "stream",
     "text": [
      "18/18 [==============================] - 1s 81ms/step\n"
     ]
    },
    {
     "name": "stderr",
     "output_type": "stream",
     "text": [
      "\r\n",
      " 60%|█████████████████████████████████████████████████▊                                 | 6/10 [01:38<01:05, 16.47s/it]"
     ]
    },
    {
     "name": "stdout",
     "output_type": "stream",
     "text": [
      "18/18 [==============================] - 2s 81ms/step\n"
     ]
    },
    {
     "name": "stderr",
     "output_type": "stream",
     "text": [
      "\r\n",
      " 70%|██████████████████████████████████████████████████████████                         | 7/10 [01:55<00:50, 16.68s/it]"
     ]
    },
    {
     "name": "stdout",
     "output_type": "stream",
     "text": [
      "18/18 [==============================] - 2s 83ms/step\n"
     ]
    },
    {
     "name": "stderr",
     "output_type": "stream",
     "text": [
      "\r\n",
      " 80%|██████████████████████████████████████████████████████████████████▍                | 8/10 [02:12<00:33, 16.92s/it]"
     ]
    },
    {
     "name": "stdout",
     "output_type": "stream",
     "text": [
      "18/18 [==============================] - 2s 85ms/step\n"
     ]
    },
    {
     "name": "stderr",
     "output_type": "stream",
     "text": [
      "\r\n",
      " 90%|██████████████████████████████████████████████████████████████████████████▋        | 9/10 [02:30<00:17, 17.12s/it]"
     ]
    },
    {
     "name": "stdout",
     "output_type": "stream",
     "text": [
      "18/18 [==============================] - 1s 71ms/step\n"
     ]
    },
    {
     "name": "stderr",
     "output_type": "stream",
     "text": [
      "100%|██████████████████████████████████████████████████████████████████████████████████| 10/10 [02:45<00:00, 16.54s/it]\n",
      "100%|██████████████████████████████████████████████████████████████████████████████████| 10/10 [05:07<00:00, 30.71s/it]\n"
     ]
    },
    {
     "name": "stdout",
     "output_type": "stream",
     "text": [
      "L2X OK !!\n",
      "(10, 40, 14) (10, 1)\n",
      "157/157 [==============================] - 14s 89ms/step\n",
      "157/157 [==============================] - 13s 81ms/step\n",
      "157/157 [==============================] - 12s 77ms/step\n",
      "157/157 [==============================] - 14s 89ms/step\n",
      "157/157 [==============================] - 14s 89ms/step\n",
      "157/157 [==============================] - 14s 91ms/step\n",
      "157/157 [==============================] - 13s 82ms/step\n",
      "157/157 [==============================] - 12s 78ms/step\n",
      "157/157 [==============================] - 14s 90ms/step\n",
      "157/157 [==============================] - 14s 89ms/step\n",
      "157/157 [==============================] - 14s 89ms/step\n",
      "157/157 [==============================] - 13s 83ms/step\n",
      "157/157 [==============================] - 12s 78ms/step\n",
      "157/157 [==============================] - 14s 90ms/step\n",
      "157/157 [==============================] - 14s 89ms/step\n",
      "157/157 [==============================] - 14s 90ms/step\n",
      "157/157 [==============================] - 13s 83ms/step\n",
      "157/157 [==============================] - 12s 77ms/step\n",
      "157/157 [==============================] - 14s 90ms/step\n",
      "157/157 [==============================] - 14s 91ms/step\n",
      "1/1 [==============================] - 0s 107ms/step\n",
      "1/1 [==============================] - 0s 63ms/step\n"
     ]
    },
    {
     "name": "stderr",
     "output_type": "stream",
     "text": [
      "\r\n",
      "  0%|                                                                                           | 0/10 [00:00<?, ?it/s]"
     ]
    },
    {
     "name": "stdout",
     "output_type": "stream",
     "text": [
      "157/157 [==============================] - 14s 91ms/step\n",
      "18/18 [==============================] - 2s 91ms/step\n"
     ]
    },
    {
     "name": "stderr",
     "output_type": "stream",
     "text": [
      "\r\n",
      " 10%|████████▎                                                                          | 1/10 [00:27<04:07, 27.49s/it]"
     ]
    },
    {
     "name": "stdout",
     "output_type": "stream",
     "text": [
      "157/157 [==============================] - 13s 80ms/step\n",
      "18/18 [==============================] - 1s 78ms/step\n"
     ]
    },
    {
     "name": "stderr",
     "output_type": "stream",
     "text": [
      "\r\n",
      " 20%|████████████████▌                                                                  | 2/10 [00:53<03:32, 26.50s/it]"
     ]
    },
    {
     "name": "stdout",
     "output_type": "stream",
     "text": [
      "157/157 [==============================] - 12s 76ms/step\n",
      "18/18 [==============================] - 1s 74ms/step\n"
     ]
    },
    {
     "name": "stderr",
     "output_type": "stream",
     "text": [
      "\r\n",
      " 30%|████████████████████████▉                                                          | 3/10 [01:14<02:49, 24.28s/it]"
     ]
    },
    {
     "name": "stdout",
     "output_type": "stream",
     "text": [
      "157/157 [==============================] - 14s 88ms/step\n",
      "18/18 [==============================] - 2s 85ms/step\n"
     ]
    },
    {
     "name": "stderr",
     "output_type": "stream",
     "text": [
      "\r\n",
      " 40%|█████████████████████████████████▏                                                 | 4/10 [01:40<02:27, 24.64s/it]"
     ]
    },
    {
     "name": "stdout",
     "output_type": "stream",
     "text": [
      "157/157 [==============================] - 14s 89ms/step\n",
      "18/18 [==============================] - 2s 87ms/step\n"
     ]
    },
    {
     "name": "stderr",
     "output_type": "stream",
     "text": [
      "\r\n",
      " 50%|█████████████████████████████████████████▌                                         | 5/10 [02:07<02:07, 25.59s/it]"
     ]
    },
    {
     "name": "stdout",
     "output_type": "stream",
     "text": [
      "157/157 [==============================] - 14s 90ms/step\n",
      "18/18 [==============================] - 2s 91ms/step\n"
     ]
    },
    {
     "name": "stderr",
     "output_type": "stream",
     "text": [
      "\r\n",
      " 60%|█████████████████████████████████████████████████▊                                 | 6/10 [02:34<01:45, 26.25s/it]"
     ]
    },
    {
     "name": "stdout",
     "output_type": "stream",
     "text": [
      "157/157 [==============================] - 12s 77ms/step\n",
      "18/18 [==============================] - 1s 77ms/step\n"
     ]
    },
    {
     "name": "stderr",
     "output_type": "stream",
     "text": [
      "\r\n",
      " 70%|██████████████████████████████████████████████████████████                         | 7/10 [02:59<01:17, 25.67s/it]"
     ]
    },
    {
     "name": "stdout",
     "output_type": "stream",
     "text": [
      "157/157 [==============================] - 12s 77ms/step\n",
      "18/18 [==============================] - 2s 87ms/step\n"
     ]
    },
    {
     "name": "stderr",
     "output_type": "stream",
     "text": [
      "\r\n",
      " 80%|██████████████████████████████████████████████████████████████████▍                | 8/10 [03:21<00:48, 24.48s/it]"
     ]
    },
    {
     "name": "stdout",
     "output_type": "stream",
     "text": [
      "157/157 [==============================] - 14s 90ms/step\n",
      "18/18 [==============================] - 2s 93ms/step\n"
     ]
    },
    {
     "name": "stderr",
     "output_type": "stream",
     "text": [
      "\r\n",
      " 90%|██████████████████████████████████████████████████████████████████████████▋        | 9/10 [03:48<00:25, 25.41s/it]"
     ]
    },
    {
     "name": "stdout",
     "output_type": "stream",
     "text": [
      "157/157 [==============================] - 14s 90ms/step\n",
      "18/18 [==============================] - 2s 91ms/step\n"
     ]
    },
    {
     "name": "stderr",
     "output_type": "stream",
     "text": [
      "100%|██████████████████████████████████████████████████████████████████████████████████| 10/10 [04:16<00:00, 25.61s/it]\n",
      "  0%|                                                                                           | 0/10 [00:00<?, ?it/s]"
     ]
    },
    {
     "name": "stdout",
     "output_type": "stream",
     "text": [
      "157/157 [==============================] - 14s 88ms/step\n",
      "157/157 [==============================] - 12s 77ms/step\n"
     ]
    },
    {
     "name": "stderr",
     "output_type": "stream",
     "text": [
      "\r\n",
      " 10%|████████▎                                                                          | 1/10 [00:46<06:56, 46.23s/it]"
     ]
    },
    {
     "name": "stdout",
     "output_type": "stream",
     "text": [
      "157/157 [==============================] - 12s 79ms/step\n",
      "157/157 [==============================] - 14s 88ms/step\n"
     ]
    },
    {
     "name": "stderr",
     "output_type": "stream",
     "text": [
      "\r\n",
      " 20%|████████████████▌                                                                  | 2/10 [01:31<06:07, 45.91s/it]"
     ]
    },
    {
     "name": "stdout",
     "output_type": "stream",
     "text": [
      "157/157 [==============================] - 14s 88ms/step\n",
      "157/157 [==============================] - 13s 82ms/step\n"
     ]
    },
    {
     "name": "stderr",
     "output_type": "stream",
     "text": [
      "\r\n",
      " 30%|████████████████████████▉                                                          | 3/10 [02:17<05:21, 45.97s/it]"
     ]
    },
    {
     "name": "stdout",
     "output_type": "stream",
     "text": [
      "157/157 [==============================] - 12s 77ms/step\n",
      "157/157 [==============================] - 12s 76ms/step\n"
     ]
    },
    {
     "name": "stderr",
     "output_type": "stream",
     "text": [
      "\r\n",
      " 40%|█████████████████████████████████▏                                                 | 4/10 [03:01<04:29, 44.89s/it]"
     ]
    },
    {
     "name": "stdout",
     "output_type": "stream",
     "text": [
      "157/157 [==============================] - 14s 90ms/step\n",
      "157/157 [==============================] - 14s 90ms/step\n"
     ]
    },
    {
     "name": "stderr",
     "output_type": "stream",
     "text": [
      "\r\n",
      " 50%|█████████████████████████████████████████▌                                         | 5/10 [03:51<03:54, 46.96s/it]"
     ]
    },
    {
     "name": "stdout",
     "output_type": "stream",
     "text": [
      "157/157 [==============================] - 12s 79ms/step\n",
      "157/157 [==============================] - 12s 75ms/step\n"
     ]
    },
    {
     "name": "stderr",
     "output_type": "stream",
     "text": [
      "\r\n",
      " 60%|█████████████████████████████████████████████████▊                                 | 6/10 [04:35<03:02, 45.69s/it]"
     ]
    },
    {
     "name": "stdout",
     "output_type": "stream",
     "text": [
      "157/157 [==============================] - 11s 72ms/step\n",
      "157/157 [==============================] - 13s 80ms/step\n"
     ]
    },
    {
     "name": "stderr",
     "output_type": "stream",
     "text": [
      "\r\n",
      " 70%|██████████████████████████████████████████████████████████                         | 7/10 [05:12<02:08, 42.98s/it]"
     ]
    },
    {
     "name": "stdout",
     "output_type": "stream",
     "text": [
      "157/157 [==============================] - 13s 80ms/step\n",
      "157/157 [==============================] - 13s 81ms/step\n"
     ]
    },
    {
     "name": "stderr",
     "output_type": "stream",
     "text": [
      "\r\n",
      " 80%|██████████████████████████████████████████████████████████████████▍                | 8/10 [05:53<01:24, 42.23s/it]"
     ]
    },
    {
     "name": "stdout",
     "output_type": "stream",
     "text": [
      "157/157 [==============================] - 13s 82ms/step\n",
      "157/157 [==============================] - 12s 76ms/step\n"
     ]
    },
    {
     "name": "stderr",
     "output_type": "stream",
     "text": [
      "\r\n",
      " 90%|██████████████████████████████████████████████████████████████████████████▋        | 9/10 [06:32<00:41, 41.43s/it]"
     ]
    },
    {
     "name": "stdout",
     "output_type": "stream",
     "text": [
      "157/157 [==============================] - 11s 73ms/step\n",
      "157/157 [==============================] - 12s 77ms/step\n"
     ]
    },
    {
     "name": "stderr",
     "output_type": "stream",
     "text": [
      "100%|██████████████████████████████████████████████████████████████████████████████████| 10/10 [07:10<00:00, 43.04s/it]"
     ]
    },
    {
     "name": "stdout",
     "output_type": "stream",
     "text": [
      "Lime OK!!\n",
      "1/1 [==============================] - 0s 17ms/step\n"
     ]
    },
    {
     "name": "stderr",
     "output_type": "stream",
     "text": [
      "\n"
     ]
    },
    {
     "name": "stdout",
     "output_type": "stream",
     "text": [
      "8/8 [==============================] - 1s 161ms/step\n",
      "1/1 [==============================] - 0s 16ms/step\n",
      "8/8 [==============================] - 1s 153ms/step\n",
      "1/1 [==============================] - 0s 31ms/step\n",
      "8/8 [==============================] - 1s 158ms/step\n",
      "1/1 [==============================] - 0s 32ms/step\n",
      "8/8 [==============================] - 1s 162ms/step\n",
      "1/1 [==============================] - 0s 31ms/step\n",
      "8/8 [==============================] - 1s 158ms/step\n",
      "1/1 [==============================] - 0s 16ms/step\n",
      "8/8 [==============================] - 1s 158ms/step\n",
      "1/1 [==============================] - 0s 31ms/step\n",
      "8/8 [==============================] - 1s 176ms/step\n",
      "1/1 [==============================] - 0s 16ms/step\n",
      "8/8 [==============================] - 1s 164ms/step\n",
      "1/1 [==============================] - 0s 32ms/step\n",
      "8/8 [==============================] - 1s 155ms/step\n",
      "1/1 [==============================] - 0s 31ms/step\n",
      "8/8 [==============================] - 1s 163ms/step\n",
      "1/1 [==============================] - 0s 28ms/step\n",
      "8/8 [==============================] - 1s 163ms/step\n",
      "1/1 [==============================] - 0s 31ms/step\n",
      "8/8 [==============================] - 1s 158ms/step\n",
      "1/1 [==============================] - 0s 24ms/step\n",
      "8/8 [==============================] - 1s 164ms/step\n",
      "1/1 [==============================] - 0s 16ms/step\n",
      "8/8 [==============================] - 1s 162ms/step\n",
      "1/1 [==============================] - 0s 16ms/step\n",
      "8/8 [==============================] - 1s 174ms/step\n",
      "1/1 [==============================] - 0s 31ms/step\n",
      "8/8 [==============================] - 1s 163ms/step\n",
      "1/1 [==============================] - 0s 16ms/step\n",
      "8/8 [==============================] - 1s 163ms/step\n",
      "1/1 [==============================] - 0s 16ms/step\n",
      "8/8 [==============================] - 1s 171ms/step\n",
      "1/1 [==============================] - 0s 32ms/step\n",
      "8/8 [==============================] - 1s 159ms/step\n",
      "1/1 [==============================] - 0s 32ms/step\n",
      "8/8 [==============================] - 1s 168ms/step\n",
      "1/1 [==============================] - 0s 16ms/step\n",
      "8/8 [==============================] - 1s 162ms/step\n",
      "1/1 [==============================] - 0s 31ms/step\n",
      "8/8 [==============================] - 1s 165ms/step\n",
      "1/1 [==============================] - 0s 16ms/step\n",
      "8/8 [==============================] - 1s 160ms/step\n",
      "1/1 [==============================] - 0s 31ms/step\n",
      "8/8 [==============================] - 1s 160ms/step\n",
      "1/1 [==============================] - 0s 31ms/step\n",
      "8/8 [==============================] - 1s 159ms/step\n",
      "1/1 [==============================] - 0s 31ms/step\n",
      "8/8 [==============================] - 1s 156ms/step\n",
      "1/1 [==============================] - 0s 30ms/step\n",
      "8/8 [==============================] - 1s 156ms/step\n",
      "1/1 [==============================] - 0s 31ms/step\n",
      "8/8 [==============================] - 1s 168ms/step\n",
      "1/1 [==============================] - 0s 47ms/step\n",
      "8/8 [==============================] - 1s 168ms/step\n",
      "1/1 [==============================] - 0s 31ms/step\n",
      "8/8 [==============================] - 1s 166ms/step\n",
      "1/1 [==============================] - 0s 16ms/step\n",
      "8/8 [==============================] - 1s 158ms/step\n",
      "1/1 [==============================] - 0s 79ms/step\n",
      "1/1 [==============================] - 0s 95ms/step\n"
     ]
    },
    {
     "name": "stderr",
     "output_type": "stream",
     "text": [
      "\r\n",
      "  0%|                                                                                           | 0/10 [00:00<?, ?it/s]"
     ]
    },
    {
     "name": "stdout",
     "output_type": "stream",
     "text": [
      "1/1 [==============================] - 0s 20ms/step\n",
      "8/8 [==============================] - 1s 169ms/step\n",
      "1/1 [==============================] - 0s 31ms/step\n",
      "8/8 [==============================] - 1s 164ms/step\n",
      "18/18 [==============================] - 1s 81ms/step\n"
     ]
    },
    {
     "name": "stderr",
     "output_type": "stream",
     "text": [
      "\r\n",
      " 10%|████████▎                                                                          | 1/10 [00:04<00:43,  4.79s/it]"
     ]
    },
    {
     "name": "stdout",
     "output_type": "stream",
     "text": [
      "1/1 [==============================] - 0s 9ms/step\n",
      "8/8 [==============================] - 1s 177ms/step\n",
      "1/1 [==============================] - 0s 33ms/step\n",
      "8/8 [==============================] - 1s 167ms/step\n",
      "18/18 [==============================] - 1s 81ms/step\n"
     ]
    },
    {
     "name": "stderr",
     "output_type": "stream",
     "text": [
      "\r\n",
      " 20%|████████████████▌                                                                  | 2/10 [00:09<00:38,  4.82s/it]"
     ]
    },
    {
     "name": "stdout",
     "output_type": "stream",
     "text": [
      "1/1 [==============================] - 0s 31ms/step\n",
      "8/8 [==============================] - 1s 159ms/step\n",
      "1/1 [==============================] - 0s 31ms/step\n",
      "8/8 [==============================] - 1s 166ms/step\n",
      "18/18 [==============================] - 1s 80ms/step\n"
     ]
    },
    {
     "name": "stderr",
     "output_type": "stream",
     "text": [
      "\r\n",
      " 30%|████████████████████████▉                                                          | 3/10 [00:14<00:33,  4.74s/it]"
     ]
    },
    {
     "name": "stdout",
     "output_type": "stream",
     "text": [
      "1/1 [==============================] - 0s 20ms/step\n",
      "8/8 [==============================] - 1s 162ms/step\n",
      "1/1 [==============================] - 0s 16ms/step\n",
      "8/8 [==============================] - 1s 160ms/step\n",
      "18/18 [==============================] - 1s 79ms/step\n"
     ]
    },
    {
     "name": "stderr",
     "output_type": "stream",
     "text": [
      "\r\n",
      " 40%|█████████████████████████████████▏                                                 | 4/10 [00:19<00:28,  4.74s/it]"
     ]
    },
    {
     "name": "stdout",
     "output_type": "stream",
     "text": [
      "1/1 [==============================] - 0s 20ms/step\n",
      "8/8 [==============================] - 1s 173ms/step\n",
      "1/1 [==============================] - 0s 16ms/step\n",
      "8/8 [==============================] - 1s 170ms/step\n",
      "18/18 [==============================] - 1s 79ms/step\n"
     ]
    },
    {
     "name": "stderr",
     "output_type": "stream",
     "text": [
      "\r\n",
      " 50%|█████████████████████████████████████████▌                                         | 5/10 [00:23<00:23,  4.75s/it]"
     ]
    },
    {
     "name": "stdout",
     "output_type": "stream",
     "text": [
      "1/1 [==============================] - 0s 25ms/step\n",
      "8/8 [==============================] - 1s 164ms/step\n",
      "1/1 [==============================] - 0s 47ms/step\n",
      "8/8 [==============================] - 1s 161ms/step\n",
      "18/18 [==============================] - 1s 78ms/step\n"
     ]
    },
    {
     "name": "stderr",
     "output_type": "stream",
     "text": [
      "\r\n",
      " 60%|█████████████████████████████████████████████████▊                                 | 6/10 [00:28<00:18,  4.73s/it]"
     ]
    },
    {
     "name": "stdout",
     "output_type": "stream",
     "text": [
      "1/1 [==============================] - 0s 16ms/step\n",
      "8/8 [==============================] - 1s 141ms/step\n",
      "1/1 [==============================] - 0s 33ms/step\n",
      "8/8 [==============================] - 1s 143ms/step\n",
      "18/18 [==============================] - 1s 72ms/step\n"
     ]
    },
    {
     "name": "stderr",
     "output_type": "stream",
     "text": [
      "\r\n",
      " 70%|██████████████████████████████████████████████████████████                         | 7/10 [00:32<00:13,  4.56s/it]"
     ]
    },
    {
     "name": "stdout",
     "output_type": "stream",
     "text": [
      "1/1 [==============================] - 0s 26ms/step\n",
      "8/8 [==============================] - 1s 148ms/step\n",
      "1/1 [==============================] - 0s 31ms/step\n",
      "8/8 [==============================] - 1s 144ms/step\n",
      "18/18 [==============================] - 1s 71ms/step\n"
     ]
    },
    {
     "name": "stderr",
     "output_type": "stream",
     "text": [
      "\r\n",
      " 80%|██████████████████████████████████████████████████████████████████▍                | 8/10 [00:36<00:08,  4.47s/it]"
     ]
    },
    {
     "name": "stdout",
     "output_type": "stream",
     "text": [
      "1/1 [==============================] - 0s 16ms/step\n",
      "8/8 [==============================] - 1s 145ms/step\n",
      "1/1 [==============================] - 0s 16ms/step\n",
      "8/8 [==============================] - 1s 143ms/step\n",
      "18/18 [==============================] - 1s 76ms/step\n"
     ]
    },
    {
     "name": "stderr",
     "output_type": "stream",
     "text": [
      "\r\n",
      " 90%|██████████████████████████████████████████████████████████████████████████▋        | 9/10 [00:41<00:04,  4.42s/it]"
     ]
    },
    {
     "name": "stdout",
     "output_type": "stream",
     "text": [
      "1/1 [==============================] - 0s 5ms/step\n",
      "8/8 [==============================] - 1s 148ms/step\n",
      "1/1 [==============================] - 0s 17ms/step\n",
      "8/8 [==============================] - 1s 147ms/step\n",
      "18/18 [==============================] - 1s 72ms/step\n"
     ]
    },
    {
     "name": "stderr",
     "output_type": "stream",
     "text": [
      "100%|██████████████████████████████████████████████████████████████████████████████████| 10/10 [00:45<00:00,  4.56s/it]\n",
      "  0%|                                                                                           | 0/10 [00:00<?, ?it/s]"
     ]
    },
    {
     "name": "stdout",
     "output_type": "stream",
     "text": [
      "1/1 [==============================] - 0s 32ms/step\n",
      "8/8 [==============================] - 1s 144ms/step\n",
      "1/1 [==============================] - 0s 32ms/step\n",
      "8/8 [==============================] - 1s 141ms/step\n",
      "1/1 [==============================] - 0s 33ms/step\n",
      "8/8 [==============================] - 1s 145ms/step\n",
      "1/1 [==============================] - 0s 31ms/step\n",
      "8/8 [==============================] - 1s 149ms/step\n"
     ]
    },
    {
     "name": "stderr",
     "output_type": "stream",
     "text": [
      "\r\n",
      " 10%|████████▎                                                                          | 1/10 [00:05<00:52,  5.83s/it]"
     ]
    },
    {
     "name": "stdout",
     "output_type": "stream",
     "text": [
      "1/1 [==============================] - 0s 16ms/step\n",
      "8/8 [==============================] - 1s 143ms/step\n",
      "1/1 [==============================] - 0s 29ms/step\n",
      "8/8 [==============================] - 1s 139ms/step\n",
      "1/1 [==============================] - 0s 31ms/step\n",
      "8/8 [==============================] - 1s 148ms/step\n",
      "1/1 [==============================] - 0s 23ms/step\n",
      "8/8 [==============================] - 1s 147ms/step\n"
     ]
    },
    {
     "name": "stderr",
     "output_type": "stream",
     "text": [
      "\r\n",
      " 20%|████████████████▌                                                                  | 2/10 [00:11<00:46,  5.79s/it]"
     ]
    },
    {
     "name": "stdout",
     "output_type": "stream",
     "text": [
      "1/1 [==============================] - 0s 16ms/step\n",
      "8/8 [==============================] - 1s 149ms/step\n",
      "1/1 [==============================] - 0s 32ms/step\n",
      "8/8 [==============================] - 1s 159ms/step\n",
      "1/1 [==============================] - 0s 16ms/step\n",
      "8/8 [==============================] - 1s 174ms/step\n",
      "1/1 [==============================] - 0s 31ms/step\n",
      "8/8 [==============================] - 1s 154ms/step\n"
     ]
    },
    {
     "name": "stderr",
     "output_type": "stream",
     "text": [
      "\r\n",
      " 30%|████████████████████████▉                                                          | 3/10 [00:17<00:41,  5.93s/it]"
     ]
    },
    {
     "name": "stdout",
     "output_type": "stream",
     "text": [
      "1/1 [==============================] - 0s 34ms/step\n",
      "8/8 [==============================] - 1s 173ms/step\n",
      "1/1 [==============================] - 0s 16ms/step\n",
      "8/8 [==============================] - 1s 161ms/step\n",
      "1/1 [==============================] - 0s 16ms/step\n",
      "8/8 [==============================] - 1s 160ms/step\n",
      "1/1 [==============================] - 0s 31ms/step\n",
      "8/8 [==============================] - 1s 168ms/step\n"
     ]
    },
    {
     "name": "stderr",
     "output_type": "stream",
     "text": [
      "\r\n",
      " 40%|█████████████████████████████████▏                                                 | 4/10 [00:24<00:36,  6.15s/it]"
     ]
    },
    {
     "name": "stdout",
     "output_type": "stream",
     "text": [
      "1/1 [==============================] - 0s 10ms/step\n",
      "8/8 [==============================] - 1s 174ms/step\n",
      "1/1 [==============================] - 0s 24ms/step\n",
      "8/8 [==============================] - 1s 165ms/step\n",
      "1/1 [==============================] - 0s 16ms/step\n",
      "8/8 [==============================] - 1s 159ms/step\n",
      "1/1 [==============================] - 0s 47ms/step\n",
      "8/8 [==============================] - 1s 161ms/step\n"
     ]
    },
    {
     "name": "stderr",
     "output_type": "stream",
     "text": [
      "\r\n",
      " 50%|█████████████████████████████████████████▌                                         | 5/10 [00:30<00:31,  6.28s/it]"
     ]
    },
    {
     "name": "stdout",
     "output_type": "stream",
     "text": [
      "1/1 [==============================] - 0s 16ms/step\n",
      "8/8 [==============================] - 1s 174ms/step\n",
      "1/1 [==============================] - 0s 31ms/step\n",
      "8/8 [==============================] - 1s 165ms/step\n",
      "1/1 [==============================] - 0s 31ms/step\n",
      "8/8 [==============================] - 1s 165ms/step\n",
      "1/1 [==============================] - 0s 32ms/step\n",
      "8/8 [==============================] - 1s 174ms/step\n"
     ]
    },
    {
     "name": "stderr",
     "output_type": "stream",
     "text": [
      "\r\n",
      " 60%|█████████████████████████████████████████████████▊                                 | 6/10 [00:37<00:25,  6.41s/it]"
     ]
    },
    {
     "name": "stdout",
     "output_type": "stream",
     "text": [
      "1/1 [==============================] - 0s 26ms/step\n",
      "8/8 [==============================] - 1s 167ms/step\n",
      "1/1 [==============================] - 0s 16ms/step\n",
      "8/8 [==============================] - 2s 182ms/step\n",
      "1/1 [==============================] - 0s 32ms/step\n",
      "8/8 [==============================] - 1s 155ms/step\n",
      "1/1 [==============================] - 0s 31ms/step\n",
      "8/8 [==============================] - 1s 168ms/step\n"
     ]
    },
    {
     "name": "stderr",
     "output_type": "stream",
     "text": [
      "\r\n",
      " 70%|██████████████████████████████████████████████████████████                         | 7/10 [00:43<00:19,  6.46s/it]"
     ]
    },
    {
     "name": "stdout",
     "output_type": "stream",
     "text": [
      "1/1 [==============================] - 0s 16ms/step\n",
      "8/8 [==============================] - 1s 167ms/step\n",
      "1/1 [==============================] - 0s 37ms/step\n",
      "8/8 [==============================] - 1s 166ms/step\n",
      "1/1 [==============================] - 0s 31ms/step\n",
      "8/8 [==============================] - 1s 160ms/step\n",
      "1/1 [==============================] - 0s 31ms/step\n",
      "8/8 [==============================] - 1s 183ms/step\n"
     ]
    },
    {
     "name": "stderr",
     "output_type": "stream",
     "text": [
      "\r\n",
      " 80%|██████████████████████████████████████████████████████████████████▍                | 8/10 [00:50<00:12,  6.49s/it]"
     ]
    },
    {
     "name": "stdout",
     "output_type": "stream",
     "text": [
      "1/1 [==============================] - 0s 16ms/step\n",
      "8/8 [==============================] - 1s 154ms/step\n",
      "1/1 [==============================] - 0s 47ms/step\n",
      "8/8 [==============================] - 1s 164ms/step\n",
      "1/1 [==============================] - 0s 32ms/step\n",
      "8/8 [==============================] - 1s 157ms/step\n",
      "1/1 [==============================] - 0s 16ms/step\n",
      "8/8 [==============================] - 1s 171ms/step\n"
     ]
    },
    {
     "name": "stderr",
     "output_type": "stream",
     "text": [
      "\r\n",
      " 90%|██████████████████████████████████████████████████████████████████████████▋        | 9/10 [00:56<00:06,  6.44s/it]"
     ]
    },
    {
     "name": "stdout",
     "output_type": "stream",
     "text": [
      "1/1 [==============================] - 0s 16ms/step\n",
      "8/8 [==============================] - 1s 159ms/step\n",
      "1/1 [==============================] - 0s 31ms/step\n",
      "8/8 [==============================] - 1s 162ms/step\n",
      "1/1 [==============================] - 0s 16ms/step\n",
      "8/8 [==============================] - 1s 181ms/step\n",
      "1/1 [==============================] - 0s 47ms/step\n",
      "8/8 [==============================] - 1s 150ms/step\n"
     ]
    },
    {
     "name": "stderr",
     "output_type": "stream",
     "text": [
      "100%|██████████████████████████████████████████████████████████████████████████████████| 10/10 [01:03<00:00,  6.31s/it]"
     ]
    },
    {
     "name": "stdout",
     "output_type": "stream",
     "text": [
      "shap OK !!\n",
      "1/1 [==============================] - 0s 60ms/step\n"
     ]
    },
    {
     "name": "stderr",
     "output_type": "stream",
     "text": [
      "\n"
     ]
    },
    {
     "name": "stdout",
     "output_type": "stream",
     "text": [
      "1/1 [==============================] - 1s 1s/step - loss: 4401.6509 - mse: 4400.8848 - val_loss: 4319.5376 - val_mse: 4318.7803\n",
      "1/1 [==============================] - 2s 2s/step - loss: 4354.2686 - mse: 4353.5029 - val_loss: 4371.5747 - val_mse: 4370.8179\n",
      "1/1 [==============================] - 1s 1s/step - loss: 4414.9238 - mse: 4414.1567 - val_loss: 4426.1333 - val_mse: 4425.3745\n",
      "1/1 [==============================] - 1s 1s/step - loss: 4371.2153 - mse: 4370.4473 - val_loss: 4515.7642 - val_mse: 4515.0039\n",
      "1/1 [==============================] - 1s 1s/step - loss: 4354.4067 - mse: 4353.6396 - val_loss: 4381.7041 - val_mse: 4380.9443\n",
      "1/1 [==============================] - 1s 1s/step - loss: 4315.5811 - mse: 4314.8125 - val_loss: 4186.3433 - val_mse: 4185.5825\n",
      "1/1 [==============================] - 1s 1s/step - loss: 4339.3765 - mse: 4338.6050 - val_loss: 4442.4775 - val_mse: 4441.7129\n",
      "1/1 [==============================] - 2s 2s/step - loss: 4383.5186 - mse: 4382.7524 - val_loss: 4391.1382 - val_mse: 4390.3789\n",
      "1/1 [==============================] - 2s 2s/step - loss: 4351.5137 - mse: 4350.7476 - val_loss: 4040.7241 - val_mse: 4039.9644\n",
      "1/1 [==============================] - 2s 2s/step - loss: 4333.9321 - mse: 4333.1641 - val_loss: 4189.0542 - val_mse: 4188.2930\n",
      "1/1 [==============================] - 2s 2s/step - loss: 4403.7017 - mse: 4402.9360 - val_loss: 4465.7642 - val_mse: 4465.0039\n",
      "1/1 [==============================] - 2s 2s/step - loss: 4336.9468 - mse: 4336.1812 - val_loss: 4420.4917 - val_mse: 4419.7314\n",
      "1/1 [==============================] - 2s 2s/step - loss: 4311.8384 - mse: 4311.0713 - val_loss: 4270.1289 - val_mse: 4269.3682\n",
      "1/1 [==============================] - 1s 1s/step - loss: 4394.7686 - mse: 4394.0034 - val_loss: 4544.7725 - val_mse: 4544.0132\n",
      "1/1 [==============================] - 1s 1s/step - loss: 4314.7612 - mse: 4313.9951 - val_loss: 4104.1733 - val_mse: 4103.4126\n",
      "1/1 [==============================] - 2s 2s/step - loss: 4357.3765 - mse: 4356.6094 - val_loss: 4167.8813 - val_mse: 4167.1196\n",
      "1/1 [==============================] - 1s 1s/step - loss: 4424.0757 - mse: 4423.3086 - val_loss: 4239.6226 - val_mse: 4238.8604\n",
      "1/1 [==============================] - 2s 2s/step - loss: 4384.9775 - mse: 4384.2109 - val_loss: 4458.0112 - val_mse: 4457.2490\n",
      "1/1 [==============================] - 1s 1s/step - loss: 4399.5557 - mse: 4398.7861 - val_loss: 4515.6743 - val_mse: 4514.9102\n",
      "1/1 [==============================] - 1s 1s/step - loss: 4357.4194 - mse: 4356.6519 - val_loss: 4370.5005 - val_mse: 4369.7373\n",
      "1/1 [==============================] - 1s 1s/step - loss: 4347.2397 - mse: 4346.4751 - val_loss: 4383.3794 - val_mse: 4382.6187\n",
      "1/1 [==============================] - 1s 1s/step - loss: 4293.6519 - mse: 4292.8857 - val_loss: 4371.9795 - val_mse: 4371.2178\n",
      "1/1 [==============================] - 1s 1s/step - loss: 4380.2476 - mse: 4379.4849 - val_loss: 4568.8247 - val_mse: 4568.0664\n",
      "1/1 [==============================] - 2s 2s/step - loss: 4379.6494 - mse: 4378.8823 - val_loss: 4088.8784 - val_mse: 4088.1152\n",
      "1/1 [==============================] - 2s 2s/step - loss: 4361.6724 - mse: 4360.9087 - val_loss: 4311.3223 - val_mse: 4310.5625\n",
      "1/1 [==============================] - 2s 2s/step - loss: 4428.3130 - mse: 4427.5449 - val_loss: 4310.0835 - val_mse: 4309.3184\n",
      "1/1 [==============================] - 2s 2s/step - loss: 4399.5176 - mse: 4398.7539 - val_loss: 4415.6113 - val_mse: 4414.8506\n",
      "1/1 [==============================] - 2s 2s/step - loss: 4363.5391 - mse: 4362.7725 - val_loss: 4659.0859 - val_mse: 4658.3228\n",
      "1/1 [==============================] - 2s 2s/step - loss: 4365.0176 - mse: 4364.2520 - val_loss: 4531.6689 - val_mse: 4530.9062\n",
      "1/1 [==============================] - 2s 2s/step - loss: 4361.0503 - mse: 4360.2852 - val_loss: 4252.6538 - val_mse: 4251.8916\n",
      "1/1 [==============================] - 2s 2s/step - loss: 4373.7495 - mse: 4372.9863 - val_loss: 4240.7891 - val_mse: 4240.0283\n",
      "1/1 [==============================] - 2s 2s/step - loss: 4418.8154 - mse: 4418.0498 - val_loss: 4412.9429 - val_mse: 4412.1797\n",
      "1/1 [==============================] - 2s 2s/step - loss: 4426.2876 - mse: 4425.5205 - val_loss: 4005.9343 - val_mse: 4005.1699\n",
      "1/1 [==============================] - 2s 2s/step - loss: 4407.7495 - mse: 4406.9824 - val_loss: 4033.5103 - val_mse: 4032.7456\n",
      "1/1 [==============================] - 2s 2s/step - loss: 4419.2070 - mse: 4418.4429 - val_loss: 4468.0879 - val_mse: 4467.3257\n",
      "1/1 [==============================] - 2s 2s/step - loss: 4393.2578 - mse: 4392.4937 - val_loss: 4636.7925 - val_mse: 4636.0303\n",
      "1/1 [==============================] - 2s 2s/step - loss: 4383.4634 - mse: 4382.6963 - val_loss: 4904.7441 - val_mse: 4903.9795\n",
      "1/1 [==============================] - 2s 2s/step - loss: 4362.6812 - mse: 4361.9170 - val_loss: 4640.8994 - val_mse: 4640.1377\n",
      "1/1 [==============================] - 2s 2s/step - loss: 4357.5869 - mse: 4356.8223 - val_loss: 3957.1375 - val_mse: 3956.3745\n",
      "1/1 [==============================] - 2s 2s/step - loss: 4384.5083 - mse: 4383.7373 - val_loss: 4583.8115 - val_mse: 4583.0420\n",
      "1/1 [==============================] - 2s 2s/step - loss: 4356.6768 - mse: 4355.9102 - val_loss: 4213.7480 - val_mse: 4212.9834\n",
      "1/1 [==============================] - 2s 2s/step - loss: 4301.1445 - mse: 4300.3779 - val_loss: 4058.9688 - val_mse: 4058.2046\n",
      "1/1 [==============================] - 2s 2s/step - loss: 4444.3359 - mse: 4443.5674 - val_loss: 3882.7703 - val_mse: 3882.0039\n",
      "1/1 [==============================] - 2s 2s/step - loss: 4396.9976 - mse: 4396.2305 - val_loss: 4277.7173 - val_mse: 4276.9521\n",
      "1/1 [==============================] - 1s 1s/step - loss: 4336.9565 - mse: 4336.1875 - val_loss: 4069.8848 - val_mse: 4069.1179\n",
      "1/1 [==============================] - 1s 1s/step - loss: 4347.6489 - mse: 4346.8838 - val_loss: 4243.3730 - val_mse: 4242.6099\n",
      "1/1 [==============================] - 1s 1s/step - loss: 4398.1191 - mse: 4397.3530 - val_loss: 4269.0952 - val_mse: 4268.3311\n",
      "1/1 [==============================] - 2s 2s/step - loss: 4385.9233 - mse: 4385.1558 - val_loss: 4441.4243 - val_mse: 4440.6582\n",
      "1/1 [==============================] - 2s 2s/step - loss: 4381.3218 - mse: 4380.5547 - val_loss: 4017.0891 - val_mse: 4016.3235\n",
      "1/1 [==============================] - 1s 1s/step - loss: 4344.4116 - mse: 4343.6455 - val_loss: 4390.9966 - val_mse: 4390.2319\n",
      "1/1 [==============================] - 1s 1s/step - loss: 4415.7002 - mse: 4414.9355 - val_loss: 4758.8965 - val_mse: 4758.1338\n",
      "1/1 [==============================] - 1s 1s/step - loss: 4407.5303 - mse: 4406.7646 - val_loss: 4560.1172 - val_mse: 4559.3530\n",
      "1/1 [==============================] - 1s 1s/step - loss: 4428.1904 - mse: 4427.4204 - val_loss: 4637.7676 - val_mse: 4636.9995\n",
      "1/1 [==============================] - 2s 2s/step - loss: 4317.2266 - mse: 4316.4624 - val_loss: 4349.0947 - val_mse: 4348.3320\n",
      "1/1 [==============================] - 1s 1s/step - loss: 4279.3989 - mse: 4278.6328 - val_loss: 4370.8125 - val_mse: 4370.0474\n",
      "1/1 [==============================] - 1s 1s/step - loss: 4283.4971 - mse: 4282.7295 - val_loss: 4608.1123 - val_mse: 4607.3462\n",
      "1/1 [==============================] - 1s 1s/step - loss: 4315.8462 - mse: 4315.0791 - val_loss: 4029.3289 - val_mse: 4028.5630\n",
      "1/1 [==============================] - 2s 2s/step - loss: 4320.4741 - mse: 4319.7100 - val_loss: 4359.6914 - val_mse: 4358.9287\n",
      "1/1 [==============================] - 2s 2s/step - loss: 4343.6245 - mse: 4342.8579 - val_loss: 4136.7368 - val_mse: 4135.9712\n",
      "1/1 [==============================] - 2s 2s/step - loss: 4377.9438 - mse: 4377.1768 - val_loss: 4843.3716 - val_mse: 4842.6055\n",
      "1/1 [==============================] - 1s 1s/step - loss: 4330.1436 - mse: 4329.3774 - val_loss: 4398.4189 - val_mse: 4397.6538\n",
      "1/1 [==============================] - 1s 1s/step - loss: 4357.8325 - mse: 4357.0674 - val_loss: 4310.7222 - val_mse: 4309.9580\n",
      "1/1 [==============================] - 1s 1s/step - loss: 4262.6616 - mse: 4261.8945 - val_loss: 4658.7310 - val_mse: 4657.9648\n",
      "1/1 [==============================] - 2s 2s/step - loss: 4321.4668 - mse: 4320.6987 - val_loss: 4489.6631 - val_mse: 4488.8955\n",
      "1/1 [==============================] - 1s 1s/step - loss: 4380.6538 - mse: 4379.8882 - val_loss: 4176.4990 - val_mse: 4175.7344\n",
      "1/1 [==============================] - 1s 1s/step - loss: 4312.7261 - mse: 4311.9585 - val_loss: 4176.7900 - val_mse: 4176.0234\n",
      "1/1 [==============================] - 2s 2s/step - loss: 4416.5537 - mse: 4415.7861 - val_loss: 4567.4575 - val_mse: 4566.6904\n",
      "1/1 [==============================] - 1s 1s/step - loss: 4462.3574 - mse: 4461.5898 - val_loss: 4128.6377 - val_mse: 4127.8706\n",
      "1/1 [==============================] - 2s 2s/step - loss: 4319.6582 - mse: 4318.8906 - val_loss: 4153.1089 - val_mse: 4152.3423\n",
      "1/1 [==============================] - 2s 2s/step - loss: 4342.6187 - mse: 4341.8525 - val_loss: 4645.6147 - val_mse: 4644.8496\n",
      "1/1 [==============================] - 2s 2s/step - loss: 4326.6187 - mse: 4325.8550 - val_loss: 4115.0454 - val_mse: 4114.2822\n",
      "1/1 [==============================] - 1s 1s/step - loss: 4364.6060 - mse: 4363.8398 - val_loss: 4045.7571 - val_mse: 4044.9915\n",
      "1/1 [==============================] - 2s 2s/step - loss: 4354.9419 - mse: 4354.1748 - val_loss: 4083.7739 - val_mse: 4083.0078\n",
      "1/1 [==============================] - 1s 1s/step - loss: 4334.2329 - mse: 4333.4624 - val_loss: 4660.3604 - val_mse: 4659.5903\n",
      "1/1 [==============================] - 2s 2s/step - loss: 4328.5312 - mse: 4327.7646 - val_loss: 3608.5996 - val_mse: 3607.8333\n",
      "1/1 [==============================] - 2s 2s/step - loss: 4399.5664 - mse: 4398.8018 - val_loss: 4402.6235 - val_mse: 4401.8599\n",
      "1/1 [==============================] - 1s 1s/step - loss: 4368.8823 - mse: 4368.1162 - val_loss: 5323.4482 - val_mse: 5322.6826\n",
      "1/1 [==============================] - 2s 2s/step - loss: 4386.9175 - mse: 4386.1514 - val_loss: 3922.6870 - val_mse: 3921.9214\n",
      "1/1 [==============================] - 1s 1s/step - loss: 4367.4409 - mse: 4366.6733 - val_loss: 4030.5273 - val_mse: 4029.7603\n",
      "1/1 [==============================] - 1s 1s/step - loss: 4398.5527 - mse: 4397.7876 - val_loss: 5037.2739 - val_mse: 5036.5093\n",
      "1/1 [==============================] - 1s 1s/step - loss: 4366.9512 - mse: 4366.1860 - val_loss: 3787.0266 - val_mse: 3786.2617\n",
      "1/1 [==============================] - 1s 1s/step - loss: 4430.1802 - mse: 4429.4131 - val_loss: 3863.1079 - val_mse: 3862.3413\n",
      "1/1 [==============================] - 1s 1s/step - loss: 4348.8252 - mse: 4348.0591 - val_loss: 5041.6396 - val_mse: 5040.8740\n",
      "1/1 [==============================] - 2s 2s/step - loss: 4347.7866 - mse: 4347.0186 - val_loss: 4309.3687 - val_mse: 4308.6011\n",
      "1/1 [==============================] - 2s 2s/step - loss: 4368.5933 - mse: 4367.8271 - val_loss: 4992.3716 - val_mse: 4991.6064\n",
      "1/1 [==============================] - 1s 1s/step - loss: 4391.1411 - mse: 4390.3779 - val_loss: 4435.8550 - val_mse: 4435.0923\n",
      "1/1 [==============================] - 1s 1s/step - loss: 4506.3789 - mse: 4505.6104 - val_loss: 4248.3413 - val_mse: 4247.5732\n",
      "1/1 [==============================] - 2s 2s/step - loss: 4358.8765 - mse: 4358.1074 - val_loss: 4625.9629 - val_mse: 4625.1943\n",
      "1/1 [==============================] - 1s 1s/step - loss: 4320.6235 - mse: 4319.8589 - val_loss: 5941.2090 - val_mse: 5940.4453\n",
      "1/1 [==============================] - 1s 1s/step - loss: 4353.2974 - mse: 4352.5308 - val_loss: 4152.2085 - val_mse: 4151.4419\n",
      "1/1 [==============================] - 2s 2s/step - loss: 4304.0552 - mse: 4303.2920 - val_loss: 4652.8555 - val_mse: 4652.0928\n",
      "1/1 [==============================] - 2s 2s/step - loss: 4393.3481 - mse: 4392.5830 - val_loss: 4507.5098 - val_mse: 4506.7451\n",
      "1/1 [==============================] - 2s 2s/step - loss: 4365.0151 - mse: 4364.2471 - val_loss: 5150.9678 - val_mse: 5150.2002\n",
      "1/1 [==============================] - 2s 2s/step - loss: 4282.7061 - mse: 4281.9399 - val_loss: 4700.7651 - val_mse: 4699.9995\n",
      "1/1 [==============================] - 2s 2s/step - loss: 4351.8086 - mse: 4351.0400 - val_loss: 3697.0781 - val_mse: 3696.3101\n",
      "1/1 [==============================] - 2s 2s/step - loss: 4340.3857 - mse: 4339.6201 - val_loss: 4999.2397 - val_mse: 4998.4741\n",
      "1/1 [==============================] - 2s 2s/step - loss: 4408.5933 - mse: 4407.8252 - val_loss: 4531.0938 - val_mse: 4530.3257\n",
      "1/1 [==============================] - 2s 2s/step - loss: 4375.0210 - mse: 4374.2529 - val_loss: 4248.3687 - val_mse: 4247.6006\n",
      "1/1 [==============================] - 2s 2s/step - loss: 4453.9058 - mse: 4453.1411 - val_loss: 4616.7119 - val_mse: 4615.9478\n",
      "1/1 [==============================] - 0s 47ms/step\n",
      "1/1 [==============================] - 0s 47ms/step\n"
     ]
    },
    {
     "name": "stderr",
     "output_type": "stream",
     "text": [
      "\r\n",
      "  0%|                                                                                           | 0/10 [00:00<?, ?it/s]"
     ]
    },
    {
     "name": "stdout",
     "output_type": "stream",
     "text": [
      "18/18 [==============================] - 1s 65ms/step\n"
     ]
    },
    {
     "name": "stderr",
     "output_type": "stream",
     "text": [
      "\r\n",
      " 10%|████████▎                                                                          | 1/10 [00:14<02:10, 14.48s/it]"
     ]
    },
    {
     "name": "stdout",
     "output_type": "stream",
     "text": [
      "18/18 [==============================] - 1s 64ms/step\n"
     ]
    },
    {
     "name": "stderr",
     "output_type": "stream",
     "text": [
      "\r\n",
      " 20%|████████████████▌                                                                  | 2/10 [00:28<01:52, 14.05s/it]"
     ]
    },
    {
     "name": "stdout",
     "output_type": "stream",
     "text": [
      "18/18 [==============================] - 1s 61ms/step\n"
     ]
    },
    {
     "name": "stderr",
     "output_type": "stream",
     "text": [
      "\r\n",
      " 30%|████████████████████████▉                                                          | 3/10 [00:41<01:35, 13.61s/it]"
     ]
    },
    {
     "name": "stdout",
     "output_type": "stream",
     "text": [
      "18/18 [==============================] - 1s 64ms/step\n"
     ]
    },
    {
     "name": "stderr",
     "output_type": "stream",
     "text": [
      "\r\n",
      " 40%|█████████████████████████████████▏                                                 | 4/10 [00:54<01:21, 13.52s/it]"
     ]
    },
    {
     "name": "stdout",
     "output_type": "stream",
     "text": [
      "18/18 [==============================] - 1s 67ms/step\n"
     ]
    },
    {
     "name": "stderr",
     "output_type": "stream",
     "text": [
      "\r\n",
      " 50%|█████████████████████████████████████████▌                                         | 5/10 [01:09<01:09, 13.91s/it]"
     ]
    },
    {
     "name": "stdout",
     "output_type": "stream",
     "text": [
      "18/18 [==============================] - 1s 67ms/step\n"
     ]
    },
    {
     "name": "stderr",
     "output_type": "stream",
     "text": [
      "\r\n",
      " 60%|█████████████████████████████████████████████████▊                                 | 6/10 [01:23<00:56, 14.14s/it]"
     ]
    },
    {
     "name": "stdout",
     "output_type": "stream",
     "text": [
      "18/18 [==============================] - 1s 68ms/step\n"
     ]
    },
    {
     "name": "stderr",
     "output_type": "stream",
     "text": [
      "\r\n",
      " 70%|██████████████████████████████████████████████████████████                         | 7/10 [01:38<00:42, 14.22s/it]"
     ]
    },
    {
     "name": "stdout",
     "output_type": "stream",
     "text": [
      "18/18 [==============================] - 1s 64ms/step\n"
     ]
    },
    {
     "name": "stderr",
     "output_type": "stream",
     "text": [
      "\r\n",
      " 80%|██████████████████████████████████████████████████████████████████▍                | 8/10 [01:52<00:28, 14.21s/it]"
     ]
    },
    {
     "name": "stdout",
     "output_type": "stream",
     "text": [
      "18/18 [==============================] - 1s 65ms/step\n"
     ]
    },
    {
     "name": "stderr",
     "output_type": "stream",
     "text": [
      "\r\n",
      " 90%|██████████████████████████████████████████████████████████████████████████▋        | 9/10 [02:06<00:14, 14.17s/it]"
     ]
    },
    {
     "name": "stdout",
     "output_type": "stream",
     "text": [
      "18/18 [==============================] - 1s 64ms/step\n"
     ]
    },
    {
     "name": "stderr",
     "output_type": "stream",
     "text": [
      "100%|██████████████████████████████████████████████████████████████████████████████████| 10/10 [02:20<00:00, 14.09s/it]\n",
      "100%|██████████████████████████████████████████████████████████████████████████████████| 10/10 [04:14<00:00, 25.45s/it]"
     ]
    },
    {
     "name": "stdout",
     "output_type": "stream",
     "text": [
      "L2X OK !!\n"
     ]
    },
    {
     "name": "stderr",
     "output_type": "stream",
     "text": [
      "\n"
     ]
    },
    {
     "data": {
      "text/html": [
       "<div>\n",
       "<style scoped>\n",
       "    .dataframe tbody tr th:only-of-type {\n",
       "        vertical-align: middle;\n",
       "    }\n",
       "\n",
       "    .dataframe tbody tr th {\n",
       "        vertical-align: top;\n",
       "    }\n",
       "\n",
       "    .dataframe thead th {\n",
       "        text-align: right;\n",
       "    }\n",
       "</style>\n",
       "<table border=\"1\" class=\"dataframe\">\n",
       "  <thead>\n",
       "    <tr style=\"text-align: right;\">\n",
       "      <th></th>\n",
       "      <th>identity</th>\n",
       "      <th>separability</th>\n",
       "      <th>stability</th>\n",
       "      <th>coherence</th>\n",
       "      <th>completness</th>\n",
       "      <th>congruence</th>\n",
       "      <th>selectivity</th>\n",
       "      <th>accumen</th>\n",
       "      <th>explainer</th>\n",
       "    </tr>\n",
       "  </thead>\n",
       "  <tbody>\n",
       "    <tr>\n",
       "      <th>0</th>\n",
       "      <td>1.0</td>\n",
       "      <td>1.0</td>\n",
       "      <td>1.0</td>\n",
       "      <td>0.250002</td>\n",
       "      <td>123.782043</td>\n",
       "      <td>0.306072</td>\n",
       "      <td>0.614124</td>\n",
       "      <td>0.042397</td>\n",
       "      <td>lime_1c</td>\n",
       "    </tr>\n",
       "    <tr>\n",
       "      <th>0</th>\n",
       "      <td>1.0</td>\n",
       "      <td>1.0</td>\n",
       "      <td>1.0</td>\n",
       "      <td>0.147780</td>\n",
       "      <td>0.473728</td>\n",
       "      <td>0.183380</td>\n",
       "      <td>0.568432</td>\n",
       "      <td>0.313524</td>\n",
       "      <td>shap_1c</td>\n",
       "    </tr>\n",
       "    <tr>\n",
       "      <th>0</th>\n",
       "      <td>1.0</td>\n",
       "      <td>1.0</td>\n",
       "      <td>0.9</td>\n",
       "      <td>0.181704</td>\n",
       "      <td>2.019102</td>\n",
       "      <td>0.222921</td>\n",
       "      <td>0.620089</td>\n",
       "      <td>0.035886</td>\n",
       "      <td>l2x_1c</td>\n",
       "    </tr>\n",
       "    <tr>\n",
       "      <th>0</th>\n",
       "      <td>1.0</td>\n",
       "      <td>1.0</td>\n",
       "      <td>1.0</td>\n",
       "      <td>0.161335</td>\n",
       "      <td>573.330444</td>\n",
       "      <td>0.185664</td>\n",
       "      <td>0.555408</td>\n",
       "      <td>0.119141</td>\n",
       "      <td>lime_1c</td>\n",
       "    </tr>\n",
       "    <tr>\n",
       "      <th>0</th>\n",
       "      <td>1.0</td>\n",
       "      <td>1.0</td>\n",
       "      <td>1.0</td>\n",
       "      <td>0.157563</td>\n",
       "      <td>0.426702</td>\n",
       "      <td>0.181761</td>\n",
       "      <td>0.593014</td>\n",
       "      <td>0.472039</td>\n",
       "      <td>shap_1c</td>\n",
       "    </tr>\n",
       "    <tr>\n",
       "      <th>0</th>\n",
       "      <td>1.0</td>\n",
       "      <td>1.0</td>\n",
       "      <td>1.0</td>\n",
       "      <td>0.155116</td>\n",
       "      <td>0.608091</td>\n",
       "      <td>0.179124</td>\n",
       "      <td>0.544497</td>\n",
       "      <td>0.052487</td>\n",
       "      <td>l2x_1c</td>\n",
       "    </tr>\n",
       "    <tr>\n",
       "      <th>0</th>\n",
       "      <td>1.0</td>\n",
       "      <td>1.0</td>\n",
       "      <td>1.0</td>\n",
       "      <td>0.144818</td>\n",
       "      <td>32.490021</td>\n",
       "      <td>0.245558</td>\n",
       "      <td>0.630698</td>\n",
       "      <td>0.044520</td>\n",
       "      <td>lime_1c</td>\n",
       "    </tr>\n",
       "    <tr>\n",
       "      <th>0</th>\n",
       "      <td>1.0</td>\n",
       "      <td>1.0</td>\n",
       "      <td>0.9</td>\n",
       "      <td>0.141376</td>\n",
       "      <td>0.547619</td>\n",
       "      <td>0.243418</td>\n",
       "      <td>0.660767</td>\n",
       "      <td>0.583059</td>\n",
       "      <td>shap_1c</td>\n",
       "    </tr>\n",
       "    <tr>\n",
       "      <th>0</th>\n",
       "      <td>1.0</td>\n",
       "      <td>1.0</td>\n",
       "      <td>1.0</td>\n",
       "      <td>0.174406</td>\n",
       "      <td>0.205540</td>\n",
       "      <td>0.271803</td>\n",
       "      <td>0.669541</td>\n",
       "      <td>0.035313</td>\n",
       "      <td>l2x_1c</td>\n",
       "    </tr>\n",
       "    <tr>\n",
       "      <th>0</th>\n",
       "      <td>1.0</td>\n",
       "      <td>1.0</td>\n",
       "      <td>1.0</td>\n",
       "      <td>0.227306</td>\n",
       "      <td>0.198970</td>\n",
       "      <td>0.251178</td>\n",
       "      <td>0.568998</td>\n",
       "      <td>0.113453</td>\n",
       "      <td>lime_1c</td>\n",
       "    </tr>\n",
       "    <tr>\n",
       "      <th>0</th>\n",
       "      <td>1.0</td>\n",
       "      <td>1.0</td>\n",
       "      <td>1.0</td>\n",
       "      <td>0.222126</td>\n",
       "      <td>0.364323</td>\n",
       "      <td>0.248089</td>\n",
       "      <td>0.688988</td>\n",
       "      <td>0.445456</td>\n",
       "      <td>shap_1c</td>\n",
       "    </tr>\n",
       "    <tr>\n",
       "      <th>0</th>\n",
       "      <td>1.0</td>\n",
       "      <td>1.0</td>\n",
       "      <td>1.0</td>\n",
       "      <td>0.263990</td>\n",
       "      <td>2.096762</td>\n",
       "      <td>0.309280</td>\n",
       "      <td>0.557521</td>\n",
       "      <td>0.069267</td>\n",
       "      <td>l2x_1c</td>\n",
       "    </tr>\n",
       "    <tr>\n",
       "      <th>0</th>\n",
       "      <td>1.0</td>\n",
       "      <td>1.0</td>\n",
       "      <td>0.9</td>\n",
       "      <td>0.425000</td>\n",
       "      <td>2.116523</td>\n",
       "      <td>0.338580</td>\n",
       "      <td>0.549563</td>\n",
       "      <td>0.039991</td>\n",
       "      <td>lime_1c</td>\n",
       "    </tr>\n",
       "    <tr>\n",
       "      <th>0</th>\n",
       "      <td>1.0</td>\n",
       "      <td>1.0</td>\n",
       "      <td>0.9</td>\n",
       "      <td>0.332974</td>\n",
       "      <td>0.279761</td>\n",
       "      <td>0.321704</td>\n",
       "      <td>0.695471</td>\n",
       "      <td>0.309589</td>\n",
       "      <td>shap_1c</td>\n",
       "    </tr>\n",
       "    <tr>\n",
       "      <th>0</th>\n",
       "      <td>1.0</td>\n",
       "      <td>1.0</td>\n",
       "      <td>0.9</td>\n",
       "      <td>0.472452</td>\n",
       "      <td>10.549357</td>\n",
       "      <td>0.356988</td>\n",
       "      <td>0.578450</td>\n",
       "      <td>0.031807</td>\n",
       "      <td>l2x_1c</td>\n",
       "    </tr>\n",
       "    <tr>\n",
       "      <th>0</th>\n",
       "      <td>1.0</td>\n",
       "      <td>1.0</td>\n",
       "      <td>1.0</td>\n",
       "      <td>0.169157</td>\n",
       "      <td>0.115082</td>\n",
       "      <td>0.201659</td>\n",
       "      <td>0.773606</td>\n",
       "      <td>0.125152</td>\n",
       "      <td>lime_1c</td>\n",
       "    </tr>\n",
       "    <tr>\n",
       "      <th>0</th>\n",
       "      <td>1.0</td>\n",
       "      <td>1.0</td>\n",
       "      <td>1.0</td>\n",
       "      <td>0.165062</td>\n",
       "      <td>0.332956</td>\n",
       "      <td>0.204789</td>\n",
       "      <td>0.683550</td>\n",
       "      <td>0.496386</td>\n",
       "      <td>shap_1c</td>\n",
       "    </tr>\n",
       "    <tr>\n",
       "      <th>0</th>\n",
       "      <td>1.0</td>\n",
       "      <td>1.0</td>\n",
       "      <td>0.9</td>\n",
       "      <td>0.191224</td>\n",
       "      <td>31.856418</td>\n",
       "      <td>0.227029</td>\n",
       "      <td>0.725285</td>\n",
       "      <td>0.024007</td>\n",
       "      <td>l2x_1c</td>\n",
       "    </tr>\n",
       "    <tr>\n",
       "      <th>0</th>\n",
       "      <td>1.0</td>\n",
       "      <td>1.0</td>\n",
       "      <td>1.0</td>\n",
       "      <td>0.184947</td>\n",
       "      <td>0.090515</td>\n",
       "      <td>0.192357</td>\n",
       "      <td>0.728775</td>\n",
       "      <td>0.113309</td>\n",
       "      <td>lime_1c</td>\n",
       "    </tr>\n",
       "    <tr>\n",
       "      <th>0</th>\n",
       "      <td>1.0</td>\n",
       "      <td>1.0</td>\n",
       "      <td>1.0</td>\n",
       "      <td>0.174043</td>\n",
       "      <td>0.304299</td>\n",
       "      <td>0.199392</td>\n",
       "      <td>0.713577</td>\n",
       "      <td>0.497782</td>\n",
       "      <td>shap_1c</td>\n",
       "    </tr>\n",
       "    <tr>\n",
       "      <th>0</th>\n",
       "      <td>1.0</td>\n",
       "      <td>1.0</td>\n",
       "      <td>1.0</td>\n",
       "      <td>0.174998</td>\n",
       "      <td>53.746679</td>\n",
       "      <td>0.182104</td>\n",
       "      <td>0.733611</td>\n",
       "      <td>0.027191</td>\n",
       "      <td>l2x_1c</td>\n",
       "    </tr>\n",
       "    <tr>\n",
       "      <th>0</th>\n",
       "      <td>1.0</td>\n",
       "      <td>1.0</td>\n",
       "      <td>1.0</td>\n",
       "      <td>0.158008</td>\n",
       "      <td>0.107810</td>\n",
       "      <td>0.265650</td>\n",
       "      <td>0.796059</td>\n",
       "      <td>0.119392</td>\n",
       "      <td>lime_1c</td>\n",
       "    </tr>\n",
       "    <tr>\n",
       "      <th>0</th>\n",
       "      <td>1.0</td>\n",
       "      <td>1.0</td>\n",
       "      <td>0.7</td>\n",
       "      <td>0.157986</td>\n",
       "      <td>0.130773</td>\n",
       "      <td>0.265646</td>\n",
       "      <td>0.800742</td>\n",
       "      <td>0.487764</td>\n",
       "      <td>shap_1c</td>\n",
       "    </tr>\n",
       "    <tr>\n",
       "      <th>0</th>\n",
       "      <td>1.0</td>\n",
       "      <td>1.0</td>\n",
       "      <td>1.0</td>\n",
       "      <td>0.182560</td>\n",
       "      <td>1.174159</td>\n",
       "      <td>0.281069</td>\n",
       "      <td>0.759638</td>\n",
       "      <td>0.023470</td>\n",
       "      <td>l2x_1c</td>\n",
       "    </tr>\n",
       "    <tr>\n",
       "      <th>0</th>\n",
       "      <td>1.0</td>\n",
       "      <td>1.0</td>\n",
       "      <td>1.0</td>\n",
       "      <td>0.251137</td>\n",
       "      <td>0.030016</td>\n",
       "      <td>0.269410</td>\n",
       "      <td>0.660487</td>\n",
       "      <td>0.120465</td>\n",
       "      <td>lime_1c</td>\n",
       "    </tr>\n",
       "    <tr>\n",
       "      <th>0</th>\n",
       "      <td>1.0</td>\n",
       "      <td>1.0</td>\n",
       "      <td>0.7</td>\n",
       "      <td>0.251109</td>\n",
       "      <td>0.037982</td>\n",
       "      <td>0.269405</td>\n",
       "      <td>0.845338</td>\n",
       "      <td>0.423399</td>\n",
       "      <td>shap_1c</td>\n",
       "    </tr>\n",
       "    <tr>\n",
       "      <th>0</th>\n",
       "      <td>1.0</td>\n",
       "      <td>1.0</td>\n",
       "      <td>1.0</td>\n",
       "      <td>0.272706</td>\n",
       "      <td>9.140040</td>\n",
       "      <td>0.321434</td>\n",
       "      <td>0.757681</td>\n",
       "      <td>0.017567</td>\n",
       "      <td>l2x_1c</td>\n",
       "    </tr>\n",
       "    <tr>\n",
       "      <th>0</th>\n",
       "      <td>1.0</td>\n",
       "      <td>1.0</td>\n",
       "      <td>1.0</td>\n",
       "      <td>0.356382</td>\n",
       "      <td>0.019454</td>\n",
       "      <td>0.348228</td>\n",
       "      <td>0.664373</td>\n",
       "      <td>0.136565</td>\n",
       "      <td>lime_1c</td>\n",
       "    </tr>\n",
       "    <tr>\n",
       "      <th>0</th>\n",
       "      <td>1.0</td>\n",
       "      <td>1.0</td>\n",
       "      <td>1.0</td>\n",
       "      <td>0.356293</td>\n",
       "      <td>0.123914</td>\n",
       "      <td>0.348280</td>\n",
       "      <td>0.798989</td>\n",
       "      <td>0.594794</td>\n",
       "      <td>shap_1c</td>\n",
       "    </tr>\n",
       "    <tr>\n",
       "      <th>0</th>\n",
       "      <td>1.0</td>\n",
       "      <td>1.0</td>\n",
       "      <td>0.9</td>\n",
       "      <td>0.401215</td>\n",
       "      <td>43.579805</td>\n",
       "      <td>0.374669</td>\n",
       "      <td>0.614686</td>\n",
       "      <td>0.039177</td>\n",
       "      <td>l2x_1c</td>\n",
       "    </tr>\n",
       "    <tr>\n",
       "      <th>0</th>\n",
       "      <td>1.0</td>\n",
       "      <td>1.0</td>\n",
       "      <td>0.9</td>\n",
       "      <td>0.173123</td>\n",
       "      <td>0.881901</td>\n",
       "      <td>0.207867</td>\n",
       "      <td>0.688933</td>\n",
       "      <td>0.076852</td>\n",
       "      <td>lime_1c</td>\n",
       "    </tr>\n",
       "    <tr>\n",
       "      <th>0</th>\n",
       "      <td>1.0</td>\n",
       "      <td>1.0</td>\n",
       "      <td>1.0</td>\n",
       "      <td>0.172968</td>\n",
       "      <td>0.431394</td>\n",
       "      <td>0.208001</td>\n",
       "      <td>0.755051</td>\n",
       "      <td>0.459463</td>\n",
       "      <td>shap_1c</td>\n",
       "    </tr>\n",
       "    <tr>\n",
       "      <th>0</th>\n",
       "      <td>1.0</td>\n",
       "      <td>1.0</td>\n",
       "      <td>1.0</td>\n",
       "      <td>0.245351</td>\n",
       "      <td>11.696603</td>\n",
       "      <td>0.246648</td>\n",
       "      <td>0.705673</td>\n",
       "      <td>0.020894</td>\n",
       "      <td>l2x_1c</td>\n",
       "    </tr>\n",
       "    <tr>\n",
       "      <th>0</th>\n",
       "      <td>1.0</td>\n",
       "      <td>1.0</td>\n",
       "      <td>1.0</td>\n",
       "      <td>0.172175</td>\n",
       "      <td>3398.622559</td>\n",
       "      <td>0.195247</td>\n",
       "      <td>0.778656</td>\n",
       "      <td>0.120072</td>\n",
       "      <td>lime_1c</td>\n",
       "    </tr>\n",
       "    <tr>\n",
       "      <th>0</th>\n",
       "      <td>1.0</td>\n",
       "      <td>1.0</td>\n",
       "      <td>1.0</td>\n",
       "      <td>0.172178</td>\n",
       "      <td>925.036316</td>\n",
       "      <td>0.195250</td>\n",
       "      <td>0.713683</td>\n",
       "      <td>0.523971</td>\n",
       "      <td>shap_1c</td>\n",
       "    </tr>\n",
       "    <tr>\n",
       "      <th>0</th>\n",
       "      <td>1.0</td>\n",
       "      <td>1.0</td>\n",
       "      <td>1.0</td>\n",
       "      <td>0.173129</td>\n",
       "      <td>136.213708</td>\n",
       "      <td>0.197011</td>\n",
       "      <td>0.641283</td>\n",
       "      <td>0.041216</td>\n",
       "      <td>l2x_1c</td>\n",
       "    </tr>\n",
       "    <tr>\n",
       "      <th>0</th>\n",
       "      <td>1.0</td>\n",
       "      <td>1.0</td>\n",
       "      <td>1.0</td>\n",
       "      <td>0.164355</td>\n",
       "      <td>0.086243</td>\n",
       "      <td>0.267859</td>\n",
       "      <td>0.800593</td>\n",
       "      <td>0.057424</td>\n",
       "      <td>lime_1c</td>\n",
       "    </tr>\n",
       "    <tr>\n",
       "      <th>0</th>\n",
       "      <td>1.0</td>\n",
       "      <td>1.0</td>\n",
       "      <td>0.8</td>\n",
       "      <td>0.164361</td>\n",
       "      <td>0.020511</td>\n",
       "      <td>0.267859</td>\n",
       "      <td>0.845017</td>\n",
       "      <td>0.330769</td>\n",
       "      <td>shap_1c</td>\n",
       "    </tr>\n",
       "    <tr>\n",
       "      <th>0</th>\n",
       "      <td>1.0</td>\n",
       "      <td>1.0</td>\n",
       "      <td>1.0</td>\n",
       "      <td>0.195850</td>\n",
       "      <td>5.651009</td>\n",
       "      <td>0.286022</td>\n",
       "      <td>0.789202</td>\n",
       "      <td>0.027513</td>\n",
       "      <td>l2x_1c</td>\n",
       "    </tr>\n",
       "    <tr>\n",
       "      <th>0</th>\n",
       "      <td>1.0</td>\n",
       "      <td>1.0</td>\n",
       "      <td>1.0</td>\n",
       "      <td>0.230126</td>\n",
       "      <td>0.013983</td>\n",
       "      <td>0.268526</td>\n",
       "      <td>0.721532</td>\n",
       "      <td>0.141109</td>\n",
       "      <td>lime_1c</td>\n",
       "    </tr>\n",
       "    <tr>\n",
       "      <th>0</th>\n",
       "      <td>1.0</td>\n",
       "      <td>1.0</td>\n",
       "      <td>0.9</td>\n",
       "      <td>0.230131</td>\n",
       "      <td>0.003323</td>\n",
       "      <td>0.268525</td>\n",
       "      <td>0.808860</td>\n",
       "      <td>0.385474</td>\n",
       "      <td>shap_1c</td>\n",
       "    </tr>\n",
       "    <tr>\n",
       "      <th>0</th>\n",
       "      <td>1.0</td>\n",
       "      <td>1.0</td>\n",
       "      <td>1.0</td>\n",
       "      <td>0.282028</td>\n",
       "      <td>48.184427</td>\n",
       "      <td>0.327675</td>\n",
       "      <td>0.634846</td>\n",
       "      <td>0.010805</td>\n",
       "      <td>l2x_1c</td>\n",
       "    </tr>\n",
       "    <tr>\n",
       "      <th>0</th>\n",
       "      <td>1.0</td>\n",
       "      <td>1.0</td>\n",
       "      <td>1.0</td>\n",
       "      <td>0.344111</td>\n",
       "      <td>0.045698</td>\n",
       "      <td>0.345560</td>\n",
       "      <td>0.674364</td>\n",
       "      <td>0.042397</td>\n",
       "      <td>lime_1c</td>\n",
       "    </tr>\n",
       "    <tr>\n",
       "      <th>0</th>\n",
       "      <td>1.0</td>\n",
       "      <td>1.0</td>\n",
       "      <td>1.0</td>\n",
       "      <td>0.344026</td>\n",
       "      <td>0.112164</td>\n",
       "      <td>0.345649</td>\n",
       "      <td>0.774930</td>\n",
       "      <td>0.428140</td>\n",
       "      <td>shap_1c</td>\n",
       "    </tr>\n",
       "    <tr>\n",
       "      <th>0</th>\n",
       "      <td>1.0</td>\n",
       "      <td>1.0</td>\n",
       "      <td>1.0</td>\n",
       "      <td>0.407234</td>\n",
       "      <td>153.725085</td>\n",
       "      <td>0.386549</td>\n",
       "      <td>0.652825</td>\n",
       "      <td>0.025510</td>\n",
       "      <td>l2x_1c</td>\n",
       "    </tr>\n",
       "    <tr>\n",
       "      <th>0</th>\n",
       "      <td>1.0</td>\n",
       "      <td>1.0</td>\n",
       "      <td>1.0</td>\n",
       "      <td>0.173025</td>\n",
       "      <td>1.224719</td>\n",
       "      <td>0.211371</td>\n",
       "      <td>0.756731</td>\n",
       "      <td>0.122862</td>\n",
       "      <td>lime_4c</td>\n",
       "    </tr>\n",
       "    <tr>\n",
       "      <th>0</th>\n",
       "      <td>1.0</td>\n",
       "      <td>1.0</td>\n",
       "      <td>1.0</td>\n",
       "      <td>0.173020</td>\n",
       "      <td>0.449198</td>\n",
       "      <td>0.211383</td>\n",
       "      <td>0.741425</td>\n",
       "      <td>0.339034</td>\n",
       "      <td>shap_4c</td>\n",
       "    </tr>\n",
       "    <tr>\n",
       "      <th>0</th>\n",
       "      <td>1.0</td>\n",
       "      <td>1.0</td>\n",
       "      <td>1.0</td>\n",
       "      <td>0.194732</td>\n",
       "      <td>1.028697</td>\n",
       "      <td>0.238816</td>\n",
       "      <td>0.696334</td>\n",
       "      <td>0.040751</td>\n",
       "      <td>l2x_4c</td>\n",
       "    </tr>\n",
       "    <tr>\n",
       "      <th>0</th>\n",
       "      <td>1.0</td>\n",
       "      <td>1.0</td>\n",
       "      <td>1.0</td>\n",
       "      <td>0.173556</td>\n",
       "      <td>43.296169</td>\n",
       "      <td>0.203374</td>\n",
       "      <td>0.716132</td>\n",
       "      <td>0.049195</td>\n",
       "      <td>lime_4c</td>\n",
       "    </tr>\n",
       "    <tr>\n",
       "      <th>0</th>\n",
       "      <td>1.0</td>\n",
       "      <td>1.0</td>\n",
       "      <td>1.0</td>\n",
       "      <td>0.172969</td>\n",
       "      <td>0.252655</td>\n",
       "      <td>0.203872</td>\n",
       "      <td>0.705845</td>\n",
       "      <td>0.357889</td>\n",
       "      <td>shap_4c</td>\n",
       "    </tr>\n",
       "    <tr>\n",
       "      <th>0</th>\n",
       "      <td>1.0</td>\n",
       "      <td>1.0</td>\n",
       "      <td>1.0</td>\n",
       "      <td>0.171006</td>\n",
       "      <td>30.414180</td>\n",
       "      <td>0.195135</td>\n",
       "      <td>0.736139</td>\n",
       "      <td>0.031950</td>\n",
       "      <td>l2x_4c</td>\n",
       "    </tr>\n",
       "    <tr>\n",
       "      <th>0</th>\n",
       "      <td>1.0</td>\n",
       "      <td>1.0</td>\n",
       "      <td>1.0</td>\n",
       "      <td>0.157646</td>\n",
       "      <td>0.105121</td>\n",
       "      <td>0.257622</td>\n",
       "      <td>0.852527</td>\n",
       "      <td>0.078462</td>\n",
       "      <td>lime_4c</td>\n",
       "    </tr>\n",
       "    <tr>\n",
       "      <th>0</th>\n",
       "      <td>1.0</td>\n",
       "      <td>1.0</td>\n",
       "      <td>0.8</td>\n",
       "      <td>0.157655</td>\n",
       "      <td>0.022828</td>\n",
       "      <td>0.257622</td>\n",
       "      <td>0.883613</td>\n",
       "      <td>0.375528</td>\n",
       "      <td>shap_4c</td>\n",
       "    </tr>\n",
       "    <tr>\n",
       "      <th>0</th>\n",
       "      <td>1.0</td>\n",
       "      <td>1.0</td>\n",
       "      <td>1.0</td>\n",
       "      <td>0.195002</td>\n",
       "      <td>3.106459</td>\n",
       "      <td>0.285369</td>\n",
       "      <td>0.830214</td>\n",
       "      <td>0.012451</td>\n",
       "      <td>l2x_4c</td>\n",
       "    </tr>\n",
       "    <tr>\n",
       "      <th>0</th>\n",
       "      <td>1.0</td>\n",
       "      <td>1.0</td>\n",
       "      <td>1.0</td>\n",
       "      <td>0.259514</td>\n",
       "      <td>0.009320</td>\n",
       "      <td>0.277188</td>\n",
       "      <td>0.830377</td>\n",
       "      <td>0.098068</td>\n",
       "      <td>lime_4c</td>\n",
       "    </tr>\n",
       "    <tr>\n",
       "      <th>0</th>\n",
       "      <td>1.0</td>\n",
       "      <td>1.0</td>\n",
       "      <td>0.9</td>\n",
       "      <td>0.259523</td>\n",
       "      <td>0.001423</td>\n",
       "      <td>0.277188</td>\n",
       "      <td>0.822325</td>\n",
       "      <td>0.383900</td>\n",
       "      <td>shap_4c</td>\n",
       "    </tr>\n",
       "    <tr>\n",
       "      <th>0</th>\n",
       "      <td>1.0</td>\n",
       "      <td>1.0</td>\n",
       "      <td>1.0</td>\n",
       "      <td>0.281256</td>\n",
       "      <td>27.404792</td>\n",
       "      <td>0.332168</td>\n",
       "      <td>0.726565</td>\n",
       "      <td>0.031055</td>\n",
       "      <td>l2x_4c</td>\n",
       "    </tr>\n",
       "    <tr>\n",
       "      <th>0</th>\n",
       "      <td>1.0</td>\n",
       "      <td>1.0</td>\n",
       "      <td>1.0</td>\n",
       "      <td>0.359086</td>\n",
       "      <td>101.169868</td>\n",
       "      <td>0.347035</td>\n",
       "      <td>0.737518</td>\n",
       "      <td>0.109517</td>\n",
       "      <td>lime_4c</td>\n",
       "    </tr>\n",
       "    <tr>\n",
       "      <th>0</th>\n",
       "      <td>1.0</td>\n",
       "      <td>1.0</td>\n",
       "      <td>1.0</td>\n",
       "      <td>0.358367</td>\n",
       "      <td>0.101268</td>\n",
       "      <td>0.347779</td>\n",
       "      <td>0.798829</td>\n",
       "      <td>0.256798</td>\n",
       "      <td>shap_4c</td>\n",
       "    </tr>\n",
       "    <tr>\n",
       "      <th>0</th>\n",
       "      <td>1.0</td>\n",
       "      <td>1.0</td>\n",
       "      <td>0.9</td>\n",
       "      <td>0.413468</td>\n",
       "      <td>172.272536</td>\n",
       "      <td>0.385054</td>\n",
       "      <td>0.723481</td>\n",
       "      <td>0.022970</td>\n",
       "      <td>l2x_4c</td>\n",
       "    </tr>\n",
       "  </tbody>\n",
       "</table>\n",
       "</div>"
      ],
      "text/plain": [
       "   identity  separability  stability  coherence  completness  congruence  \\\n",
       "0       1.0           1.0        1.0   0.250002   123.782043    0.306072   \n",
       "0       1.0           1.0        1.0   0.147780     0.473728    0.183380   \n",
       "0       1.0           1.0        0.9   0.181704     2.019102    0.222921   \n",
       "0       1.0           1.0        1.0   0.161335   573.330444    0.185664   \n",
       "0       1.0           1.0        1.0   0.157563     0.426702    0.181761   \n",
       "0       1.0           1.0        1.0   0.155116     0.608091    0.179124   \n",
       "0       1.0           1.0        1.0   0.144818    32.490021    0.245558   \n",
       "0       1.0           1.0        0.9   0.141376     0.547619    0.243418   \n",
       "0       1.0           1.0        1.0   0.174406     0.205540    0.271803   \n",
       "0       1.0           1.0        1.0   0.227306     0.198970    0.251178   \n",
       "0       1.0           1.0        1.0   0.222126     0.364323    0.248089   \n",
       "0       1.0           1.0        1.0   0.263990     2.096762    0.309280   \n",
       "0       1.0           1.0        0.9   0.425000     2.116523    0.338580   \n",
       "0       1.0           1.0        0.9   0.332974     0.279761    0.321704   \n",
       "0       1.0           1.0        0.9   0.472452    10.549357    0.356988   \n",
       "0       1.0           1.0        1.0   0.169157     0.115082    0.201659   \n",
       "0       1.0           1.0        1.0   0.165062     0.332956    0.204789   \n",
       "0       1.0           1.0        0.9   0.191224    31.856418    0.227029   \n",
       "0       1.0           1.0        1.0   0.184947     0.090515    0.192357   \n",
       "0       1.0           1.0        1.0   0.174043     0.304299    0.199392   \n",
       "0       1.0           1.0        1.0   0.174998    53.746679    0.182104   \n",
       "0       1.0           1.0        1.0   0.158008     0.107810    0.265650   \n",
       "0       1.0           1.0        0.7   0.157986     0.130773    0.265646   \n",
       "0       1.0           1.0        1.0   0.182560     1.174159    0.281069   \n",
       "0       1.0           1.0        1.0   0.251137     0.030016    0.269410   \n",
       "0       1.0           1.0        0.7   0.251109     0.037982    0.269405   \n",
       "0       1.0           1.0        1.0   0.272706     9.140040    0.321434   \n",
       "0       1.0           1.0        1.0   0.356382     0.019454    0.348228   \n",
       "0       1.0           1.0        1.0   0.356293     0.123914    0.348280   \n",
       "0       1.0           1.0        0.9   0.401215    43.579805    0.374669   \n",
       "0       1.0           1.0        0.9   0.173123     0.881901    0.207867   \n",
       "0       1.0           1.0        1.0   0.172968     0.431394    0.208001   \n",
       "0       1.0           1.0        1.0   0.245351    11.696603    0.246648   \n",
       "0       1.0           1.0        1.0   0.172175  3398.622559    0.195247   \n",
       "0       1.0           1.0        1.0   0.172178   925.036316    0.195250   \n",
       "0       1.0           1.0        1.0   0.173129   136.213708    0.197011   \n",
       "0       1.0           1.0        1.0   0.164355     0.086243    0.267859   \n",
       "0       1.0           1.0        0.8   0.164361     0.020511    0.267859   \n",
       "0       1.0           1.0        1.0   0.195850     5.651009    0.286022   \n",
       "0       1.0           1.0        1.0   0.230126     0.013983    0.268526   \n",
       "0       1.0           1.0        0.9   0.230131     0.003323    0.268525   \n",
       "0       1.0           1.0        1.0   0.282028    48.184427    0.327675   \n",
       "0       1.0           1.0        1.0   0.344111     0.045698    0.345560   \n",
       "0       1.0           1.0        1.0   0.344026     0.112164    0.345649   \n",
       "0       1.0           1.0        1.0   0.407234   153.725085    0.386549   \n",
       "0       1.0           1.0        1.0   0.173025     1.224719    0.211371   \n",
       "0       1.0           1.0        1.0   0.173020     0.449198    0.211383   \n",
       "0       1.0           1.0        1.0   0.194732     1.028697    0.238816   \n",
       "0       1.0           1.0        1.0   0.173556    43.296169    0.203374   \n",
       "0       1.0           1.0        1.0   0.172969     0.252655    0.203872   \n",
       "0       1.0           1.0        1.0   0.171006    30.414180    0.195135   \n",
       "0       1.0           1.0        1.0   0.157646     0.105121    0.257622   \n",
       "0       1.0           1.0        0.8   0.157655     0.022828    0.257622   \n",
       "0       1.0           1.0        1.0   0.195002     3.106459    0.285369   \n",
       "0       1.0           1.0        1.0   0.259514     0.009320    0.277188   \n",
       "0       1.0           1.0        0.9   0.259523     0.001423    0.277188   \n",
       "0       1.0           1.0        1.0   0.281256    27.404792    0.332168   \n",
       "0       1.0           1.0        1.0   0.359086   101.169868    0.347035   \n",
       "0       1.0           1.0        1.0   0.358367     0.101268    0.347779   \n",
       "0       1.0           1.0        0.9   0.413468   172.272536    0.385054   \n",
       "\n",
       "   selectivity   accumen explainer  \n",
       "0     0.614124  0.042397   lime_1c  \n",
       "0     0.568432  0.313524   shap_1c  \n",
       "0     0.620089  0.035886    l2x_1c  \n",
       "0     0.555408  0.119141   lime_1c  \n",
       "0     0.593014  0.472039   shap_1c  \n",
       "0     0.544497  0.052487    l2x_1c  \n",
       "0     0.630698  0.044520   lime_1c  \n",
       "0     0.660767  0.583059   shap_1c  \n",
       "0     0.669541  0.035313    l2x_1c  \n",
       "0     0.568998  0.113453   lime_1c  \n",
       "0     0.688988  0.445456   shap_1c  \n",
       "0     0.557521  0.069267    l2x_1c  \n",
       "0     0.549563  0.039991   lime_1c  \n",
       "0     0.695471  0.309589   shap_1c  \n",
       "0     0.578450  0.031807    l2x_1c  \n",
       "0     0.773606  0.125152   lime_1c  \n",
       "0     0.683550  0.496386   shap_1c  \n",
       "0     0.725285  0.024007    l2x_1c  \n",
       "0     0.728775  0.113309   lime_1c  \n",
       "0     0.713577  0.497782   shap_1c  \n",
       "0     0.733611  0.027191    l2x_1c  \n",
       "0     0.796059  0.119392   lime_1c  \n",
       "0     0.800742  0.487764   shap_1c  \n",
       "0     0.759638  0.023470    l2x_1c  \n",
       "0     0.660487  0.120465   lime_1c  \n",
       "0     0.845338  0.423399   shap_1c  \n",
       "0     0.757681  0.017567    l2x_1c  \n",
       "0     0.664373  0.136565   lime_1c  \n",
       "0     0.798989  0.594794   shap_1c  \n",
       "0     0.614686  0.039177    l2x_1c  \n",
       "0     0.688933  0.076852   lime_1c  \n",
       "0     0.755051  0.459463   shap_1c  \n",
       "0     0.705673  0.020894    l2x_1c  \n",
       "0     0.778656  0.120072   lime_1c  \n",
       "0     0.713683  0.523971   shap_1c  \n",
       "0     0.641283  0.041216    l2x_1c  \n",
       "0     0.800593  0.057424   lime_1c  \n",
       "0     0.845017  0.330769   shap_1c  \n",
       "0     0.789202  0.027513    l2x_1c  \n",
       "0     0.721532  0.141109   lime_1c  \n",
       "0     0.808860  0.385474   shap_1c  \n",
       "0     0.634846  0.010805    l2x_1c  \n",
       "0     0.674364  0.042397   lime_1c  \n",
       "0     0.774930  0.428140   shap_1c  \n",
       "0     0.652825  0.025510    l2x_1c  \n",
       "0     0.756731  0.122862   lime_4c  \n",
       "0     0.741425  0.339034   shap_4c  \n",
       "0     0.696334  0.040751    l2x_4c  \n",
       "0     0.716132  0.049195   lime_4c  \n",
       "0     0.705845  0.357889   shap_4c  \n",
       "0     0.736139  0.031950    l2x_4c  \n",
       "0     0.852527  0.078462   lime_4c  \n",
       "0     0.883613  0.375528   shap_4c  \n",
       "0     0.830214  0.012451    l2x_4c  \n",
       "0     0.830377  0.098068   lime_4c  \n",
       "0     0.822325  0.383900   shap_4c  \n",
       "0     0.726565  0.031055    l2x_4c  \n",
       "0     0.737518  0.109517   lime_4c  \n",
       "0     0.798829  0.256798   shap_4c  \n",
       "0     0.723481  0.022970    l2x_4c  "
      ]
     },
     "execution_count": 79,
     "metadata": {},
     "output_type": "execute_result"
    }
   ],
   "source": [
    "# df_metrics5 = pd.DataFrame()\n",
    "# model = model_2c\n",
    "for rd in range(5):\n",
    "    # Echantillonage\n",
    "    n_individus = test_array_1c.shape[0]\n",
    "\n",
    "    # # Choisir aléatoirement 10 indices d'individus\n",
    "    np.random.seed(rd)\n",
    "    indices_choisis = np.random.choice(n_individus, size=10, replace=False)\n",
    "\n",
    "    # # Sélectionner les données correspondant aux indices choisis\n",
    "    test_array_sampling = test_array_1c[indices_choisis, :, :]\n",
    "    label_array_sampling = y_test.values[indices_choisis, :]\n",
    "\n",
    "    # # Afficher les dimensions des données sélectionnées\n",
    "    print(test_array_sampling.shape, label_array_sampling.shape)\n",
    "    # distance matrix XX'\n",
    "    X_dist = pd.DataFrame(squareform(pdist(test_array_sampling.reshape((test_array_sampling.shape[0], -1)))))\n",
    "\n",
    "    if True :\n",
    "        # LIME\n",
    "        lime_explainer = RecurrentTabularExplainer(test_array, training_labels=label_array,\n",
    "                                                           feature_names=remaining_sensors,\n",
    "                                                           mode = 'regression',\n",
    "                                                           )\n",
    "        lime_values = get_lime_explanation(test_array_sampling, e = model.predict)\n",
    "        Lime_dist = pd.DataFrame(squareform(pdist(lime_values))) # Lime values explanation matrix\n",
    "\n",
    "        #Lime's metrics\n",
    "        list_metrics_lime = {}\n",
    "        list_metrics_lime['identity'] = identity(X_dist, Lime_dist)\n",
    "        list_metrics_lime['separability'] = separability(X_dist, Lime_dist)\n",
    "        list_metrics_lime['stability'] = stability(X_dist, Lime_dist)\n",
    "        list_metrics_lime['coherence'], list_metrics_lime['completness'], list_metrics_lime['congruence'] = coherence(model=model.predict, \n",
    "                                                    explainer = get_lime_explanation,\n",
    "                                                   samples=test_array_sampling,\n",
    "                                                    targets=label_array, e = model.predict)\n",
    "        list_metrics_lime['selectivity'] = selectivity(model=model.predict, explainer = get_lime_explanation,\n",
    "                                                   samples=test_array_sampling, e_x = model.predict)\n",
    "        list_metrics_lime['accumen'] = acumen(get_lime_explanation, test_array_sampling, e=model.predict)\n",
    "        list_metrics_lime['explainer'] = 'lime_4c'\n",
    "        df_metrics5 = pd.concat([df_metrics5, pd.DataFrame([list_metrics_lime])])\n",
    "        print(\"Lime OK!!\")\n",
    "\n",
    "        # SHAP\n",
    "        e = KernelSHAP(model)\n",
    "        shapvalues = get_explainations(test_array_sampling, e)\n",
    "        shapvalues.shape\n",
    "\n",
    "        list_metrics_shap = {}\n",
    "        shap_dist = pd.DataFrame(squareform(pdist(shapvalues))) # shap values explanation matrix\n",
    "\n",
    "        list_metrics_shap['identity'] = identity(X_dist, shap_dist)\n",
    "        list_metrics_shap['separability'] = separability(X_dist, shap_dist)\n",
    "        list_metrics_shap['stability'] = stability(X_dist, shap_dist)\n",
    "        list_metrics_shap['coherence'], list_metrics_shap['completness'], list_metrics_shap['congruence'] = coherence(model=model.predict, \n",
    "                                                    explainer = get_explainations,\n",
    "                                                   samples=test_array_sampling,\n",
    "                                                    targets=label_array, e = e)\n",
    "        list_metrics_shap['selectivity'] = selectivity(model=model.predict, explainer = get_explainations,\n",
    "                                       samples=test_array_sampling, e_x=e)\n",
    "        list_metrics_shap['accumen'] = acumen(get_explainations, test_array_sampling, e=e)\n",
    "\n",
    "        list_metrics_shap['explainer'] = 'shap_4c'\n",
    "        df_metrics5 = pd.concat([df_metrics5, pd.DataFrame([list_metrics_shap])])\n",
    "        print(\"shap OK !!\")\n",
    "\n",
    "        # L2X\n",
    "        e = L2X(model.predict, test_array_sampling)\n",
    "        l2xvalues = get_explainations(test_array_sampling, e, L2X=True)\n",
    "        l2xvalues.shape\n",
    "\n",
    "        # l2x's metrics\n",
    "        list_metrics_l2x = {}\n",
    "        l2x_dist = pd.DataFrame(squareform(pdist(l2xvalues))) # Lime values explanation matrix\n",
    "\n",
    "        list_metrics_l2x['identity'] = identity(X_dist, l2x_dist)\n",
    "        list_metrics_l2x['separability'] = separability(X_dist, l2x_dist)\n",
    "        list_metrics_l2x['stability'] = stability(X_dist, l2x_dist)\n",
    "        list_metrics_l2x['coherence'], list_metrics_l2x['completness'], list_metrics_l2x['congruence'] = coherence(model=model.predict, explainer = get_explainations,\n",
    "                                                   samples=test_array_sampling, targets=label_array_sampling, e = e, L2X=True)\n",
    "        list_metrics_l2x['selectivity'] = selectivity(model=model.predict, explainer = get_explainations,\n",
    "                                       samples=test_array_sampling, e_x=e, L2X=True)\n",
    "        list_metrics_l2x['accumen'] = acumen(get_explainations, test_array_sampling, e=e, L2X=True)\n",
    "        list_metrics_l2x['explainer'] = 'l2x_4c'\n",
    "        print(\"L2X OK !!\")\n",
    "\n",
    "        df_metrics5 = pd.concat([df_metrics5, pd.DataFrame([list_metrics_l2x])])\n",
    "df_metrics5"
   ]
  },
  {
   "cell_type": "code",
   "execution_count": 80,
   "id": "43e1a5b1",
   "metadata": {},
   "outputs": [],
   "source": [
    "df_metrics5.to_csv('sfds_result/df_metrics5_sfds.csv')"
   ]
  },
  {
   "cell_type": "code",
   "execution_count": 37,
   "id": "8a8c25c1",
   "metadata": {},
   "outputs": [
    {
     "name": "stdout",
     "output_type": "stream",
     "text": [
      "INFO:tensorflow:Assets written to: /sfds_result/model_1c\\assets\n"
     ]
    },
    {
     "name": "stderr",
     "output_type": "stream",
     "text": [
      "INFO:tensorflow:Assets written to: /sfds_result/model_1c\\assets\n"
     ]
    }
   ],
   "source": [
    "# model_1c = model\n",
    "model_1c.save('/sfds_result/model_1c')"
   ]
  },
  {
   "cell_type": "markdown",
   "id": "389c4e96",
   "metadata": {},
   "source": [
    "## Sommaire: <a class=\"anchor\" id=\"sommaire\"></a>\n",
    "* [Sommaire](#sommaire)\n",
    "* [I. Mise en place des fonctions](#function)\n",
    "    * [1. KernelSHAP](#KernelSHAP)\n",
    "    * [2. L2X](#l2x)\n",
    "    * [3. Génération des explications](#f_xai)\n",
    "    * [4. Métriques d'évaluation](#metrique)\n",
    "    * [5. Fonction pour la préparation des données et du modèle d'analyse](#dataprep)\n",
    "* [II. Chargement des données](#data)\n",
    "* [III. Expérimentation](#experiementation)\n",
    "    * [1. Model à une couche](#model1layer)\n",
    "    * [2. Model à deux couches](#model2layer)\n",
    "    * [3. Model à 3 couches](#model3layer)\n",
    "    * [4. Model à 4 couches](#model4layer)\n",
    "    * [5. Model à 5 couches](#model5layer)\n",
    "* [IV. Evaluation des explication](#xai_metric)"
   ]
  },
  {
   "cell_type": "markdown",
   "id": "46686757",
   "metadata": {},
   "source": [
    "### Model à 2 couches <a id=\"model2layer\"></a>"
   ]
  },
  {
   "cell_type": "code",
   "execution_count": 33,
   "id": "5a5bb29b",
   "metadata": {},
   "outputs": [
    {
     "name": "stdout",
     "output_type": "stream",
     "text": [
      "8/8 [==============================] - 1s 13ms/step\n",
      "8/8 [==============================] - 1s 13ms/step\n",
      "8/8 [==============================] - 1s 12ms/step\n"
     ]
    },
    {
     "data": {
      "text/plain": [
       "[{'RMSE_val': array([12.55781551,  9.87828956,  9.4201687 ]),\n",
       "  'RMSE_test': [12.859532985813635, 12.095526710549679, 13.587672280687546],\n",
       "  'R2_test': 0.8629494930038405,\n",
       "  'Score_test': 851.3852822448085,\n",
       "  'alpha': 0.5,\n",
       "  'rul_piecewise': 100,\n",
       "  'sequence_length': 40},\n",
       " {'RMSE_val': array([32.47388148,  9.54485333,  8.73792065]),\n",
       "  'RMSE_test': [35.24477417004867, 13.600942821270046, 9.888630401663995],\n",
       "  'R2_test': 0.5788844663564608,\n",
       "  'Score_test': 10162.63439248012,\n",
       "  'alpha': 0.5,\n",
       "  'rul_piecewise': 100,\n",
       "  'sequence_length': 40}]"
      ]
     },
     "execution_count": 33,
     "metadata": {},
     "output_type": "execute_result"
    }
   ],
   "source": [
    "# Modeling\n",
    "if True:\n",
    "    weights_file = str(alpha) + '2lstm_hyper_parameter_weights.h5'\n",
    "    model = create_lstm_2layers(dropout, activation, weights_file, input_shape=input_shape)\n",
    "    mse = []\n",
    "    \n",
    "    mse_val = []\n",
    "    R2_val = []\n",
    "    RMSE = []\n",
    "    score_val = []\n",
    "    \n",
    "    with tf.device('/device:GPU:0'):\n",
    "        for train_unit, val_unit in gss.split(X_train_interim['Unit'].unique(), groups=X_train_interim['Unit'].unique()):\n",
    "            train_unit = X_train_interim['Unit'].unique()[train_unit]  # gss returns indexes and index starts at 1\n",
    "            train_split_array = gen_data_wrapper(X_train_interim, sequence_length, remaining_sensors, train_unit)\n",
    "            train_split_label = gen_label_wrapper(X_train_interim, sequence_length, ['RUL'], train_unit)\n",
    "\n",
    "            val_unit = X_train_interim['Unit'].unique()[val_unit]\n",
    "            val_split_array = gen_data_wrapper(X_train_interim, sequence_length, remaining_sensors, val_unit)\n",
    "            val_split_label = gen_label_wrapper(X_train_interim, sequence_length, ['RUL'], val_unit)\n",
    "\n",
    "            # train and evaluate model\n",
    "            model.compile(loss='mse', optimizer='adam')\n",
    "#             model.load_weights(weights_file)  # reset optimizer and node weights before every training iteration\n",
    "\n",
    "#             with tf.device('/device:GPU:0'):\n",
    "            history = model.fit(train_split_array, train_split_label,\n",
    "                                validation_data=(val_split_array, val_split_label),\n",
    "                                epochs=epochs,\n",
    "                                batch_size=batch_size,\n",
    "                                verbose=0)\n",
    "#             mse.append(history.history['val_loss'][-1])\n",
    "            test_gen = (list(gen_test_data(X_test_interim[X_test_interim['Unit']==unit_nr], sequence_length,remaining_sensors, -99.))\n",
    "                            for unit_nr in X_test_interim['Unit'].unique())\n",
    "            test_array = np.concatenate(list(test_gen)).astype(np.float32)\n",
    "            mse_val.append(history.history['val_loss'][-1])\n",
    "            y_hat_val_split = model.predict(test_array)\n",
    "            R2_val.append(r2_score(test_rul, y_hat_val_split))\n",
    "            RMSE.append(np.sqrt(mean_squared_error(test_rul, y_hat_val_split)))\n",
    "            score_val.append(compute_s_score(test_rul, y_hat_val_split))\n",
    "    d = {'RMSE_val':np.sqrt(mse_val),'RMSE_test': RMSE,'R2_test':np.mean(R2_val), 'Score_test':np.mean(score_val),\n",
    "                'alpha':alpha, 'rul_piecewise':upper, 'sequence_length':sequence_length}\n",
    "output.append(d)\n",
    "model_2c = model\n",
    "output"
   ]
  },
  {
   "cell_type": "code",
   "execution_count": 34,
   "id": "82c872e5",
   "metadata": {},
   "outputs": [
    {
     "name": "stdout",
     "output_type": "stream",
     "text": [
      " Model evaluation for FD004 : \n",
      "1611/1611 [==============================] - 27s 17ms/step\n",
      "train set RMSE:9.073166847229004, R2:0.9208064608032496\n",
      "8/8 [==============================] - 0s 14ms/step\n",
      "test set RMSE:9.888630401663995, R2:0.918990677992583\n",
      " \n",
      " Model evaluation for FD004 : \n",
      "8/8 [==============================] - 0s 15ms/step\n",
      "test set RMSE:9.888630401663995, R2:0.918990677992583\n",
      " \n",
      "S-score for test :  445.6088233055366\n",
      " \n"
     ]
    }
   ],
   "source": [
    "print(\" Model evaluation for FD004 : \")\n",
    "y_hat_train = model.predict(train_array)\n",
    "evaluate(label_array, y_hat_train, 'train')\n",
    "\n",
    "y_hat_test = model.predict(test_array)\n",
    "evaluate(y_test, y_hat_test)\n",
    "print(' ')\n",
    "print(\" Model evaluation for FD004 : \")\n",
    "\n",
    "y_hat_test = model.predict(test_array)\n",
    "evaluate(y_test['RUL'].clip(upper=upper), y_hat_test)\n",
    "print(' ')\n",
    "print(\"S-score for test : \",compute_s_score(y_test, y_hat_test))\n",
    "print(' ')"
   ]
  },
  {
   "cell_type": "code",
   "execution_count": 85,
   "id": "9021f812",
   "metadata": {},
   "outputs": [],
   "source": [
    "RMSE.append(9.88)\n",
    "Sscore.append(445.61)"
   ]
  },
  {
   "cell_type": "markdown",
   "id": "d2b26500",
   "metadata": {},
   "source": [
    "### 2 Layers explanation"
   ]
  },
  {
   "cell_type": "code",
   "execution_count": 35,
   "id": "e8831ca1",
   "metadata": {
    "scrolled": true
   },
   "outputs": [
    {
     "name": "stdout",
     "output_type": "stream",
     "text": [
      "157/157 [==============================] - 3s 19ms/step\n",
      "157/157 [==============================] - 3s 16ms/step\n",
      "157/157 [==============================] - 3s 16ms/step\n",
      "157/157 [==============================] - 3s 17ms/step\n",
      "157/157 [==============================] - 2s 15ms/step\n",
      "157/157 [==============================] - 2s 14ms/step\n",
      "157/157 [==============================] - 3s 17ms/step\n",
      "157/157 [==============================] - 2s 13ms/step\n",
      "157/157 [==============================] - 3s 17ms/step\n",
      "157/157 [==============================] - 2s 15ms/step\n",
      "157/157 [==============================] - 2s 13ms/step\n",
      "157/157 [==============================] - 3s 17ms/step\n",
      "157/157 [==============================] - 3s 16ms/step\n",
      "157/157 [==============================] - 2s 16ms/step\n",
      "157/157 [==============================] - 2s 15ms/step\n",
      "157/157 [==============================] - 2s 15ms/step\n",
      "157/157 [==============================] - 2s 15ms/step\n",
      "157/157 [==============================] - 3s 17ms/step\n",
      "157/157 [==============================] - 3s 17ms/step\n",
      "157/157 [==============================] - 3s 18ms/step\n",
      "157/157 [==============================] - 3s 17ms/step\n",
      "157/157 [==============================] - 3s 17ms/step\n",
      "157/157 [==============================] - 2s 15ms/step\n",
      "157/157 [==============================] - 3s 17ms/step\n",
      "157/157 [==============================] - 2s 14ms/step\n",
      "157/157 [==============================] - 2s 14ms/step\n",
      "157/157 [==============================] - 2s 15ms/step\n",
      "157/157 [==============================] - 2s 14ms/step\n",
      "157/157 [==============================] - 3s 18ms/step\n",
      "157/157 [==============================] - 3s 16ms/step\n",
      "157/157 [==============================] - 3s 17ms/step\n",
      "157/157 [==============================] - 3s 19ms/step\n",
      "157/157 [==============================] - 3s 16ms/step\n",
      "157/157 [==============================] - 3s 16ms/step\n",
      "157/157 [==============================] - 3s 19ms/step\n",
      "157/157 [==============================] - 3s 17ms/step\n",
      "157/157 [==============================] - 2s 16ms/step\n",
      "157/157 [==============================] - 3s 18ms/step\n",
      "157/157 [==============================] - 3s 17ms/step\n",
      "157/157 [==============================] - 2s 15ms/step\n",
      "1/1 [==============================] - 0s 42ms/step\n",
      "1/1 [==============================] - 0s 51ms/step\n"
     ]
    },
    {
     "name": "stderr",
     "output_type": "stream",
     "text": [
      "\r\n",
      "  0%|                                                                                           | 0/20 [00:00<?, ?it/s]"
     ]
    },
    {
     "name": "stdout",
     "output_type": "stream",
     "text": [
      "157/157 [==============================] - 2s 15ms/step\n",
      "18/18 [==============================] - 0s 15ms/step\n"
     ]
    },
    {
     "name": "stderr",
     "output_type": "stream",
     "text": [
      "\r\n",
      "  5%|████▏                                                                              | 1/20 [00:04<01:18,  4.16s/it]"
     ]
    },
    {
     "name": "stdout",
     "output_type": "stream",
     "text": [
      "157/157 [==============================] - 2s 15ms/step\n",
      "18/18 [==============================] - 0s 19ms/step\n"
     ]
    },
    {
     "name": "stderr",
     "output_type": "stream",
     "text": [
      "\r\n",
      " 10%|████████▎                                                                          | 2/20 [00:08<01:15,  4.21s/it]"
     ]
    },
    {
     "name": "stdout",
     "output_type": "stream",
     "text": [
      "157/157 [==============================] - 3s 18ms/step\n",
      "18/18 [==============================] - 0s 18ms/step\n"
     ]
    },
    {
     "name": "stderr",
     "output_type": "stream",
     "text": [
      "\r\n",
      " 15%|████████████▍                                                                      | 3/20 [00:13<01:15,  4.44s/it]"
     ]
    },
    {
     "name": "stdout",
     "output_type": "stream",
     "text": [
      "157/157 [==============================] - 2s 15ms/step\n",
      "18/18 [==============================] - 0s 19ms/step\n"
     ]
    },
    {
     "name": "stderr",
     "output_type": "stream",
     "text": [
      "\r\n",
      " 20%|████████████████▌                                                                  | 4/20 [00:17<01:10,  4.38s/it]"
     ]
    },
    {
     "name": "stdout",
     "output_type": "stream",
     "text": [
      "157/157 [==============================] - 2s 15ms/step\n",
      "18/18 [==============================] - 0s 20ms/step\n"
     ]
    },
    {
     "name": "stderr",
     "output_type": "stream",
     "text": [
      "\r\n",
      " 25%|████████████████████▊                                                              | 5/20 [00:21<01:05,  4.38s/it]"
     ]
    },
    {
     "name": "stdout",
     "output_type": "stream",
     "text": [
      "157/157 [==============================] - 3s 16ms/step\n",
      "18/18 [==============================] - 0s 20ms/step\n"
     ]
    },
    {
     "name": "stderr",
     "output_type": "stream",
     "text": [
      "\r\n",
      " 30%|████████████████████████▉                                                          | 6/20 [00:26<01:02,  4.45s/it]"
     ]
    },
    {
     "name": "stdout",
     "output_type": "stream",
     "text": [
      "157/157 [==============================] - 3s 17ms/step\n",
      "18/18 [==============================] - 0s 19ms/step\n"
     ]
    },
    {
     "name": "stderr",
     "output_type": "stream",
     "text": [
      "\r\n",
      " 35%|█████████████████████████████                                                      | 7/20 [00:31<00:58,  4.51s/it]"
     ]
    },
    {
     "name": "stdout",
     "output_type": "stream",
     "text": [
      "157/157 [==============================] - 3s 18ms/step\n",
      "18/18 [==============================] - 0s 21ms/step\n"
     ]
    },
    {
     "name": "stderr",
     "output_type": "stream",
     "text": [
      "\r\n",
      " 40%|█████████████████████████████████▏                                                 | 8/20 [00:35<00:55,  4.65s/it]"
     ]
    },
    {
     "name": "stdout",
     "output_type": "stream",
     "text": [
      "157/157 [==============================] - 3s 18ms/step\n",
      "18/18 [==============================] - 0s 16ms/step\n"
     ]
    },
    {
     "name": "stderr",
     "output_type": "stream",
     "text": [
      "\r\n",
      " 45%|█████████████████████████████████████▎                                             | 9/20 [00:40<00:51,  4.68s/it]"
     ]
    },
    {
     "name": "stdout",
     "output_type": "stream",
     "text": [
      "157/157 [==============================] - 3s 17ms/step\n",
      "18/18 [==============================] - 0s 19ms/step\n"
     ]
    },
    {
     "name": "stderr",
     "output_type": "stream",
     "text": [
      "\r\n",
      " 50%|█████████████████████████████████████████                                         | 10/20 [00:45<00:46,  4.63s/it]"
     ]
    },
    {
     "name": "stdout",
     "output_type": "stream",
     "text": [
      "157/157 [==============================] - 2s 15ms/step\n",
      "18/18 [==============================] - 0s 21ms/step\n"
     ]
    },
    {
     "name": "stderr",
     "output_type": "stream",
     "text": [
      "\r\n",
      " 55%|█████████████████████████████████████████████                                     | 11/20 [00:49<00:40,  4.52s/it]"
     ]
    },
    {
     "name": "stdout",
     "output_type": "stream",
     "text": [
      "157/157 [==============================] - 3s 17ms/step\n",
      "18/18 [==============================] - 0s 20ms/step\n"
     ]
    },
    {
     "name": "stderr",
     "output_type": "stream",
     "text": [
      "\r\n",
      " 60%|█████████████████████████████████████████████████▏                                | 12/20 [00:54<00:36,  4.57s/it]"
     ]
    },
    {
     "name": "stdout",
     "output_type": "stream",
     "text": [
      "157/157 [==============================] - 3s 16ms/step\n",
      "18/18 [==============================] - 0s 19ms/step\n"
     ]
    },
    {
     "name": "stderr",
     "output_type": "stream",
     "text": [
      "\r\n",
      " 65%|█████████████████████████████████████████████████████▎                            | 13/20 [00:58<00:31,  4.54s/it]"
     ]
    },
    {
     "name": "stdout",
     "output_type": "stream",
     "text": [
      "157/157 [==============================] - 3s 17ms/step\n",
      "18/18 [==============================] - 0s 17ms/step\n"
     ]
    },
    {
     "name": "stderr",
     "output_type": "stream",
     "text": [
      "\r\n",
      " 70%|█████████████████████████████████████████████████████████▍                        | 14/20 [01:03<00:27,  4.59s/it]"
     ]
    },
    {
     "name": "stdout",
     "output_type": "stream",
     "text": [
      "157/157 [==============================] - 2s 16ms/step\n",
      "18/18 [==============================] - 0s 22ms/step\n"
     ]
    },
    {
     "name": "stderr",
     "output_type": "stream",
     "text": [
      "\r\n",
      " 75%|█████████████████████████████████████████████████████████████▌                    | 15/20 [01:07<00:22,  4.58s/it]"
     ]
    },
    {
     "name": "stdout",
     "output_type": "stream",
     "text": [
      "157/157 [==============================] - 3s 17ms/step\n",
      "18/18 [==============================] - 0s 19ms/step\n"
     ]
    },
    {
     "name": "stderr",
     "output_type": "stream",
     "text": [
      "\r\n",
      " 80%|█████████████████████████████████████████████████████████████████▌                | 16/20 [01:12<00:18,  4.64s/it]"
     ]
    },
    {
     "name": "stdout",
     "output_type": "stream",
     "text": [
      "157/157 [==============================] - 2s 15ms/step\n",
      "18/18 [==============================] - 0s 17ms/step\n"
     ]
    },
    {
     "name": "stderr",
     "output_type": "stream",
     "text": [
      "\r\n",
      " 85%|█████████████████████████████████████████████████████████████████████▋            | 17/20 [01:17<00:13,  4.56s/it]"
     ]
    },
    {
     "name": "stdout",
     "output_type": "stream",
     "text": [
      "157/157 [==============================] - 3s 17ms/step\n",
      "18/18 [==============================] - 0s 17ms/step\n"
     ]
    },
    {
     "name": "stderr",
     "output_type": "stream",
     "text": [
      "\r\n",
      " 90%|█████████████████████████████████████████████████████████████████████████▊        | 18/20 [01:21<00:09,  4.60s/it]"
     ]
    },
    {
     "name": "stdout",
     "output_type": "stream",
     "text": [
      "157/157 [==============================] - 2s 15ms/step\n",
      "18/18 [==============================] - 0s 12ms/step\n"
     ]
    },
    {
     "name": "stderr",
     "output_type": "stream",
     "text": [
      "\r\n",
      " 95%|█████████████████████████████████████████████████████████████████████████████▉    | 19/20 [01:26<00:04,  4.55s/it]"
     ]
    },
    {
     "name": "stdout",
     "output_type": "stream",
     "text": [
      "157/157 [==============================] - 3s 18ms/step\n",
      "18/18 [==============================] - 0s 20ms/step\n"
     ]
    },
    {
     "name": "stderr",
     "output_type": "stream",
     "text": [
      "100%|██████████████████████████████████████████████████████████████████████████████████| 20/20 [01:31<00:00,  4.55s/it]\n",
      "  0%|                                                                                           | 0/20 [00:00<?, ?it/s]"
     ]
    },
    {
     "name": "stdout",
     "output_type": "stream",
     "text": [
      "157/157 [==============================] - 3s 20ms/step\n",
      "157/157 [==============================] - 3s 17ms/step\n"
     ]
    },
    {
     "name": "stderr",
     "output_type": "stream",
     "text": [
      "\r\n",
      "  5%|████▏                                                                              | 1/20 [00:09<02:53,  9.13s/it]"
     ]
    },
    {
     "name": "stdout",
     "output_type": "stream",
     "text": [
      "157/157 [==============================] - 3s 16ms/step\n",
      "157/157 [==============================] - 3s 17ms/step\n"
     ]
    },
    {
     "name": "stderr",
     "output_type": "stream",
     "text": [
      "\r\n",
      " 10%|████████▎                                                                          | 2/20 [00:17<02:38,  8.83s/it]"
     ]
    },
    {
     "name": "stdout",
     "output_type": "stream",
     "text": [
      "157/157 [==============================] - 3s 17ms/step\n",
      "157/157 [==============================] - 3s 16ms/step\n"
     ]
    },
    {
     "name": "stderr",
     "output_type": "stream",
     "text": [
      "\r\n",
      " 15%|████████████▍                                                                      | 3/20 [00:26<02:27,  8.68s/it]"
     ]
    },
    {
     "name": "stdout",
     "output_type": "stream",
     "text": [
      "157/157 [==============================] - 3s 18ms/step\n",
      "157/157 [==============================] - 2s 16ms/step\n"
     ]
    },
    {
     "name": "stderr",
     "output_type": "stream",
     "text": [
      "\r\n",
      " 20%|████████████████▌                                                                  | 4/20 [00:34<02:15,  8.44s/it]"
     ]
    },
    {
     "name": "stdout",
     "output_type": "stream",
     "text": [
      "157/157 [==============================] - 3s 16ms/step\n",
      "157/157 [==============================] - 3s 17ms/step\n"
     ]
    },
    {
     "name": "stderr",
     "output_type": "stream",
     "text": [
      "\r\n",
      " 25%|████████████████████▊                                                              | 5/20 [00:42<02:05,  8.37s/it]"
     ]
    },
    {
     "name": "stdout",
     "output_type": "stream",
     "text": [
      "157/157 [==============================] - 3s 17ms/step\n",
      "157/157 [==============================] - 3s 17ms/step\n"
     ]
    },
    {
     "name": "stderr",
     "output_type": "stream",
     "text": [
      "\r\n",
      " 30%|████████████████████████▉                                                          | 6/20 [00:50<01:56,  8.35s/it]"
     ]
    },
    {
     "name": "stdout",
     "output_type": "stream",
     "text": [
      "157/157 [==============================] - 3s 16ms/step\n",
      "157/157 [==============================] - 2s 13ms/step\n"
     ]
    },
    {
     "name": "stderr",
     "output_type": "stream",
     "text": [
      "\r\n",
      " 35%|█████████████████████████████                                                      | 7/20 [00:58<01:44,  8.06s/it]"
     ]
    },
    {
     "name": "stdout",
     "output_type": "stream",
     "text": [
      "157/157 [==============================] - 3s 18ms/step\n",
      "157/157 [==============================] - 2s 14ms/step\n"
     ]
    },
    {
     "name": "stderr",
     "output_type": "stream",
     "text": [
      "\r\n",
      " 40%|█████████████████████████████████▏                                                 | 8/20 [01:06<01:36,  8.01s/it]"
     ]
    },
    {
     "name": "stdout",
     "output_type": "stream",
     "text": [
      "157/157 [==============================] - 3s 17ms/step\n",
      "157/157 [==============================] - 3s 17ms/step\n"
     ]
    },
    {
     "name": "stderr",
     "output_type": "stream",
     "text": [
      "\r\n",
      " 45%|█████████████████████████████████████▎                                             | 9/20 [01:14<01:28,  8.08s/it]"
     ]
    },
    {
     "name": "stdout",
     "output_type": "stream",
     "text": [
      "157/157 [==============================] - 3s 17ms/step\n",
      "157/157 [==============================] - 2s 15ms/step\n"
     ]
    },
    {
     "name": "stderr",
     "output_type": "stream",
     "text": [
      "\r\n",
      " 50%|█████████████████████████████████████████                                         | 10/20 [01:22<01:20,  8.03s/it]"
     ]
    },
    {
     "name": "stdout",
     "output_type": "stream",
     "text": [
      "157/157 [==============================] - 3s 17ms/step\n",
      "157/157 [==============================] - 2s 15ms/step\n"
     ]
    },
    {
     "name": "stderr",
     "output_type": "stream",
     "text": [
      "\r\n",
      " 55%|█████████████████████████████████████████████                                     | 11/20 [01:30<01:12,  8.07s/it]"
     ]
    },
    {
     "name": "stdout",
     "output_type": "stream",
     "text": [
      "157/157 [==============================] - 2s 15ms/step\n",
      "157/157 [==============================] - 3s 18ms/step\n"
     ]
    },
    {
     "name": "stderr",
     "output_type": "stream",
     "text": [
      "\r\n",
      " 60%|█████████████████████████████████████████████████▏                                | 12/20 [01:39<01:05,  8.23s/it]"
     ]
    },
    {
     "name": "stdout",
     "output_type": "stream",
     "text": [
      "157/157 [==============================] - 2s 16ms/step\n",
      "157/157 [==============================] - 2s 13ms/step\n"
     ]
    },
    {
     "name": "stderr",
     "output_type": "stream",
     "text": [
      "\r\n",
      " 65%|█████████████████████████████████████████████████████▎                            | 13/20 [01:46<00:56,  8.11s/it]"
     ]
    },
    {
     "name": "stdout",
     "output_type": "stream",
     "text": [
      "157/157 [==============================] - 3s 17ms/step\n",
      "157/157 [==============================] - 3s 17ms/step\n"
     ]
    },
    {
     "name": "stderr",
     "output_type": "stream",
     "text": [
      "\r\n",
      " 70%|█████████████████████████████████████████████████████████▍                        | 14/20 [01:55<00:49,  8.33s/it]"
     ]
    },
    {
     "name": "stdout",
     "output_type": "stream",
     "text": [
      "157/157 [==============================] - 2s 15ms/step\n",
      "157/157 [==============================] - 3s 19ms/step\n"
     ]
    },
    {
     "name": "stderr",
     "output_type": "stream",
     "text": [
      "\r\n",
      " 75%|█████████████████████████████████████████████████████████████▌                    | 15/20 [02:04<00:42,  8.44s/it]"
     ]
    },
    {
     "name": "stdout",
     "output_type": "stream",
     "text": [
      "157/157 [==============================] - 2s 16ms/step\n",
      "157/157 [==============================] - 2s 14ms/step\n"
     ]
    },
    {
     "name": "stderr",
     "output_type": "stream",
     "text": [
      "\r\n",
      " 80%|█████████████████████████████████████████████████████████████████▌                | 16/20 [02:12<00:33,  8.34s/it]"
     ]
    },
    {
     "name": "stdout",
     "output_type": "stream",
     "text": [
      "157/157 [==============================] - 3s 18ms/step\n",
      "157/157 [==============================] - 3s 16ms/step\n"
     ]
    },
    {
     "name": "stderr",
     "output_type": "stream",
     "text": [
      "\r\n",
      " 85%|█████████████████████████████████████████████████████████████████████▋            | 17/20 [02:21<00:25,  8.51s/it]"
     ]
    },
    {
     "name": "stdout",
     "output_type": "stream",
     "text": [
      "157/157 [==============================] - 3s 16ms/step\n",
      "157/157 [==============================] - 3s 17ms/step\n"
     ]
    },
    {
     "name": "stderr",
     "output_type": "stream",
     "text": [
      "\r\n",
      " 90%|█████████████████████████████████████████████████████████████████████████▊        | 18/20 [02:29<00:16,  8.33s/it]"
     ]
    },
    {
     "name": "stdout",
     "output_type": "stream",
     "text": [
      "157/157 [==============================] - 3s 18ms/step\n",
      "157/157 [==============================] - 3s 19ms/step\n"
     ]
    },
    {
     "name": "stderr",
     "output_type": "stream",
     "text": [
      "\r\n",
      " 95%|█████████████████████████████████████████████████████████████████████████████▉    | 19/20 [02:39<00:08,  8.78s/it]"
     ]
    },
    {
     "name": "stdout",
     "output_type": "stream",
     "text": [
      "157/157 [==============================] - 3s 17ms/step\n",
      "157/157 [==============================] - 3s 17ms/step\n"
     ]
    },
    {
     "name": "stderr",
     "output_type": "stream",
     "text": [
      "100%|██████████████████████████████████████████████████████████████████████████████████| 20/20 [02:47<00:00,  8.39s/it]"
     ]
    },
    {
     "name": "stdout",
     "output_type": "stream",
     "text": [
      "Lime OK!!\n",
      "1/1 [==============================] - 0s 22ms/step\n"
     ]
    },
    {
     "name": "stderr",
     "output_type": "stream",
     "text": [
      "\n"
     ]
    },
    {
     "name": "stdout",
     "output_type": "stream",
     "text": [
      "8/8 [==============================] - 0s 30ms/step\n",
      "1/1 [==============================] - 0s 32ms/step\n",
      "8/8 [==============================] - 0s 32ms/step\n",
      "1/1 [==============================] - 0s 47ms/step\n",
      "8/8 [==============================] - 0s 32ms/step\n",
      "1/1 [==============================] - 0s 31ms/step\n",
      "8/8 [==============================] - 0s 25ms/step\n",
      "1/1 [==============================] - 0s 43ms/step\n",
      "8/8 [==============================] - 0s 35ms/step\n",
      "1/1 [==============================] - 0s 44ms/step\n",
      "8/8 [==============================] - 0s 22ms/step\n",
      "1/1 [==============================] - 0s 46ms/step\n",
      "8/8 [==============================] - 0s 34ms/step\n",
      "1/1 [==============================] - 0s 31ms/step\n",
      "8/8 [==============================] - 0s 33ms/step\n",
      "1/1 [==============================] - 0s 31ms/step\n",
      "8/8 [==============================] - 0s 28ms/step\n",
      "1/1 [==============================] - 0s 16ms/step\n",
      "8/8 [==============================] - 0s 33ms/step\n",
      "1/1 [==============================] - 0s 32ms/step\n",
      "8/8 [==============================] - 0s 32ms/step\n",
      "1/1 [==============================] - 0s 31ms/step\n",
      "8/8 [==============================] - 0s 35ms/step\n",
      "1/1 [==============================] - 0s 31ms/step\n",
      "8/8 [==============================] - 0s 33ms/step\n",
      "1/1 [==============================] - 0s 31ms/step\n",
      "8/8 [==============================] - 0s 27ms/step\n",
      "1/1 [==============================] - 0s 24ms/step\n",
      "8/8 [==============================] - 0s 35ms/step\n",
      "1/1 [==============================] - 0s 47ms/step\n",
      "8/8 [==============================] - 0s 34ms/step\n",
      "1/1 [==============================] - 0s 28ms/step\n",
      "8/8 [==============================] - 0s 28ms/step\n",
      "1/1 [==============================] - 0s 37ms/step\n",
      "8/8 [==============================] - 0s 36ms/step\n",
      "1/1 [==============================] - 0s 31ms/step\n",
      "8/8 [==============================] - 0s 33ms/step\n",
      "1/1 [==============================] - 0s 32ms/step\n",
      "8/8 [==============================] - 0s 21ms/step\n",
      "1/1 [==============================] - 0s 47ms/step\n",
      "8/8 [==============================] - 0s 28ms/step\n",
      "1/1 [==============================] - 0s 36ms/step\n",
      "8/8 [==============================] - 0s 22ms/step\n",
      "1/1 [==============================] - 0s 31ms/step\n",
      "8/8 [==============================] - 0s 36ms/step\n",
      "1/1 [==============================] - 0s 32ms/step\n",
      "8/8 [==============================] - 0s 33ms/step\n",
      "1/1 [==============================] - 0s 21ms/step\n",
      "8/8 [==============================] - 0s 29ms/step\n",
      "1/1 [==============================] - 0s 16ms/step\n",
      "8/8 [==============================] - 0s 31ms/step\n",
      "1/1 [==============================] - 0s 33ms/step\n",
      "8/8 [==============================] - 0s 25ms/step\n",
      "1/1 [==============================] - 0s 16ms/step\n",
      "8/8 [==============================] - 0s 32ms/step\n",
      "1/1 [==============================] - 0s 32ms/step\n",
      "8/8 [==============================] - 0s 32ms/step\n",
      "1/1 [==============================] - 0s 16ms/step\n",
      "8/8 [==============================] - 0s 30ms/step\n",
      "1/1 [==============================] - 0s 19ms/step\n",
      "8/8 [==============================] - 0s 28ms/step\n",
      "1/1 [==============================] - 0s 31ms/step\n",
      "8/8 [==============================] - 0s 33ms/step\n",
      "1/1 [==============================] - 0s 34ms/step\n",
      "8/8 [==============================] - 0s 28ms/step\n",
      "1/1 [==============================] - 0s 31ms/step\n",
      "8/8 [==============================] - 0s 19ms/step\n",
      "1/1 [==============================] - 0s 31ms/step\n",
      "8/8 [==============================] - 0s 27ms/step\n",
      "1/1 [==============================] - 0s 16ms/step\n",
      "8/8 [==============================] - 0s 34ms/step\n",
      "1/1 [==============================] - 0s 31ms/step\n",
      "8/8 [==============================] - 0s 31ms/step\n",
      "1/1 [==============================] - 0s 16ms/step\n",
      "8/8 [==============================] - 0s 21ms/step\n",
      "1/1 [==============================] - 0s 31ms/step\n",
      "8/8 [==============================] - 0s 32ms/step\n",
      "1/1 [==============================] - 0s 16ms/step\n",
      "8/8 [==============================] - 0s 32ms/step\n",
      "1/1 [==============================] - 0s 31ms/step\n",
      "8/8 [==============================] - 0s 33ms/step\n",
      "1/1 [==============================] - 0s 32ms/step\n",
      "8/8 [==============================] - 0s 19ms/step\n",
      "1/1 [==============================] - 0s 16ms/step\n",
      "8/8 [==============================] - 0s 30ms/step\n",
      "1/1 [==============================] - 0s 31ms/step\n",
      "8/8 [==============================] - 0s 32ms/step\n",
      "1/1 [==============================] - 0s 31ms/step\n",
      "8/8 [==============================] - 0s 32ms/step\n",
      "1/1 [==============================] - 0s 47ms/step\n",
      "8/8 [==============================] - 0s 29ms/step\n",
      "1/1 [==============================] - 0s 31ms/step\n",
      "8/8 [==============================] - 0s 33ms/step\n",
      "1/1 [==============================] - 0s 16ms/step\n",
      "8/8 [==============================] - 0s 24ms/step\n",
      "1/1 [==============================] - 0s 30ms/step\n",
      "8/8 [==============================] - 0s 30ms/step\n",
      "1/1 [==============================] - 0s 16ms/step\n",
      "8/8 [==============================] - 0s 31ms/step\n",
      "1/1 [==============================] - 0s 31ms/step\n",
      "8/8 [==============================] - 0s 28ms/step\n",
      "1/1 [==============================] - 0s 31ms/step\n",
      "8/8 [==============================] - 0s 32ms/step\n",
      "1/1 [==============================] - 0s 32ms/step\n",
      "8/8 [==============================] - 0s 26ms/step\n",
      "1/1 [==============================] - 0s 16ms/step\n",
      "8/8 [==============================] - 0s 32ms/step\n",
      "1/1 [==============================] - 0s 13ms/step\n",
      "8/8 [==============================] - 0s 34ms/step\n",
      "1/1 [==============================] - 0s 16ms/step\n",
      "8/8 [==============================] - 0s 23ms/step\n",
      "1/1 [==============================] - 0s 15ms/step\n",
      "8/8 [==============================] - 0s 21ms/step\n",
      "1/1 [==============================] - 0s 31ms/step\n",
      "8/8 [==============================] - 0s 31ms/step\n",
      "1/1 [==============================] - 0s 31ms/step\n",
      "8/8 [==============================] - 0s 34ms/step\n",
      "1/1 [==============================] - 0s 47ms/step\n",
      "8/8 [==============================] - 0s 25ms/step\n",
      "1/1 [==============================] - 0s 31ms/step\n",
      "8/8 [==============================] - 0s 31ms/step\n",
      "1/1 [==============================] - 0s 49ms/step\n",
      "1/1 [==============================] - 0s 32ms/step\n"
     ]
    },
    {
     "name": "stderr",
     "output_type": "stream",
     "text": [
      "\r\n",
      "  0%|                                                                                           | 0/20 [00:00<?, ?it/s]"
     ]
    },
    {
     "name": "stdout",
     "output_type": "stream",
     "text": [
      "1/1 [==============================] - 0s 17ms/step\n",
      "8/8 [==============================] - 0s 28ms/step\n",
      "1/1 [==============================] - 0s 55ms/step\n",
      "8/8 [==============================] - 0s 32ms/step\n",
      "18/18 [==============================] - 0s 20ms/step\n"
     ]
    },
    {
     "name": "stderr",
     "output_type": "stream",
     "text": [
      "\r\n",
      "  5%|████▏                                                                              | 1/20 [00:01<00:29,  1.56s/it]"
     ]
    },
    {
     "name": "stdout",
     "output_type": "stream",
     "text": [
      "1/1 [==============================] - 0s 31ms/step\n",
      "8/8 [==============================] - 0s 21ms/step\n",
      "1/1 [==============================] - 0s 31ms/step\n",
      "8/8 [==============================] - 0s 32ms/step\n",
      "18/18 [==============================] - 0s 19ms/step\n"
     ]
    },
    {
     "name": "stderr",
     "output_type": "stream",
     "text": [
      "\r\n",
      " 10%|████████▎                                                                          | 2/20 [00:03<00:27,  1.53s/it]"
     ]
    },
    {
     "name": "stdout",
     "output_type": "stream",
     "text": [
      "1/1 [==============================] - 0s 32ms/step\n",
      "8/8 [==============================] - 0s 25ms/step\n",
      "1/1 [==============================] - 0s 47ms/step\n",
      "8/8 [==============================] - 0s 21ms/step\n",
      "18/18 [==============================] - 0s 19ms/step\n"
     ]
    },
    {
     "name": "stderr",
     "output_type": "stream",
     "text": [
      "\r\n",
      " 15%|████████████▍                                                                      | 3/20 [00:04<00:26,  1.54s/it]"
     ]
    },
    {
     "name": "stdout",
     "output_type": "stream",
     "text": [
      "1/1 [==============================] - 0s 33ms/step\n",
      "8/8 [==============================] - 0s 27ms/step\n",
      "1/1 [==============================] - 0s 31ms/step\n",
      "8/8 [==============================] - 0s 26ms/step\n",
      "18/18 [==============================] - 0s 19ms/step\n"
     ]
    },
    {
     "name": "stderr",
     "output_type": "stream",
     "text": [
      "\r\n",
      " 20%|████████████████▌                                                                  | 4/20 [00:06<00:25,  1.58s/it]"
     ]
    },
    {
     "name": "stdout",
     "output_type": "stream",
     "text": [
      "1/1 [==============================] - 0s 16ms/step\n",
      "8/8 [==============================] - 0s 27ms/step\n",
      "1/1 [==============================] - 0s 31ms/step\n",
      "8/8 [==============================] - 0s 35ms/step\n",
      "18/18 [==============================] - 0s 18ms/step\n"
     ]
    },
    {
     "name": "stderr",
     "output_type": "stream",
     "text": [
      "\r\n",
      " 25%|████████████████████▊                                                              | 5/20 [00:07<00:24,  1.62s/it]"
     ]
    },
    {
     "name": "stdout",
     "output_type": "stream",
     "text": [
      "1/1 [==============================] - 0s 31ms/step\n",
      "8/8 [==============================] - 0s 30ms/step\n",
      "1/1 [==============================] - 0s 47ms/step\n",
      "8/8 [==============================] - 0s 27ms/step\n",
      "18/18 [==============================] - 0s 20ms/step\n"
     ]
    },
    {
     "name": "stderr",
     "output_type": "stream",
     "text": [
      "\r\n",
      " 30%|████████████████████████▉                                                          | 6/20 [00:09<00:22,  1.63s/it]"
     ]
    },
    {
     "name": "stdout",
     "output_type": "stream",
     "text": [
      "1/1 [==============================] - 0s 46ms/step\n",
      "8/8 [==============================] - 0s 27ms/step\n",
      "1/1 [==============================] - 0s 25ms/step\n",
      "8/8 [==============================] - 0s 28ms/step\n",
      "18/18 [==============================] - 0s 23ms/step\n"
     ]
    },
    {
     "name": "stderr",
     "output_type": "stream",
     "text": [
      "\r\n",
      " 35%|█████████████████████████████                                                      | 7/20 [00:11<00:21,  1.67s/it]"
     ]
    },
    {
     "name": "stdout",
     "output_type": "stream",
     "text": [
      "1/1 [==============================] - 0s 50ms/step\n",
      "8/8 [==============================] - 0s 43ms/step\n",
      "1/1 [==============================] - 0s 41ms/step\n",
      "8/8 [==============================] - 0s 44ms/step\n",
      "18/18 [==============================] - 0s 20ms/step\n"
     ]
    },
    {
     "name": "stderr",
     "output_type": "stream",
     "text": [
      "\r\n",
      " 40%|█████████████████████████████████▏                                                 | 8/20 [00:13<00:21,  1.83s/it]"
     ]
    },
    {
     "name": "stdout",
     "output_type": "stream",
     "text": [
      "1/1 [==============================] - 0s 47ms/step\n",
      "8/8 [==============================] - 0s 35ms/step\n",
      "1/1 [==============================] - 0s 31ms/step\n",
      "8/8 [==============================] - 0s 36ms/step\n",
      "18/18 [==============================] - 0s 23ms/step\n"
     ]
    },
    {
     "name": "stderr",
     "output_type": "stream",
     "text": [
      "\r\n",
      " 45%|█████████████████████████████████████▎                                             | 9/20 [00:15<00:20,  1.86s/it]"
     ]
    },
    {
     "name": "stdout",
     "output_type": "stream",
     "text": [
      "1/1 [==============================] - 0s 31ms/step\n",
      "8/8 [==============================] - 0s 39ms/step\n",
      "1/1 [==============================] - 0s 30ms/step\n",
      "8/8 [==============================] - 0s 26ms/step\n",
      "18/18 [==============================] - 0s 23ms/step\n"
     ]
    },
    {
     "name": "stderr",
     "output_type": "stream",
     "text": [
      "\r\n",
      " 50%|█████████████████████████████████████████                                         | 10/20 [00:17<00:18,  1.86s/it]"
     ]
    },
    {
     "name": "stdout",
     "output_type": "stream",
     "text": [
      "1/1 [==============================] - 0s 47ms/step\n",
      "8/8 [==============================] - 0s 30ms/step\n",
      "1/1 [==============================] - 0s 29ms/step\n",
      "8/8 [==============================] - 0s 40ms/step\n",
      "18/18 [==============================] - 0s 21ms/step\n"
     ]
    },
    {
     "name": "stderr",
     "output_type": "stream",
     "text": [
      "\r\n",
      " 55%|█████████████████████████████████████████████                                     | 11/20 [00:19<00:16,  1.87s/it]"
     ]
    },
    {
     "name": "stdout",
     "output_type": "stream",
     "text": [
      "1/1 [==============================] - 0s 42ms/step\n",
      "8/8 [==============================] - 0s 33ms/step\n",
      "1/1 [==============================] - 0s 43ms/step\n",
      "8/8 [==============================] - 0s 27ms/step\n",
      "18/18 [==============================] - 0s 20ms/step\n"
     ]
    },
    {
     "name": "stderr",
     "output_type": "stream",
     "text": [
      "\r\n",
      " 60%|█████████████████████████████████████████████████▏                                | 12/20 [00:20<00:14,  1.84s/it]"
     ]
    },
    {
     "name": "stdout",
     "output_type": "stream",
     "text": [
      "1/1 [==============================] - 0s 17ms/step\n",
      "8/8 [==============================] - 0s 27ms/step\n",
      "1/1 [==============================] - 0s 33ms/step\n",
      "8/8 [==============================] - 0s 25ms/step\n",
      "18/18 [==============================] - 0s 20ms/step\n"
     ]
    },
    {
     "name": "stderr",
     "output_type": "stream",
     "text": [
      "\r\n",
      " 65%|█████████████████████████████████████████████████████▎                            | 13/20 [00:22<00:12,  1.76s/it]"
     ]
    },
    {
     "name": "stdout",
     "output_type": "stream",
     "text": [
      "1/1 [==============================] - 0s 32ms/step\n",
      "8/8 [==============================] - 0s 27ms/step\n",
      "1/1 [==============================] - 0s 38ms/step\n",
      "8/8 [==============================] - 0s 27ms/step\n",
      "18/18 [==============================] - 0s 20ms/step\n"
     ]
    },
    {
     "name": "stderr",
     "output_type": "stream",
     "text": [
      "\r\n",
      " 70%|█████████████████████████████████████████████████████████▍                        | 14/20 [00:24<00:10,  1.70s/it]"
     ]
    },
    {
     "name": "stdout",
     "output_type": "stream",
     "text": [
      "1/1 [==============================] - 0s 22ms/step\n",
      "8/8 [==============================] - 0s 24ms/step\n",
      "1/1 [==============================] - 0s 23ms/step\n",
      "8/8 [==============================] - 0s 26ms/step\n",
      "18/18 [==============================] - 0s 19ms/step\n"
     ]
    },
    {
     "name": "stderr",
     "output_type": "stream",
     "text": [
      "\r\n",
      " 75%|█████████████████████████████████████████████████████████████▌                    | 15/20 [00:25<00:08,  1.67s/it]"
     ]
    },
    {
     "name": "stdout",
     "output_type": "stream",
     "text": [
      "1/1 [==============================] - 0s 39ms/step\n",
      "8/8 [==============================] - 0s 31ms/step\n",
      "1/1 [==============================] - 0s 31ms/step\n",
      "8/8 [==============================] - 0s 31ms/step\n",
      "18/18 [==============================] - 0s 21ms/step\n"
     ]
    },
    {
     "name": "stderr",
     "output_type": "stream",
     "text": [
      "\r\n",
      " 80%|█████████████████████████████████████████████████████████████████▌                | 16/20 [00:27<00:06,  1.74s/it]"
     ]
    },
    {
     "name": "stdout",
     "output_type": "stream",
     "text": [
      "1/1 [==============================] - 0s 43ms/step\n",
      "8/8 [==============================] - 0s 38ms/step\n",
      "1/1 [==============================] - 0s 55ms/step\n",
      "8/8 [==============================] - 0s 36ms/step\n",
      "18/18 [==============================] - 0s 22ms/step\n"
     ]
    },
    {
     "name": "stderr",
     "output_type": "stream",
     "text": [
      "\r\n",
      " 85%|█████████████████████████████████████████████████████████████████████▋            | 17/20 [00:29<00:05,  1.78s/it]"
     ]
    },
    {
     "name": "stdout",
     "output_type": "stream",
     "text": [
      "1/1 [==============================] - 0s 31ms/step\n",
      "8/8 [==============================] - 0s 31ms/step\n",
      "1/1 [==============================] - 0s 31ms/step\n",
      "8/8 [==============================] - 0s 28ms/step\n",
      "18/18 [==============================] - 0s 22ms/step\n"
     ]
    },
    {
     "name": "stderr",
     "output_type": "stream",
     "text": [
      "\r\n",
      " 90%|█████████████████████████████████████████████████████████████████████████▊        | 18/20 [00:31<00:03,  1.77s/it]"
     ]
    },
    {
     "name": "stdout",
     "output_type": "stream",
     "text": [
      "1/1 [==============================] - 0s 23ms/step\n",
      "8/8 [==============================] - 0s 27ms/step\n",
      "1/1 [==============================] - 0s 32ms/step\n",
      "8/8 [==============================] - 0s 21ms/step\n",
      "18/18 [==============================] - 0s 20ms/step\n"
     ]
    },
    {
     "name": "stderr",
     "output_type": "stream",
     "text": [
      "\r\n",
      " 95%|█████████████████████████████████████████████████████████████████████████████▉    | 19/20 [00:32<00:01,  1.73s/it]"
     ]
    },
    {
     "name": "stdout",
     "output_type": "stream",
     "text": [
      "1/1 [==============================] - 0s 28ms/step\n",
      "8/8 [==============================] - 0s 29ms/step\n",
      "1/1 [==============================] - 0s 32ms/step\n",
      "8/8 [==============================] - 0s 28ms/step\n",
      "18/18 [==============================] - 0s 19ms/step\n"
     ]
    },
    {
     "name": "stderr",
     "output_type": "stream",
     "text": [
      "100%|██████████████████████████████████████████████████████████████████████████████████| 20/20 [00:34<00:00,  1.72s/it]\n",
      "  0%|                                                                                           | 0/20 [00:00<?, ?it/s]"
     ]
    },
    {
     "name": "stdout",
     "output_type": "stream",
     "text": [
      "1/1 [==============================] - 0s 32ms/step\n",
      "8/8 [==============================] - 0s 21ms/step\n",
      "1/1 [==============================] - 0s 31ms/step\n",
      "8/8 [==============================] - 0s 24ms/step\n",
      "1/1 [==============================] - 0s 31ms/step\n",
      "8/8 [==============================] - 0s 33ms/step\n",
      "1/1 [==============================] - 0s 31ms/step\n",
      "8/8 [==============================] - 0s 22ms/step\n"
     ]
    },
    {
     "name": "stderr",
     "output_type": "stream",
     "text": [
      "\r\n",
      "  5%|████▏                                                                              | 1/20 [00:02<00:43,  2.28s/it]"
     ]
    },
    {
     "name": "stdout",
     "output_type": "stream",
     "text": [
      "1/1 [==============================] - 0s 30ms/step\n",
      "8/8 [==============================] - 0s 25ms/step\n",
      "1/1 [==============================] - 0s 31ms/step\n",
      "8/8 [==============================] - 0s 33ms/step\n",
      "1/1 [==============================] - 0s 33ms/step\n",
      "8/8 [==============================] - 0s 23ms/step\n",
      "1/1 [==============================] - 0s 32ms/step\n",
      "8/8 [==============================] - 0s 27ms/step\n"
     ]
    },
    {
     "name": "stderr",
     "output_type": "stream",
     "text": [
      "\r\n",
      " 10%|████████▎                                                                          | 2/20 [00:04<00:41,  2.30s/it]"
     ]
    },
    {
     "name": "stdout",
     "output_type": "stream",
     "text": [
      "1/1 [==============================] - 0s 41ms/step\n",
      "8/8 [==============================] - 0s 21ms/step\n",
      "1/1 [==============================] - 0s 32ms/step\n",
      "8/8 [==============================] - 0s 30ms/step\n",
      "1/1 [==============================] - 0s 31ms/step\n",
      "8/8 [==============================] - 0s 31ms/step\n",
      "1/1 [==============================] - 0s 62ms/step\n",
      "8/8 [==============================] - 0s 33ms/step\n"
     ]
    },
    {
     "name": "stderr",
     "output_type": "stream",
     "text": [
      "\r\n",
      " 15%|████████████▍                                                                      | 3/20 [00:07<00:41,  2.46s/it]"
     ]
    },
    {
     "name": "stdout",
     "output_type": "stream",
     "text": [
      "1/1 [==============================] - 0s 47ms/step\n",
      "8/8 [==============================] - 0s 32ms/step\n",
      "1/1 [==============================] - 0s 31ms/step\n",
      "8/8 [==============================] - 0s 30ms/step\n",
      "1/1 [==============================] - 0s 46ms/step\n",
      "8/8 [==============================] - 0s 32ms/step\n",
      "1/1 [==============================] - 0s 31ms/step\n",
      "8/8 [==============================] - 0s 26ms/step\n"
     ]
    },
    {
     "name": "stderr",
     "output_type": "stream",
     "text": [
      "\r\n",
      " 20%|████████████████▌                                                                  | 4/20 [00:09<00:40,  2.51s/it]"
     ]
    },
    {
     "name": "stdout",
     "output_type": "stream",
     "text": [
      "1/1 [==============================] - 0s 34ms/step\n",
      "8/8 [==============================] - 0s 31ms/step\n",
      "1/1 [==============================] - 0s 31ms/step\n",
      "8/8 [==============================] - 0s 28ms/step\n",
      "1/1 [==============================] - 0s 31ms/step\n",
      "8/8 [==============================] - 0s 25ms/step\n",
      "1/1 [==============================] - 0s 32ms/step\n",
      "8/8 [==============================] - 0s 33ms/step\n"
     ]
    },
    {
     "name": "stderr",
     "output_type": "stream",
     "text": [
      "\r\n",
      " 25%|████████████████████▊                                                              | 5/20 [00:12<00:37,  2.52s/it]"
     ]
    },
    {
     "name": "stdout",
     "output_type": "stream",
     "text": [
      "1/1 [==============================] - 0s 31ms/step\n",
      "8/8 [==============================] - 0s 30ms/step\n",
      "1/1 [==============================] - 0s 35ms/step\n",
      "8/8 [==============================] - 0s 23ms/step\n",
      "1/1 [==============================] - 0s 39ms/step\n",
      "8/8 [==============================] - 0s 33ms/step\n",
      "1/1 [==============================] - 0s 31ms/step\n",
      "8/8 [==============================] - 0s 21ms/step\n"
     ]
    },
    {
     "name": "stderr",
     "output_type": "stream",
     "text": [
      "\r\n",
      " 30%|████████████████████████▉                                                          | 6/20 [00:14<00:34,  2.45s/it]"
     ]
    },
    {
     "name": "stdout",
     "output_type": "stream",
     "text": [
      "1/1 [==============================] - 0s 31ms/step\n",
      "8/8 [==============================] - 0s 25ms/step\n",
      "1/1 [==============================] - 0s 20ms/step\n",
      "8/8 [==============================] - 0s 32ms/step\n",
      "1/1 [==============================] - 0s 25ms/step\n",
      "8/8 [==============================] - 0s 27ms/step\n",
      "1/1 [==============================] - 0s 32ms/step\n",
      "8/8 [==============================] - 0s 30ms/step\n"
     ]
    },
    {
     "name": "stderr",
     "output_type": "stream",
     "text": [
      "\r\n",
      " 35%|█████████████████████████████                                                      | 7/20 [00:17<00:31,  2.41s/it]"
     ]
    },
    {
     "name": "stdout",
     "output_type": "stream",
     "text": [
      "1/1 [==============================] - 0s 16ms/step\n",
      "8/8 [==============================] - 0s 33ms/step\n",
      "1/1 [==============================] - 0s 34ms/step\n",
      "8/8 [==============================] - 0s 24ms/step\n",
      "1/1 [==============================] - 0s 31ms/step\n",
      "8/8 [==============================] - 0s 31ms/step\n",
      "1/1 [==============================] - 0s 32ms/step\n",
      "8/8 [==============================] - 0s 31ms/step\n"
     ]
    },
    {
     "name": "stderr",
     "output_type": "stream",
     "text": [
      "\r\n",
      " 40%|█████████████████████████████████▏                                                 | 8/20 [00:19<00:29,  2.45s/it]"
     ]
    },
    {
     "name": "stdout",
     "output_type": "stream",
     "text": [
      "1/1 [==============================] - 0s 58ms/step\n",
      "8/8 [==============================] - 0s 33ms/step\n",
      "1/1 [==============================] - 0s 33ms/step\n",
      "8/8 [==============================] - 0s 36ms/step\n",
      "1/1 [==============================] - 0s 47ms/step\n",
      "8/8 [==============================] - 0s 28ms/step\n",
      "1/1 [==============================] - 0s 53ms/step\n",
      "8/8 [==============================] - 0s 31ms/step\n"
     ]
    },
    {
     "name": "stderr",
     "output_type": "stream",
     "text": [
      "\r\n",
      " 45%|█████████████████████████████████████▎                                             | 9/20 [00:22<00:27,  2.52s/it]"
     ]
    },
    {
     "name": "stdout",
     "output_type": "stream",
     "text": [
      "1/1 [==============================] - 0s 37ms/step\n",
      "8/8 [==============================] - 0s 28ms/step\n",
      "1/1 [==============================] - 0s 47ms/step\n",
      "8/8 [==============================] - 0s 24ms/step\n",
      "1/1 [==============================] - 0s 32ms/step\n",
      "8/8 [==============================] - 0s 36ms/step\n",
      "1/1 [==============================] - 0s 41ms/step\n",
      "8/8 [==============================] - 0s 24ms/step\n"
     ]
    },
    {
     "name": "stderr",
     "output_type": "stream",
     "text": [
      "\r\n",
      " 50%|█████████████████████████████████████████                                         | 10/20 [00:24<00:25,  2.53s/it]"
     ]
    },
    {
     "name": "stdout",
     "output_type": "stream",
     "text": [
      "1/1 [==============================] - 0s 22ms/step\n",
      "8/8 [==============================] - 0s 34ms/step\n",
      "1/1 [==============================] - 0s 47ms/step\n",
      "8/8 [==============================] - 0s 21ms/step\n",
      "1/1 [==============================] - 0s 40ms/step\n",
      "8/8 [==============================] - 0s 27ms/step\n",
      "1/1 [==============================] - 0s 47ms/step\n",
      "8/8 [==============================] - 0s 17ms/step\n"
     ]
    },
    {
     "name": "stderr",
     "output_type": "stream",
     "text": [
      "\r\n",
      " 55%|█████████████████████████████████████████████                                     | 11/20 [00:26<00:21,  2.44s/it]"
     ]
    },
    {
     "name": "stdout",
     "output_type": "stream",
     "text": [
      "1/1 [==============================] - 0s 20ms/step\n",
      "8/8 [==============================] - 0s 32ms/step\n",
      "1/1 [==============================] - 0s 47ms/step\n",
      "8/8 [==============================] - 0s 31ms/step\n",
      "1/1 [==============================] - 0s 33ms/step\n",
      "8/8 [==============================] - 0s 30ms/step\n",
      "1/1 [==============================] - 0s 32ms/step\n",
      "8/8 [==============================] - 0s 22ms/step\n"
     ]
    },
    {
     "name": "stderr",
     "output_type": "stream",
     "text": [
      "\r\n",
      " 60%|█████████████████████████████████████████████████▏                                | 12/20 [00:29<00:18,  2.37s/it]"
     ]
    },
    {
     "name": "stdout",
     "output_type": "stream",
     "text": [
      "1/1 [==============================] - 0s 16ms/step\n",
      "8/8 [==============================] - 0s 30ms/step\n",
      "1/1 [==============================] - 0s 29ms/step\n",
      "8/8 [==============================] - 0s 25ms/step\n",
      "1/1 [==============================] - 0s 44ms/step\n",
      "8/8 [==============================] - 0s 23ms/step\n",
      "1/1 [==============================] - 0s 31ms/step\n",
      "8/8 [==============================] - 0s 37ms/step\n"
     ]
    },
    {
     "name": "stderr",
     "output_type": "stream",
     "text": [
      "\r\n",
      " 65%|█████████████████████████████████████████████████████▎                            | 13/20 [00:31<00:16,  2.35s/it]"
     ]
    },
    {
     "name": "stdout",
     "output_type": "stream",
     "text": [
      "1/1 [==============================] - 0s 29ms/step\n",
      "8/8 [==============================] - 0s 32ms/step\n",
      "1/1 [==============================] - 0s 32ms/step\n",
      "8/8 [==============================] - 0s 33ms/step\n",
      "1/1 [==============================] - 0s 18ms/step\n",
      "8/8 [==============================] - 0s 27ms/step\n",
      "1/1 [==============================] - 0s 31ms/step\n",
      "8/8 [==============================] - 0s 31ms/step\n"
     ]
    },
    {
     "name": "stderr",
     "output_type": "stream",
     "text": [
      "\r\n",
      " 70%|█████████████████████████████████████████████████████████▍                        | 14/20 [00:33<00:14,  2.34s/it]"
     ]
    },
    {
     "name": "stdout",
     "output_type": "stream",
     "text": [
      "1/1 [==============================] - 0s 49ms/step\n",
      "8/8 [==============================] - 0s 29ms/step\n",
      "1/1 [==============================] - 0s 29ms/step\n",
      "8/8 [==============================] - 0s 34ms/step\n",
      "1/1 [==============================] - 0s 33ms/step\n",
      "8/8 [==============================] - 0s 32ms/step\n",
      "1/1 [==============================] - 0s 44ms/step\n",
      "8/8 [==============================] - 0s 34ms/step\n"
     ]
    },
    {
     "name": "stderr",
     "output_type": "stream",
     "text": [
      "\r\n",
      " 75%|█████████████████████████████████████████████████████████████▌                    | 15/20 [00:38<00:15,  3.11s/it]"
     ]
    },
    {
     "name": "stdout",
     "output_type": "stream",
     "text": [
      "1/1 [==============================] - 0s 5ms/step\n",
      "8/8 [==============================] - 0s 29ms/step\n",
      "1/1 [==============================] - 0s 32ms/step\n",
      "8/8 [==============================] - 0s 34ms/step\n",
      "1/1 [==============================] - 0s 31ms/step\n",
      "8/8 [==============================] - 0s 32ms/step\n",
      "1/1 [==============================] - 0s 49ms/step\n",
      "8/8 [==============================] - 0s 25ms/step\n"
     ]
    },
    {
     "name": "stderr",
     "output_type": "stream",
     "text": [
      "\r\n",
      " 80%|█████████████████████████████████████████████████████████████████▌                | 16/20 [00:41<00:11,  2.88s/it]"
     ]
    },
    {
     "name": "stdout",
     "output_type": "stream",
     "text": [
      "1/1 [==============================] - 0s 17ms/step\n",
      "8/8 [==============================] - 0s 39ms/step\n",
      "1/1 [==============================] - 0s 34ms/step\n",
      "8/8 [==============================] - 0s 34ms/step\n",
      "1/1 [==============================] - 0s 21ms/step\n",
      "8/8 [==============================] - 0s 30ms/step\n",
      "1/1 [==============================] - 0s 31ms/step\n",
      "8/8 [==============================] - 0s 33ms/step\n"
     ]
    },
    {
     "name": "stderr",
     "output_type": "stream",
     "text": [
      "\r\n",
      " 85%|█████████████████████████████████████████████████████████████████████▋            | 17/20 [00:43<00:08,  2.78s/it]"
     ]
    },
    {
     "name": "stdout",
     "output_type": "stream",
     "text": [
      "1/1 [==============================] - 0s 16ms/step\n",
      "8/8 [==============================] - 0s 35ms/step\n",
      "1/1 [==============================] - 0s 18ms/step\n",
      "8/8 [==============================] - 0s 21ms/step\n",
      "1/1 [==============================] - 0s 49ms/step\n",
      "8/8 [==============================] - 0s 33ms/step\n",
      "1/1 [==============================] - 0s 31ms/step\n",
      "8/8 [==============================] - 0s 37ms/step\n"
     ]
    },
    {
     "name": "stderr",
     "output_type": "stream",
     "text": [
      "\r\n",
      " 90%|█████████████████████████████████████████████████████████████████████████▊        | 18/20 [00:46<00:05,  2.67s/it]"
     ]
    },
    {
     "name": "stdout",
     "output_type": "stream",
     "text": [
      "1/1 [==============================] - 0s 23ms/step\n",
      "8/8 [==============================] - 0s 37ms/step\n",
      "1/1 [==============================] - 0s 47ms/step\n",
      "8/8 [==============================] - 0s 25ms/step\n",
      "1/1 [==============================] - 0s 40ms/step\n",
      "8/8 [==============================] - 0s 40ms/step\n",
      "1/1 [==============================] - 0s 31ms/step\n",
      "8/8 [==============================] - 0s 36ms/step\n"
     ]
    },
    {
     "name": "stderr",
     "output_type": "stream",
     "text": [
      "\r\n",
      " 95%|█████████████████████████████████████████████████████████████████████████████▉    | 19/20 [00:48<00:02,  2.60s/it]"
     ]
    },
    {
     "name": "stdout",
     "output_type": "stream",
     "text": [
      "1/1 [==============================] - 0s 23ms/step\n",
      "8/8 [==============================] - 0s 35ms/step\n",
      "1/1 [==============================] - 0s 43ms/step\n",
      "8/8 [==============================] - 0s 31ms/step\n",
      "1/1 [==============================] - 0s 22ms/step\n",
      "8/8 [==============================] - 0s 29ms/step\n",
      "1/1 [==============================] - 0s 37ms/step\n",
      "8/8 [==============================] - 0s 31ms/step\n"
     ]
    },
    {
     "name": "stderr",
     "output_type": "stream",
     "text": [
      "100%|██████████████████████████████████████████████████████████████████████████████████| 20/20 [00:50<00:00,  2.55s/it]"
     ]
    },
    {
     "name": "stdout",
     "output_type": "stream",
     "text": [
      "shap OK !!\n",
      "1/1 [==============================] - 0s 49ms/step\n"
     ]
    },
    {
     "name": "stderr",
     "output_type": "stream",
     "text": [
      "\n"
     ]
    },
    {
     "name": "stdout",
     "output_type": "stream",
     "text": [
      "1/1 [==============================] - 2s 2s/step - loss: 6429.5366 - mse: 6428.7705 - val_loss: 6493.5713 - val_mse: 6492.8140\n",
      "1/1 [==============================] - 1s 1s/step - loss: 6441.2554 - mse: 6440.4878 - val_loss: 6418.9683 - val_mse: 6418.2085\n",
      "1/1 [==============================] - 2s 2s/step - loss: 6453.1841 - mse: 6452.4170 - val_loss: 6428.0615 - val_mse: 6427.3018\n",
      "1/1 [==============================] - 1s 1s/step - loss: 6403.2700 - mse: 6402.5049 - val_loss: 6404.1562 - val_mse: 6403.3975\n",
      "1/1 [==============================] - 2s 2s/step - loss: 6422.4746 - mse: 6421.7085 - val_loss: 6424.3994 - val_mse: 6423.6396\n",
      "1/1 [==============================] - 2s 2s/step - loss: 6402.0732 - mse: 6401.3071 - val_loss: 6465.6797 - val_mse: 6464.9194\n",
      "1/1 [==============================] - 2s 2s/step - loss: 6409.1675 - mse: 6408.4014 - val_loss: 6392.4224 - val_mse: 6391.6616\n",
      "1/1 [==============================] - 2s 2s/step - loss: 6408.0664 - mse: 6407.3018 - val_loss: 6410.0273 - val_mse: 6409.2671\n",
      "1/1 [==============================] - 1s 1s/step - loss: 6415.2471 - mse: 6414.4834 - val_loss: 6265.5659 - val_mse: 6264.8076\n",
      "1/1 [==============================] - 1s 1s/step - loss: 6421.6235 - mse: 6420.8594 - val_loss: 6457.1606 - val_mse: 6456.4014\n",
      "1/1 [==============================] - 1s 1s/step - loss: 6422.8560 - mse: 6422.0879 - val_loss: 6378.9634 - val_mse: 6378.1997\n",
      "1/1 [==============================] - 1s 1s/step - loss: 6442.0820 - mse: 6441.3145 - val_loss: 6574.1670 - val_mse: 6573.4038\n",
      "1/1 [==============================] - 1s 1s/step - loss: 6430.8560 - mse: 6430.0908 - val_loss: 6465.7104 - val_mse: 6464.9497\n",
      "1/1 [==============================] - 1s 1s/step - loss: 6431.6943 - mse: 6430.9248 - val_loss: 6342.7783 - val_mse: 6342.0117\n",
      "1/1 [==============================] - 1s 1s/step - loss: 6376.4561 - mse: 6375.6899 - val_loss: 6529.5454 - val_mse: 6528.7822\n",
      "1/1 [==============================] - 1s 1s/step - loss: 6426.9917 - mse: 6426.2256 - val_loss: 6441.6841 - val_mse: 6440.9209\n",
      "1/1 [==============================] - 1s 1s/step - loss: 6419.7114 - mse: 6418.9429 - val_loss: 6368.0674 - val_mse: 6367.3022\n",
      "1/1 [==============================] - 1s 1s/step - loss: 6415.6343 - mse: 6414.8667 - val_loss: 6401.1636 - val_mse: 6400.3994\n",
      "1/1 [==============================] - 2s 2s/step - loss: 6402.4814 - mse: 6401.7163 - val_loss: 6468.8364 - val_mse: 6468.0732\n",
      "1/1 [==============================] - 2s 2s/step - loss: 6410.8481 - mse: 6410.0791 - val_loss: 6326.5034 - val_mse: 6325.7358\n",
      "1/1 [==============================] - 1s 1s/step - loss: 6421.3262 - mse: 6420.5601 - val_loss: 6297.3955 - val_mse: 6296.6313\n",
      "1/1 [==============================] - 2s 2s/step - loss: 6425.6001 - mse: 6424.8345 - val_loss: 6413.8354 - val_mse: 6413.0713\n",
      "1/1 [==============================] - 2s 2s/step - loss: 6423.4092 - mse: 6422.6416 - val_loss: 6444.0166 - val_mse: 6443.2510\n",
      "1/1 [==============================] - 2s 2s/step - loss: 6396.2075 - mse: 6395.4419 - val_loss: 6324.7749 - val_mse: 6324.0107\n",
      "1/1 [==============================] - 2s 2s/step - loss: 6426.4336 - mse: 6425.6641 - val_loss: 6546.5972 - val_mse: 6545.8296\n",
      "1/1 [==============================] - 2s 2s/step - loss: 6380.7539 - mse: 6379.9844 - val_loss: 6540.6245 - val_mse: 6539.8564\n",
      "1/1 [==============================] - 2s 2s/step - loss: 6406.1284 - mse: 6405.3604 - val_loss: 6393.8789 - val_mse: 6393.1123\n",
      "1/1 [==============================] - 2s 2s/step - loss: 6371.7739 - mse: 6371.0068 - val_loss: 6533.7725 - val_mse: 6533.0068\n",
      "1/1 [==============================] - 2s 2s/step - loss: 6432.2065 - mse: 6431.4404 - val_loss: 6443.7134 - val_mse: 6442.9482\n",
      "1/1 [==============================] - 2s 2s/step - loss: 6406.7773 - mse: 6406.0088 - val_loss: 6579.6826 - val_mse: 6578.9155\n",
      "1/1 [==============================] - 2s 2s/step - loss: 6400.4795 - mse: 6399.7134 - val_loss: 6554.6968 - val_mse: 6553.9321\n",
      "1/1 [==============================] - 2s 2s/step - loss: 6376.0459 - mse: 6375.2803 - val_loss: 6449.5215 - val_mse: 6448.7563\n",
      "1/1 [==============================] - 2s 2s/step - loss: 6430.6353 - mse: 6429.8677 - val_loss: 6454.2139 - val_mse: 6453.4478\n",
      "1/1 [==============================] - 2s 2s/step - loss: 6407.4146 - mse: 6406.6494 - val_loss: 6301.4233 - val_mse: 6300.6592\n",
      "1/1 [==============================] - 2s 2s/step - loss: 6440.3828 - mse: 6439.6143 - val_loss: 6396.0439 - val_mse: 6395.2769\n",
      "1/1 [==============================] - 2s 2s/step - loss: 6446.8218 - mse: 6446.0542 - val_loss: 6286.2251 - val_mse: 6285.4585\n",
      "1/1 [==============================] - 2s 2s/step - loss: 6404.3643 - mse: 6403.5967 - val_loss: 6156.4888 - val_mse: 6155.7217\n",
      "1/1 [==============================] - 2s 2s/step - loss: 6414.5493 - mse: 6413.7812 - val_loss: 6131.2412 - val_mse: 6130.4741\n",
      "1/1 [==============================] - 2s 2s/step - loss: 6422.2285 - mse: 6421.4600 - val_loss: 6547.2241 - val_mse: 6546.4556\n",
      "1/1 [==============================] - 2s 2s/step - loss: 6429.2651 - mse: 6428.4990 - val_loss: 6427.3755 - val_mse: 6426.6104\n",
      "1/1 [==============================] - 2s 2s/step - loss: 6456.2505 - mse: 6455.4854 - val_loss: 6598.3579 - val_mse: 6597.5928\n",
      "1/1 [==============================] - 2s 2s/step - loss: 6413.9497 - mse: 6413.1851 - val_loss: 6674.4365 - val_mse: 6673.6729\n",
      "1/1 [==============================] - 1s 1s/step - loss: 6399.9653 - mse: 6399.1997 - val_loss: 6500.5122 - val_mse: 6499.7471\n",
      "1/1 [==============================] - 1s 1s/step - loss: 6399.0933 - mse: 6398.3281 - val_loss: 6345.5854 - val_mse: 6344.8203\n",
      "1/1 [==============================] - 2s 2s/step - loss: 6427.9863 - mse: 6427.2178 - val_loss: 6518.6626 - val_mse: 6517.8945\n",
      "1/1 [==============================] - 2s 2s/step - loss: 6476.3379 - mse: 6475.5713 - val_loss: 6275.5371 - val_mse: 6274.7710\n",
      "1/1 [==============================] - 2s 2s/step - loss: 6418.1069 - mse: 6417.3394 - val_loss: 6560.5234 - val_mse: 6559.7563\n",
      "1/1 [==============================] - 2s 2s/step - loss: 6443.3403 - mse: 6442.5732 - val_loss: 6268.9683 - val_mse: 6268.2012\n",
      "1/1 [==============================] - 2s 2s/step - loss: 6399.7158 - mse: 6398.9502 - val_loss: 6539.5356 - val_mse: 6538.7705\n",
      "1/1 [==============================] - 1s 1s/step - loss: 6397.9180 - mse: 6397.1509 - val_loss: 6569.5537 - val_mse: 6568.7876\n",
      "1/1 [==============================] - 1s 1s/step - loss: 6412.9033 - mse: 6412.1382 - val_loss: 6456.5068 - val_mse: 6455.7422\n",
      "1/1 [==============================] - 2s 2s/step - loss: 6434.8965 - mse: 6434.1299 - val_loss: 6486.3682 - val_mse: 6485.6016\n",
      "1/1 [==============================] - 2s 2s/step - loss: 6399.3994 - mse: 6398.6343 - val_loss: 6440.1538 - val_mse: 6439.3887\n",
      "1/1 [==============================] - 2s 2s/step - loss: 6463.0640 - mse: 6462.2974 - val_loss: 6389.4795 - val_mse: 6388.7129\n",
      "1/1 [==============================] - 2s 2s/step - loss: 6429.1738 - mse: 6428.4053 - val_loss: 6682.1221 - val_mse: 6681.3540\n",
      "1/1 [==============================] - 2s 2s/step - loss: 6435.6094 - mse: 6434.8394 - val_loss: 6437.0576 - val_mse: 6436.2876\n",
      "1/1 [==============================] - 2s 2s/step - loss: 6410.6797 - mse: 6409.9121 - val_loss: 6430.7739 - val_mse: 6430.0068\n",
      "1/1 [==============================] - 2s 2s/step - loss: 6424.7212 - mse: 6423.9575 - val_loss: 6450.6060 - val_mse: 6449.8423\n",
      "1/1 [==============================] - 2s 2s/step - loss: 6401.4819 - mse: 6400.7178 - val_loss: 6144.2354 - val_mse: 6143.4712\n",
      "1/1 [==============================] - 2s 2s/step - loss: 6435.0396 - mse: 6434.2744 - val_loss: 6456.0859 - val_mse: 6455.3213\n",
      "1/1 [==============================] - 2s 2s/step - loss: 6410.8037 - mse: 6410.0381 - val_loss: 6518.7354 - val_mse: 6517.9697\n",
      "1/1 [==============================] - 1s 1s/step - loss: 6416.3604 - mse: 6415.5957 - val_loss: 6381.7593 - val_mse: 6380.9946\n",
      "1/1 [==============================] - 2s 2s/step - loss: 6412.4155 - mse: 6411.6470 - val_loss: 6352.4189 - val_mse: 6351.6509\n",
      "1/1 [==============================] - 2s 2s/step - loss: 6425.8940 - mse: 6425.1279 - val_loss: 6534.6426 - val_mse: 6533.8765\n",
      "1/1 [==============================] - 3s 3s/step - loss: 6434.7583 - mse: 6433.9946 - val_loss: 6472.5635 - val_mse: 6471.8003\n",
      "1/1 [==============================] - 2s 2s/step - loss: 6444.0000 - mse: 6443.2354 - val_loss: 6703.3438 - val_mse: 6702.5796\n",
      "1/1 [==============================] - 2s 2s/step - loss: 6446.1626 - mse: 6445.3945 - val_loss: 6336.6875 - val_mse: 6335.9194\n",
      "1/1 [==============================] - 2s 2s/step - loss: 6404.6055 - mse: 6403.8374 - val_loss: 6649.1733 - val_mse: 6648.4053\n",
      "1/1 [==============================] - 2s 2s/step - loss: 6422.0308 - mse: 6421.2656 - val_loss: 6502.2861 - val_mse: 6501.5210\n",
      "1/1 [==============================] - 2s 2s/step - loss: 6415.4453 - mse: 6414.6772 - val_loss: 6531.3750 - val_mse: 6530.6069\n",
      "1/1 [==============================] - 1s 1s/step - loss: 6421.4121 - mse: 6420.6450 - val_loss: 6459.4131 - val_mse: 6458.6460\n",
      "1/1 [==============================] - 2s 2s/step - loss: 6424.3711 - mse: 6423.6045 - val_loss: 6402.2949 - val_mse: 6401.5283\n",
      "1/1 [==============================] - 2s 2s/step - loss: 6396.4771 - mse: 6395.7085 - val_loss: 6346.1094 - val_mse: 6345.3408\n",
      "1/1 [==============================] - 2s 2s/step - loss: 6413.7480 - mse: 6412.9834 - val_loss: 6250.2827 - val_mse: 6249.5181\n",
      "1/1 [==============================] - 2s 2s/step - loss: 6361.6108 - mse: 6360.8457 - val_loss: 6084.1206 - val_mse: 6083.3555\n",
      "1/1 [==============================] - 2s 2s/step - loss: 6447.0269 - mse: 6446.2588 - val_loss: 6432.9307 - val_mse: 6432.1626\n",
      "1/1 [==============================] - 2s 2s/step - loss: 6429.4219 - mse: 6428.6553 - val_loss: 6212.7188 - val_mse: 6211.9517\n",
      "1/1 [==============================] - 1s 1s/step - loss: 6404.3594 - mse: 6403.5913 - val_loss: 6367.7993 - val_mse: 6367.0312\n",
      "1/1 [==============================] - 2s 2s/step - loss: 6434.2861 - mse: 6433.5205 - val_loss: 6314.4653 - val_mse: 6313.6992\n",
      "1/1 [==============================] - 1s 1s/step - loss: 6410.9150 - mse: 6410.1484 - val_loss: 6240.5259 - val_mse: 6239.7593\n",
      "1/1 [==============================] - 2s 2s/step - loss: 6418.7305 - mse: 6417.9653 - val_loss: 6443.0825 - val_mse: 6442.3174\n",
      "1/1 [==============================] - 2s 2s/step - loss: 6405.2168 - mse: 6404.4502 - val_loss: 6134.5967 - val_mse: 6133.8301\n",
      "1/1 [==============================] - 2s 2s/step - loss: 6381.9478 - mse: 6381.1851 - val_loss: 6584.0771 - val_mse: 6583.3140\n",
      "1/1 [==============================] - 2s 2s/step - loss: 6406.5703 - mse: 6405.8037 - val_loss: 6679.5557 - val_mse: 6678.7891\n",
      "1/1 [==============================] - 2s 2s/step - loss: 6440.4561 - mse: 6439.6890 - val_loss: 6322.4136 - val_mse: 6321.6460\n",
      "1/1 [==============================] - 2s 2s/step - loss: 6392.4092 - mse: 6391.6392 - val_loss: 6394.8901 - val_mse: 6394.1196\n",
      "1/1 [==============================] - 2s 2s/step - loss: 6392.3311 - mse: 6391.5640 - val_loss: 6302.7681 - val_mse: 6302.0010\n",
      "1/1 [==============================] - 2s 2s/step - loss: 6451.4609 - mse: 6450.6934 - val_loss: 6274.1714 - val_mse: 6273.4038\n",
      "1/1 [==============================] - 2s 2s/step - loss: 6427.8423 - mse: 6427.0781 - val_loss: 6314.0039 - val_mse: 6313.2397\n",
      "1/1 [==============================] - 2s 2s/step - loss: 6407.6260 - mse: 6406.8594 - val_loss: 6485.0259 - val_mse: 6484.2588\n",
      "1/1 [==============================] - 2s 2s/step - loss: 6416.1201 - mse: 6415.3545 - val_loss: 6363.2788 - val_mse: 6362.5132\n",
      "1/1 [==============================] - 2s 2s/step - loss: 6443.1577 - mse: 6442.3916 - val_loss: 6312.9473 - val_mse: 6312.1812\n",
      "1/1 [==============================] - 2s 2s/step - loss: 6412.3350 - mse: 6411.5679 - val_loss: 6785.6689 - val_mse: 6784.9014\n",
      "1/1 [==============================] - 2s 2s/step - loss: 6413.7427 - mse: 6412.9756 - val_loss: 6383.5049 - val_mse: 6382.7378\n",
      "1/1 [==============================] - 2s 2s/step - loss: 6484.1865 - mse: 6483.4224 - val_loss: 6352.7402 - val_mse: 6351.9761\n",
      "1/1 [==============================] - 2s 2s/step - loss: 6451.0171 - mse: 6450.2510 - val_loss: 6094.5854 - val_mse: 6093.8193\n",
      "1/1 [==============================] - 2s 2s/step - loss: 6405.9092 - mse: 6405.1436 - val_loss: 6455.7061 - val_mse: 6454.9404\n",
      "1/1 [==============================] - 2s 2s/step - loss: 6392.6753 - mse: 6391.9072 - val_loss: 6544.6543 - val_mse: 6543.8857\n",
      "1/1 [==============================] - 2s 2s/step - loss: 6429.0864 - mse: 6428.3184 - val_loss: 6308.1812 - val_mse: 6307.4126\n",
      "1/1 [==============================] - 0s 31ms/step\n",
      "1/1 [==============================] - 0s 30ms/step\n"
     ]
    },
    {
     "name": "stderr",
     "output_type": "stream",
     "text": [
      "\r\n",
      "  0%|                                                                                           | 0/20 [00:00<?, ?it/s]"
     ]
    },
    {
     "name": "stdout",
     "output_type": "stream",
     "text": [
      "18/18 [==============================] - 0s 17ms/step\n"
     ]
    },
    {
     "name": "stderr",
     "output_type": "stream",
     "text": [
      "\r\n",
      "  5%|████▏                                                                              | 1/20 [00:13<04:16, 13.52s/it]"
     ]
    },
    {
     "name": "stdout",
     "output_type": "stream",
     "text": [
      "18/18 [==============================] - 0s 19ms/step\n"
     ]
    },
    {
     "name": "stderr",
     "output_type": "stream",
     "text": [
      "\r\n",
      " 10%|████████▎                                                                          | 2/20 [00:26<03:53, 12.95s/it]"
     ]
    },
    {
     "name": "stdout",
     "output_type": "stream",
     "text": [
      "18/18 [==============================] - 1s 28ms/step\n"
     ]
    },
    {
     "name": "stderr",
     "output_type": "stream",
     "text": [
      "\r\n",
      " 15%|████████████▍                                                                      | 3/20 [00:40<03:50, 13.53s/it]"
     ]
    },
    {
     "name": "stdout",
     "output_type": "stream",
     "text": [
      "18/18 [==============================] - 0s 26ms/step\n"
     ]
    },
    {
     "name": "stderr",
     "output_type": "stream",
     "text": [
      "\r\n",
      " 20%|████████████████▌                                                                  | 4/20 [00:53<03:33, 13.36s/it]"
     ]
    },
    {
     "name": "stdout",
     "output_type": "stream",
     "text": [
      "18/18 [==============================] - 0s 19ms/step\n"
     ]
    },
    {
     "name": "stderr",
     "output_type": "stream",
     "text": [
      "\r\n",
      " 25%|████████████████████▊                                                              | 5/20 [01:06<03:21, 13.44s/it]"
     ]
    },
    {
     "name": "stdout",
     "output_type": "stream",
     "text": [
      "18/18 [==============================] - 1s 28ms/step\n"
     ]
    },
    {
     "name": "stderr",
     "output_type": "stream",
     "text": [
      "\r\n",
      " 30%|████████████████████████▉                                                          | 6/20 [01:21<03:11, 13.69s/it]"
     ]
    },
    {
     "name": "stdout",
     "output_type": "stream",
     "text": [
      "18/18 [==============================] - 1s 30ms/step\n"
     ]
    },
    {
     "name": "stderr",
     "output_type": "stream",
     "text": [
      "\r\n",
      " 35%|█████████████████████████████                                                      | 7/20 [01:36<03:04, 14.20s/it]"
     ]
    },
    {
     "name": "stdout",
     "output_type": "stream",
     "text": [
      "18/18 [==============================] - 0s 20ms/step\n"
     ]
    },
    {
     "name": "stderr",
     "output_type": "stream",
     "text": [
      "\r\n",
      " 40%|█████████████████████████████████▏                                                 | 8/20 [01:48<02:44, 13.69s/it]"
     ]
    },
    {
     "name": "stdout",
     "output_type": "stream",
     "text": [
      "18/18 [==============================] - 0s 22ms/step\n"
     ]
    },
    {
     "name": "stderr",
     "output_type": "stream",
     "text": [
      "\r\n",
      " 45%|█████████████████████████████████████▎                                             | 9/20 [02:01<02:25, 13.19s/it]"
     ]
    },
    {
     "name": "stdout",
     "output_type": "stream",
     "text": [
      "18/18 [==============================] - 0s 21ms/step\n"
     ]
    },
    {
     "name": "stderr",
     "output_type": "stream",
     "text": [
      "\r\n",
      " 50%|█████████████████████████████████████████                                         | 10/20 [02:13<02:09, 12.93s/it]"
     ]
    },
    {
     "name": "stdout",
     "output_type": "stream",
     "text": [
      "18/18 [==============================] - 1s 28ms/step\n"
     ]
    },
    {
     "name": "stderr",
     "output_type": "stream",
     "text": [
      "\r\n",
      " 55%|█████████████████████████████████████████████                                     | 11/20 [02:25<01:54, 12.69s/it]"
     ]
    },
    {
     "name": "stdout",
     "output_type": "stream",
     "text": [
      "18/18 [==============================] - 0s 18ms/step\n"
     ]
    },
    {
     "name": "stderr",
     "output_type": "stream",
     "text": [
      "\r\n",
      " 60%|█████████████████████████████████████████████████▏                                | 12/20 [02:39<01:44, 13.04s/it]"
     ]
    },
    {
     "name": "stdout",
     "output_type": "stream",
     "text": [
      "18/18 [==============================] - 0s 20ms/step\n"
     ]
    },
    {
     "name": "stderr",
     "output_type": "stream",
     "text": [
      "\r\n",
      " 65%|█████████████████████████████████████████████████████▎                            | 13/20 [02:52<01:30, 12.99s/it]"
     ]
    },
    {
     "name": "stdout",
     "output_type": "stream",
     "text": [
      "18/18 [==============================] - 0s 21ms/step\n"
     ]
    },
    {
     "name": "stderr",
     "output_type": "stream",
     "text": [
      "\r\n",
      " 70%|█████████████████████████████████████████████████████████▍                        | 14/20 [03:07<01:21, 13.52s/it]"
     ]
    },
    {
     "name": "stdout",
     "output_type": "stream",
     "text": [
      "18/18 [==============================] - 1s 33ms/step\n"
     ]
    },
    {
     "name": "stderr",
     "output_type": "stream",
     "text": [
      "\r\n",
      " 75%|█████████████████████████████████████████████████████████████▌                    | 15/20 [03:21<01:08, 13.72s/it]"
     ]
    },
    {
     "name": "stdout",
     "output_type": "stream",
     "text": [
      "18/18 [==============================] - 0s 23ms/step\n"
     ]
    },
    {
     "name": "stderr",
     "output_type": "stream",
     "text": [
      "\r\n",
      " 80%|█████████████████████████████████████████████████████████████████▌                | 16/20 [03:35<00:55, 13.92s/it]"
     ]
    },
    {
     "name": "stdout",
     "output_type": "stream",
     "text": [
      "18/18 [==============================] - 0s 20ms/step\n"
     ]
    },
    {
     "name": "stderr",
     "output_type": "stream",
     "text": [
      "\r\n",
      " 85%|█████████████████████████████████████████████████████████████████████▋            | 17/20 [03:46<00:39, 13.05s/it]"
     ]
    },
    {
     "name": "stdout",
     "output_type": "stream",
     "text": [
      "18/18 [==============================] - 0s 14ms/step\n"
     ]
    },
    {
     "name": "stderr",
     "output_type": "stream",
     "text": [
      "\r\n",
      " 90%|█████████████████████████████████████████████████████████████████████████▊        | 18/20 [03:57<00:24, 12.45s/it]"
     ]
    },
    {
     "name": "stdout",
     "output_type": "stream",
     "text": [
      "18/18 [==============================] - 0s 24ms/step\n"
     ]
    },
    {
     "name": "stderr",
     "output_type": "stream",
     "text": [
      "\r\n",
      " 95%|█████████████████████████████████████████████████████████████████████████████▉    | 19/20 [04:09<00:12, 12.20s/it]"
     ]
    },
    {
     "name": "stdout",
     "output_type": "stream",
     "text": [
      "18/18 [==============================] - 1s 33ms/step\n"
     ]
    },
    {
     "name": "stderr",
     "output_type": "stream",
     "text": [
      "100%|██████████████████████████████████████████████████████████████████████████████████| 20/20 [04:21<00:00, 13.06s/it]\n",
      "100%|██████████████████████████████████████████████████████████████████████████████████| 20/20 [08:32<00:00, 25.63s/it]"
     ]
    },
    {
     "name": "stdout",
     "output_type": "stream",
     "text": [
      "L2X OK !!\n"
     ]
    },
    {
     "name": "stderr",
     "output_type": "stream",
     "text": [
      "\n"
     ]
    },
    {
     "data": {
      "text/html": [
       "<div>\n",
       "<style scoped>\n",
       "    .dataframe tbody tr th:only-of-type {\n",
       "        vertical-align: middle;\n",
       "    }\n",
       "\n",
       "    .dataframe tbody tr th {\n",
       "        vertical-align: top;\n",
       "    }\n",
       "\n",
       "    .dataframe thead th {\n",
       "        text-align: right;\n",
       "    }\n",
       "</style>\n",
       "<table border=\"1\" class=\"dataframe\">\n",
       "  <thead>\n",
       "    <tr style=\"text-align: right;\">\n",
       "      <th></th>\n",
       "      <th>identity</th>\n",
       "      <th>separability</th>\n",
       "      <th>stability</th>\n",
       "      <th>coherence</th>\n",
       "      <th>completness</th>\n",
       "      <th>congruence</th>\n",
       "      <th>selectivity</th>\n",
       "      <th>accumen</th>\n",
       "      <th>explainer</th>\n",
       "    </tr>\n",
       "  </thead>\n",
       "  <tbody>\n",
       "    <tr>\n",
       "      <th>0</th>\n",
       "      <td>1.0</td>\n",
       "      <td>1.0</td>\n",
       "      <td>1.00</td>\n",
       "      <td>0.150924</td>\n",
       "      <td>4.145610</td>\n",
       "      <td>0.236745</td>\n",
       "      <td>0.631832</td>\n",
       "      <td>0.048846</td>\n",
       "      <td>lime_1c</td>\n",
       "    </tr>\n",
       "    <tr>\n",
       "      <th>0</th>\n",
       "      <td>1.0</td>\n",
       "      <td>1.0</td>\n",
       "      <td>0.95</td>\n",
       "      <td>0.147892</td>\n",
       "      <td>0.568901</td>\n",
       "      <td>0.232912</td>\n",
       "      <td>0.587377</td>\n",
       "      <td>0.453238</td>\n",
       "      <td>shap_1c</td>\n",
       "    </tr>\n",
       "    <tr>\n",
       "      <th>0</th>\n",
       "      <td>1.0</td>\n",
       "      <td>1.0</td>\n",
       "      <td>1.00</td>\n",
       "      <td>0.216381</td>\n",
       "      <td>2.378321</td>\n",
       "      <td>0.308456</td>\n",
       "      <td>0.615225</td>\n",
       "      <td>0.034186</td>\n",
       "      <td>l2x_1c</td>\n",
       "    </tr>\n",
       "    <tr>\n",
       "      <th>0</th>\n",
       "      <td>1.0</td>\n",
       "      <td>1.0</td>\n",
       "      <td>0.95</td>\n",
       "      <td>0.160015</td>\n",
       "      <td>0.218664</td>\n",
       "      <td>0.250107</td>\n",
       "      <td>0.744438</td>\n",
       "      <td>0.108766</td>\n",
       "      <td>lime_1c</td>\n",
       "    </tr>\n",
       "    <tr>\n",
       "      <th>0</th>\n",
       "      <td>1.0</td>\n",
       "      <td>1.0</td>\n",
       "      <td>0.95</td>\n",
       "      <td>0.157933</td>\n",
       "      <td>0.333230</td>\n",
       "      <td>0.251317</td>\n",
       "      <td>0.728482</td>\n",
       "      <td>0.434705</td>\n",
       "      <td>shap_1c</td>\n",
       "    </tr>\n",
       "    <tr>\n",
       "      <th>0</th>\n",
       "      <td>1.0</td>\n",
       "      <td>1.0</td>\n",
       "      <td>0.90</td>\n",
       "      <td>0.176160</td>\n",
       "      <td>38.070158</td>\n",
       "      <td>0.262740</td>\n",
       "      <td>0.783042</td>\n",
       "      <td>0.029785</td>\n",
       "      <td>l2x_1c</td>\n",
       "    </tr>\n",
       "  </tbody>\n",
       "</table>\n",
       "</div>"
      ],
      "text/plain": [
       "   identity  separability  stability  coherence  completness  congruence  \\\n",
       "0       1.0           1.0       1.00   0.150924     4.145610    0.236745   \n",
       "0       1.0           1.0       0.95   0.147892     0.568901    0.232912   \n",
       "0       1.0           1.0       1.00   0.216381     2.378321    0.308456   \n",
       "0       1.0           1.0       0.95   0.160015     0.218664    0.250107   \n",
       "0       1.0           1.0       0.95   0.157933     0.333230    0.251317   \n",
       "0       1.0           1.0       0.90   0.176160    38.070158    0.262740   \n",
       "\n",
       "   selectivity   accumen explainer  \n",
       "0     0.631832  0.048846   lime_1c  \n",
       "0     0.587377  0.453238   shap_1c  \n",
       "0     0.615225  0.034186    l2x_1c  \n",
       "0     0.744438  0.108766   lime_1c  \n",
       "0     0.728482  0.434705   shap_1c  \n",
       "0     0.783042  0.029785    l2x_1c  "
      ]
     },
     "execution_count": 35,
     "metadata": {},
     "output_type": "execute_result"
    }
   ],
   "source": [
    "if True:\n",
    "    \n",
    "    # LIME\n",
    "    lime_explainer = RecurrentTabularExplainer(test_array, training_labels=label_array,\n",
    "                                                       feature_names=remaining_sensors,\n",
    "                                                       mode = 'regression',\n",
    "                                                       )\n",
    "    lime_values = get_lime_explanation(test_array_sampling, e = model.predict)\n",
    "    Lime_dist = pd.DataFrame(squareform(pdist(lime_values))) # Lime values explanation matrix\n",
    "\n",
    "    #Lime's metrics\n",
    "    list_metrics_lime = {}\n",
    "    list_metrics_lime['identity'] = identity(X_dist, Lime_dist)\n",
    "    list_metrics_lime['separability'] = separability(X_dist, Lime_dist)\n",
    "    list_metrics_lime['stability'] = stability(X_dist, Lime_dist)\n",
    "    list_metrics_lime['coherence'], list_metrics_lime['completness'], list_metrics_lime['congruence'] = coherence(model=model.predict, \n",
    "                                                explainer = get_lime_explanation,\n",
    "                                               samples=test_array_sampling,\n",
    "                                                targets=label_array, e = model.predict)\n",
    "    list_metrics_lime['selectivity'] = selectivity(model=model.predict, explainer = get_lime_explanation,\n",
    "                                               samples=test_array_sampling, e_x = model.predict)\n",
    "    list_metrics_lime['accumen'] = acumen(get_lime_explanation, test_array_sampling, e=model.predict)\n",
    "    list_metrics_lime['explainer'] = 'lime_1c'\n",
    "    df_metrics = pd.concat([df_metrics, pd.DataFrame([list_metrics_lime])])\n",
    "    print(\"Lime OK!!\")\n",
    "    \n",
    "    # SHAP\n",
    "    e = KernelSHAP(model)\n",
    "    shapvalues = get_explainations(test_array_sampling, e)\n",
    "    shapvalues.shape\n",
    "\n",
    "    list_metrics_shap = {}\n",
    "    shap_dist = pd.DataFrame(squareform(pdist(shapvalues))) # shap values explanation matrix\n",
    "    \n",
    "    list_metrics_shap['identity'] = identity(X_dist, shap_dist)\n",
    "    list_metrics_shap['separability'] = separability(X_dist, shap_dist)\n",
    "    list_metrics_shap['stability'] = stability(X_dist, shap_dist)\n",
    "    list_metrics_shap['coherence'], list_metrics_shap['completness'], list_metrics_shap['congruence'] = coherence(model=model.predict, \n",
    "                                                explainer = get_explainations,\n",
    "                                               samples=test_array_sampling,\n",
    "                                                targets=label_array, e = e)\n",
    "    list_metrics_shap['selectivity'] = selectivity(model=model.predict, explainer = get_explainations,\n",
    "                                   samples=test_array_sampling, e_x=e)\n",
    "    list_metrics_shap['accumen'] = acumen(get_explainations, test_array_sampling, e=e)\n",
    "\n",
    "    list_metrics_shap['explainer'] = 'shap_1c'\n",
    "    df_metrics = pd.concat([df_metrics, pd.DataFrame([list_metrics_shap])])\n",
    "    print(\"shap OK !!\")\n",
    "    \n",
    "    # L2X\n",
    "    e = L2X(model.predict, test_array_sampling)\n",
    "    l2xvalues = get_explainations(test_array_sampling, e, L2X=True)\n",
    "    l2xvalues.shape\n",
    "\n",
    "    # l2x's metrics\n",
    "    list_metrics_l2x = {}\n",
    "    l2x_dist = pd.DataFrame(squareform(pdist(l2xvalues))) # Lime values explanation matrix\n",
    "\n",
    "    list_metrics_l2x['identity'] = identity(X_dist, l2x_dist)\n",
    "    list_metrics_l2x['separability'] = separability(X_dist, l2x_dist)\n",
    "    list_metrics_l2x['stability'] = stability(X_dist, l2x_dist)\n",
    "    list_metrics_l2x['coherence'], list_metrics_l2x['completness'], list_metrics_l2x['congruence'] = coherence(model=model.predict, explainer = get_explainations,\n",
    "                                               samples=test_array_sampling, targets=label_array_sampling, e = e, L2X=True)\n",
    "    list_metrics_l2x['selectivity'] = selectivity(model=model.predict, explainer = get_explainations,\n",
    "                                   samples=test_array_sampling, e_x=e, L2X=True)\n",
    "    list_metrics_l2x['accumen'] = acumen(get_explainations, test_array_sampling, e=e, L2X=True)\n",
    "    list_metrics_l2x['explainer'] = 'l2x_1c'\n",
    "    print(\"L2X OK !!\")\n",
    "\n",
    "    \n",
    "    df_metrics = pd.concat([df_metrics, pd.DataFrame([list_metrics_l2x])])\n",
    "df_metrics"
   ]
  },
  {
   "cell_type": "code",
   "execution_count": 48,
   "id": "70f55215",
   "metadata": {},
   "outputs": [
    {
     "name": "stdout",
     "output_type": "stream",
     "text": [
      "INFO:tensorflow:Assets written to: /sfds_result/model_2c\\assets\n"
     ]
    },
    {
     "name": "stderr",
     "output_type": "stream",
     "text": [
      "INFO:tensorflow:Assets written to: /sfds_result/model_2c\\assets\n"
     ]
    }
   ],
   "source": [
    "# model_2c = model\n",
    "model_2c.save('/sfds_result/model_2c')"
   ]
  },
  {
   "cell_type": "code",
   "execution_count": 45,
   "id": "b32a9696",
   "metadata": {},
   "outputs": [],
   "source": [
    "df_metrics.to_csv('sfds_result/df_metric_sfds.csv')"
   ]
  },
  {
   "cell_type": "markdown",
   "id": "c285666e",
   "metadata": {},
   "source": [
    "## Sommaire: <a class=\"anchor\" id=\"sommaire\"></a>\n",
    "* [Sommaire](#sommaire)\n",
    "* [I. Mise en place des fonctions](#function)\n",
    "    * [1. KernelSHAP](#KernelSHAP)\n",
    "    * [2. L2X](#l2x)\n",
    "    * [3. Génération des explications](#f_xai)\n",
    "    * [4. Métriques d'évaluation](#metrique)\n",
    "    * [5. Fonction pour la préparation des données et du modèle d'analyse](#dataprep)\n",
    "* [II. Chargement des données](#data)\n",
    "* [III. Expérimentation](#experiementation)\n",
    "    * [1. Model à une couche](#model1layer)\n",
    "    * [2. Model à 2 couches](#model2layer)\n",
    "    * [3. Model à 3 couches](#model3layer)\n",
    "    * [4. Model à 4 couches](#model4layer)\n",
    "    * [5. Model à 5 couches](#model5layer)\n",
    "* [IV. Evaluation des explication](#xai_metric)"
   ]
  },
  {
   "cell_type": "markdown",
   "id": "4eb456bc",
   "metadata": {},
   "source": [
    "### Model à 3 couches <a id=\"model3layer\"></a>"
   ]
  },
  {
   "cell_type": "code",
   "execution_count": 49,
   "id": "ce593bcb",
   "metadata": {},
   "outputs": [
    {
     "name": "stdout",
     "output_type": "stream",
     "text": [
      "8/8 [==============================] - 1s 35ms/step\n",
      "8/8 [==============================] - 1s 41ms/step\n",
      "8/8 [==============================] - 1s 24ms/step\n"
     ]
    },
    {
     "data": {
      "text/plain": [
       "[{'RMSE_val': array([12.55781551,  9.87828956,  9.4201687 ]),\n",
       "  'RMSE_test': [12.859532985813635, 12.095526710549679, 13.587672280687546],\n",
       "  'R2_test': 0.8629494930038405,\n",
       "  'Score_test': 851.3852822448085,\n",
       "  'alpha': 0.5,\n",
       "  'rul_piecewise': 100,\n",
       "  'sequence_length': 40},\n",
       " {'RMSE_val': array([32.47388148,  9.54485333,  8.73792065]),\n",
       "  'RMSE_test': [35.24477417004867, 13.600942821270046, 9.888630401663995],\n",
       "  'R2_test': 0.5788844663564608,\n",
       "  'Score_test': 10162.63439248012,\n",
       "  'alpha': 0.5,\n",
       "  'rul_piecewise': 100,\n",
       "  'sequence_length': 40},\n",
       " {'RMSE_val': array([12.1541831 ,  8.68845324,  8.90311545]),\n",
       "  'RMSE_test': [10.523411858294384, 9.951691682882839, 10.563311250175824],\n",
       "  'R2_test': 0.9112566433687842,\n",
       "  'Score_test': 456.65256172335603,\n",
       "  'alpha': 0.5,\n",
       "  'rul_piecewise': 100,\n",
       "  'sequence_length': 40}]"
      ]
     },
     "execution_count": 49,
     "metadata": {},
     "output_type": "execute_result"
    }
   ],
   "source": [
    "# Modeling\n",
    "if True:\n",
    "    weights_file = str(alpha) + '2lstm_hyper_parameter_weights.h5'\n",
    "    model = create_lstm_3layers(dropout, activation, weights_file, input_shape=input_shape)\n",
    "    mse = []\n",
    "    \n",
    "    mse_val = []\n",
    "    R2_val = []\n",
    "    RMSE = []\n",
    "    score_val = []\n",
    "    \n",
    "    with tf.device('/device:GPU:0'):\n",
    "        for train_unit, val_unit in gss.split(X_train_interim['Unit'].unique(), groups=X_train_interim['Unit'].unique()):\n",
    "            train_unit = X_train_interim['Unit'].unique()[train_unit]  # gss returns indexes and index starts at 1\n",
    "            train_split_array = gen_data_wrapper(X_train_interim, sequence_length, remaining_sensors, train_unit)\n",
    "            train_split_label = gen_label_wrapper(X_train_interim, sequence_length, ['RUL'], train_unit)\n",
    "\n",
    "            val_unit = X_train_interim['Unit'].unique()[val_unit]\n",
    "            val_split_array = gen_data_wrapper(X_train_interim, sequence_length, remaining_sensors, val_unit)\n",
    "            val_split_label = gen_label_wrapper(X_train_interim, sequence_length, ['RUL'], val_unit)\n",
    "\n",
    "            # train and evaluate model\n",
    "            model.compile(loss='mse', optimizer='adam')\n",
    "#             model.load_weights(weights_file)  # reset optimizer and node weights before every training iteration\n",
    "\n",
    "#             with tf.device('/device:GPU:0'):\n",
    "            history = model.fit(train_split_array, train_split_label,\n",
    "                                validation_data=(val_split_array, val_split_label),\n",
    "                                epochs=epochs,\n",
    "                                batch_size=batch_size,\n",
    "                                verbose=0)\n",
    "#             mse.append(history.history['val_loss'][-1])\n",
    "            test_gen = (list(gen_test_data(X_test_interim[X_test_interim['Unit']==unit_nr], sequence_length,remaining_sensors, -99.))\n",
    "                            for unit_nr in X_test_interim['Unit'].unique())\n",
    "            test_array = np.concatenate(list(test_gen)).astype(np.float32)\n",
    "            mse_val.append(history.history['val_loss'][-1])\n",
    "            y_hat_val_split = model.predict(test_array)\n",
    "            R2_val.append(r2_score(test_rul, y_hat_val_split))\n",
    "            RMSE.append(np.sqrt(mean_squared_error(test_rul, y_hat_val_split)))\n",
    "            score_val.append(compute_s_score(test_rul, y_hat_val_split))\n",
    "    d = {'RMSE_val':np.sqrt(mse_val),'RMSE_test': RMSE,'R2_test':np.mean(R2_val), 'Score_test':np.mean(score_val),\n",
    "                'alpha':alpha, 'rul_piecewise':upper, 'sequence_length':sequence_length}\n",
    "output.append(d)\n",
    "model_3c = model\n",
    "output"
   ]
  },
  {
   "cell_type": "code",
   "execution_count": 50,
   "id": "539fcd4c",
   "metadata": {},
   "outputs": [
    {
     "name": "stdout",
     "output_type": "stream",
     "text": [
      " Model evaluation for FD004 : \n",
      "1611/1611 [==============================] - 62s 38ms/step\n",
      "train set RMSE:8.85003662109375, R2:0.9246536818814984\n",
      "8/8 [==============================] - 0s 49ms/step\n",
      "test set RMSE:10.563311250175824, R2:0.9075593776612392\n",
      " \n",
      " Model evaluation for FD004 : \n",
      "8/8 [==============================] - 0s 43ms/step\n",
      "test set RMSE:10.563311250175824, R2:0.9075593776612392\n",
      " \n",
      "S-score for test :  479.67525622443407\n",
      " \n"
     ]
    }
   ],
   "source": [
    "print(\" Model evaluation for FD004 : \")\n",
    "y_hat_train = model.predict(train_array)\n",
    "evaluate(label_array, y_hat_train, 'train')\n",
    "\n",
    "y_hat_test = model.predict(test_array)\n",
    "evaluate(y_test, y_hat_test)\n",
    "print(' ')\n",
    "print(\" Model evaluation for FD004 : \")\n",
    "\n",
    "y_hat_test = model.predict(test_array)\n",
    "evaluate(y_test['RUL'].clip(upper=upper), y_hat_test)\n",
    "print(' ')\n",
    "print(\"S-score for test : \",compute_s_score(y_test, y_hat_test))\n",
    "print(' ')"
   ]
  },
  {
   "cell_type": "code",
   "execution_count": 86,
   "id": "cff7910e",
   "metadata": {},
   "outputs": [],
   "source": [
    "RMSE.append(10.56)\n",
    "Sscore.append(479.67)"
   ]
  },
  {
   "cell_type": "markdown",
   "id": "9c9c0482",
   "metadata": {},
   "source": [
    "### 3 Layers explanation"
   ]
  },
  {
   "cell_type": "code",
   "execution_count": 51,
   "id": "b0e7905a",
   "metadata": {},
   "outputs": [
    {
     "name": "stdout",
     "output_type": "stream",
     "text": [
      "157/157 [==============================] - 7s 46ms/step\n",
      "157/157 [==============================] - 7s 43ms/step\n",
      "157/157 [==============================] - 7s 44ms/step\n",
      "157/157 [==============================] - 7s 46ms/step\n",
      "157/157 [==============================] - 6s 41ms/step\n",
      "157/157 [==============================] - 6s 41ms/step\n",
      "157/157 [==============================] - 6s 40ms/step\n",
      "157/157 [==============================] - 6s 41ms/step\n",
      "157/157 [==============================] - 6s 40ms/step\n",
      "157/157 [==============================] - 6s 39ms/step\n",
      "157/157 [==============================] - 7s 43ms/step\n",
      "157/157 [==============================] - 6s 37ms/step\n",
      "157/157 [==============================] - 6s 38ms/step\n",
      "157/157 [==============================] - 6s 37ms/step\n",
      "157/157 [==============================] - 7s 41ms/step\n",
      "157/157 [==============================] - 6s 41ms/step\n",
      "157/157 [==============================] - 6s 40ms/step\n",
      "157/157 [==============================] - 6s 38ms/step\n",
      "157/157 [==============================] - 6s 37ms/step\n",
      "157/157 [==============================] - 6s 36ms/step\n",
      "157/157 [==============================] - 5s 35ms/step\n",
      "157/157 [==============================] - 6s 38ms/step\n",
      "157/157 [==============================] - 6s 40ms/step\n",
      "157/157 [==============================] - 6s 38ms/step\n",
      "157/157 [==============================] - 6s 37ms/step\n",
      "157/157 [==============================] - 6s 40ms/step\n",
      "157/157 [==============================] - 6s 37ms/step\n",
      "157/157 [==============================] - 6s 40ms/step\n",
      "157/157 [==============================] - 6s 38ms/step\n",
      "157/157 [==============================] - 6s 39ms/step\n",
      "157/157 [==============================] - 6s 39ms/step\n",
      "157/157 [==============================] - 6s 38ms/step\n",
      "157/157 [==============================] - 6s 39ms/step\n",
      "157/157 [==============================] - 6s 38ms/step\n",
      "157/157 [==============================] - 6s 39ms/step\n",
      "157/157 [==============================] - 6s 40ms/step\n",
      "157/157 [==============================] - 6s 39ms/step\n",
      "157/157 [==============================] - 6s 40ms/step\n",
      "157/157 [==============================] - 6s 41ms/step\n",
      "157/157 [==============================] - 6s 37ms/step\n",
      "1/1 [==============================] - 0s 49ms/step\n",
      "1/1 [==============================] - 0s 44ms/step\n"
     ]
    },
    {
     "name": "stderr",
     "output_type": "stream",
     "text": [
      "\r\n",
      "  0%|                                                                                           | 0/20 [00:00<?, ?it/s]"
     ]
    },
    {
     "name": "stdout",
     "output_type": "stream",
     "text": [
      "157/157 [==============================] - 6s 39ms/step\n",
      "18/18 [==============================] - 1s 41ms/step\n"
     ]
    },
    {
     "name": "stderr",
     "output_type": "stream",
     "text": [
      "\r\n",
      "  5%|████▏                                                                              | 1/20 [00:09<02:51,  9.04s/it]"
     ]
    },
    {
     "name": "stdout",
     "output_type": "stream",
     "text": [
      "157/157 [==============================] - 7s 42ms/step\n",
      "18/18 [==============================] - 1s 45ms/step\n"
     ]
    },
    {
     "name": "stderr",
     "output_type": "stream",
     "text": [
      "\r\n",
      " 10%|████████▎                                                                          | 2/20 [00:18<02:47,  9.30s/it]"
     ]
    },
    {
     "name": "stdout",
     "output_type": "stream",
     "text": [
      "157/157 [==============================] - 6s 41ms/step\n",
      "18/18 [==============================] - 1s 43ms/step\n"
     ]
    },
    {
     "name": "stderr",
     "output_type": "stream",
     "text": [
      "\r\n",
      " 15%|████████████▍                                                                      | 3/20 [00:27<02:38,  9.31s/it]"
     ]
    },
    {
     "name": "stdout",
     "output_type": "stream",
     "text": [
      "157/157 [==============================] - 7s 47ms/step\n",
      "18/18 [==============================] - 1s 49ms/step\n"
     ]
    },
    {
     "name": "stderr",
     "output_type": "stream",
     "text": [
      "\r\n",
      " 20%|████████████████▌                                                                  | 4/20 [00:38<02:37,  9.82s/it]"
     ]
    },
    {
     "name": "stdout",
     "output_type": "stream",
     "text": [
      "157/157 [==============================] - 7s 43ms/step\n",
      "18/18 [==============================] - 1s 40ms/step\n"
     ]
    },
    {
     "name": "stderr",
     "output_type": "stream",
     "text": [
      "\r\n",
      " 25%|████████████████████▊                                                              | 5/20 [00:48<02:26,  9.74s/it]"
     ]
    },
    {
     "name": "stdout",
     "output_type": "stream",
     "text": [
      "157/157 [==============================] - 7s 42ms/step\n",
      "18/18 [==============================] - 1s 39ms/step\n"
     ]
    },
    {
     "name": "stderr",
     "output_type": "stream",
     "text": [
      "\r\n",
      " 30%|████████████████████████▉                                                          | 6/20 [00:57<02:15,  9.71s/it]"
     ]
    },
    {
     "name": "stdout",
     "output_type": "stream",
     "text": [
      "157/157 [==============================] - 7s 44ms/step\n",
      "18/18 [==============================] - 1s 49ms/step\n"
     ]
    },
    {
     "name": "stderr",
     "output_type": "stream",
     "text": [
      "\r\n",
      " 35%|█████████████████████████████                                                      | 7/20 [01:07<02:08,  9.86s/it]"
     ]
    },
    {
     "name": "stdout",
     "output_type": "stream",
     "text": [
      "157/157 [==============================] - 7s 42ms/step\n",
      "18/18 [==============================] - 1s 42ms/step\n"
     ]
    },
    {
     "name": "stderr",
     "output_type": "stream",
     "text": [
      "\r\n",
      " 40%|█████████████████████████████████▏                                                 | 8/20 [01:17<01:57,  9.80s/it]"
     ]
    },
    {
     "name": "stdout",
     "output_type": "stream",
     "text": [
      "157/157 [==============================] - 7s 44ms/step\n",
      "18/18 [==============================] - 1s 42ms/step\n"
     ]
    },
    {
     "name": "stderr",
     "output_type": "stream",
     "text": [
      "\r\n",
      " 45%|█████████████████████████████████████▎                                             | 9/20 [01:27<01:48,  9.86s/it]"
     ]
    },
    {
     "name": "stdout",
     "output_type": "stream",
     "text": [
      "157/157 [==============================] - 7s 42ms/step\n",
      "18/18 [==============================] - 1s 45ms/step\n"
     ]
    },
    {
     "name": "stderr",
     "output_type": "stream",
     "text": [
      "\r\n",
      " 50%|█████████████████████████████████████████                                         | 10/20 [01:37<01:37,  9.78s/it]"
     ]
    },
    {
     "name": "stdout",
     "output_type": "stream",
     "text": [
      "157/157 [==============================] - 6s 39ms/step\n",
      "18/18 [==============================] - 1s 39ms/step\n"
     ]
    },
    {
     "name": "stderr",
     "output_type": "stream",
     "text": [
      "\r\n",
      " 55%|█████████████████████████████████████████████                                     | 11/20 [01:46<01:25,  9.55s/it]"
     ]
    },
    {
     "name": "stdout",
     "output_type": "stream",
     "text": [
      "157/157 [==============================] - 7s 42ms/step\n",
      "18/18 [==============================] - 1s 44ms/step\n"
     ]
    },
    {
     "name": "stderr",
     "output_type": "stream",
     "text": [
      "\r\n",
      " 60%|█████████████████████████████████████████████████▏                                | 12/20 [01:55<01:16,  9.58s/it]"
     ]
    },
    {
     "name": "stdout",
     "output_type": "stream",
     "text": [
      "157/157 [==============================] - 7s 42ms/step\n",
      "18/18 [==============================] - 1s 42ms/step\n"
     ]
    },
    {
     "name": "stderr",
     "output_type": "stream",
     "text": [
      "\r\n",
      " 65%|█████████████████████████████████████████████████████▎                            | 13/20 [02:05<01:07,  9.60s/it]"
     ]
    },
    {
     "name": "stdout",
     "output_type": "stream",
     "text": [
      "157/157 [==============================] - 6s 40ms/step\n",
      "18/18 [==============================] - 1s 49ms/step\n"
     ]
    },
    {
     "name": "stderr",
     "output_type": "stream",
     "text": [
      "\r\n",
      " 70%|█████████████████████████████████████████████████████████▍                        | 14/20 [02:14<00:56,  9.49s/it]"
     ]
    },
    {
     "name": "stdout",
     "output_type": "stream",
     "text": [
      "157/157 [==============================] - 7s 45ms/step\n",
      "18/18 [==============================] - 1s 39ms/step\n"
     ]
    },
    {
     "name": "stderr",
     "output_type": "stream",
     "text": [
      "\r\n",
      " 75%|█████████████████████████████████████████████████████████████▌                    | 15/20 [02:24<00:48,  9.69s/it]"
     ]
    },
    {
     "name": "stdout",
     "output_type": "stream",
     "text": [
      "157/157 [==============================] - 7s 44ms/step\n",
      "18/18 [==============================] - 1s 51ms/step\n"
     ]
    },
    {
     "name": "stderr",
     "output_type": "stream",
     "text": [
      "\r\n",
      " 80%|█████████████████████████████████████████████████████████████████▌                | 16/20 [02:34<00:39,  9.81s/it]"
     ]
    },
    {
     "name": "stdout",
     "output_type": "stream",
     "text": [
      "157/157 [==============================] - 7s 45ms/step\n",
      "18/18 [==============================] - 1s 44ms/step\n"
     ]
    },
    {
     "name": "stderr",
     "output_type": "stream",
     "text": [
      "\r\n",
      " 85%|█████████████████████████████████████████████████████████████████████▋            | 17/20 [02:45<00:29,  9.90s/it]"
     ]
    },
    {
     "name": "stdout",
     "output_type": "stream",
     "text": [
      "157/157 [==============================] - 7s 43ms/step\n",
      "18/18 [==============================] - 1s 41ms/step\n"
     ]
    },
    {
     "name": "stderr",
     "output_type": "stream",
     "text": [
      "\r\n",
      " 90%|█████████████████████████████████████████████████████████████████████████▊        | 18/20 [02:54<00:19,  9.85s/it]"
     ]
    },
    {
     "name": "stdout",
     "output_type": "stream",
     "text": [
      "157/157 [==============================] - 7s 43ms/step\n",
      "18/18 [==============================] - 1s 51ms/step\n"
     ]
    },
    {
     "name": "stderr",
     "output_type": "stream",
     "text": [
      "\r\n",
      " 95%|█████████████████████████████████████████████████████████████████████████████▉    | 19/20 [03:04<00:09,  9.85s/it]"
     ]
    },
    {
     "name": "stdout",
     "output_type": "stream",
     "text": [
      "157/157 [==============================] - 6s 41ms/step\n",
      "18/18 [==============================] - 1s 44ms/step\n"
     ]
    },
    {
     "name": "stderr",
     "output_type": "stream",
     "text": [
      "100%|██████████████████████████████████████████████████████████████████████████████████| 20/20 [03:14<00:00,  9.71s/it]\n",
      "  0%|                                                                                           | 0/20 [00:00<?, ?it/s]"
     ]
    },
    {
     "name": "stdout",
     "output_type": "stream",
     "text": [
      "157/157 [==============================] - 7s 45ms/step\n",
      "157/157 [==============================] - 7s 45ms/step\n"
     ]
    },
    {
     "name": "stderr",
     "output_type": "stream",
     "text": [
      "\r\n",
      "  5%|████▏                                                                              | 1/20 [00:18<06:00, 19.00s/it]"
     ]
    },
    {
     "name": "stdout",
     "output_type": "stream",
     "text": [
      "157/157 [==============================] - 7s 43ms/step\n",
      "157/157 [==============================] - 7s 43ms/step\n"
     ]
    },
    {
     "name": "stderr",
     "output_type": "stream",
     "text": [
      "\r\n",
      " 10%|████████▎                                                                          | 2/20 [00:36<05:29, 18.29s/it]"
     ]
    },
    {
     "name": "stdout",
     "output_type": "stream",
     "text": [
      "157/157 [==============================] - 6s 40ms/step\n",
      "157/157 [==============================] - 7s 42ms/step\n"
     ]
    },
    {
     "name": "stderr",
     "output_type": "stream",
     "text": [
      "\r\n",
      " 15%|████████████▍                                                                      | 3/20 [00:53<05:00, 17.70s/it]"
     ]
    },
    {
     "name": "stdout",
     "output_type": "stream",
     "text": [
      "157/157 [==============================] - 6s 39ms/step\n",
      "157/157 [==============================] - 7s 41ms/step\n"
     ]
    },
    {
     "name": "stderr",
     "output_type": "stream",
     "text": [
      "\r\n",
      " 20%|████████████████▌                                                                  | 4/20 [01:10<04:38, 17.40s/it]"
     ]
    },
    {
     "name": "stdout",
     "output_type": "stream",
     "text": [
      "157/157 [==============================] - 6s 41ms/step\n",
      "157/157 [==============================] - 7s 43ms/step\n"
     ]
    },
    {
     "name": "stderr",
     "output_type": "stream",
     "text": [
      "\r\n",
      " 25%|████████████████████▊                                                              | 5/20 [01:28<04:21, 17.42s/it]"
     ]
    },
    {
     "name": "stdout",
     "output_type": "stream",
     "text": [
      "157/157 [==============================] - 6s 40ms/step\n",
      "157/157 [==============================] - 6s 40ms/step\n"
     ]
    },
    {
     "name": "stderr",
     "output_type": "stream",
     "text": [
      "\r\n",
      " 30%|████████████████████████▉                                                          | 6/20 [01:44<03:59, 17.14s/it]"
     ]
    },
    {
     "name": "stdout",
     "output_type": "stream",
     "text": [
      "157/157 [==============================] - 7s 45ms/step\n",
      "157/157 [==============================] - 6s 39ms/step\n"
     ]
    },
    {
     "name": "stderr",
     "output_type": "stream",
     "text": [
      "\r\n",
      " 35%|█████████████████████████████                                                      | 7/20 [02:02<03:44, 17.28s/it]"
     ]
    },
    {
     "name": "stdout",
     "output_type": "stream",
     "text": [
      "157/157 [==============================] - 7s 44ms/step\n",
      "157/157 [==============================] - 6s 39ms/step\n"
     ]
    },
    {
     "name": "stderr",
     "output_type": "stream",
     "text": [
      "\r\n",
      " 40%|█████████████████████████████████▏                                                 | 8/20 [02:19<03:27, 17.30s/it]"
     ]
    },
    {
     "name": "stdout",
     "output_type": "stream",
     "text": [
      "157/157 [==============================] - 7s 43ms/step\n",
      "157/157 [==============================] - 6s 39ms/step\n"
     ]
    },
    {
     "name": "stderr",
     "output_type": "stream",
     "text": [
      "\r\n",
      " 45%|█████████████████████████████████████▎                                             | 9/20 [02:36<03:09, 17.22s/it]"
     ]
    },
    {
     "name": "stdout",
     "output_type": "stream",
     "text": [
      "157/157 [==============================] - 6s 39ms/step\n",
      "157/157 [==============================] - 7s 42ms/step\n"
     ]
    },
    {
     "name": "stderr",
     "output_type": "stream",
     "text": [
      "\r\n",
      " 50%|█████████████████████████████████████████                                         | 10/20 [02:53<02:52, 17.23s/it]"
     ]
    },
    {
     "name": "stdout",
     "output_type": "stream",
     "text": [
      "157/157 [==============================] - 5s 34ms/step\n",
      "157/157 [==============================] - 5s 32ms/step\n"
     ]
    },
    {
     "name": "stderr",
     "output_type": "stream",
     "text": [
      "\r\n",
      " 55%|█████████████████████████████████████████████                                     | 11/20 [03:08<02:26, 16.27s/it]"
     ]
    },
    {
     "name": "stdout",
     "output_type": "stream",
     "text": [
      "157/157 [==============================] - 6s 40ms/step\n",
      "157/157 [==============================] - 5s 34ms/step\n"
     ]
    },
    {
     "name": "stderr",
     "output_type": "stream",
     "text": [
      "\r\n",
      " 60%|█████████████████████████████████████████████████▏                                | 12/20 [03:23<02:08, 16.05s/it]"
     ]
    },
    {
     "name": "stdout",
     "output_type": "stream",
     "text": [
      "157/157 [==============================] - 6s 40ms/step\n",
      "157/157 [==============================] - 6s 37ms/step\n"
     ]
    },
    {
     "name": "stderr",
     "output_type": "stream",
     "text": [
      "\r\n",
      " 65%|█████████████████████████████████████████████████████▎                            | 13/20 [03:39<01:52, 16.01s/it]"
     ]
    },
    {
     "name": "stdout",
     "output_type": "stream",
     "text": [
      "157/157 [==============================] - 6s 35ms/step\n",
      "157/157 [==============================] - 6s 36ms/step\n"
     ]
    },
    {
     "name": "stderr",
     "output_type": "stream",
     "text": [
      "\r\n",
      " 70%|█████████████████████████████████████████████████████████▍                        | 14/20 [03:54<01:34, 15.73s/it]"
     ]
    },
    {
     "name": "stdout",
     "output_type": "stream",
     "text": [
      "157/157 [==============================] - 6s 39ms/step\n",
      "157/157 [==============================] - 6s 37ms/step\n"
     ]
    },
    {
     "name": "stderr",
     "output_type": "stream",
     "text": [
      "\r\n",
      " 75%|█████████████████████████████████████████████████████████████▌                    | 15/20 [04:10<01:19, 15.85s/it]"
     ]
    },
    {
     "name": "stdout",
     "output_type": "stream",
     "text": [
      "157/157 [==============================] - 6s 41ms/step\n",
      "157/157 [==============================] - 7s 42ms/step\n"
     ]
    },
    {
     "name": "stderr",
     "output_type": "stream",
     "text": [
      "\r\n",
      " 80%|█████████████████████████████████████████████████████████████████▌                | 16/20 [04:27<01:04, 16.22s/it]"
     ]
    },
    {
     "name": "stdout",
     "output_type": "stream",
     "text": [
      "157/157 [==============================] - 6s 39ms/step\n",
      "157/157 [==============================] - 6s 41ms/step\n"
     ]
    },
    {
     "name": "stderr",
     "output_type": "stream",
     "text": [
      "\r\n",
      " 85%|█████████████████████████████████████████████████████████████████████▋            | 17/20 [04:44<00:49, 16.37s/it]"
     ]
    },
    {
     "name": "stdout",
     "output_type": "stream",
     "text": [
      "157/157 [==============================] - 7s 44ms/step\n",
      "157/157 [==============================] - 7s 43ms/step\n"
     ]
    },
    {
     "name": "stderr",
     "output_type": "stream",
     "text": [
      "\r\n",
      " 90%|█████████████████████████████████████████████████████████████████████████▊        | 18/20 [05:02<00:33, 16.80s/it]"
     ]
    },
    {
     "name": "stdout",
     "output_type": "stream",
     "text": [
      "157/157 [==============================] - 7s 43ms/step\n",
      "157/157 [==============================] - 7s 43ms/step\n"
     ]
    },
    {
     "name": "stderr",
     "output_type": "stream",
     "text": [
      "\r\n",
      " 95%|█████████████████████████████████████████████████████████████████████████████▉    | 19/20 [05:20<00:17, 17.17s/it]"
     ]
    },
    {
     "name": "stdout",
     "output_type": "stream",
     "text": [
      "157/157 [==============================] - 7s 44ms/step\n",
      "157/157 [==============================] - 7s 44ms/step\n"
     ]
    },
    {
     "name": "stderr",
     "output_type": "stream",
     "text": [
      "100%|██████████████████████████████████████████████████████████████████████████████████| 20/20 [05:38<00:00, 16.94s/it]"
     ]
    },
    {
     "name": "stdout",
     "output_type": "stream",
     "text": [
      "Lime OK!!\n",
      "1/1 [==============================] - 0s 31ms/step\n"
     ]
    },
    {
     "name": "stderr",
     "output_type": "stream",
     "text": [
      "\n"
     ]
    },
    {
     "name": "stdout",
     "output_type": "stream",
     "text": [
      "8/8 [==============================] - 1s 80ms/step\n",
      "1/1 [==============================] - 0s 31ms/step\n",
      "8/8 [==============================] - 1s 77ms/step\n",
      "1/1 [==============================] - 0s 47ms/step\n",
      "8/8 [==============================] - 1s 80ms/step\n",
      "1/1 [==============================] - 0s 31ms/step\n",
      "8/8 [==============================] - 1s 76ms/step\n",
      "1/1 [==============================] - 0s 32ms/step\n",
      "8/8 [==============================] - 1s 80ms/step\n",
      "1/1 [==============================] - 0s 31ms/step\n",
      "8/8 [==============================] - 1s 81ms/step\n",
      "1/1 [==============================] - 0s 44ms/step\n",
      "8/8 [==============================] - 1s 68ms/step\n",
      "1/1 [==============================] - 0s 31ms/step\n",
      "8/8 [==============================] - 1s 82ms/step\n",
      "1/1 [==============================] - 0s 31ms/step\n",
      "8/8 [==============================] - 1s 67ms/step\n",
      "1/1 [==============================] - 0s 47ms/step\n",
      "8/8 [==============================] - 1s 78ms/step\n",
      "1/1 [==============================] - 0s 35ms/step\n",
      "8/8 [==============================] - 1s 90ms/step\n",
      "1/1 [==============================] - 0s 46ms/step\n",
      "8/8 [==============================] - 1s 76ms/step\n",
      "1/1 [==============================] - 0s 47ms/step\n",
      "8/8 [==============================] - 1s 61ms/step\n",
      "1/1 [==============================] - 0s 31ms/step\n",
      "8/8 [==============================] - 1s 61ms/step\n",
      "1/1 [==============================] - 0s 21ms/step\n",
      "8/8 [==============================] - 0s 56ms/step\n",
      "1/1 [==============================] - 0s 18ms/step\n",
      "8/8 [==============================] - 1s 80ms/step\n",
      "1/1 [==============================] - 0s 29ms/step\n",
      "8/8 [==============================] - 1s 78ms/step\n",
      "1/1 [==============================] - 0s 31ms/step\n",
      "8/8 [==============================] - 1s 73ms/step\n",
      "1/1 [==============================] - 0s 36ms/step\n",
      "8/8 [==============================] - 1s 77ms/step\n",
      "1/1 [==============================] - 0s 38ms/step\n",
      "8/8 [==============================] - 1s 77ms/step\n",
      "1/1 [==============================] - 0s 32ms/step\n",
      "8/8 [==============================] - 1s 77ms/step\n",
      "1/1 [==============================] - 0s 49ms/step\n",
      "8/8 [==============================] - 1s 80ms/step\n",
      "1/1 [==============================] - 0s 31ms/step\n",
      "8/8 [==============================] - 1s 81ms/step\n",
      "1/1 [==============================] - 0s 47ms/step\n",
      "8/8 [==============================] - 1s 65ms/step\n",
      "1/1 [==============================] - 0s 46ms/step\n",
      "8/8 [==============================] - 1s 70ms/step\n",
      "1/1 [==============================] - 0s 31ms/step\n",
      "8/8 [==============================] - 1s 80ms/step\n",
      "1/1 [==============================] - 0s 31ms/step\n",
      "8/8 [==============================] - 1s 73ms/step\n",
      "1/1 [==============================] - 0s 28ms/step\n",
      "8/8 [==============================] - 1s 73ms/step\n",
      "1/1 [==============================] - 0s 49ms/step\n",
      "8/8 [==============================] - 1s 72ms/step\n",
      "1/1 [==============================] - 0s 16ms/step\n",
      "8/8 [==============================] - 1s 84ms/step\n",
      "1/1 [==============================] - 0s 47ms/step\n",
      "8/8 [==============================] - 1s 71ms/step\n",
      "1/1 [==============================] - 0s 31ms/step\n",
      "8/8 [==============================] - 1s 77ms/step\n",
      "1/1 [==============================] - 0s 31ms/step\n",
      "8/8 [==============================] - 1s 74ms/step\n",
      "1/1 [==============================] - 0s 31ms/step\n",
      "8/8 [==============================] - 1s 67ms/step\n",
      "1/1 [==============================] - 0s 31ms/step\n",
      "8/8 [==============================] - 1s 74ms/step\n",
      "1/1 [==============================] - 0s 26ms/step\n",
      "8/8 [==============================] - 1s 86ms/step\n",
      "1/1 [==============================] - 0s 31ms/step\n",
      "8/8 [==============================] - 1s 68ms/step\n",
      "1/1 [==============================] - 0s 47ms/step\n",
      "8/8 [==============================] - 1s 73ms/step\n",
      "1/1 [==============================] - 0s 31ms/step\n",
      "8/8 [==============================] - 1s 82ms/step\n",
      "1/1 [==============================] - 0s 31ms/step\n",
      "8/8 [==============================] - 1s 68ms/step\n",
      "1/1 [==============================] - 0s 47ms/step\n",
      "8/8 [==============================] - 1s 84ms/step\n",
      "1/1 [==============================] - 0s 31ms/step\n",
      "8/8 [==============================] - 1s 70ms/step\n",
      "1/1 [==============================] - 0s 31ms/step\n",
      "8/8 [==============================] - 1s 65ms/step\n",
      "1/1 [==============================] - 0s 32ms/step\n",
      "8/8 [==============================] - 1s 65ms/step\n",
      "1/1 [==============================] - 0s 31ms/step\n",
      "8/8 [==============================] - 1s 71ms/step\n",
      "1/1 [==============================] - 0s 41ms/step\n",
      "8/8 [==============================] - 1s 80ms/step\n",
      "1/1 [==============================] - 0s 31ms/step\n",
      "8/8 [==============================] - 1s 67ms/step\n",
      "1/1 [==============================] - 0s 53ms/step\n",
      "8/8 [==============================] - 1s 71ms/step\n",
      "1/1 [==============================] - 0s 31ms/step\n",
      "8/8 [==============================] - 1s 76ms/step\n",
      "1/1 [==============================] - 0s 47ms/step\n",
      "8/8 [==============================] - 1s 78ms/step\n",
      "1/1 [==============================] - 0s 32ms/step\n",
      "8/8 [==============================] - 1s 80ms/step\n",
      "1/1 [==============================] - 0s 47ms/step\n",
      "8/8 [==============================] - 1s 66ms/step\n",
      "1/1 [==============================] - 0s 41ms/step\n",
      "8/8 [==============================] - 1s 73ms/step\n",
      "1/1 [==============================] - 0s 35ms/step\n",
      "8/8 [==============================] - 1s 71ms/step\n",
      "1/1 [==============================] - 0s 44ms/step\n",
      "8/8 [==============================] - 1s 72ms/step\n",
      "1/1 [==============================] - 0s 49ms/step\n",
      "8/8 [==============================] - 1s 72ms/step\n",
      "1/1 [==============================] - 0s 31ms/step\n",
      "8/8 [==============================] - 1s 75ms/step\n",
      "1/1 [==============================] - 0s 29ms/step\n",
      "8/8 [==============================] - 1s 66ms/step\n",
      "1/1 [==============================] - 0s 31ms/step\n",
      "8/8 [==============================] - 1s 84ms/step\n",
      "1/1 [==============================] - 0s 31ms/step\n",
      "8/8 [==============================] - 1s 67ms/step\n",
      "1/1 [==============================] - 0s 16ms/step\n",
      "8/8 [==============================] - 1s 79ms/step\n",
      "1/1 [==============================] - 0s 77ms/step\n",
      "1/1 [==============================] - 0s 63ms/step\n"
     ]
    },
    {
     "name": "stderr",
     "output_type": "stream",
     "text": [
      "\r\n",
      "  0%|                                                                                           | 0/20 [00:00<?, ?it/s]"
     ]
    },
    {
     "name": "stdout",
     "output_type": "stream",
     "text": [
      "1/1 [==============================] - 0s 45ms/step\n",
      "8/8 [==============================] - 1s 80ms/step\n",
      "1/1 [==============================] - 0s 26ms/step\n",
      "8/8 [==============================] - 1s 100ms/step\n",
      "18/18 [==============================] - 1s 43ms/step\n"
     ]
    },
    {
     "name": "stderr",
     "output_type": "stream",
     "text": [
      "\r\n",
      "  5%|████▏                                                                              | 1/20 [00:03<01:00,  3.21s/it]"
     ]
    },
    {
     "name": "stdout",
     "output_type": "stream",
     "text": [
      "1/1 [==============================] - 0s 32ms/step\n",
      "8/8 [==============================] - 1s 82ms/step\n",
      "1/1 [==============================] - 0s 31ms/step\n",
      "8/8 [==============================] - 1s 69ms/step\n",
      "18/18 [==============================] - 1s 40ms/step\n"
     ]
    },
    {
     "name": "stderr",
     "output_type": "stream",
     "text": [
      "\r\n",
      " 10%|████████▎                                                                          | 2/20 [00:06<00:55,  3.07s/it]"
     ]
    },
    {
     "name": "stdout",
     "output_type": "stream",
     "text": [
      "1/1 [==============================] - 0s 39ms/step\n",
      "8/8 [==============================] - 1s 68ms/step\n",
      "1/1 [==============================] - 0s 34ms/step\n",
      "8/8 [==============================] - 1s 70ms/step\n",
      "18/18 [==============================] - 1s 36ms/step\n"
     ]
    },
    {
     "name": "stderr",
     "output_type": "stream",
     "text": [
      "\r\n",
      " 15%|████████████▍                                                                      | 3/20 [00:08<00:49,  2.90s/it]"
     ]
    },
    {
     "name": "stdout",
     "output_type": "stream",
     "text": [
      "1/1 [==============================] - 0s 26ms/step\n",
      "8/8 [==============================] - 1s 73ms/step\n",
      "1/1 [==============================] - 0s 39ms/step\n",
      "8/8 [==============================] - 1s 64ms/step\n",
      "18/18 [==============================] - 1s 37ms/step\n"
     ]
    },
    {
     "name": "stderr",
     "output_type": "stream",
     "text": [
      "\r\n",
      " 20%|████████████████▌                                                                  | 4/20 [00:11<00:45,  2.84s/it]"
     ]
    },
    {
     "name": "stdout",
     "output_type": "stream",
     "text": [
      "1/1 [==============================] - 0s 35ms/step\n",
      "8/8 [==============================] - 1s 82ms/step\n",
      "1/1 [==============================] - 0s 48ms/step\n",
      "8/8 [==============================] - 1s 81ms/step\n",
      "18/18 [==============================] - 1s 46ms/step\n"
     ]
    },
    {
     "name": "stderr",
     "output_type": "stream",
     "text": [
      "\r\n",
      " 25%|████████████████████▊                                                              | 5/20 [00:14<00:43,  2.88s/it]"
     ]
    },
    {
     "name": "stdout",
     "output_type": "stream",
     "text": [
      "1/1 [==============================] - 0s 16ms/step\n",
      "8/8 [==============================] - 1s 82ms/step\n",
      "1/1 [==============================] - 0s 41ms/step\n",
      "8/8 [==============================] - 1s 82ms/step\n",
      "18/18 [==============================] - 1s 41ms/step\n"
     ]
    },
    {
     "name": "stderr",
     "output_type": "stream",
     "text": [
      "\r\n",
      " 30%|████████████████████████▉                                                          | 6/20 [00:17<00:41,  2.93s/it]"
     ]
    },
    {
     "name": "stdout",
     "output_type": "stream",
     "text": [
      "1/1 [==============================] - 0s 20ms/step\n",
      "8/8 [==============================] - 1s 76ms/step\n",
      "1/1 [==============================] - 0s 43ms/step\n",
      "8/8 [==============================] - 1s 75ms/step\n",
      "18/18 [==============================] - 1s 48ms/step\n"
     ]
    },
    {
     "name": "stderr",
     "output_type": "stream",
     "text": [
      "\r\n",
      " 35%|█████████████████████████████                                                      | 7/20 [00:20<00:38,  2.96s/it]"
     ]
    },
    {
     "name": "stdout",
     "output_type": "stream",
     "text": [
      "1/1 [==============================] - 0s 16ms/step\n",
      "8/8 [==============================] - 1s 65ms/step\n",
      "1/1 [==============================] - 0s 31ms/step\n",
      "8/8 [==============================] - 1s 81ms/step\n",
      "18/18 [==============================] - 1s 43ms/step\n"
     ]
    },
    {
     "name": "stderr",
     "output_type": "stream",
     "text": [
      "\r\n",
      " 40%|█████████████████████████████████▏                                                 | 8/20 [00:23<00:35,  3.00s/it]"
     ]
    },
    {
     "name": "stdout",
     "output_type": "stream",
     "text": [
      "1/1 [==============================] - 0s 31ms/step\n",
      "8/8 [==============================] - 1s 74ms/step\n",
      "1/1 [==============================] - 0s 31ms/step\n",
      "8/8 [==============================] - 1s 68ms/step\n",
      "18/18 [==============================] - 1s 48ms/step\n"
     ]
    },
    {
     "name": "stderr",
     "output_type": "stream",
     "text": [
      "\r\n",
      " 45%|█████████████████████████████████████▎                                             | 9/20 [00:26<00:32,  2.95s/it]"
     ]
    },
    {
     "name": "stdout",
     "output_type": "stream",
     "text": [
      "1/1 [==============================] - 0s 21ms/step\n",
      "8/8 [==============================] - 1s 68ms/step\n",
      "1/1 [==============================] - 0s 16ms/step\n",
      "8/8 [==============================] - 1s 77ms/step\n",
      "18/18 [==============================] - 1s 44ms/step\n"
     ]
    },
    {
     "name": "stderr",
     "output_type": "stream",
     "text": [
      "\r\n",
      " 50%|█████████████████████████████████████████                                         | 10/20 [00:29<00:29,  2.97s/it]"
     ]
    },
    {
     "name": "stdout",
     "output_type": "stream",
     "text": [
      "1/1 [==============================] - 0s 31ms/step\n",
      "8/8 [==============================] - 1s 87ms/step\n",
      "1/1 [==============================] - 0s 32ms/step\n",
      "8/8 [==============================] - 1s 67ms/step\n",
      "18/18 [==============================] - 1s 47ms/step\n"
     ]
    },
    {
     "name": "stderr",
     "output_type": "stream",
     "text": [
      "\r\n",
      " 55%|█████████████████████████████████████████████                                     | 11/20 [00:32<00:27,  3.04s/it]"
     ]
    },
    {
     "name": "stdout",
     "output_type": "stream",
     "text": [
      "1/1 [==============================] - 0s 31ms/step\n",
      "8/8 [==============================] - 1s 92ms/step\n",
      "1/1 [==============================] - 0s 47ms/step\n",
      "8/8 [==============================] - 1s 63ms/step\n",
      "18/18 [==============================] - 1s 45ms/step\n"
     ]
    },
    {
     "name": "stderr",
     "output_type": "stream",
     "text": [
      "\r\n",
      " 60%|█████████████████████████████████████████████████▏                                | 12/20 [00:35<00:24,  3.05s/it]"
     ]
    },
    {
     "name": "stdout",
     "output_type": "stream",
     "text": [
      "1/1 [==============================] - 0s 42ms/step\n",
      "8/8 [==============================] - 1s 82ms/step\n",
      "1/1 [==============================] - 0s 31ms/step\n",
      "8/8 [==============================] - 1s 78ms/step\n",
      "18/18 [==============================] - 1s 46ms/step\n"
     ]
    },
    {
     "name": "stderr",
     "output_type": "stream",
     "text": [
      "\r\n",
      " 65%|█████████████████████████████████████████████████████▎                            | 13/20 [00:38<00:21,  3.07s/it]"
     ]
    },
    {
     "name": "stdout",
     "output_type": "stream",
     "text": [
      "1/1 [==============================] - 0s 42ms/step\n",
      "8/8 [==============================] - 1s 66ms/step\n",
      "1/1 [==============================] - 0s 16ms/step\n",
      "8/8 [==============================] - 1s 76ms/step\n",
      "18/18 [==============================] - 1s 50ms/step\n"
     ]
    },
    {
     "name": "stderr",
     "output_type": "stream",
     "text": [
      "\r\n",
      " 70%|█████████████████████████████████████████████████████████▍                        | 14/20 [00:41<00:18,  3.02s/it]"
     ]
    },
    {
     "name": "stdout",
     "output_type": "stream",
     "text": [
      "1/1 [==============================] - 0s 31ms/step\n",
      "8/8 [==============================] - 1s 72ms/step\n",
      "1/1 [==============================] - 0s 40ms/step\n",
      "8/8 [==============================] - 1s 77ms/step\n",
      "18/18 [==============================] - 1s 40ms/step\n"
     ]
    },
    {
     "name": "stderr",
     "output_type": "stream",
     "text": [
      "\r\n",
      " 75%|█████████████████████████████████████████████████████████████▌                    | 15/20 [00:44<00:15,  3.03s/it]"
     ]
    },
    {
     "name": "stdout",
     "output_type": "stream",
     "text": [
      "1/1 [==============================] - 0s 24ms/step\n",
      "8/8 [==============================] - 1s 77ms/step\n",
      "1/1 [==============================] - 0s 31ms/step\n",
      "8/8 [==============================] - 0s 61ms/step\n",
      "18/18 [==============================] - 1s 41ms/step\n"
     ]
    },
    {
     "name": "stderr",
     "output_type": "stream",
     "text": [
      "\r\n",
      " 80%|█████████████████████████████████████████████████████████████████▌                | 16/20 [00:47<00:11,  2.99s/it]"
     ]
    },
    {
     "name": "stdout",
     "output_type": "stream",
     "text": [
      "1/1 [==============================] - 0s 16ms/step\n",
      "8/8 [==============================] - 1s 78ms/step\n",
      "1/1 [==============================] - 0s 38ms/step\n",
      "8/8 [==============================] - 1s 79ms/step\n",
      "18/18 [==============================] - 1s 39ms/step\n"
     ]
    },
    {
     "name": "stderr",
     "output_type": "stream",
     "text": [
      "\r\n",
      " 85%|█████████████████████████████████████████████████████████████████████▋            | 17/20 [00:50<00:08,  2.99s/it]"
     ]
    },
    {
     "name": "stdout",
     "output_type": "stream",
     "text": [
      "1/1 [==============================] - 0s 46ms/step\n",
      "8/8 [==============================] - 1s 73ms/step\n",
      "1/1 [==============================] - 0s 46ms/step\n",
      "8/8 [==============================] - 1s 90ms/step\n",
      "18/18 [==============================] - 1s 48ms/step\n"
     ]
    },
    {
     "name": "stderr",
     "output_type": "stream",
     "text": [
      "\r\n",
      " 90%|█████████████████████████████████████████████████████████████████████████▊        | 18/20 [00:54<00:06,  3.06s/it]"
     ]
    },
    {
     "name": "stdout",
     "output_type": "stream",
     "text": [
      "1/1 [==============================] - 0s 17ms/step\n",
      "8/8 [==============================] - 1s 73ms/step\n",
      "1/1 [==============================] - 0s 31ms/step\n",
      "8/8 [==============================] - 1s 75ms/step\n",
      "18/18 [==============================] - 1s 45ms/step\n"
     ]
    },
    {
     "name": "stderr",
     "output_type": "stream",
     "text": [
      "\r\n",
      " 95%|█████████████████████████████████████████████████████████████████████████████▉    | 19/20 [00:56<00:03,  3.04s/it]"
     ]
    },
    {
     "name": "stdout",
     "output_type": "stream",
     "text": [
      "1/1 [==============================] - 0s 32ms/step\n",
      "8/8 [==============================] - 1s 85ms/step\n",
      "1/1 [==============================] - 0s 34ms/step\n",
      "8/8 [==============================] - 1s 68ms/step\n",
      "18/18 [==============================] - 1s 43ms/step\n"
     ]
    },
    {
     "name": "stderr",
     "output_type": "stream",
     "text": [
      "100%|██████████████████████████████████████████████████████████████████████████████████| 20/20 [00:59<00:00,  3.00s/it]\n",
      "  0%|                                                                                           | 0/20 [00:00<?, ?it/s]"
     ]
    },
    {
     "name": "stdout",
     "output_type": "stream",
     "text": [
      "1/1 [==============================] - 0s 16ms/step\n",
      "8/8 [==============================] - 1s 83ms/step\n",
      "1/1 [==============================] - 0s 44ms/step\n",
      "8/8 [==============================] - 1s 73ms/step\n",
      "1/1 [==============================] - 0s 47ms/step\n",
      "8/8 [==============================] - 1s 87ms/step\n",
      "1/1 [==============================] - 0s 47ms/step\n",
      "8/8 [==============================] - 1s 79ms/step\n"
     ]
    },
    {
     "name": "stderr",
     "output_type": "stream",
     "text": [
      "\r\n",
      "  5%|████▏                                                                              | 1/20 [00:04<01:29,  4.71s/it]"
     ]
    },
    {
     "name": "stdout",
     "output_type": "stream",
     "text": [
      "1/1 [==============================] - 0s 31ms/step\n",
      "8/8 [==============================] - 1s 74ms/step\n",
      "1/1 [==============================] - 0s 47ms/step\n",
      "8/8 [==============================] - 1s 85ms/step\n",
      "1/1 [==============================] - 0s 47ms/step\n",
      "8/8 [==============================] - 1s 81ms/step\n",
      "1/1 [==============================] - 0s 47ms/step\n",
      "8/8 [==============================] - 1s 81ms/step\n"
     ]
    },
    {
     "name": "stderr",
     "output_type": "stream",
     "text": [
      "\r\n",
      " 10%|████████▎                                                                          | 2/20 [00:08<01:19,  4.40s/it]"
     ]
    },
    {
     "name": "stdout",
     "output_type": "stream",
     "text": [
      "1/1 [==============================] - 0s 31ms/step\n",
      "8/8 [==============================] - 1s 77ms/step\n",
      "1/1 [==============================] - 0s 31ms/step\n",
      "8/8 [==============================] - 1s 64ms/step\n",
      "1/1 [==============================] - 0s 31ms/step\n",
      "8/8 [==============================] - 1s 81ms/step\n",
      "1/1 [==============================] - 0s 43ms/step\n",
      "8/8 [==============================] - 1s 71ms/step\n"
     ]
    },
    {
     "name": "stderr",
     "output_type": "stream",
     "text": [
      "\r\n",
      " 15%|████████████▍                                                                      | 3/20 [00:13<01:13,  4.32s/it]"
     ]
    },
    {
     "name": "stdout",
     "output_type": "stream",
     "text": [
      "1/1 [==============================] - 0s 47ms/step\n",
      "8/8 [==============================] - 1s 80ms/step\n",
      "1/1 [==============================] - 0s 31ms/step\n",
      "8/8 [==============================] - 1s 82ms/step\n",
      "1/1 [==============================] - 0s 31ms/step\n",
      "8/8 [==============================] - 1s 71ms/step\n",
      "1/1 [==============================] - 0s 40ms/step\n",
      "8/8 [==============================] - 1s 74ms/step\n"
     ]
    },
    {
     "name": "stderr",
     "output_type": "stream",
     "text": [
      "\r\n",
      " 20%|████████████████▌                                                                  | 4/20 [00:17<01:10,  4.42s/it]"
     ]
    },
    {
     "name": "stdout",
     "output_type": "stream",
     "text": [
      "1/1 [==============================] - 0s 36ms/step\n",
      "8/8 [==============================] - 1s 83ms/step\n",
      "1/1 [==============================] - 0s 29ms/step\n",
      "8/8 [==============================] - 1s 81ms/step\n",
      "1/1 [==============================] - 0s 23ms/step\n",
      "8/8 [==============================] - 1s 76ms/step\n",
      "1/1 [==============================] - 0s 31ms/step\n",
      "8/8 [==============================] - 1s 82ms/step\n"
     ]
    },
    {
     "name": "stderr",
     "output_type": "stream",
     "text": [
      "\r\n",
      " 25%|████████████████████▊                                                              | 5/20 [00:22<01:05,  4.40s/it]"
     ]
    },
    {
     "name": "stdout",
     "output_type": "stream",
     "text": [
      "1/1 [==============================] - 0s 41ms/step\n",
      "8/8 [==============================] - 1s 62ms/step\n",
      "1/1 [==============================] - 0s 16ms/step\n",
      "8/8 [==============================] - 1s 76ms/step\n",
      "1/1 [==============================] - 0s 16ms/step\n",
      "8/8 [==============================] - 1s 80ms/step\n",
      "1/1 [==============================] - 0s 16ms/step\n",
      "8/8 [==============================] - 1s 83ms/step\n"
     ]
    },
    {
     "name": "stderr",
     "output_type": "stream",
     "text": [
      "\r\n",
      " 30%|████████████████████████▉                                                          | 6/20 [00:26<01:00,  4.33s/it]"
     ]
    },
    {
     "name": "stdout",
     "output_type": "stream",
     "text": [
      "1/1 [==============================] - 0s 17ms/step\n",
      "8/8 [==============================] - 1s 76ms/step\n",
      "1/1 [==============================] - 0s 32ms/step\n",
      "8/8 [==============================] - 1s 75ms/step\n",
      "1/1 [==============================] - 0s 41ms/step\n",
      "8/8 [==============================] - 1s 72ms/step\n",
      "1/1 [==============================] - 0s 32ms/step\n",
      "8/8 [==============================] - 1s 81ms/step\n"
     ]
    },
    {
     "name": "stderr",
     "output_type": "stream",
     "text": [
      "\r\n",
      " 35%|█████████████████████████████                                                      | 7/20 [00:30<00:55,  4.27s/it]"
     ]
    },
    {
     "name": "stdout",
     "output_type": "stream",
     "text": [
      "1/1 [==============================] - 0s 20ms/step\n",
      "8/8 [==============================] - 1s 68ms/step\n",
      "1/1 [==============================] - 0s 47ms/step\n",
      "8/8 [==============================] - 1s 62ms/step\n",
      "1/1 [==============================] - 0s 47ms/step\n",
      "8/8 [==============================] - 1s 75ms/step\n",
      "1/1 [==============================] - 0s 31ms/step\n",
      "8/8 [==============================] - 1s 68ms/step\n"
     ]
    },
    {
     "name": "stderr",
     "output_type": "stream",
     "text": [
      "\r\n",
      " 40%|█████████████████████████████████▏                                                 | 8/20 [00:34<00:50,  4.19s/it]"
     ]
    },
    {
     "name": "stdout",
     "output_type": "stream",
     "text": [
      "1/1 [==============================] - 0s 32ms/step\n",
      "8/8 [==============================] - 1s 77ms/step\n",
      "1/1 [==============================] - 0s 43ms/step\n",
      "8/8 [==============================] - 1s 74ms/step\n",
      "1/1 [==============================] - 0s 47ms/step\n",
      "8/8 [==============================] - 1s 86ms/step\n",
      "1/1 [==============================] - 0s 31ms/step\n",
      "8/8 [==============================] - 1s 81ms/step\n"
     ]
    },
    {
     "name": "stderr",
     "output_type": "stream",
     "text": [
      "\r\n",
      " 45%|█████████████████████████████████████▎                                             | 9/20 [00:38<00:45,  4.18s/it]"
     ]
    },
    {
     "name": "stdout",
     "output_type": "stream",
     "text": [
      "1/1 [==============================] - 0s 24ms/step\n",
      "8/8 [==============================] - 1s 70ms/step\n",
      "1/1 [==============================] - 0s 31ms/step\n",
      "8/8 [==============================] - 1s 78ms/step\n",
      "1/1 [==============================] - 0s 31ms/step\n",
      "8/8 [==============================] - 1s 69ms/step\n",
      "1/1 [==============================] - 0s 31ms/step\n",
      "8/8 [==============================] - 1s 69ms/step\n"
     ]
    },
    {
     "name": "stderr",
     "output_type": "stream",
     "text": [
      "\r\n",
      " 50%|█████████████████████████████████████████                                         | 10/20 [00:42<00:41,  4.11s/it]"
     ]
    },
    {
     "name": "stdout",
     "output_type": "stream",
     "text": [
      "1/1 [==============================] - 0s 16ms/step\n",
      "8/8 [==============================] - 1s 74ms/step\n",
      "1/1 [==============================] - 0s 41ms/step\n",
      "8/8 [==============================] - 1s 66ms/step\n",
      "1/1 [==============================] - 0s 47ms/step\n",
      "8/8 [==============================] - 1s 70ms/step\n",
      "1/1 [==============================] - 0s 32ms/step\n",
      "8/8 [==============================] - 1s 91ms/step\n"
     ]
    },
    {
     "name": "stderr",
     "output_type": "stream",
     "text": [
      "\r\n",
      " 55%|█████████████████████████████████████████████                                     | 11/20 [00:46<00:37,  4.13s/it]"
     ]
    },
    {
     "name": "stdout",
     "output_type": "stream",
     "text": [
      "1/1 [==============================] - 0s 31ms/step\n",
      "8/8 [==============================] - 1s 66ms/step\n",
      "1/1 [==============================] - 0s 48ms/step\n",
      "8/8 [==============================] - 1s 78ms/step\n",
      "1/1 [==============================] - 0s 48ms/step\n",
      "8/8 [==============================] - 1s 89ms/step\n",
      "1/1 [==============================] - 0s 34ms/step\n",
      "8/8 [==============================] - 1s 92ms/step\n"
     ]
    },
    {
     "name": "stderr",
     "output_type": "stream",
     "text": [
      "\r\n",
      " 60%|█████████████████████████████████████████████████▏                                | 12/20 [00:51<00:33,  4.23s/it]"
     ]
    },
    {
     "name": "stdout",
     "output_type": "stream",
     "text": [
      "1/1 [==============================] - 0s 31ms/step\n",
      "8/8 [==============================] - 1s 64ms/step\n",
      "1/1 [==============================] - 0s 49ms/step\n",
      "8/8 [==============================] - 1s 70ms/step\n",
      "1/1 [==============================] - 0s 32ms/step\n",
      "8/8 [==============================] - 1s 72ms/step\n",
      "1/1 [==============================] - 0s 47ms/step\n",
      "8/8 [==============================] - 1s 68ms/step\n"
     ]
    },
    {
     "name": "stderr",
     "output_type": "stream",
     "text": [
      "\r\n",
      " 65%|█████████████████████████████████████████████████████▎                            | 13/20 [00:55<00:29,  4.18s/it]"
     ]
    },
    {
     "name": "stdout",
     "output_type": "stream",
     "text": [
      "1/1 [==============================] - 0s 17ms/step\n",
      "8/8 [==============================] - 1s 89ms/step\n",
      "1/1 [==============================] - 0s 41ms/step\n",
      "8/8 [==============================] - 1s 70ms/step\n",
      "1/1 [==============================] - 0s 47ms/step\n",
      "8/8 [==============================] - 1s 66ms/step\n",
      "1/1 [==============================] - 0s 47ms/step\n",
      "8/8 [==============================] - 1s 72ms/step\n"
     ]
    },
    {
     "name": "stderr",
     "output_type": "stream",
     "text": [
      "\r\n",
      " 70%|█████████████████████████████████████████████████████████▍                        | 14/20 [00:59<00:25,  4.19s/it]"
     ]
    },
    {
     "name": "stdout",
     "output_type": "stream",
     "text": [
      "1/1 [==============================] - 0s 33ms/step\n",
      "8/8 [==============================] - 1s 86ms/step\n",
      "1/1 [==============================] - 0s 30ms/step\n",
      "8/8 [==============================] - 1s 78ms/step\n",
      "1/1 [==============================] - 0s 31ms/step\n",
      "8/8 [==============================] - 1s 75ms/step\n",
      "1/1 [==============================] - 0s 36ms/step\n",
      "8/8 [==============================] - 1s 71ms/step\n"
     ]
    },
    {
     "name": "stderr",
     "output_type": "stream",
     "text": [
      "\r\n",
      " 75%|█████████████████████████████████████████████████████████████▌                    | 15/20 [01:03<00:21,  4.22s/it]"
     ]
    },
    {
     "name": "stdout",
     "output_type": "stream",
     "text": [
      "1/1 [==============================] - 0s 20ms/step\n",
      "8/8 [==============================] - 1s 69ms/step\n",
      "1/1 [==============================] - 0s 57ms/step\n",
      "8/8 [==============================] - 1s 71ms/step\n",
      "1/1 [==============================] - 0s 47ms/step\n",
      "8/8 [==============================] - 1s 66ms/step\n",
      "1/1 [==============================] - 0s 48ms/step\n",
      "8/8 [==============================] - 1s 64ms/step\n"
     ]
    },
    {
     "name": "stderr",
     "output_type": "stream",
     "text": [
      "\r\n",
      " 80%|█████████████████████████████████████████████████████████████████▌                | 16/20 [01:07<00:16,  4.17s/it]"
     ]
    },
    {
     "name": "stdout",
     "output_type": "stream",
     "text": [
      "1/1 [==============================] - 0s 19ms/step\n",
      "8/8 [==============================] - 1s 78ms/step\n",
      "1/1 [==============================] - 0s 31ms/step\n",
      "8/8 [==============================] - 1s 68ms/step\n",
      "1/1 [==============================] - 0s 32ms/step\n",
      "8/8 [==============================] - 1s 78ms/step\n",
      "1/1 [==============================] - 0s 26ms/step\n",
      "8/8 [==============================] - 1s 63ms/step\n"
     ]
    },
    {
     "name": "stderr",
     "output_type": "stream",
     "text": [
      "\r\n",
      " 85%|█████████████████████████████████████████████████████████████████████▋            | 17/20 [01:11<00:12,  4.15s/it]"
     ]
    },
    {
     "name": "stdout",
     "output_type": "stream",
     "text": [
      "1/1 [==============================] - 0s 31ms/step\n",
      "8/8 [==============================] - 1s 88ms/step\n",
      "1/1 [==============================] - 0s 31ms/step\n",
      "8/8 [==============================] - 1s 81ms/step\n",
      "1/1 [==============================] - 0s 16ms/step\n",
      "8/8 [==============================] - 1s 74ms/step\n",
      "1/1 [==============================] - 0s 31ms/step\n",
      "8/8 [==============================] - 1s 81ms/step\n"
     ]
    },
    {
     "name": "stderr",
     "output_type": "stream",
     "text": [
      "\r\n",
      " 90%|█████████████████████████████████████████████████████████████████████████▊        | 18/20 [01:16<00:08,  4.17s/it]"
     ]
    },
    {
     "name": "stdout",
     "output_type": "stream",
     "text": [
      "1/1 [==============================] - 0s 43ms/step\n",
      "8/8 [==============================] - 1s 79ms/step\n",
      "1/1 [==============================] - 0s 47ms/step\n",
      "8/8 [==============================] - 1s 67ms/step\n",
      "1/1 [==============================] - 0s 58ms/step\n",
      "8/8 [==============================] - 1s 71ms/step\n",
      "1/1 [==============================] - 0s 32ms/step\n",
      "8/8 [==============================] - 1s 65ms/step\n"
     ]
    },
    {
     "name": "stderr",
     "output_type": "stream",
     "text": [
      "\r\n",
      " 95%|█████████████████████████████████████████████████████████████████████████████▉    | 19/20 [01:20<00:04,  4.19s/it]"
     ]
    },
    {
     "name": "stdout",
     "output_type": "stream",
     "text": [
      "1/1 [==============================] - 0s 23ms/step\n",
      "8/8 [==============================] - 1s 88ms/step\n",
      "1/1 [==============================] - 0s 16ms/step\n",
      "8/8 [==============================] - 1s 85ms/step\n",
      "1/1 [==============================] - 0s 49ms/step\n",
      "8/8 [==============================] - 1s 63ms/step\n",
      "1/1 [==============================] - 0s 31ms/step\n",
      "8/8 [==============================] - 1s 83ms/step\n"
     ]
    },
    {
     "name": "stderr",
     "output_type": "stream",
     "text": [
      "100%|██████████████████████████████████████████████████████████████████████████████████| 20/20 [01:24<00:00,  4.23s/it]"
     ]
    },
    {
     "name": "stdout",
     "output_type": "stream",
     "text": [
      "shap OK !!\n",
      "1/1 [==============================] - 0s 98ms/step\n"
     ]
    },
    {
     "name": "stderr",
     "output_type": "stream",
     "text": [
      "\n"
     ]
    },
    {
     "name": "stdout",
     "output_type": "stream",
     "text": [
      "1/1 [==============================] - 2s 2s/step - loss: 6537.0483 - mse: 6536.2827 - val_loss: 6517.2417 - val_mse: 6516.4849\n",
      "1/1 [==============================] - 2s 2s/step - loss: 6511.6841 - mse: 6510.9194 - val_loss: 6507.8662 - val_mse: 6507.1094\n",
      "1/1 [==============================] - 2s 2s/step - loss: 6507.4263 - mse: 6506.6602 - val_loss: 6506.7573 - val_mse: 6505.9985\n",
      "1/1 [==============================] - 2s 2s/step - loss: 6469.5386 - mse: 6468.7725 - val_loss: 6521.0161 - val_mse: 6520.2568\n",
      "1/1 [==============================] - 2s 2s/step - loss: 6519.1230 - mse: 6518.3564 - val_loss: 6501.6318 - val_mse: 6500.8711\n",
      "1/1 [==============================] - 2s 2s/step - loss: 6533.4727 - mse: 6532.7041 - val_loss: 6441.7563 - val_mse: 6440.9946\n",
      "1/1 [==============================] - 2s 2s/step - loss: 6527.6362 - mse: 6526.8691 - val_loss: 6581.5146 - val_mse: 6580.7539\n",
      "1/1 [==============================] - 2s 2s/step - loss: 6516.2783 - mse: 6515.5107 - val_loss: 6480.4121 - val_mse: 6479.6499\n",
      "1/1 [==============================] - 2s 2s/step - loss: 6516.6284 - mse: 6515.8608 - val_loss: 6437.7202 - val_mse: 6436.9575\n",
      "1/1 [==============================] - 2s 2s/step - loss: 6483.5205 - mse: 6482.7568 - val_loss: 6407.3511 - val_mse: 6406.5923\n",
      "1/1 [==============================] - 2s 2s/step - loss: 6544.3105 - mse: 6543.5439 - val_loss: 6354.4761 - val_mse: 6353.7139\n",
      "1/1 [==============================] - 2s 2s/step - loss: 6525.0093 - mse: 6524.2432 - val_loss: 6503.8071 - val_mse: 6503.0444\n",
      "1/1 [==============================] - 2s 2s/step - loss: 6540.2441 - mse: 6539.4805 - val_loss: 6542.9443 - val_mse: 6542.1836\n",
      "1/1 [==============================] - 2s 2s/step - loss: 6511.4644 - mse: 6510.6982 - val_loss: 6504.6597 - val_mse: 6503.8965\n",
      "1/1 [==============================] - 2s 2s/step - loss: 6547.5522 - mse: 6546.7866 - val_loss: 6494.8320 - val_mse: 6494.0693\n",
      "1/1 [==============================] - 2s 2s/step - loss: 6528.1392 - mse: 6527.3755 - val_loss: 6541.7031 - val_mse: 6540.9424\n",
      "1/1 [==============================] - 2s 2s/step - loss: 6536.8501 - mse: 6536.0815 - val_loss: 6409.2241 - val_mse: 6408.4585\n",
      "1/1 [==============================] - 2s 2s/step - loss: 6517.4751 - mse: 6516.7061 - val_loss: 6484.1060 - val_mse: 6483.3398\n",
      "1/1 [==============================] - 2s 2s/step - loss: 6527.3149 - mse: 6526.5493 - val_loss: 6455.1792 - val_mse: 6454.4165\n",
      "1/1 [==============================] - 2s 2s/step - loss: 6475.3672 - mse: 6474.6006 - val_loss: 6417.1729 - val_mse: 6416.4087\n",
      "1/1 [==============================] - 2s 2s/step - loss: 6526.8105 - mse: 6526.0420 - val_loss: 6346.4253 - val_mse: 6345.6592\n",
      "1/1 [==============================] - 2s 2s/step - loss: 6522.2310 - mse: 6521.4629 - val_loss: 6579.2158 - val_mse: 6578.4507\n",
      "1/1 [==============================] - 2s 2s/step - loss: 6532.4551 - mse: 6531.6875 - val_loss: 6314.5552 - val_mse: 6313.7896\n",
      "1/1 [==============================] - 2s 2s/step - loss: 6522.5566 - mse: 6521.7930 - val_loss: 6799.0537 - val_mse: 6798.2930\n",
      "1/1 [==============================] - 2s 2s/step - loss: 6547.9658 - mse: 6547.1982 - val_loss: 6683.7515 - val_mse: 6682.9854\n",
      "1/1 [==============================] - 2s 2s/step - loss: 6541.6743 - mse: 6540.9102 - val_loss: 6440.9253 - val_mse: 6440.1631\n",
      "1/1 [==============================] - 2s 2s/step - loss: 6534.3584 - mse: 6533.5898 - val_loss: 6472.9746 - val_mse: 6472.2080\n",
      "1/1 [==============================] - 2s 2s/step - loss: 6553.9243 - mse: 6553.1592 - val_loss: 6535.2632 - val_mse: 6534.4990\n",
      "1/1 [==============================] - 2s 2s/step - loss: 6536.3833 - mse: 6535.6143 - val_loss: 6542.9980 - val_mse: 6542.2300\n",
      "1/1 [==============================] - 2s 2s/step - loss: 6475.2573 - mse: 6474.4922 - val_loss: 6658.3740 - val_mse: 6657.6104\n",
      "1/1 [==============================] - 2s 2s/step - loss: 6492.4194 - mse: 6491.6514 - val_loss: 6431.2646 - val_mse: 6430.4971\n",
      "1/1 [==============================] - 2s 2s/step - loss: 6536.3286 - mse: 6535.5610 - val_loss: 6439.0884 - val_mse: 6438.3218\n",
      "1/1 [==============================] - 2s 2s/step - loss: 6505.9556 - mse: 6505.1899 - val_loss: 6372.4819 - val_mse: 6371.7178\n",
      "1/1 [==============================] - 2s 2s/step - loss: 6549.7612 - mse: 6548.9932 - val_loss: 6662.0967 - val_mse: 6661.3306\n",
      "1/1 [==============================] - 5s 5s/step - loss: 6500.1274 - mse: 6499.3623 - val_loss: 6360.5996 - val_mse: 6359.8354\n",
      "1/1 [==============================] - 2s 2s/step - loss: 6502.9307 - mse: 6502.1626 - val_loss: 6351.9536 - val_mse: 6351.1865\n",
      "1/1 [==============================] - 2s 2s/step - loss: 6579.1084 - mse: 6578.3423 - val_loss: 6655.3149 - val_mse: 6654.5493\n",
      "1/1 [==============================] - 2s 2s/step - loss: 6514.2012 - mse: 6513.4351 - val_loss: 6665.4736 - val_mse: 6664.7080\n",
      "1/1 [==============================] - 2s 2s/step - loss: 6530.1938 - mse: 6529.4268 - val_loss: 6399.7793 - val_mse: 6399.0127\n",
      "1/1 [==============================] - 2s 2s/step - loss: 6528.9463 - mse: 6528.1797 - val_loss: 6467.2646 - val_mse: 6466.4985\n",
      "1/1 [==============================] - 2s 2s/step - loss: 6521.5557 - mse: 6520.7900 - val_loss: 6258.5371 - val_mse: 6257.7725\n",
      "1/1 [==============================] - 2s 2s/step - loss: 6521.7383 - mse: 6520.9731 - val_loss: 6428.2363 - val_mse: 6427.4717\n",
      "1/1 [==============================] - 2s 2s/step - loss: 6532.2466 - mse: 6531.4814 - val_loss: 6623.0703 - val_mse: 6622.3057\n",
      "1/1 [==============================] - 2s 2s/step - loss: 6516.8872 - mse: 6516.1221 - val_loss: 6769.8164 - val_mse: 6769.0518\n",
      "1/1 [==============================] - 2s 2s/step - loss: 6525.7373 - mse: 6524.9722 - val_loss: 6462.3047 - val_mse: 6461.5400\n",
      "1/1 [==============================] - 2s 2s/step - loss: 6516.3599 - mse: 6515.5928 - val_loss: 6415.4072 - val_mse: 6414.6406\n",
      "1/1 [==============================] - 2s 2s/step - loss: 6536.1128 - mse: 6535.3462 - val_loss: 6382.3193 - val_mse: 6381.5532\n",
      "1/1 [==============================] - 2s 2s/step - loss: 6526.0654 - mse: 6525.2998 - val_loss: 6464.0337 - val_mse: 6463.2686\n",
      "1/1 [==============================] - 3s 3s/step - loss: 6492.2505 - mse: 6491.4814 - val_loss: 6007.4263 - val_mse: 6006.6577\n",
      "1/1 [==============================] - 2s 2s/step - loss: 6506.0908 - mse: 6505.3232 - val_loss: 6441.8613 - val_mse: 6441.0942\n",
      "1/1 [==============================] - 2s 2s/step - loss: 6493.9766 - mse: 6493.2100 - val_loss: 6710.1680 - val_mse: 6709.4014\n",
      "1/1 [==============================] - 2s 2s/step - loss: 6552.8457 - mse: 6552.0781 - val_loss: 6474.5088 - val_mse: 6473.7417\n",
      "1/1 [==============================] - 2s 2s/step - loss: 6514.8794 - mse: 6514.1128 - val_loss: 6497.2158 - val_mse: 6496.4497\n",
      "1/1 [==============================] - 2s 2s/step - loss: 6508.1626 - mse: 6507.3955 - val_loss: 6302.9844 - val_mse: 6302.2178\n",
      "1/1 [==============================] - 2s 2s/step - loss: 6514.5884 - mse: 6513.8232 - val_loss: 6553.2573 - val_mse: 6552.4922\n",
      "1/1 [==============================] - 2s 2s/step - loss: 6478.3789 - mse: 6477.6138 - val_loss: 6494.3047 - val_mse: 6493.5400\n",
      "1/1 [==============================] - 2s 2s/step - loss: 6501.9082 - mse: 6501.1416 - val_loss: 6882.0884 - val_mse: 6881.3218\n",
      "1/1 [==============================] - 2s 2s/step - loss: 6512.7925 - mse: 6512.0244 - val_loss: 6430.9321 - val_mse: 6430.1641\n",
      "1/1 [==============================] - 2s 2s/step - loss: 6524.6221 - mse: 6523.8564 - val_loss: 6406.4858 - val_mse: 6405.7202\n",
      "1/1 [==============================] - 2s 2s/step - loss: 6525.1465 - mse: 6524.3799 - val_loss: 6726.5181 - val_mse: 6725.7515\n",
      "1/1 [==============================] - 2s 2s/step - loss: 6522.4824 - mse: 6521.7139 - val_loss: 6552.0200 - val_mse: 6551.2515\n",
      "1/1 [==============================] - 2s 2s/step - loss: 6516.2764 - mse: 6515.5127 - val_loss: 6527.5288 - val_mse: 6526.7646\n",
      "1/1 [==============================] - 2s 2s/step - loss: 6544.7544 - mse: 6543.9902 - val_loss: 6199.3330 - val_mse: 6198.5688\n",
      "1/1 [==============================] - 2s 2s/step - loss: 6488.9043 - mse: 6488.1396 - val_loss: 6463.4370 - val_mse: 6462.6729\n",
      "1/1 [==============================] - 2s 2s/step - loss: 6533.0938 - mse: 6532.3276 - val_loss: 6236.7710 - val_mse: 6236.0049\n",
      "1/1 [==============================] - 2s 2s/step - loss: 6513.4116 - mse: 6512.6455 - val_loss: 6608.3374 - val_mse: 6607.5713\n",
      "1/1 [==============================] - 2s 2s/step - loss: 6532.8975 - mse: 6532.1294 - val_loss: 6840.3281 - val_mse: 6839.5601\n",
      "1/1 [==============================] - 2s 2s/step - loss: 6519.1855 - mse: 6518.4185 - val_loss: 6361.9536 - val_mse: 6361.1865\n",
      "1/1 [==============================] - 2s 2s/step - loss: 6507.8560 - mse: 6507.0889 - val_loss: 6423.7158 - val_mse: 6422.9482\n",
      "1/1 [==============================] - 2s 2s/step - loss: 6535.8184 - mse: 6535.0527 - val_loss: 6481.8550 - val_mse: 6481.0894\n",
      "1/1 [==============================] - 2s 2s/step - loss: 6522.2988 - mse: 6521.5327 - val_loss: 6441.0801 - val_mse: 6440.3140\n",
      "1/1 [==============================] - 2s 2s/step - loss: 6555.1865 - mse: 6554.4209 - val_loss: 6529.7690 - val_mse: 6529.0029\n",
      "1/1 [==============================] - 2s 2s/step - loss: 6520.2920 - mse: 6519.5244 - val_loss: 6810.2905 - val_mse: 6809.5234\n",
      "1/1 [==============================] - 2s 2s/step - loss: 6488.4028 - mse: 6487.6357 - val_loss: 6409.7148 - val_mse: 6408.9478\n",
      "1/1 [==============================] - 2s 2s/step - loss: 6516.3926 - mse: 6515.6265 - val_loss: 6832.4912 - val_mse: 6831.7251\n",
      "1/1 [==============================] - 1s 1s/step - loss: 6498.6797 - mse: 6497.9150 - val_loss: 6725.3975 - val_mse: 6724.6328\n",
      "1/1 [==============================] - 2s 2s/step - loss: 6542.4946 - mse: 6541.7256 - val_loss: 6200.7109 - val_mse: 6199.9424\n",
      "1/1 [==============================] - 2s 2s/step - loss: 6525.7461 - mse: 6524.9795 - val_loss: 6710.1689 - val_mse: 6709.4023\n",
      "1/1 [==============================] - 2s 2s/step - loss: 6535.0063 - mse: 6534.2349 - val_loss: 6598.7461 - val_mse: 6597.9751\n",
      "1/1 [==============================] - 2s 2s/step - loss: 6552.6553 - mse: 6551.8882 - val_loss: 6757.4014 - val_mse: 6756.6343\n",
      "1/1 [==============================] - 2s 2s/step - loss: 6533.7056 - mse: 6532.9380 - val_loss: 6536.3813 - val_mse: 6535.6138\n",
      "1/1 [==============================] - 2s 2s/step - loss: 6524.3301 - mse: 6523.5649 - val_loss: 6539.7520 - val_mse: 6538.9868\n",
      "1/1 [==============================] - 2s 2s/step - loss: 6513.3369 - mse: 6512.5698 - val_loss: 6428.0298 - val_mse: 6427.2627\n",
      "1/1 [==============================] - 2s 2s/step - loss: 6505.1577 - mse: 6504.3916 - val_loss: 7022.4209 - val_mse: 7021.6548\n",
      "1/1 [==============================] - 2s 2s/step - loss: 6497.8086 - mse: 6497.0430 - val_loss: 6497.9009 - val_mse: 6497.1353\n",
      "1/1 [==============================] - 2s 2s/step - loss: 6519.5547 - mse: 6518.7876 - val_loss: 6371.7554 - val_mse: 6370.9883\n",
      "1/1 [==============================] - 2s 2s/step - loss: 6522.9922 - mse: 6522.2256 - val_loss: 6530.0586 - val_mse: 6529.2920\n",
      "1/1 [==============================] - 2s 2s/step - loss: 6559.8896 - mse: 6559.1235 - val_loss: 6255.5054 - val_mse: 6254.7393\n",
      "1/1 [==============================] - 2s 2s/step - loss: 6501.0835 - mse: 6500.3174 - val_loss: 6400.3081 - val_mse: 6399.5420\n",
      "1/1 [==============================] - 2s 2s/step - loss: 6476.8550 - mse: 6476.0874 - val_loss: 6975.2236 - val_mse: 6974.4561\n",
      "1/1 [==============================] - 2s 2s/step - loss: 6472.7734 - mse: 6472.0039 - val_loss: 6493.8389 - val_mse: 6493.0693\n",
      "1/1 [==============================] - 2s 2s/step - loss: 6544.6895 - mse: 6543.9224 - val_loss: 6228.5781 - val_mse: 6227.8110\n",
      "1/1 [==============================] - 2s 2s/step - loss: 6515.7949 - mse: 6515.0283 - val_loss: 6539.5728 - val_mse: 6538.8057\n",
      "1/1 [==============================] - 2s 2s/step - loss: 6530.8750 - mse: 6530.1055 - val_loss: 6667.5225 - val_mse: 6666.7529\n",
      "1/1 [==============================] - 6s 6s/step - loss: 6531.4028 - mse: 6530.6367 - val_loss: 6653.5054 - val_mse: 6652.7393\n",
      "1/1 [==============================] - 2s 2s/step - loss: 6503.8398 - mse: 6503.0742 - val_loss: 6187.6089 - val_mse: 6186.8428\n",
      "1/1 [==============================] - 2s 2s/step - loss: 6520.4658 - mse: 6519.6992 - val_loss: 6676.7344 - val_mse: 6675.9678\n",
      "1/1 [==============================] - 2s 2s/step - loss: 6508.3008 - mse: 6507.5298 - val_loss: 6172.5947 - val_mse: 6171.8237\n",
      "1/1 [==============================] - 2s 2s/step - loss: 6536.2632 - mse: 6535.4971 - val_loss: 6613.0298 - val_mse: 6612.2627\n",
      "1/1 [==============================] - 0s 58ms/step\n",
      "1/1 [==============================] - 0s 57ms/step\n"
     ]
    },
    {
     "name": "stderr",
     "output_type": "stream",
     "text": [
      "\r\n",
      "  0%|                                                                                           | 0/20 [00:00<?, ?it/s]"
     ]
    },
    {
     "name": "stdout",
     "output_type": "stream",
     "text": [
      "18/18 [==============================] - 1s 39ms/step\n"
     ]
    },
    {
     "name": "stderr",
     "output_type": "stream",
     "text": [
      "\r\n",
      "  5%|████▏                                                                              | 1/20 [00:11<03:33, 11.23s/it]"
     ]
    },
    {
     "name": "stdout",
     "output_type": "stream",
     "text": [
      "18/18 [==============================] - 1s 40ms/step\n"
     ]
    },
    {
     "name": "stderr",
     "output_type": "stream",
     "text": [
      "\r\n",
      " 10%|████████▎                                                                          | 2/20 [00:22<03:19, 11.08s/it]"
     ]
    },
    {
     "name": "stdout",
     "output_type": "stream",
     "text": [
      "18/18 [==============================] - 1s 39ms/step\n"
     ]
    },
    {
     "name": "stderr",
     "output_type": "stream",
     "text": [
      "\r\n",
      " 15%|████████████▍                                                                      | 3/20 [00:33<03:11, 11.26s/it]"
     ]
    },
    {
     "name": "stdout",
     "output_type": "stream",
     "text": [
      "18/18 [==============================] - 1s 40ms/step\n"
     ]
    },
    {
     "name": "stderr",
     "output_type": "stream",
     "text": [
      "\r\n",
      " 20%|████████████████▌                                                                  | 4/20 [00:44<03:00, 11.25s/it]"
     ]
    },
    {
     "name": "stdout",
     "output_type": "stream",
     "text": [
      "18/18 [==============================] - 1s 41ms/step\n"
     ]
    },
    {
     "name": "stderr",
     "output_type": "stream",
     "text": [
      "\r\n",
      " 25%|████████████████████▊                                                              | 5/20 [00:55<02:47, 11.14s/it]"
     ]
    },
    {
     "name": "stdout",
     "output_type": "stream",
     "text": [
      "18/18 [==============================] - 1s 38ms/step\n"
     ]
    },
    {
     "name": "stderr",
     "output_type": "stream",
     "text": [
      "\r\n",
      " 30%|████████████████████████▉                                                          | 6/20 [01:07<02:36, 11.16s/it]"
     ]
    },
    {
     "name": "stdout",
     "output_type": "stream",
     "text": [
      "18/18 [==============================] - 1s 42ms/step\n"
     ]
    },
    {
     "name": "stderr",
     "output_type": "stream",
     "text": [
      "\r\n",
      " 35%|█████████████████████████████                                                      | 7/20 [01:18<02:27, 11.34s/it]"
     ]
    },
    {
     "name": "stdout",
     "output_type": "stream",
     "text": [
      "18/18 [==============================] - 1s 52ms/step\n"
     ]
    },
    {
     "name": "stderr",
     "output_type": "stream",
     "text": [
      "\r\n",
      " 40%|█████████████████████████████████▏                                                 | 8/20 [01:35<02:35, 12.99s/it]"
     ]
    },
    {
     "name": "stdout",
     "output_type": "stream",
     "text": [
      "18/18 [==============================] - 1s 38ms/step\n"
     ]
    },
    {
     "name": "stderr",
     "output_type": "stream",
     "text": [
      "\r\n",
      " 45%|█████████████████████████████████████▎                                             | 9/20 [01:48<02:23, 13.05s/it]"
     ]
    },
    {
     "name": "stdout",
     "output_type": "stream",
     "text": [
      "18/18 [==============================] - 1s 46ms/step\n"
     ]
    },
    {
     "name": "stderr",
     "output_type": "stream",
     "text": [
      "\r\n",
      " 50%|█████████████████████████████████████████                                         | 10/20 [02:01<02:10, 13.07s/it]"
     ]
    },
    {
     "name": "stdout",
     "output_type": "stream",
     "text": [
      "18/18 [==============================] - 1s 38ms/step\n"
     ]
    },
    {
     "name": "stderr",
     "output_type": "stream",
     "text": [
      "\r\n",
      " 55%|█████████████████████████████████████████████                                     | 11/20 [02:13<01:54, 12.72s/it]"
     ]
    },
    {
     "name": "stdout",
     "output_type": "stream",
     "text": [
      "18/18 [==============================] - 1s 38ms/step\n"
     ]
    },
    {
     "name": "stderr",
     "output_type": "stream",
     "text": [
      "\r\n",
      " 60%|█████████████████████████████████████████████████▏                                | 12/20 [02:25<01:39, 12.45s/it]"
     ]
    },
    {
     "name": "stdout",
     "output_type": "stream",
     "text": [
      "18/18 [==============================] - 1s 43ms/step\n"
     ]
    },
    {
     "name": "stderr",
     "output_type": "stream",
     "text": [
      "\r\n",
      " 65%|█████████████████████████████████████████████████████▎                            | 13/20 [02:37<01:26, 12.30s/it]"
     ]
    },
    {
     "name": "stdout",
     "output_type": "stream",
     "text": [
      "18/18 [==============================] - 1s 42ms/step\n"
     ]
    },
    {
     "name": "stderr",
     "output_type": "stream",
     "text": [
      "\r\n",
      " 70%|█████████████████████████████████████████████████████████▍                        | 14/20 [02:48<01:11, 11.95s/it]"
     ]
    },
    {
     "name": "stdout",
     "output_type": "stream",
     "text": [
      "18/18 [==============================] - 1s 48ms/step\n"
     ]
    },
    {
     "name": "stderr",
     "output_type": "stream",
     "text": [
      "\r\n",
      " 75%|█████████████████████████████████████████████████████████████▌                    | 15/20 [03:01<01:01, 12.22s/it]"
     ]
    },
    {
     "name": "stdout",
     "output_type": "stream",
     "text": [
      "18/18 [==============================] - 1s 53ms/step\n"
     ]
    },
    {
     "name": "stderr",
     "output_type": "stream",
     "text": [
      "\r\n",
      " 80%|█████████████████████████████████████████████████████████████████▌                | 16/20 [03:15<00:51, 12.91s/it]"
     ]
    },
    {
     "name": "stdout",
     "output_type": "stream",
     "text": [
      "18/18 [==============================] - 1s 52ms/step\n"
     ]
    },
    {
     "name": "stderr",
     "output_type": "stream",
     "text": [
      "\r\n",
      " 85%|█████████████████████████████████████████████████████████████████████▋            | 17/20 [03:30<00:39, 13.31s/it]"
     ]
    },
    {
     "name": "stdout",
     "output_type": "stream",
     "text": [
      "18/18 [==============================] - 1s 43ms/step\n"
     ]
    },
    {
     "name": "stderr",
     "output_type": "stream",
     "text": [
      "\r\n",
      " 90%|█████████████████████████████████████████████████████████████████████████▊        | 18/20 [03:43<00:26, 13.43s/it]"
     ]
    },
    {
     "name": "stdout",
     "output_type": "stream",
     "text": [
      "18/18 [==============================] - 1s 53ms/step\n"
     ]
    },
    {
     "name": "stderr",
     "output_type": "stream",
     "text": [
      "\r\n",
      " 95%|█████████████████████████████████████████████████████████████████████████████▉    | 19/20 [03:58<00:13, 13.83s/it]"
     ]
    },
    {
     "name": "stdout",
     "output_type": "stream",
     "text": [
      "18/18 [==============================] - 1s 39ms/step\n"
     ]
    },
    {
     "name": "stderr",
     "output_type": "stream",
     "text": [
      "100%|██████████████████████████████████████████████████████████████████████████████████| 20/20 [04:11<00:00, 12.55s/it]\n",
      "100%|██████████████████████████████████████████████████████████████████████████████████| 20/20 [08:07<00:00, 24.39s/it]"
     ]
    },
    {
     "name": "stdout",
     "output_type": "stream",
     "text": [
      "L2X OK !!\n"
     ]
    },
    {
     "name": "stderr",
     "output_type": "stream",
     "text": [
      "\n"
     ]
    },
    {
     "data": {
      "text/html": [
       "<div>\n",
       "<style scoped>\n",
       "    .dataframe tbody tr th:only-of-type {\n",
       "        vertical-align: middle;\n",
       "    }\n",
       "\n",
       "    .dataframe tbody tr th {\n",
       "        vertical-align: top;\n",
       "    }\n",
       "\n",
       "    .dataframe thead th {\n",
       "        text-align: right;\n",
       "    }\n",
       "</style>\n",
       "<table border=\"1\" class=\"dataframe\">\n",
       "  <thead>\n",
       "    <tr style=\"text-align: right;\">\n",
       "      <th></th>\n",
       "      <th>identity</th>\n",
       "      <th>separability</th>\n",
       "      <th>stability</th>\n",
       "      <th>coherence</th>\n",
       "      <th>completness</th>\n",
       "      <th>congruence</th>\n",
       "      <th>selectivity</th>\n",
       "      <th>accumen</th>\n",
       "      <th>explainer</th>\n",
       "    </tr>\n",
       "  </thead>\n",
       "  <tbody>\n",
       "    <tr>\n",
       "      <th>0</th>\n",
       "      <td>1.0</td>\n",
       "      <td>1.0</td>\n",
       "      <td>1.00</td>\n",
       "      <td>0.150924</td>\n",
       "      <td>4.145610</td>\n",
       "      <td>0.236745</td>\n",
       "      <td>0.631832</td>\n",
       "      <td>0.048846</td>\n",
       "      <td>lime_1c</td>\n",
       "    </tr>\n",
       "    <tr>\n",
       "      <th>0</th>\n",
       "      <td>1.0</td>\n",
       "      <td>1.0</td>\n",
       "      <td>0.95</td>\n",
       "      <td>0.147892</td>\n",
       "      <td>0.568901</td>\n",
       "      <td>0.232912</td>\n",
       "      <td>0.587377</td>\n",
       "      <td>0.453238</td>\n",
       "      <td>shap_1c</td>\n",
       "    </tr>\n",
       "    <tr>\n",
       "      <th>0</th>\n",
       "      <td>1.0</td>\n",
       "      <td>1.0</td>\n",
       "      <td>1.00</td>\n",
       "      <td>0.216381</td>\n",
       "      <td>2.378321</td>\n",
       "      <td>0.308456</td>\n",
       "      <td>0.615225</td>\n",
       "      <td>0.034186</td>\n",
       "      <td>l2x_1c</td>\n",
       "    </tr>\n",
       "    <tr>\n",
       "      <th>0</th>\n",
       "      <td>1.0</td>\n",
       "      <td>1.0</td>\n",
       "      <td>0.95</td>\n",
       "      <td>0.160015</td>\n",
       "      <td>0.218664</td>\n",
       "      <td>0.250107</td>\n",
       "      <td>0.744438</td>\n",
       "      <td>0.108766</td>\n",
       "      <td>lime_1c</td>\n",
       "    </tr>\n",
       "    <tr>\n",
       "      <th>0</th>\n",
       "      <td>1.0</td>\n",
       "      <td>1.0</td>\n",
       "      <td>0.95</td>\n",
       "      <td>0.157933</td>\n",
       "      <td>0.333230</td>\n",
       "      <td>0.251317</td>\n",
       "      <td>0.728482</td>\n",
       "      <td>0.434705</td>\n",
       "      <td>shap_1c</td>\n",
       "    </tr>\n",
       "    <tr>\n",
       "      <th>0</th>\n",
       "      <td>1.0</td>\n",
       "      <td>1.0</td>\n",
       "      <td>0.90</td>\n",
       "      <td>0.176160</td>\n",
       "      <td>38.070158</td>\n",
       "      <td>0.262740</td>\n",
       "      <td>0.783042</td>\n",
       "      <td>0.029785</td>\n",
       "      <td>l2x_1c</td>\n",
       "    </tr>\n",
       "    <tr>\n",
       "      <th>0</th>\n",
       "      <td>1.0</td>\n",
       "      <td>1.0</td>\n",
       "      <td>0.95</td>\n",
       "      <td>0.165309</td>\n",
       "      <td>0.751394</td>\n",
       "      <td>0.255895</td>\n",
       "      <td>0.771705</td>\n",
       "      <td>0.045492</td>\n",
       "      <td>lime_1c</td>\n",
       "    </tr>\n",
       "    <tr>\n",
       "      <th>0</th>\n",
       "      <td>1.0</td>\n",
       "      <td>1.0</td>\n",
       "      <td>0.95</td>\n",
       "      <td>0.165233</td>\n",
       "      <td>0.320011</td>\n",
       "      <td>0.255948</td>\n",
       "      <td>0.785162</td>\n",
       "      <td>0.403614</td>\n",
       "      <td>shap_1c</td>\n",
       "    </tr>\n",
       "    <tr>\n",
       "      <th>0</th>\n",
       "      <td>1.0</td>\n",
       "      <td>1.0</td>\n",
       "      <td>0.90</td>\n",
       "      <td>0.181828</td>\n",
       "      <td>13.867031</td>\n",
       "      <td>0.271893</td>\n",
       "      <td>0.787156</td>\n",
       "      <td>0.028032</td>\n",
       "      <td>l2x_1c</td>\n",
       "    </tr>\n",
       "  </tbody>\n",
       "</table>\n",
       "</div>"
      ],
      "text/plain": [
       "   identity  separability  stability  coherence  completness  congruence  \\\n",
       "0       1.0           1.0       1.00   0.150924     4.145610    0.236745   \n",
       "0       1.0           1.0       0.95   0.147892     0.568901    0.232912   \n",
       "0       1.0           1.0       1.00   0.216381     2.378321    0.308456   \n",
       "0       1.0           1.0       0.95   0.160015     0.218664    0.250107   \n",
       "0       1.0           1.0       0.95   0.157933     0.333230    0.251317   \n",
       "0       1.0           1.0       0.90   0.176160    38.070158    0.262740   \n",
       "0       1.0           1.0       0.95   0.165309     0.751394    0.255895   \n",
       "0       1.0           1.0       0.95   0.165233     0.320011    0.255948   \n",
       "0       1.0           1.0       0.90   0.181828    13.867031    0.271893   \n",
       "\n",
       "   selectivity   accumen explainer  \n",
       "0     0.631832  0.048846   lime_1c  \n",
       "0     0.587377  0.453238   shap_1c  \n",
       "0     0.615225  0.034186    l2x_1c  \n",
       "0     0.744438  0.108766   lime_1c  \n",
       "0     0.728482  0.434705   shap_1c  \n",
       "0     0.783042  0.029785    l2x_1c  \n",
       "0     0.771705  0.045492   lime_1c  \n",
       "0     0.785162  0.403614   shap_1c  \n",
       "0     0.787156  0.028032    l2x_1c  "
      ]
     },
     "execution_count": 51,
     "metadata": {},
     "output_type": "execute_result"
    }
   ],
   "source": [
    "if True:\n",
    "    \n",
    "    # LIME\n",
    "    lime_explainer = RecurrentTabularExplainer(test_array, training_labels=label_array,\n",
    "                                                       feature_names=remaining_sensors,\n",
    "                                                       mode = 'regression',\n",
    "                                                       )\n",
    "    lime_values = get_lime_explanation(test_array_sampling, e = model.predict)\n",
    "    Lime_dist = pd.DataFrame(squareform(pdist(lime_values))) # Lime values explanation matrix\n",
    "\n",
    "    #Lime's metrics\n",
    "    list_metrics_lime = {}\n",
    "    list_metrics_lime['identity'] = identity(X_dist, Lime_dist)\n",
    "    list_metrics_lime['separability'] = separability(X_dist, Lime_dist)\n",
    "    list_metrics_lime['stability'] = stability(X_dist, Lime_dist)\n",
    "    list_metrics_lime['coherence'], list_metrics_lime['completness'], list_metrics_lime['congruence'] = coherence(model=model.predict, \n",
    "                                                explainer = get_lime_explanation,\n",
    "                                               samples=test_array_sampling,\n",
    "                                                targets=label_array, e = model.predict)\n",
    "    list_metrics_lime['selectivity'] = selectivity(model=model.predict, explainer = get_lime_explanation,\n",
    "                                               samples=test_array_sampling, e_x = model.predict)\n",
    "    list_metrics_lime['accumen'] = acumen(get_lime_explanation, test_array_sampling, e=model.predict)\n",
    "    list_metrics_lime['explainer'] = 'lime_1c'\n",
    "    df_metrics = pd.concat([df_metrics, pd.DataFrame([list_metrics_lime])])\n",
    "    print(\"Lime OK!!\")\n",
    "    \n",
    "    # SHAP\n",
    "    e = KernelSHAP(model)\n",
    "    shapvalues = get_explainations(test_array_sampling, e)\n",
    "    shapvalues.shape\n",
    "\n",
    "    list_metrics_shap = {}\n",
    "    shap_dist = pd.DataFrame(squareform(pdist(shapvalues))) # shap values explanation matrix\n",
    "    \n",
    "    list_metrics_shap['identity'] = identity(X_dist, shap_dist)\n",
    "    list_metrics_shap['separability'] = separability(X_dist, shap_dist)\n",
    "    list_metrics_shap['stability'] = stability(X_dist, shap_dist)\n",
    "    list_metrics_shap['coherence'], list_metrics_shap['completness'], list_metrics_shap['congruence'] = coherence(model=model.predict, \n",
    "                                                explainer = get_explainations,\n",
    "                                               samples=test_array_sampling,\n",
    "                                                targets=label_array, e = e)\n",
    "    list_metrics_shap['selectivity'] = selectivity(model=model.predict, explainer = get_explainations,\n",
    "                                   samples=test_array_sampling, e_x=e)\n",
    "    list_metrics_shap['accumen'] = acumen(get_explainations, test_array_sampling, e=e)\n",
    "\n",
    "    list_metrics_shap['explainer'] = 'shap_1c'\n",
    "    df_metrics = pd.concat([df_metrics, pd.DataFrame([list_metrics_shap])])\n",
    "    print(\"shap OK !!\")\n",
    "    \n",
    "    # L2X\n",
    "    e = L2X(model.predict, test_array_sampling)\n",
    "    l2xvalues = get_explainations(test_array_sampling, e, L2X=True)\n",
    "    l2xvalues.shape\n",
    "\n",
    "    # l2x's metrics\n",
    "    list_metrics_l2x = {}\n",
    "    l2x_dist = pd.DataFrame(squareform(pdist(l2xvalues))) # Lime values explanation matrix\n",
    "\n",
    "    list_metrics_l2x['identity'] = identity(X_dist, l2x_dist)\n",
    "    list_metrics_l2x['separability'] = separability(X_dist, l2x_dist)\n",
    "    list_metrics_l2x['stability'] = stability(X_dist, l2x_dist)\n",
    "    list_metrics_l2x['coherence'], list_metrics_l2x['completness'], list_metrics_l2x['congruence'] = coherence(model=model.predict, explainer = get_explainations,\n",
    "                                               samples=test_array_sampling, targets=label_array_sampling, e = e, L2X=True)\n",
    "    list_metrics_l2x['selectivity'] = selectivity(model=model.predict, explainer = get_explainations,\n",
    "                                   samples=test_array_sampling, e_x=e, L2X=True)\n",
    "    list_metrics_l2x['accumen'] = acumen(get_explainations, test_array_sampling, e=e, L2X=True)\n",
    "    list_metrics_l2x['explainer'] = 'l2x_1c'\n",
    "    print(\"L2X OK !!\")\n",
    "\n",
    "    \n",
    "    df_metrics = pd.concat([df_metrics, pd.DataFrame([list_metrics_l2x])])\n",
    "df_metrics"
   ]
  },
  {
   "cell_type": "code",
   "execution_count": 52,
   "id": "0be22ae7",
   "metadata": {},
   "outputs": [
    {
     "name": "stdout",
     "output_type": "stream",
     "text": [
      "INFO:tensorflow:Assets written to: /sfds_result/model_3c\\assets\n"
     ]
    },
    {
     "name": "stderr",
     "output_type": "stream",
     "text": [
      "INFO:tensorflow:Assets written to: /sfds_result/model_3c\\assets\n"
     ]
    }
   ],
   "source": [
    "model_3c = model\n",
    "model_3c.save('/sfds_result/model_3c')\n",
    "df_metrics.to_csv('sfds_result/df_metric_sfds.csv')"
   ]
  },
  {
   "cell_type": "code",
   "execution_count": 54,
   "id": "ac1d8e7d",
   "metadata": {},
   "outputs": [],
   "source": [
    "seed = 0\n",
    "tf.keras.utils.set_random_seed(seed)"
   ]
  },
  {
   "cell_type": "markdown",
   "id": "6e22b701",
   "metadata": {},
   "source": [
    "## Sommaire: <a class=\"anchor\" id=\"sommaire\"></a>\n",
    "* [Sommaire](#sommaire)\n",
    "* [I. Mise en place des fonctions](#function)\n",
    "    * [1. KernelSHAP](#KernelSHAP)\n",
    "    * [2. L2X](#l2x)\n",
    "    * [3. Génération des explications](#f_xai)\n",
    "    * [4. Métriques d'évaluation](#metrique)\n",
    "    * [5. Fonction pour la préparation des données et du modèle d'analyse](#dataprep)\n",
    "* [II. Chargement des données](#data)\n",
    "* [III. Expérimentation](#experiementation)\n",
    "    * [1. Model à une couche](#model1layer)\n",
    "    * [2. Model à 2 couches](#model2layer)\n",
    "    * [3. Model à 3 couches](#model3layer)\n",
    "    * [4. Model à 4 couches](#model4layer)\n",
    "    * [5. Model à 5 couches](#model5layer)\n",
    "* [IV. Evaluation des explication](#xai_metric)"
   ]
  },
  {
   "cell_type": "markdown",
   "id": "78d52042",
   "metadata": {},
   "source": [
    "### Model à 4 couches <a id=\"model4layer\"></a>"
   ]
  },
  {
   "cell_type": "code",
   "execution_count": 55,
   "id": "068f97f2",
   "metadata": {},
   "outputs": [
    {
     "name": "stdout",
     "output_type": "stream",
     "text": [
      "8/8 [==============================] - 1s 42ms/step\n",
      "8/8 [==============================] - 1s 36ms/step\n",
      "8/8 [==============================] - 1s 30ms/step\n",
      " Model evaluation for FD004 : \n",
      "1611/1611 [==============================] - 51s 32ms/step\n",
      "train set RMSE:9.015172958374023, R2:0.9218156234440671\n",
      "8/8 [==============================] - 0s 33ms/step\n",
      "test set RMSE:10.22274818629436, R2:0.9134238969173201\n",
      " \n",
      " Model evaluation for FD004 : \n",
      "8/8 [==============================] - 0s 33ms/step\n",
      "test set RMSE:10.22274818629436, R2:0.9134238969173201\n",
      " \n",
      "S-score for test :  515.5448483808688\n",
      " \n"
     ]
    }
   ],
   "source": [
    "# Modeling\n",
    "if True:\n",
    "    weights_file = str(alpha) + '4lstm_hyper_parameter_weights.h5'\n",
    "    model = create_lstm_4layers(dropout, activation, weights_file, input_shape=input_shape)\n",
    "    mse = []\n",
    "    \n",
    "    mse_val = []\n",
    "    R2_val = []\n",
    "    RMSE = []\n",
    "    score_val = []\n",
    "    \n",
    "    with tf.device('/device:GPU:0'):\n",
    "        for train_unit, val_unit in gss.split(X_train_interim['Unit'].unique(), groups=X_train_interim['Unit'].unique()):\n",
    "            train_unit = X_train_interim['Unit'].unique()[train_unit]  # gss returns indexes and index starts at 1\n",
    "            train_split_array = gen_data_wrapper(X_train_interim, sequence_length, remaining_sensors, train_unit)\n",
    "            train_split_label = gen_label_wrapper(X_train_interim, sequence_length, ['RUL'], train_unit)\n",
    "\n",
    "            val_unit = X_train_interim['Unit'].unique()[val_unit]\n",
    "            val_split_array = gen_data_wrapper(X_train_interim, sequence_length, remaining_sensors, val_unit)\n",
    "            val_split_label = gen_label_wrapper(X_train_interim, sequence_length, ['RUL'], val_unit)\n",
    "\n",
    "            # train and evaluate model\n",
    "            model.compile(loss='mse', optimizer='adam')\n",
    "#             model.load_weights(weights_file)  # reset optimizer and node weights before every training iteration\n",
    "\n",
    "#             with tf.device('/device:GPU:0'):\n",
    "            history = model.fit(train_split_array, train_split_label,\n",
    "                                validation_data=(val_split_array, val_split_label),\n",
    "                                epochs=epochs,\n",
    "                                batch_size=batch_size,\n",
    "                                verbose=0)\n",
    "#             mse.append(history.history['val_loss'][-1])\n",
    "            test_gen = (list(gen_test_data(X_test_interim[X_test_interim['Unit']==unit_nr], sequence_length,remaining_sensors, -99.))\n",
    "                            for unit_nr in X_test_interim['Unit'].unique())\n",
    "            test_array = np.concatenate(list(test_gen)).astype(np.float32)\n",
    "            mse_val.append(history.history['val_loss'][-1])\n",
    "            y_hat_val_split = model.predict(test_array)\n",
    "            R2_val.append(r2_score(test_rul, y_hat_val_split))\n",
    "            RMSE.append(np.sqrt(mean_squared_error(test_rul, y_hat_val_split)))\n",
    "            score_val.append(compute_s_score(test_rul, y_hat_val_split))\n",
    "    d = {'RMSE_val':np.sqrt(mse_val),'RMSE_test': RMSE,'R2_test':np.mean(R2_val), 'Score_test':np.mean(score_val),\n",
    "                'alpha':alpha, 'rul_piecewise':upper, 'sequence_length':sequence_length}\n",
    "output.append(d)\n",
    "model_4c = model\n",
    "output\n",
    "\n",
    "print(\" Model evaluation for FD004 : \")\n",
    "y_hat_train = model.predict(train_array)\n",
    "evaluate(label_array, y_hat_train, 'train')\n",
    "\n",
    "y_hat_test = model.predict(test_array)\n",
    "evaluate(y_test, y_hat_test)\n",
    "print(' ')\n",
    "print(\" Model evaluation for FD004 : \")\n",
    "\n",
    "y_hat_test = model.predict(test_array)\n",
    "evaluate(y_test['RUL'].clip(upper=upper), y_hat_test)\n",
    "print(' ')\n",
    "print(\"S-score for test : \",compute_s_score(y_test, y_hat_test))\n",
    "print(' ')"
   ]
  },
  {
   "cell_type": "code",
   "execution_count": 87,
   "id": "d9ff7650",
   "metadata": {},
   "outputs": [],
   "source": [
    "RMSE.append(10.22)\n",
    "Sscore.append(515.54)"
   ]
  },
  {
   "cell_type": "code",
   "execution_count": 90,
   "id": "59f82192",
   "metadata": {},
   "outputs": [],
   "source": [
    "df_perf = pd.DataFrame()\n",
    "df_perf['RMSE'] = RMSE\n",
    "df_perf[\"S-score\"] = Sscore\n",
    "df_perf.index = [\"1_layer\", \"2_layers\", \"3_layers\", \"4_layers\"]\n",
    "df_perf.to_csv(\"sfds_result/df_perf.csv\")"
   ]
  },
  {
   "cell_type": "code",
   "execution_count": 56,
   "id": "7224cc7d",
   "metadata": {},
   "outputs": [
    {
     "name": "stdout",
     "output_type": "stream",
     "text": [
      "INFO:tensorflow:Assets written to: /sfds_result/model_4c\\assets\n"
     ]
    },
    {
     "name": "stderr",
     "output_type": "stream",
     "text": [
      "INFO:tensorflow:Assets written to: /sfds_result/model_4c\\assets\n"
     ]
    }
   ],
   "source": [
    "model_4c = model\n",
    "model_4c.save('/sfds_result/model_4c')"
   ]
  },
  {
   "cell_type": "code",
   "execution_count": 57,
   "id": "29bd6810",
   "metadata": {},
   "outputs": [
    {
     "name": "stdout",
     "output_type": "stream",
     "text": [
      "157/157 [==============================] - 5s 32ms/step\n",
      "157/157 [==============================] - 5s 31ms/step\n",
      "157/157 [==============================] - 5s 29ms/step\n",
      "157/157 [==============================] - 5s 31ms/step\n",
      "157/157 [==============================] - 4s 28ms/step\n",
      "157/157 [==============================] - 5s 30ms/step\n",
      "157/157 [==============================] - 5s 31ms/step\n",
      "157/157 [==============================] - 6s 38ms/step\n",
      "157/157 [==============================] - 6s 41ms/step\n",
      "157/157 [==============================] - 5s 32ms/step\n",
      "157/157 [==============================] - 5s 34ms/step\n",
      "157/157 [==============================] - 6s 36ms/step\n",
      "157/157 [==============================] - 5s 30ms/step\n",
      "157/157 [==============================] - 5s 32ms/step\n",
      "157/157 [==============================] - 6s 38ms/step\n",
      "157/157 [==============================] - 5s 31ms/step\n",
      "157/157 [==============================] - 5s 34ms/step\n",
      "157/157 [==============================] - 5s 32ms/step\n",
      "157/157 [==============================] - 5s 35ms/step\n",
      "157/157 [==============================] - 5s 34ms/step\n",
      "157/157 [==============================] - 6s 35ms/step\n",
      "157/157 [==============================] - 5s 35ms/step\n",
      "157/157 [==============================] - 6s 40ms/step\n",
      "157/157 [==============================] - 5s 34ms/step\n",
      "157/157 [==============================] - 5s 33ms/step\n",
      "157/157 [==============================] - 6s 40ms/step\n",
      "157/157 [==============================] - 5s 34ms/step\n",
      "157/157 [==============================] - 6s 35ms/step\n",
      "157/157 [==============================] - 5s 30ms/step\n",
      "157/157 [==============================] - 5s 32ms/step\n",
      "157/157 [==============================] - 5s 35ms/step\n",
      "157/157 [==============================] - 5s 31ms/step\n",
      "157/157 [==============================] - 5s 34ms/step\n",
      "157/157 [==============================] - 5s 33ms/step\n",
      "157/157 [==============================] - 5s 31ms/step\n",
      "157/157 [==============================] - 5s 33ms/step\n",
      "157/157 [==============================] - 6s 36ms/step\n",
      "157/157 [==============================] - 5s 31ms/step\n",
      "157/157 [==============================] - 6s 35ms/step\n",
      "157/157 [==============================] - 6s 36ms/step\n",
      "1/1 [==============================] - 0s 62ms/step\n",
      "1/1 [==============================] - 0s 62ms/step\n"
     ]
    },
    {
     "name": "stderr",
     "output_type": "stream",
     "text": [
      "\r\n",
      "  0%|                                                                                           | 0/20 [00:00<?, ?it/s]"
     ]
    },
    {
     "name": "stdout",
     "output_type": "stream",
     "text": [
      "157/157 [==============================] - 5s 32ms/step\n",
      "18/18 [==============================] - 1s 35ms/step\n"
     ]
    },
    {
     "name": "stderr",
     "output_type": "stream",
     "text": [
      "\r\n",
      "  5%|████▏                                                                              | 1/20 [00:08<02:38,  8.33s/it]"
     ]
    },
    {
     "name": "stdout",
     "output_type": "stream",
     "text": [
      "157/157 [==============================] - 5s 32ms/step\n",
      "18/18 [==============================] - 1s 38ms/step\n"
     ]
    },
    {
     "name": "stderr",
     "output_type": "stream",
     "text": [
      "\r\n",
      " 10%|████████▎                                                                          | 2/20 [00:16<02:30,  8.38s/it]"
     ]
    },
    {
     "name": "stdout",
     "output_type": "stream",
     "text": [
      "157/157 [==============================] - 6s 36ms/step\n",
      "18/18 [==============================] - 1s 35ms/step\n"
     ]
    },
    {
     "name": "stderr",
     "output_type": "stream",
     "text": [
      "\r\n",
      " 15%|████████████▍                                                                      | 3/20 [00:25<02:28,  8.76s/it]"
     ]
    },
    {
     "name": "stdout",
     "output_type": "stream",
     "text": [
      "157/157 [==============================] - 6s 40ms/step\n",
      "18/18 [==============================] - 1s 41ms/step\n"
     ]
    },
    {
     "name": "stderr",
     "output_type": "stream",
     "text": [
      "\r\n",
      " 20%|████████████████▌                                                                  | 4/20 [00:36<02:31,  9.45s/it]"
     ]
    },
    {
     "name": "stdout",
     "output_type": "stream",
     "text": [
      "157/157 [==============================] - 6s 36ms/step\n",
      "18/18 [==============================] - 1s 39ms/step\n"
     ]
    },
    {
     "name": "stderr",
     "output_type": "stream",
     "text": [
      "\r\n",
      " 25%|████████████████████▊                                                              | 5/20 [00:45<02:18,  9.23s/it]"
     ]
    },
    {
     "name": "stdout",
     "output_type": "stream",
     "text": [
      "157/157 [==============================] - 5s 34ms/step\n",
      "18/18 [==============================] - 1s 44ms/step\n"
     ]
    },
    {
     "name": "stderr",
     "output_type": "stream",
     "text": [
      "\r\n",
      " 30%|████████████████████████▉                                                          | 6/20 [00:54<02:07,  9.08s/it]"
     ]
    },
    {
     "name": "stdout",
     "output_type": "stream",
     "text": [
      "157/157 [==============================] - 7s 43ms/step\n",
      "18/18 [==============================] - 1s 43ms/step\n"
     ]
    },
    {
     "name": "stderr",
     "output_type": "stream",
     "text": [
      "\r\n",
      " 35%|█████████████████████████████                                                      | 7/20 [01:04<02:03,  9.50s/it]"
     ]
    },
    {
     "name": "stdout",
     "output_type": "stream",
     "text": [
      "157/157 [==============================] - 5s 29ms/step\n",
      "18/18 [==============================] - 1s 27ms/step\n"
     ]
    },
    {
     "name": "stderr",
     "output_type": "stream",
     "text": [
      "\r\n",
      " 40%|█████████████████████████████████▏                                                 | 8/20 [01:12<01:46,  8.89s/it]"
     ]
    },
    {
     "name": "stdout",
     "output_type": "stream",
     "text": [
      "157/157 [==============================] - 6s 36ms/step\n",
      "18/18 [==============================] - 1s 30ms/step\n"
     ]
    },
    {
     "name": "stderr",
     "output_type": "stream",
     "text": [
      "\r\n",
      " 45%|█████████████████████████████████████▎                                             | 9/20 [01:20<01:36,  8.80s/it]"
     ]
    },
    {
     "name": "stdout",
     "output_type": "stream",
     "text": [
      "157/157 [==============================] - 5s 32ms/step\n",
      "18/18 [==============================] - 1s 42ms/step\n"
     ]
    },
    {
     "name": "stderr",
     "output_type": "stream",
     "text": [
      "\r\n",
      " 50%|█████████████████████████████████████████                                         | 10/20 [01:28<01:26,  8.63s/it]"
     ]
    },
    {
     "name": "stdout",
     "output_type": "stream",
     "text": [
      "157/157 [==============================] - 6s 41ms/step\n",
      "18/18 [==============================] - 1s 32ms/step\n"
     ]
    },
    {
     "name": "stderr",
     "output_type": "stream",
     "text": [
      "\r\n",
      " 55%|█████████████████████████████████████████████                                     | 11/20 [01:38<01:20,  8.89s/it]"
     ]
    },
    {
     "name": "stdout",
     "output_type": "stream",
     "text": [
      "157/157 [==============================] - 6s 39ms/step\n",
      "18/18 [==============================] - 1s 44ms/step\n"
     ]
    },
    {
     "name": "stderr",
     "output_type": "stream",
     "text": [
      "\r\n",
      " 60%|█████████████████████████████████████████████████▏                                | 12/20 [01:48<01:14,  9.27s/it]"
     ]
    },
    {
     "name": "stdout",
     "output_type": "stream",
     "text": [
      "157/157 [==============================] - 5s 33ms/step\n",
      "18/18 [==============================] - 1s 45ms/step\n"
     ]
    },
    {
     "name": "stderr",
     "output_type": "stream",
     "text": [
      "\r\n",
      " 65%|█████████████████████████████████████████████████████▎                            | 13/20 [01:57<01:03,  9.12s/it]"
     ]
    },
    {
     "name": "stdout",
     "output_type": "stream",
     "text": [
      "157/157 [==============================] - 5s 34ms/step\n",
      "18/18 [==============================] - 1s 42ms/step\n"
     ]
    },
    {
     "name": "stderr",
     "output_type": "stream",
     "text": [
      "\r\n",
      " 70%|█████████████████████████████████████████████████████████▍                        | 14/20 [02:06<00:55,  9.18s/it]"
     ]
    },
    {
     "name": "stdout",
     "output_type": "stream",
     "text": [
      "157/157 [==============================] - 6s 37ms/step\n",
      "18/18 [==============================] - 1s 50ms/step\n"
     ]
    },
    {
     "name": "stderr",
     "output_type": "stream",
     "text": [
      "\r\n",
      " 75%|█████████████████████████████████████████████████████████████▌                    | 15/20 [02:15<00:46,  9.23s/it]"
     ]
    },
    {
     "name": "stdout",
     "output_type": "stream",
     "text": [
      "157/157 [==============================] - 5s 34ms/step\n",
      "18/18 [==============================] - 1s 44ms/step\n"
     ]
    },
    {
     "name": "stderr",
     "output_type": "stream",
     "text": [
      "\r\n",
      " 80%|█████████████████████████████████████████████████████████████████▌                | 16/20 [02:24<00:36,  9.12s/it]"
     ]
    },
    {
     "name": "stdout",
     "output_type": "stream",
     "text": [
      "157/157 [==============================] - 5s 31ms/step\n",
      "18/18 [==============================] - 1s 30ms/step\n"
     ]
    },
    {
     "name": "stderr",
     "output_type": "stream",
     "text": [
      "\r\n",
      " 85%|█████████████████████████████████████████████████████████████████████▋            | 17/20 [02:32<00:26,  8.69s/it]"
     ]
    },
    {
     "name": "stdout",
     "output_type": "stream",
     "text": [
      "157/157 [==============================] - 5s 34ms/step\n",
      "18/18 [==============================] - 1s 45ms/step\n"
     ]
    },
    {
     "name": "stderr",
     "output_type": "stream",
     "text": [
      "\r\n",
      " 90%|█████████████████████████████████████████████████████████████████████████▊        | 18/20 [02:41<00:17,  8.72s/it]"
     ]
    },
    {
     "name": "stdout",
     "output_type": "stream",
     "text": [
      "157/157 [==============================] - 5s 34ms/step\n",
      "18/18 [==============================] - 1s 37ms/step\n"
     ]
    },
    {
     "name": "stderr",
     "output_type": "stream",
     "text": [
      "\r\n",
      " 95%|█████████████████████████████████████████████████████████████████████████████▉    | 19/20 [02:50<00:08,  8.71s/it]"
     ]
    },
    {
     "name": "stdout",
     "output_type": "stream",
     "text": [
      "157/157 [==============================] - 6s 36ms/step\n",
      "18/18 [==============================] - 1s 37ms/step\n"
     ]
    },
    {
     "name": "stderr",
     "output_type": "stream",
     "text": [
      "100%|██████████████████████████████████████████████████████████████████████████████████| 20/20 [02:58<00:00,  8.94s/it]\n",
      "  0%|                                                                                           | 0/20 [00:00<?, ?it/s]"
     ]
    },
    {
     "name": "stdout",
     "output_type": "stream",
     "text": [
      "157/157 [==============================] - 6s 39ms/step\n",
      "157/157 [==============================] - 7s 45ms/step\n"
     ]
    },
    {
     "name": "stderr",
     "output_type": "stream",
     "text": [
      "\r\n",
      "  5%|████▏                                                                              | 1/20 [00:17<05:41, 17.99s/it]"
     ]
    },
    {
     "name": "stdout",
     "output_type": "stream",
     "text": [
      "157/157 [==============================] - 6s 35ms/step\n",
      "157/157 [==============================] - 6s 37ms/step\n"
     ]
    },
    {
     "name": "stderr",
     "output_type": "stream",
     "text": [
      "\r\n",
      " 10%|████████▎                                                                          | 2/20 [00:34<05:07, 17.07s/it]"
     ]
    },
    {
     "name": "stdout",
     "output_type": "stream",
     "text": [
      "157/157 [==============================] - 5s 31ms/step\n",
      "157/157 [==============================] - 7s 42ms/step\n"
     ]
    },
    {
     "name": "stderr",
     "output_type": "stream",
     "text": [
      "\r\n",
      " 15%|████████████▍                                                                      | 3/20 [00:51<04:47, 16.90s/it]"
     ]
    },
    {
     "name": "stdout",
     "output_type": "stream",
     "text": [
      "157/157 [==============================] - 5s 33ms/step\n",
      "157/157 [==============================] - 5s 33ms/step\n"
     ]
    },
    {
     "name": "stderr",
     "output_type": "stream",
     "text": [
      "\r\n",
      " 20%|████████████████▌                                                                  | 4/20 [01:06<04:20, 16.29s/it]"
     ]
    },
    {
     "name": "stdout",
     "output_type": "stream",
     "text": [
      "157/157 [==============================] - 6s 37ms/step\n",
      "157/157 [==============================] - 5s 35ms/step\n"
     ]
    },
    {
     "name": "stderr",
     "output_type": "stream",
     "text": [
      "\r\n",
      " 25%|████████████████████▊                                                              | 5/20 [01:23<04:06, 16.42s/it]"
     ]
    },
    {
     "name": "stdout",
     "output_type": "stream",
     "text": [
      "157/157 [==============================] - 5s 32ms/step\n",
      "157/157 [==============================] - 6s 36ms/step\n"
     ]
    },
    {
     "name": "stderr",
     "output_type": "stream",
     "text": [
      "\r\n",
      " 30%|████████████████████████▉                                                          | 6/20 [01:38<03:43, 15.99s/it]"
     ]
    },
    {
     "name": "stdout",
     "output_type": "stream",
     "text": [
      "157/157 [==============================] - 5s 34ms/step\n",
      "157/157 [==============================] - 6s 36ms/step\n"
     ]
    },
    {
     "name": "stderr",
     "output_type": "stream",
     "text": [
      "\r\n",
      " 35%|█████████████████████████████                                                      | 7/20 [01:54<03:26, 15.91s/it]"
     ]
    },
    {
     "name": "stdout",
     "output_type": "stream",
     "text": [
      "157/157 [==============================] - 6s 35ms/step\n",
      "157/157 [==============================] - 5s 33ms/step\n"
     ]
    },
    {
     "name": "stderr",
     "output_type": "stream",
     "text": [
      "\r\n",
      " 40%|█████████████████████████████████▏                                                 | 8/20 [02:09<03:09, 15.76s/it]"
     ]
    },
    {
     "name": "stdout",
     "output_type": "stream",
     "text": [
      "157/157 [==============================] - 6s 35ms/step\n",
      "157/157 [==============================] - 5s 33ms/step\n"
     ]
    },
    {
     "name": "stderr",
     "output_type": "stream",
     "text": [
      "\r\n",
      " 45%|█████████████████████████████████████▎                                             | 9/20 [02:24<02:51, 15.62s/it]"
     ]
    },
    {
     "name": "stdout",
     "output_type": "stream",
     "text": [
      "157/157 [==============================] - 6s 36ms/step\n",
      "157/157 [==============================] - 5s 35ms/step\n"
     ]
    },
    {
     "name": "stderr",
     "output_type": "stream",
     "text": [
      "\r\n",
      " 50%|█████████████████████████████████████████                                         | 10/20 [02:40<02:36, 15.63s/it]"
     ]
    },
    {
     "name": "stdout",
     "output_type": "stream",
     "text": [
      "157/157 [==============================] - 6s 40ms/step\n",
      "157/157 [==============================] - 5s 34ms/step\n"
     ]
    },
    {
     "name": "stderr",
     "output_type": "stream",
     "text": [
      "\r\n",
      " 55%|█████████████████████████████████████████████                                     | 11/20 [02:57<02:23, 15.93s/it]"
     ]
    },
    {
     "name": "stdout",
     "output_type": "stream",
     "text": [
      "157/157 [==============================] - 6s 37ms/step\n",
      "157/157 [==============================] - 6s 36ms/step\n"
     ]
    },
    {
     "name": "stderr",
     "output_type": "stream",
     "text": [
      "\r\n",
      " 60%|█████████████████████████████████████████████████▏                                | 12/20 [03:13<02:09, 16.15s/it]"
     ]
    },
    {
     "name": "stdout",
     "output_type": "stream",
     "text": [
      "157/157 [==============================] - 5s 32ms/step\n",
      "157/157 [==============================] - 5s 34ms/step\n"
     ]
    },
    {
     "name": "stderr",
     "output_type": "stream",
     "text": [
      "\r\n",
      " 65%|█████████████████████████████████████████████████████▎                            | 13/20 [03:29<01:52, 16.01s/it]"
     ]
    },
    {
     "name": "stdout",
     "output_type": "stream",
     "text": [
      "157/157 [==============================] - 5s 35ms/step\n",
      "157/157 [==============================] - 5s 33ms/step\n"
     ]
    },
    {
     "name": "stderr",
     "output_type": "stream",
     "text": [
      "\r\n",
      " 70%|█████████████████████████████████████████████████████████▍                        | 14/20 [03:44<01:34, 15.81s/it]"
     ]
    },
    {
     "name": "stdout",
     "output_type": "stream",
     "text": [
      "157/157 [==============================] - 6s 41ms/step\n",
      "157/157 [==============================] - 6s 35ms/step\n"
     ]
    },
    {
     "name": "stderr",
     "output_type": "stream",
     "text": [
      "\r\n",
      " 75%|█████████████████████████████████████████████████████████████▌                    | 15/20 [04:01<01:20, 16.06s/it]"
     ]
    },
    {
     "name": "stdout",
     "output_type": "stream",
     "text": [
      "157/157 [==============================] - 6s 38ms/step\n",
      "157/157 [==============================] - 5s 35ms/step\n"
     ]
    },
    {
     "name": "stderr",
     "output_type": "stream",
     "text": [
      "\r\n",
      " 80%|█████████████████████████████████████████████████████████████████▌                | 16/20 [04:17<01:04, 16.07s/it]"
     ]
    },
    {
     "name": "stdout",
     "output_type": "stream",
     "text": [
      "157/157 [==============================] - 6s 36ms/step\n",
      "157/157 [==============================] - 5s 31ms/step\n"
     ]
    },
    {
     "name": "stderr",
     "output_type": "stream",
     "text": [
      "\r\n",
      " 85%|█████████████████████████████████████████████████████████████████████▋            | 17/20 [04:32<00:47, 15.84s/it]"
     ]
    },
    {
     "name": "stdout",
     "output_type": "stream",
     "text": [
      "157/157 [==============================] - 5s 32ms/step\n",
      "157/157 [==============================] - 6s 41ms/step\n"
     ]
    },
    {
     "name": "stderr",
     "output_type": "stream",
     "text": [
      "\r\n",
      " 90%|█████████████████████████████████████████████████████████████████████████▊        | 18/20 [04:49<00:31, 15.99s/it]"
     ]
    },
    {
     "name": "stdout",
     "output_type": "stream",
     "text": [
      "157/157 [==============================] - 5s 33ms/step\n",
      "157/157 [==============================] - 5s 31ms/step\n"
     ]
    },
    {
     "name": "stderr",
     "output_type": "stream",
     "text": [
      "\r\n",
      " 95%|█████████████████████████████████████████████████████████████████████████████▉    | 19/20 [05:04<00:15, 15.86s/it]"
     ]
    },
    {
     "name": "stdout",
     "output_type": "stream",
     "text": [
      "157/157 [==============================] - 6s 39ms/step\n",
      "157/157 [==============================] - 5s 33ms/step\n"
     ]
    },
    {
     "name": "stderr",
     "output_type": "stream",
     "text": [
      "100%|██████████████████████████████████████████████████████████████████████████████████| 20/20 [05:21<00:00, 16.06s/it]"
     ]
    },
    {
     "name": "stdout",
     "output_type": "stream",
     "text": [
      "Lime OK!!\n",
      "1/1 [==============================] - 0s 31ms/step\n"
     ]
    },
    {
     "name": "stderr",
     "output_type": "stream",
     "text": [
      "\n"
     ]
    },
    {
     "name": "stdout",
     "output_type": "stream",
     "text": [
      "8/8 [==============================] - 0s 60ms/step\n",
      "1/1 [==============================] - 0s 31ms/step\n",
      "8/8 [==============================] - 1s 66ms/step\n",
      "1/1 [==============================] - 0s 47ms/step\n",
      "8/8 [==============================] - 1s 77ms/step\n",
      "1/1 [==============================] - 0s 31ms/step\n",
      "8/8 [==============================] - 1s 71ms/step\n",
      "1/1 [==============================] - 0s 32ms/step\n",
      "8/8 [==============================] - 0s 58ms/step\n",
      "1/1 [==============================] - 0s 31ms/step\n",
      "8/8 [==============================] - 1s 68ms/step\n",
      "1/1 [==============================] - 0s 31ms/step\n",
      "8/8 [==============================] - 1s 68ms/step\n",
      "1/1 [==============================] - 0s 47ms/step\n",
      "8/8 [==============================] - 0s 57ms/step\n",
      "1/1 [==============================] - 0s 32ms/step\n",
      "8/8 [==============================] - 1s 59ms/step\n",
      "1/1 [==============================] - 0s 31ms/step\n",
      "8/8 [==============================] - 1s 63ms/step\n",
      "1/1 [==============================] - 0s 32ms/step\n",
      "8/8 [==============================] - 1s 64ms/step\n",
      "1/1 [==============================] - 0s 25ms/step\n",
      "8/8 [==============================] - 1s 63ms/step\n",
      "1/1 [==============================] - 0s 32ms/step\n",
      "8/8 [==============================] - 1s 60ms/step\n",
      "1/1 [==============================] - 0s 31ms/step\n",
      "8/8 [==============================] - 0s 53ms/step\n",
      "1/1 [==============================] - 0s 16ms/step\n",
      "8/8 [==============================] - 1s 63ms/step\n",
      "1/1 [==============================] - 0s 31ms/step\n",
      "8/8 [==============================] - 0s 60ms/step\n",
      "1/1 [==============================] - 0s 52ms/step\n",
      "8/8 [==============================] - 1s 61ms/step\n",
      "1/1 [==============================] - 0s 32ms/step\n",
      "8/8 [==============================] - 1s 64ms/step\n",
      "1/1 [==============================] - 0s 31ms/step\n",
      "8/8 [==============================] - 1s 61ms/step\n",
      "1/1 [==============================] - 0s 31ms/step\n",
      "8/8 [==============================] - 1s 64ms/step\n",
      "1/1 [==============================] - 0s 16ms/step\n",
      "8/8 [==============================] - 1s 66ms/step\n",
      "1/1 [==============================] - 0s 32ms/step\n",
      "8/8 [==============================] - 0s 54ms/step\n",
      "1/1 [==============================] - 0s 31ms/step\n",
      "8/8 [==============================] - 0s 59ms/step\n",
      "1/1 [==============================] - 0s 38ms/step\n",
      "8/8 [==============================] - 1s 64ms/step\n",
      "1/1 [==============================] - 0s 25ms/step\n",
      "8/8 [==============================] - 1s 63ms/step\n",
      "1/1 [==============================] - 0s 31ms/step\n",
      "8/8 [==============================] - 1s 64ms/step\n",
      "1/1 [==============================] - 0s 21ms/step\n",
      "8/8 [==============================] - 1s 69ms/step\n",
      "1/1 [==============================] - 0s 16ms/step\n",
      "8/8 [==============================] - 0s 55ms/step\n",
      "1/1 [==============================] - 0s 31ms/step\n",
      "8/8 [==============================] - 1s 62ms/step\n",
      "1/1 [==============================] - 0s 47ms/step\n",
      "8/8 [==============================] - 1s 74ms/step\n",
      "1/1 [==============================] - 0s 31ms/step\n",
      "8/8 [==============================] - 1s 72ms/step\n",
      "1/1 [==============================] - 0s 47ms/step\n",
      "8/8 [==============================] - 0s 56ms/step\n",
      "1/1 [==============================] - 0s 16ms/step\n",
      "8/8 [==============================] - 1s 67ms/step\n",
      "1/1 [==============================] - 0s 47ms/step\n",
      "8/8 [==============================] - 1s 59ms/step\n",
      "1/1 [==============================] - 0s 31ms/step\n",
      "8/8 [==============================] - 0s 60ms/step\n",
      "1/1 [==============================] - 0s 47ms/step\n",
      "8/8 [==============================] - 0s 57ms/step\n",
      "1/1 [==============================] - 0s 42ms/step\n",
      "8/8 [==============================] - 1s 73ms/step\n",
      "1/1 [==============================] - 0s 24ms/step\n",
      "8/8 [==============================] - 1s 64ms/step\n",
      "1/1 [==============================] - 0s 45ms/step\n",
      "8/8 [==============================] - 1s 72ms/step\n",
      "1/1 [==============================] - 0s 31ms/step\n",
      "8/8 [==============================] - 1s 58ms/step\n",
      "1/1 [==============================] - 0s 34ms/step\n",
      "8/8 [==============================] - 0s 56ms/step\n",
      "1/1 [==============================] - 0s 33ms/step\n",
      "8/8 [==============================] - 0s 57ms/step\n",
      "1/1 [==============================] - 0s 47ms/step\n",
      "8/8 [==============================] - 0s 59ms/step\n",
      "1/1 [==============================] - 0s 31ms/step\n",
      "8/8 [==============================] - 1s 65ms/step\n",
      "1/1 [==============================] - 0s 32ms/step\n",
      "8/8 [==============================] - 1s 61ms/step\n",
      "1/1 [==============================] - 0s 31ms/step\n",
      "8/8 [==============================] - 1s 61ms/step\n",
      "1/1 [==============================] - 0s 16ms/step\n",
      "8/8 [==============================] - 1s 61ms/step\n",
      "1/1 [==============================] - 0s 31ms/step\n",
      "8/8 [==============================] - 1s 60ms/step\n",
      "1/1 [==============================] - 0s 31ms/step\n",
      "8/8 [==============================] - 1s 62ms/step\n",
      "1/1 [==============================] - 0s 32ms/step\n",
      "8/8 [==============================] - 0s 57ms/step\n",
      "1/1 [==============================] - 0s 40ms/step\n",
      "8/8 [==============================] - 1s 68ms/step\n",
      "1/1 [==============================] - 0s 31ms/step\n",
      "8/8 [==============================] - 1s 77ms/step\n",
      "1/1 [==============================] - 0s 47ms/step\n",
      "8/8 [==============================] - 1s 79ms/step\n",
      "1/1 [==============================] - 0s 31ms/step\n",
      "8/8 [==============================] - 0s 53ms/step\n",
      "1/1 [==============================] - 0s 47ms/step\n",
      "8/8 [==============================] - 0s 56ms/step\n",
      "1/1 [==============================] - 0s 31ms/step\n",
      "8/8 [==============================] - 0s 58ms/step\n",
      "1/1 [==============================] - 0s 16ms/step\n",
      "8/8 [==============================] - 0s 54ms/step\n",
      "1/1 [==============================] - 0s 30ms/step\n",
      "8/8 [==============================] - 1s 64ms/step\n",
      "1/1 [==============================] - 0s 47ms/step\n",
      "8/8 [==============================] - 1s 59ms/step\n",
      "1/1 [==============================] - 0s 31ms/step\n",
      "8/8 [==============================] - 0s 54ms/step\n",
      "1/1 [==============================] - 0s 39ms/step\n",
      "8/8 [==============================] - 1s 60ms/step\n",
      "1/1 [==============================] - 0s 78ms/step\n",
      "1/1 [==============================] - 0s 48ms/step\n"
     ]
    },
    {
     "name": "stderr",
     "output_type": "stream",
     "text": [
      "\r\n",
      "  0%|                                                                                           | 0/20 [00:00<?, ?it/s]"
     ]
    },
    {
     "name": "stdout",
     "output_type": "stream",
     "text": [
      "1/1 [==============================] - 0s 20ms/step\n",
      "8/8 [==============================] - 1s 65ms/step\n",
      "1/1 [==============================] - 0s 21ms/step\n",
      "8/8 [==============================] - 0s 58ms/step\n",
      "18/18 [==============================] - 1s 36ms/step\n"
     ]
    },
    {
     "name": "stderr",
     "output_type": "stream",
     "text": [
      "\r\n",
      "  5%|████▏                                                                              | 1/20 [00:02<00:47,  2.50s/it]"
     ]
    },
    {
     "name": "stdout",
     "output_type": "stream",
     "text": [
      "1/1 [==============================] - 0s 24ms/step\n",
      "8/8 [==============================] - 1s 65ms/step\n",
      "1/1 [==============================] - 0s 35ms/step\n",
      "8/8 [==============================] - 1s 58ms/step\n",
      "18/18 [==============================] - 1s 37ms/step\n"
     ]
    },
    {
     "name": "stderr",
     "output_type": "stream",
     "text": [
      "\r\n",
      " 10%|████████▎                                                                          | 2/20 [00:04<00:44,  2.49s/it]"
     ]
    },
    {
     "name": "stdout",
     "output_type": "stream",
     "text": [
      "1/1 [==============================] - 0s 16ms/step\n",
      "8/8 [==============================] - 0s 60ms/step\n",
      "1/1 [==============================] - 0s 31ms/step\n",
      "8/8 [==============================] - 1s 61ms/step\n",
      "18/18 [==============================] - 1s 39ms/step\n"
     ]
    },
    {
     "name": "stderr",
     "output_type": "stream",
     "text": [
      "\r\n",
      " 15%|████████████▍                                                                      | 3/20 [00:07<00:41,  2.45s/it]"
     ]
    },
    {
     "name": "stdout",
     "output_type": "stream",
     "text": [
      "1/1 [==============================] - 0s 32ms/step\n",
      "8/8 [==============================] - 1s 59ms/step\n",
      "1/1 [==============================] - 0s 28ms/step\n",
      "8/8 [==============================] - 1s 62ms/step\n",
      "18/18 [==============================] - 1s 38ms/step\n"
     ]
    },
    {
     "name": "stderr",
     "output_type": "stream",
     "text": [
      "\r\n",
      " 20%|████████████████▌                                                                  | 4/20 [00:09<00:39,  2.44s/it]"
     ]
    },
    {
     "name": "stdout",
     "output_type": "stream",
     "text": [
      "1/1 [==============================] - 0s 17ms/step\n",
      "8/8 [==============================] - 1s 59ms/step\n",
      "1/1 [==============================] - 0s 31ms/step\n",
      "8/8 [==============================] - 0s 58ms/step\n",
      "18/18 [==============================] - 1s 39ms/step\n"
     ]
    },
    {
     "name": "stderr",
     "output_type": "stream",
     "text": [
      "\r\n",
      " 25%|████████████████████▊                                                              | 5/20 [00:12<00:36,  2.46s/it]"
     ]
    },
    {
     "name": "stdout",
     "output_type": "stream",
     "text": [
      "1/1 [==============================] - 0s 27ms/step\n",
      "8/8 [==============================] - 1s 68ms/step\n",
      "1/1 [==============================] - 0s 48ms/step\n",
      "8/8 [==============================] - 0s 55ms/step\n",
      "18/18 [==============================] - 1s 39ms/step\n"
     ]
    },
    {
     "name": "stderr",
     "output_type": "stream",
     "text": [
      "\r\n",
      " 30%|████████████████████████▉                                                          | 6/20 [00:14<00:34,  2.46s/it]"
     ]
    },
    {
     "name": "stdout",
     "output_type": "stream",
     "text": [
      "1/1 [==============================] - 0s 31ms/step\n",
      "8/8 [==============================] - 1s 65ms/step\n",
      "1/1 [==============================] - 0s 32ms/step\n",
      "8/8 [==============================] - 0s 56ms/step\n",
      "18/18 [==============================] - 1s 37ms/step\n"
     ]
    },
    {
     "name": "stderr",
     "output_type": "stream",
     "text": [
      "\r\n",
      " 35%|█████████████████████████████                                                      | 7/20 [00:17<00:31,  2.44s/it]"
     ]
    },
    {
     "name": "stdout",
     "output_type": "stream",
     "text": [
      "1/1 [==============================] - 0s 31ms/step\n",
      "8/8 [==============================] - 0s 50ms/step\n",
      "1/1 [==============================] - 0s 47ms/step\n",
      "8/8 [==============================] - 1s 64ms/step\n",
      "18/18 [==============================] - 1s 44ms/step\n"
     ]
    },
    {
     "name": "stderr",
     "output_type": "stream",
     "text": [
      "\r\n",
      " 40%|█████████████████████████████████▏                                                 | 8/20 [00:19<00:29,  2.44s/it]"
     ]
    },
    {
     "name": "stdout",
     "output_type": "stream",
     "text": [
      "1/1 [==============================] - 0s 37ms/step\n",
      "8/8 [==============================] - 1s 63ms/step\n",
      "1/1 [==============================] - 0s 47ms/step\n",
      "8/8 [==============================] - 1s 64ms/step\n",
      "18/18 [==============================] - 1s 35ms/step\n"
     ]
    },
    {
     "name": "stderr",
     "output_type": "stream",
     "text": [
      "\r\n",
      " 45%|█████████████████████████████████████▎                                             | 9/20 [00:22<00:27,  2.46s/it]"
     ]
    },
    {
     "name": "stdout",
     "output_type": "stream",
     "text": [
      "1/1 [==============================] - 0s 33ms/step\n",
      "8/8 [==============================] - 1s 60ms/step\n",
      "1/1 [==============================] - 0s 26ms/step\n",
      "8/8 [==============================] - 1s 67ms/step\n",
      "18/18 [==============================] - 1s 38ms/step\n"
     ]
    },
    {
     "name": "stderr",
     "output_type": "stream",
     "text": [
      "\r\n",
      " 50%|█████████████████████████████████████████                                         | 10/20 [00:24<00:24,  2.47s/it]"
     ]
    },
    {
     "name": "stdout",
     "output_type": "stream",
     "text": [
      "1/1 [==============================] - 0s 26ms/step\n",
      "8/8 [==============================] - 1s 63ms/step\n",
      "1/1 [==============================] - 0s 25ms/step\n",
      "8/8 [==============================] - 0s 57ms/step\n",
      "18/18 [==============================] - 1s 37ms/step\n"
     ]
    },
    {
     "name": "stderr",
     "output_type": "stream",
     "text": [
      "\r\n",
      " 55%|█████████████████████████████████████████████                                     | 11/20 [00:27<00:22,  2.46s/it]"
     ]
    },
    {
     "name": "stdout",
     "output_type": "stream",
     "text": [
      "1/1 [==============================] - 0s 48ms/step\n",
      "8/8 [==============================] - 1s 80ms/step\n",
      "1/1 [==============================] - 0s 37ms/step\n",
      "8/8 [==============================] - 1s 74ms/step\n",
      "18/18 [==============================] - 1s 45ms/step\n"
     ]
    },
    {
     "name": "stderr",
     "output_type": "stream",
     "text": [
      "\r\n",
      " 60%|█████████████████████████████████████████████████▏                                | 12/20 [00:29<00:20,  2.58s/it]"
     ]
    },
    {
     "name": "stdout",
     "output_type": "stream",
     "text": [
      "1/1 [==============================] - 0s 42ms/step\n",
      "8/8 [==============================] - 1s 65ms/step\n",
      "1/1 [==============================] - 0s 31ms/step\n",
      "8/8 [==============================] - 1s 79ms/step\n",
      "18/18 [==============================] - 1s 44ms/step\n"
     ]
    },
    {
     "name": "stderr",
     "output_type": "stream",
     "text": [
      "\r\n",
      " 65%|█████████████████████████████████████████████████████▎                            | 13/20 [00:32<00:18,  2.68s/it]"
     ]
    },
    {
     "name": "stdout",
     "output_type": "stream",
     "text": [
      "1/1 [==============================] - 0s 31ms/step\n",
      "8/8 [==============================] - 0s 58ms/step\n",
      "1/1 [==============================] - 0s 47ms/step\n",
      "8/8 [==============================] - 0s 54ms/step\n",
      "18/18 [==============================] - 1s 38ms/step\n"
     ]
    },
    {
     "name": "stderr",
     "output_type": "stream",
     "text": [
      "\r\n",
      " 70%|█████████████████████████████████████████████████████████▍                        | 14/20 [00:35<00:15,  2.61s/it]"
     ]
    },
    {
     "name": "stdout",
     "output_type": "stream",
     "text": [
      "1/1 [==============================] - 0s 23ms/step\n",
      "8/8 [==============================] - 1s 69ms/step\n",
      "1/1 [==============================] - 0s 48ms/step\n",
      "8/8 [==============================] - 1s 60ms/step\n",
      "18/18 [==============================] - 1s 33ms/step\n"
     ]
    },
    {
     "name": "stderr",
     "output_type": "stream",
     "text": [
      "\r\n",
      " 75%|█████████████████████████████████████████████████████████████▌                    | 15/20 [00:37<00:12,  2.58s/it]"
     ]
    },
    {
     "name": "stdout",
     "output_type": "stream",
     "text": [
      "1/1 [==============================] - 0s 16ms/step\n",
      "8/8 [==============================] - 0s 60ms/step\n",
      "1/1 [==============================] - 0s 31ms/step\n",
      "8/8 [==============================] - 0s 57ms/step\n",
      "18/18 [==============================] - 1s 36ms/step\n"
     ]
    },
    {
     "name": "stderr",
     "output_type": "stream",
     "text": [
      "\r\n",
      " 80%|█████████████████████████████████████████████████████████████████▌                | 16/20 [00:40<00:10,  2.52s/it]"
     ]
    },
    {
     "name": "stdout",
     "output_type": "stream",
     "text": [
      "1/1 [==============================] - 0s 34ms/step\n",
      "8/8 [==============================] - 1s 65ms/step\n",
      "1/1 [==============================] - 0s 47ms/step\n",
      "8/8 [==============================] - 1s 62ms/step\n",
      "18/18 [==============================] - 1s 39ms/step\n"
     ]
    },
    {
     "name": "stderr",
     "output_type": "stream",
     "text": [
      "\r\n",
      " 85%|█████████████████████████████████████████████████████████████████████▋            | 17/20 [00:42<00:07,  2.57s/it]"
     ]
    },
    {
     "name": "stdout",
     "output_type": "stream",
     "text": [
      "1/1 [==============================] - 0s 31ms/step\n",
      "8/8 [==============================] - 1s 69ms/step\n",
      "1/1 [==============================] - 0s 47ms/step\n",
      "8/8 [==============================] - 0s 60ms/step\n",
      "18/18 [==============================] - 1s 40ms/step\n"
     ]
    },
    {
     "name": "stderr",
     "output_type": "stream",
     "text": [
      "\r\n",
      " 90%|█████████████████████████████████████████████████████████████████████████▊        | 18/20 [00:45<00:05,  2.59s/it]"
     ]
    },
    {
     "name": "stdout",
     "output_type": "stream",
     "text": [
      "1/1 [==============================] - 0s 29ms/step\n",
      "8/8 [==============================] - 0s 53ms/step\n",
      "1/1 [==============================] - 0s 16ms/step\n",
      "8/8 [==============================] - 0s 59ms/step\n",
      "18/18 [==============================] - 1s 33ms/step\n"
     ]
    },
    {
     "name": "stderr",
     "output_type": "stream",
     "text": [
      "\r\n",
      " 95%|█████████████████████████████████████████████████████████████████████████████▉    | 19/20 [00:47<00:02,  2.50s/it]"
     ]
    },
    {
     "name": "stdout",
     "output_type": "stream",
     "text": [
      "1/1 [==============================] - 0s 16ms/step\n",
      "8/8 [==============================] - 0s 61ms/step\n",
      "1/1 [==============================] - 0s 31ms/step\n",
      "8/8 [==============================] - 0s 59ms/step\n",
      "18/18 [==============================] - 1s 32ms/step\n"
     ]
    },
    {
     "name": "stderr",
     "output_type": "stream",
     "text": [
      "100%|██████████████████████████████████████████████████████████████████████████████████| 20/20 [00:50<00:00,  2.51s/it]\n",
      "  0%|                                                                                           | 0/20 [00:00<?, ?it/s]"
     ]
    },
    {
     "name": "stdout",
     "output_type": "stream",
     "text": [
      "1/1 [==============================] - 0s 31ms/step\n",
      "8/8 [==============================] - 1s 68ms/step\n",
      "1/1 [==============================] - 0s 47ms/step\n",
      "8/8 [==============================] - 1s 67ms/step\n",
      "1/1 [==============================] - 0s 31ms/step\n",
      "8/8 [==============================] - 1s 65ms/step\n",
      "1/1 [==============================] - 0s 31ms/step\n",
      "8/8 [==============================] - 1s 77ms/step\n"
     ]
    },
    {
     "name": "stderr",
     "output_type": "stream",
     "text": [
      "\r\n",
      "  5%|████▏                                                                              | 1/20 [00:03<01:12,  3.81s/it]"
     ]
    },
    {
     "name": "stdout",
     "output_type": "stream",
     "text": [
      "1/1 [==============================] - 0s 32ms/step\n",
      "8/8 [==============================] - 1s 71ms/step\n",
      "1/1 [==============================] - 0s 31ms/step\n",
      "8/8 [==============================] - 1s 73ms/step\n",
      "1/1 [==============================] - 0s 32ms/step\n",
      "8/8 [==============================] - 1s 63ms/step\n",
      "1/1 [==============================] - 0s 47ms/step\n",
      "8/8 [==============================] - 1s 61ms/step\n"
     ]
    },
    {
     "name": "stderr",
     "output_type": "stream",
     "text": [
      "\r\n",
      " 10%|████████▎                                                                          | 2/20 [00:07<01:08,  3.79s/it]"
     ]
    },
    {
     "name": "stdout",
     "output_type": "stream",
     "text": [
      "1/1 [==============================] - 0s 47ms/step\n",
      "8/8 [==============================] - 1s 60ms/step\n",
      "1/1 [==============================] - 0s 31ms/step\n",
      "8/8 [==============================] - 0s 56ms/step\n",
      "1/1 [==============================] - 0s 31ms/step\n",
      "8/8 [==============================] - 0s 60ms/step\n",
      "1/1 [==============================] - 0s 21ms/step\n",
      "8/8 [==============================] - 0s 57ms/step\n"
     ]
    },
    {
     "name": "stderr",
     "output_type": "stream",
     "text": [
      "\r\n",
      " 15%|████████████▍                                                                      | 3/20 [00:11<01:02,  3.67s/it]"
     ]
    },
    {
     "name": "stdout",
     "output_type": "stream",
     "text": [
      "1/1 [==============================] - 0s 32ms/step\n",
      "8/8 [==============================] - 0s 55ms/step\n",
      "1/1 [==============================] - 0s 31ms/step\n",
      "8/8 [==============================] - 1s 61ms/step\n",
      "1/1 [==============================] - 0s 31ms/step\n",
      "8/8 [==============================] - 0s 56ms/step\n",
      "1/1 [==============================] - 0s 31ms/step\n",
      "8/8 [==============================] - 1s 64ms/step\n"
     ]
    },
    {
     "name": "stderr",
     "output_type": "stream",
     "text": [
      "\r\n",
      " 20%|████████████████▌                                                                  | 4/20 [00:14<00:58,  3.66s/it]"
     ]
    },
    {
     "name": "stdout",
     "output_type": "stream",
     "text": [
      "1/1 [==============================] - 0s 47ms/step\n",
      "8/8 [==============================] - 1s 67ms/step\n",
      "1/1 [==============================] - 0s 31ms/step\n",
      "8/8 [==============================] - 1s 75ms/step\n",
      "1/1 [==============================] - 0s 26ms/step\n",
      "8/8 [==============================] - 1s 84ms/step\n",
      "1/1 [==============================] - 0s 46ms/step\n",
      "8/8 [==============================] - 1s 67ms/step\n"
     ]
    },
    {
     "name": "stderr",
     "output_type": "stream",
     "text": [
      "\r\n",
      " 25%|████████████████████▊                                                              | 5/20 [00:18<00:56,  3.80s/it]"
     ]
    },
    {
     "name": "stdout",
     "output_type": "stream",
     "text": [
      "1/1 [==============================] - 0s 17ms/step\n",
      "8/8 [==============================] - 0s 56ms/step\n",
      "1/1 [==============================] - 0s 32ms/step\n",
      "8/8 [==============================] - 1s 65ms/step\n",
      "1/1 [==============================] - 0s 18ms/step\n",
      "8/8 [==============================] - 1s 66ms/step\n",
      "1/1 [==============================] - 0s 16ms/step\n",
      "8/8 [==============================] - 0s 56ms/step\n"
     ]
    },
    {
     "name": "stderr",
     "output_type": "stream",
     "text": [
      "\r\n",
      " 30%|████████████████████████▉                                                          | 6/20 [00:22<00:51,  3.68s/it]"
     ]
    },
    {
     "name": "stdout",
     "output_type": "stream",
     "text": [
      "1/1 [==============================] - 0s 20ms/step\n",
      "8/8 [==============================] - 1s 58ms/step\n",
      "1/1 [==============================] - 0s 31ms/step\n",
      "8/8 [==============================] - 0s 54ms/step\n",
      "1/1 [==============================] - 0s 31ms/step\n",
      "8/8 [==============================] - 1s 61ms/step\n",
      "1/1 [==============================] - 0s 47ms/step\n",
      "8/8 [==============================] - 1s 66ms/step\n"
     ]
    },
    {
     "name": "stderr",
     "output_type": "stream",
     "text": [
      "\r\n",
      " 35%|█████████████████████████████                                                      | 7/20 [00:25<00:47,  3.62s/it]"
     ]
    },
    {
     "name": "stdout",
     "output_type": "stream",
     "text": [
      "1/1 [==============================] - 0s 18ms/step\n",
      "8/8 [==============================] - 1s 65ms/step\n",
      "1/1 [==============================] - 0s 31ms/step\n",
      "8/8 [==============================] - 1s 61ms/step\n",
      "1/1 [==============================] - 0s 32ms/step\n",
      "8/8 [==============================] - 1s 62ms/step\n",
      "1/1 [==============================] - 0s 16ms/step\n",
      "8/8 [==============================] - 0s 56ms/step\n"
     ]
    },
    {
     "name": "stderr",
     "output_type": "stream",
     "text": [
      "\r\n",
      " 40%|█████████████████████████████████▏                                                 | 8/20 [00:29<00:42,  3.56s/it]"
     ]
    },
    {
     "name": "stdout",
     "output_type": "stream",
     "text": [
      "1/1 [==============================] - 0s 16ms/step\n",
      "8/8 [==============================] - 1s 62ms/step\n",
      "1/1 [==============================] - 0s 17ms/step\n",
      "8/8 [==============================] - 1s 62ms/step\n",
      "1/1 [==============================] - 0s 47ms/step\n",
      "8/8 [==============================] - 1s 71ms/step\n",
      "1/1 [==============================] - 0s 47ms/step\n",
      "8/8 [==============================] - 1s 66ms/step\n"
     ]
    },
    {
     "name": "stderr",
     "output_type": "stream",
     "text": [
      "\r\n",
      " 45%|█████████████████████████████████████▎                                             | 9/20 [00:32<00:39,  3.58s/it]"
     ]
    },
    {
     "name": "stdout",
     "output_type": "stream",
     "text": [
      "1/1 [==============================] - 0s 47ms/step\n",
      "8/8 [==============================] - 1s 63ms/step\n",
      "1/1 [==============================] - 0s 31ms/step\n",
      "8/8 [==============================] - 1s 64ms/step\n",
      "1/1 [==============================] - 0s 32ms/step\n",
      "8/8 [==============================] - 1s 68ms/step\n",
      "1/1 [==============================] - 0s 31ms/step\n",
      "8/8 [==============================] - 1s 62ms/step\n"
     ]
    },
    {
     "name": "stderr",
     "output_type": "stream",
     "text": [
      "\r\n",
      " 50%|█████████████████████████████████████████                                         | 10/20 [00:36<00:36,  3.62s/it]"
     ]
    },
    {
     "name": "stdout",
     "output_type": "stream",
     "text": [
      "1/1 [==============================] - 0s 47ms/step\n",
      "8/8 [==============================] - 1s 61ms/step\n",
      "1/1 [==============================] - 0s 31ms/step\n",
      "8/8 [==============================] - 1s 68ms/step\n",
      "1/1 [==============================] - 0s 23ms/step\n",
      "8/8 [==============================] - 1s 61ms/step\n",
      "1/1 [==============================] - 0s 31ms/step\n",
      "8/8 [==============================] - 0s 56ms/step\n"
     ]
    },
    {
     "name": "stderr",
     "output_type": "stream",
     "text": [
      "\r\n",
      " 55%|█████████████████████████████████████████████                                     | 11/20 [00:39<00:32,  3.56s/it]"
     ]
    },
    {
     "name": "stdout",
     "output_type": "stream",
     "text": [
      "1/1 [==============================] - 0s 31ms/step\n",
      "8/8 [==============================] - 1s 60ms/step\n",
      "1/1 [==============================] - 0s 31ms/step\n",
      "8/8 [==============================] - 1s 62ms/step\n",
      "1/1 [==============================] - 0s 47ms/step\n",
      "8/8 [==============================] - 1s 75ms/step\n",
      "1/1 [==============================] - 0s 31ms/step\n",
      "8/8 [==============================] - 1s 61ms/step\n"
     ]
    },
    {
     "name": "stderr",
     "output_type": "stream",
     "text": [
      "\r\n",
      " 60%|█████████████████████████████████████████████████▏                                | 12/20 [00:43<00:28,  3.58s/it]"
     ]
    },
    {
     "name": "stdout",
     "output_type": "stream",
     "text": [
      "1/1 [==============================] - 0s 16ms/step\n",
      "8/8 [==============================] - 0s 55ms/step\n",
      "1/1 [==============================] - 0s 16ms/step\n",
      "8/8 [==============================] - 1s 61ms/step\n",
      "1/1 [==============================] - 0s 31ms/step\n",
      "8/8 [==============================] - 1s 62ms/step\n",
      "1/1 [==============================] - 0s 47ms/step\n",
      "8/8 [==============================] - 0s 62ms/step\n"
     ]
    },
    {
     "name": "stderr",
     "output_type": "stream",
     "text": [
      "\r\n",
      " 65%|█████████████████████████████████████████████████████▎                            | 13/20 [00:46<00:24,  3.52s/it]"
     ]
    },
    {
     "name": "stdout",
     "output_type": "stream",
     "text": [
      "1/1 [==============================] - 0s 34ms/step\n",
      "8/8 [==============================] - 1s 62ms/step\n",
      "1/1 [==============================] - 0s 47ms/step\n",
      "8/8 [==============================] - 1s 73ms/step\n",
      "1/1 [==============================] - 0s 36ms/step\n",
      "8/8 [==============================] - 0s 57ms/step\n",
      "1/1 [==============================] - 0s 31ms/step\n",
      "8/8 [==============================] - 1s 68ms/step\n"
     ]
    },
    {
     "name": "stderr",
     "output_type": "stream",
     "text": [
      "\r\n",
      " 70%|█████████████████████████████████████████████████████████▍                        | 14/20 [00:50<00:21,  3.55s/it]"
     ]
    },
    {
     "name": "stdout",
     "output_type": "stream",
     "text": [
      "1/1 [==============================] - 0s 16ms/step\n",
      "8/8 [==============================] - 0s 59ms/step\n",
      "1/1 [==============================] - 0s 31ms/step\n",
      "8/8 [==============================] - 0s 56ms/step\n",
      "1/1 [==============================] - 0s 32ms/step\n",
      "8/8 [==============================] - 1s 62ms/step\n",
      "1/1 [==============================] - 0s 31ms/step\n",
      "8/8 [==============================] - 0s 57ms/step\n"
     ]
    },
    {
     "name": "stderr",
     "output_type": "stream",
     "text": [
      "\r\n",
      " 75%|█████████████████████████████████████████████████████████████▌                    | 15/20 [00:54<00:17,  3.54s/it]"
     ]
    },
    {
     "name": "stdout",
     "output_type": "stream",
     "text": [
      "1/1 [==============================] - 0s 16ms/step\n",
      "8/8 [==============================] - 1s 61ms/step\n",
      "1/1 [==============================] - 0s 61ms/step\n",
      "8/8 [==============================] - 0s 61ms/step\n",
      "1/1 [==============================] - 0s 31ms/step\n",
      "8/8 [==============================] - 1s 67ms/step\n",
      "1/1 [==============================] - 0s 47ms/step\n",
      "8/8 [==============================] - 0s 57ms/step\n"
     ]
    },
    {
     "name": "stderr",
     "output_type": "stream",
     "text": [
      "\r\n",
      " 80%|█████████████████████████████████████████████████████████████████▌                | 16/20 [00:57<00:14,  3.54s/it]"
     ]
    },
    {
     "name": "stdout",
     "output_type": "stream",
     "text": [
      "1/1 [==============================] - 0s 31ms/step\n",
      "8/8 [==============================] - 1s 69ms/step\n",
      "1/1 [==============================] - 0s 40ms/step\n",
      "8/8 [==============================] - 1s 62ms/step\n",
      "1/1 [==============================] - 0s 32ms/step\n",
      "8/8 [==============================] - 0s 55ms/step\n",
      "1/1 [==============================] - 0s 32ms/step\n",
      "8/8 [==============================] - 1s 56ms/step\n"
     ]
    },
    {
     "name": "stderr",
     "output_type": "stream",
     "text": [
      "\r\n",
      " 85%|█████████████████████████████████████████████████████████████████████▋            | 17/20 [01:01<00:10,  3.52s/it]"
     ]
    },
    {
     "name": "stdout",
     "output_type": "stream",
     "text": [
      "1/1 [==============================] - 0s 34ms/step\n",
      "8/8 [==============================] - 1s 63ms/step\n",
      "1/1 [==============================] - 0s 44ms/step\n",
      "8/8 [==============================] - 1s 62ms/step\n",
      "1/1 [==============================] - 0s 48ms/step\n",
      "8/8 [==============================] - 0s 53ms/step\n",
      "1/1 [==============================] - 0s 16ms/step\n",
      "8/8 [==============================] - 1s 62ms/step\n"
     ]
    },
    {
     "name": "stderr",
     "output_type": "stream",
     "text": [
      "\r\n",
      " 90%|█████████████████████████████████████████████████████████████████████████▊        | 18/20 [01:04<00:07,  3.56s/it]"
     ]
    },
    {
     "name": "stdout",
     "output_type": "stream",
     "text": [
      "1/1 [==============================] - 0s 33ms/step\n",
      "8/8 [==============================] - 1s 61ms/step\n",
      "1/1 [==============================] - 0s 31ms/step\n",
      "8/8 [==============================] - 1s 58ms/step\n",
      "1/1 [==============================] - 0s 32ms/step\n",
      "8/8 [==============================] - 0s 60ms/step\n",
      "1/1 [==============================] - 0s 44ms/step\n",
      "8/8 [==============================] - 0s 57ms/step\n"
     ]
    },
    {
     "name": "stderr",
     "output_type": "stream",
     "text": [
      "\r\n",
      " 95%|█████████████████████████████████████████████████████████████████████████████▉    | 19/20 [01:08<00:03,  3.49s/it]"
     ]
    },
    {
     "name": "stdout",
     "output_type": "stream",
     "text": [
      "1/1 [==============================] - 0s 31ms/step\n",
      "8/8 [==============================] - 1s 68ms/step\n",
      "1/1 [==============================] - 0s 31ms/step\n",
      "8/8 [==============================] - 1s 65ms/step\n",
      "1/1 [==============================] - 0s 33ms/step\n",
      "8/8 [==============================] - 1s 63ms/step\n",
      "1/1 [==============================] - 0s 16ms/step\n",
      "8/8 [==============================] - 1s 62ms/step\n"
     ]
    },
    {
     "name": "stderr",
     "output_type": "stream",
     "text": [
      "100%|██████████████████████████████████████████████████████████████████████████████████| 20/20 [01:11<00:00,  3.58s/it]"
     ]
    },
    {
     "name": "stdout",
     "output_type": "stream",
     "text": [
      "shap OK !!\n",
      "1/1 [==============================] - 0s 66ms/step\n"
     ]
    },
    {
     "name": "stderr",
     "output_type": "stream",
     "text": [
      "\n"
     ]
    },
    {
     "name": "stdout",
     "output_type": "stream",
     "text": [
      "1/1 [==============================] - 2s 2s/step - loss: 6638.9150 - mse: 6638.1484 - val_loss: 6620.3921 - val_mse: 6619.6353\n",
      "1/1 [==============================] - 1s 1s/step - loss: 6639.1016 - mse: 6638.3335 - val_loss: 6613.6758 - val_mse: 6612.9155\n",
      "1/1 [==============================] - 2s 2s/step - loss: 6608.4922 - mse: 6607.7236 - val_loss: 6622.7368 - val_mse: 6621.9756\n",
      "1/1 [==============================] - 1s 1s/step - loss: 6628.0869 - mse: 6627.3213 - val_loss: 6647.5562 - val_mse: 6646.7983\n",
      "1/1 [==============================] - 2s 2s/step - loss: 6629.0796 - mse: 6628.3125 - val_loss: 6584.7642 - val_mse: 6584.0024\n",
      "1/1 [==============================] - 1s 1s/step - loss: 6632.2876 - mse: 6631.5195 - val_loss: 6593.8818 - val_mse: 6593.1211\n",
      "1/1 [==============================] - 2s 2s/step - loss: 6616.4814 - mse: 6615.7139 - val_loss: 6550.7236 - val_mse: 6549.9619\n",
      "1/1 [==============================] - 2s 2s/step - loss: 6581.4297 - mse: 6580.6616 - val_loss: 6719.7578 - val_mse: 6718.9951\n",
      "1/1 [==============================] - 2s 2s/step - loss: 6643.2510 - mse: 6642.4854 - val_loss: 6561.2842 - val_mse: 6560.5234\n",
      "1/1 [==============================] - 2s 2s/step - loss: 6643.4912 - mse: 6642.7275 - val_loss: 6577.1260 - val_mse: 6576.3657\n",
      "1/1 [==============================] - 2s 2s/step - loss: 6622.3877 - mse: 6621.6211 - val_loss: 6608.7217 - val_mse: 6607.9595\n",
      "1/1 [==============================] - 2s 2s/step - loss: 6612.0498 - mse: 6611.2827 - val_loss: 6611.5654 - val_mse: 6610.8032\n",
      "1/1 [==============================] - 7s 7s/step - loss: 6604.7471 - mse: 6603.9805 - val_loss: 6559.5483 - val_mse: 6558.7861\n",
      "1/1 [==============================] - 2s 2s/step - loss: 6642.8799 - mse: 6642.1157 - val_loss: 6704.1006 - val_mse: 6703.3408\n",
      "1/1 [==============================] - 2s 2s/step - loss: 6615.6187 - mse: 6614.8501 - val_loss: 6573.1689 - val_mse: 6572.4033\n",
      "1/1 [==============================] - 2s 2s/step - loss: 6656.1978 - mse: 6655.4346 - val_loss: 6530.7935 - val_mse: 6530.0342\n",
      "1/1 [==============================] - 2s 2s/step - loss: 6641.8271 - mse: 6641.0610 - val_loss: 6597.9189 - val_mse: 6597.1548\n",
      "1/1 [==============================] - 2s 2s/step - loss: 6673.9531 - mse: 6673.1865 - val_loss: 6602.4697 - val_mse: 6601.7056\n",
      "1/1 [==============================] - 2s 2s/step - loss: 6656.5532 - mse: 6655.7876 - val_loss: 6576.3896 - val_mse: 6575.6265\n",
      "1/1 [==============================] - 2s 2s/step - loss: 6657.1201 - mse: 6656.3501 - val_loss: 6431.7886 - val_mse: 6431.0205\n",
      "1/1 [==============================] - 2s 2s/step - loss: 6635.0596 - mse: 6634.2920 - val_loss: 6667.4478 - val_mse: 6666.6826\n",
      "1/1 [==============================] - 2s 2s/step - loss: 6612.9741 - mse: 6612.2061 - val_loss: 6779.3945 - val_mse: 6778.6289\n",
      "1/1 [==============================] - 2s 2s/step - loss: 6631.3818 - mse: 6630.6172 - val_loss: 6500.3979 - val_mse: 6499.6353\n",
      "1/1 [==============================] - 2s 2s/step - loss: 6596.5391 - mse: 6595.7686 - val_loss: 6528.0835 - val_mse: 6527.3154\n",
      "1/1 [==============================] - 2s 2s/step - loss: 6654.6787 - mse: 6653.9126 - val_loss: 6689.0244 - val_mse: 6688.2588\n",
      "1/1 [==============================] - 2s 2s/step - loss: 6606.6104 - mse: 6605.8438 - val_loss: 6613.7383 - val_mse: 6612.9736\n",
      "1/1 [==============================] - 2s 2s/step - loss: 6631.1978 - mse: 6630.4297 - val_loss: 6514.2573 - val_mse: 6513.4912\n",
      "1/1 [==============================] - 2s 2s/step - loss: 6661.7236 - mse: 6660.9570 - val_loss: 6601.6846 - val_mse: 6600.9189\n",
      "1/1 [==============================] - 2s 2s/step - loss: 6596.7529 - mse: 6595.9912 - val_loss: 6797.1499 - val_mse: 6796.3896\n",
      "1/1 [==============================] - 2s 2s/step - loss: 6643.8857 - mse: 6643.1221 - val_loss: 6673.9468 - val_mse: 6673.1846\n",
      "1/1 [==============================] - 2s 2s/step - loss: 6651.9717 - mse: 6651.2095 - val_loss: 6665.0991 - val_mse: 6664.3384\n",
      "1/1 [==============================] - 2s 2s/step - loss: 6655.2607 - mse: 6654.4922 - val_loss: 6447.3159 - val_mse: 6446.5483\n",
      "1/1 [==============================] - 2s 2s/step - loss: 6604.9468 - mse: 6604.1826 - val_loss: 6472.7417 - val_mse: 6471.9775\n",
      "1/1 [==============================] - 2s 2s/step - loss: 6600.0845 - mse: 6599.3179 - val_loss: 6637.5454 - val_mse: 6636.7798\n",
      "1/1 [==============================] - 2s 2s/step - loss: 6632.7568 - mse: 6631.9912 - val_loss: 6635.3721 - val_mse: 6634.6069\n",
      "1/1 [==============================] - 2s 2s/step - loss: 6600.3218 - mse: 6599.5532 - val_loss: 6543.1162 - val_mse: 6542.3486\n",
      "1/1 [==============================] - 2s 2s/step - loss: 6644.8765 - mse: 6644.1108 - val_loss: 6695.8047 - val_mse: 6695.0400\n",
      "1/1 [==============================] - 2s 2s/step - loss: 6651.0532 - mse: 6650.2837 - val_loss: 6624.0303 - val_mse: 6623.2627\n",
      "1/1 [==============================] - 2s 2s/step - loss: 6670.7568 - mse: 6669.9922 - val_loss: 6819.4780 - val_mse: 6818.7139\n",
      "1/1 [==============================] - 2s 2s/step - loss: 6635.7666 - mse: 6635.0000 - val_loss: 6507.7139 - val_mse: 6506.9478\n",
      "1/1 [==============================] - 2s 2s/step - loss: 6559.8750 - mse: 6559.1069 - val_loss: 6625.8789 - val_mse: 6625.1118\n",
      "1/1 [==============================] - 2s 2s/step - loss: 6636.4624 - mse: 6635.6968 - val_loss: 6688.9658 - val_mse: 6688.2002\n",
      "1/1 [==============================] - 2s 2s/step - loss: 6602.5562 - mse: 6601.7920 - val_loss: 6581.2876 - val_mse: 6580.5234\n",
      "1/1 [==============================] - 2s 2s/step - loss: 6627.0264 - mse: 6626.2627 - val_loss: 6583.6514 - val_mse: 6582.8882\n",
      "1/1 [==============================] - 2s 2s/step - loss: 6627.7319 - mse: 6626.9673 - val_loss: 6652.0205 - val_mse: 6651.2563\n",
      "1/1 [==============================] - 2s 2s/step - loss: 6603.8062 - mse: 6603.0405 - val_loss: 6719.7461 - val_mse: 6718.9805\n",
      "1/1 [==============================] - 2s 2s/step - loss: 6614.1968 - mse: 6613.4312 - val_loss: 6453.1396 - val_mse: 6452.3740\n",
      "1/1 [==============================] - 2s 2s/step - loss: 6601.6162 - mse: 6600.8467 - val_loss: 6657.8452 - val_mse: 6657.0767\n",
      "1/1 [==============================] - 2s 2s/step - loss: 6623.6890 - mse: 6622.9219 - val_loss: 6620.9219 - val_mse: 6620.1553\n",
      "1/1 [==============================] - 2s 2s/step - loss: 6629.7959 - mse: 6629.0273 - val_loss: 6695.1929 - val_mse: 6694.4248\n",
      "1/1 [==============================] - 2s 2s/step - loss: 6598.7490 - mse: 6597.9829 - val_loss: 6437.9199 - val_mse: 6437.1538\n",
      "1/1 [==============================] - 2s 2s/step - loss: 6663.2705 - mse: 6662.5068 - val_loss: 6622.0728 - val_mse: 6621.3096\n",
      "1/1 [==============================] - 2s 2s/step - loss: 6635.4438 - mse: 6634.6758 - val_loss: 6816.8984 - val_mse: 6816.1313\n",
      "1/1 [==============================] - 2s 2s/step - loss: 6633.1626 - mse: 6632.3970 - val_loss: 6676.7139 - val_mse: 6675.9492\n",
      "1/1 [==============================] - 2s 2s/step - loss: 6608.4307 - mse: 6607.6650 - val_loss: 6690.2329 - val_mse: 6689.4678\n",
      "1/1 [==============================] - 2s 2s/step - loss: 6624.8174 - mse: 6624.0498 - val_loss: 6520.4478 - val_mse: 6519.6812\n",
      "1/1 [==============================] - 2s 2s/step - loss: 6600.3672 - mse: 6599.5986 - val_loss: 6554.5703 - val_mse: 6553.8022\n",
      "1/1 [==============================] - 2s 2s/step - loss: 6629.3921 - mse: 6628.6265 - val_loss: 6831.0752 - val_mse: 6830.3086\n",
      "1/1 [==============================] - 2s 2s/step - loss: 6592.5693 - mse: 6591.8062 - val_loss: 6724.8994 - val_mse: 6724.1357\n",
      "1/1 [==============================] - 2s 2s/step - loss: 6615.6338 - mse: 6614.8672 - val_loss: 6541.1226 - val_mse: 6540.3564\n",
      "1/1 [==============================] - 2s 2s/step - loss: 6631.7578 - mse: 6630.9897 - val_loss: 7265.2412 - val_mse: 7264.4741\n",
      "1/1 [==============================] - 2s 2s/step - loss: 6608.2861 - mse: 6607.5186 - val_loss: 6503.2002 - val_mse: 6502.4326\n",
      "1/1 [==============================] - 2s 2s/step - loss: 6613.4155 - mse: 6612.6509 - val_loss: 6489.7603 - val_mse: 6488.9951\n",
      "1/1 [==============================] - 2s 2s/step - loss: 6626.3687 - mse: 6625.6030 - val_loss: 7005.1650 - val_mse: 7004.3994\n",
      "1/1 [==============================] - 2s 2s/step - loss: 6596.5967 - mse: 6595.8281 - val_loss: 6363.2759 - val_mse: 6362.5068\n",
      "1/1 [==============================] - 2s 2s/step - loss: 6583.8960 - mse: 6583.1289 - val_loss: 6353.2993 - val_mse: 6352.5322\n",
      "1/1 [==============================] - 2s 2s/step - loss: 6598.4531 - mse: 6597.6899 - val_loss: 6672.3149 - val_mse: 6671.5518\n",
      "1/1 [==============================] - 2s 2s/step - loss: 6610.6968 - mse: 6609.9312 - val_loss: 6736.0850 - val_mse: 6735.3193\n",
      "1/1 [==============================] - 2s 2s/step - loss: 6634.0210 - mse: 6633.2554 - val_loss: 6534.0820 - val_mse: 6533.3164\n",
      "1/1 [==============================] - 2s 2s/step - loss: 6624.3530 - mse: 6623.5874 - val_loss: 6539.7935 - val_mse: 6539.0273\n",
      "1/1 [==============================] - 2s 2s/step - loss: 6628.5337 - mse: 6627.7695 - val_loss: 6787.8984 - val_mse: 6787.1343\n",
      "1/1 [==============================] - 2s 2s/step - loss: 6632.4385 - mse: 6631.6709 - val_loss: 6578.6353 - val_mse: 6577.8682\n",
      "1/1 [==============================] - 2s 2s/step - loss: 6624.6299 - mse: 6623.8604 - val_loss: 6514.3369 - val_mse: 6513.5674\n",
      "1/1 [==============================] - 2s 2s/step - loss: 6626.4751 - mse: 6625.7100 - val_loss: 6609.7490 - val_mse: 6608.9844\n",
      "1/1 [==============================] - 2s 2s/step - loss: 6592.5483 - mse: 6591.7852 - val_loss: 6557.9990 - val_mse: 6557.2358\n",
      "1/1 [==============================] - 2s 2s/step - loss: 6606.3477 - mse: 6605.5811 - val_loss: 6536.4487 - val_mse: 6535.6821\n",
      "1/1 [==============================] - 2s 2s/step - loss: 6642.3032 - mse: 6641.5366 - val_loss: 6765.5283 - val_mse: 6764.7617\n",
      "1/1 [==============================] - 2s 2s/step - loss: 6619.4092 - mse: 6618.6431 - val_loss: 6736.1748 - val_mse: 6735.4087\n",
      "1/1 [==============================] - 2s 2s/step - loss: 6637.7290 - mse: 6636.9624 - val_loss: 6735.5063 - val_mse: 6734.7393\n",
      "1/1 [==============================] - 2s 2s/step - loss: 6616.5171 - mse: 6615.7515 - val_loss: 6464.6045 - val_mse: 6463.8389\n",
      "1/1 [==============================] - 2s 2s/step - loss: 6589.3882 - mse: 6588.6226 - val_loss: 6438.6846 - val_mse: 6437.9189\n",
      "1/1 [==============================] - 2s 2s/step - loss: 6618.8110 - mse: 6618.0430 - val_loss: 6887.5479 - val_mse: 6886.7798\n",
      "1/1 [==============================] - 2s 2s/step - loss: 6603.0127 - mse: 6602.2422 - val_loss: 6705.0869 - val_mse: 6704.3164\n",
      "1/1 [==============================] - 2s 2s/step - loss: 6653.6196 - mse: 6652.8506 - val_loss: 6513.0454 - val_mse: 6512.2764\n",
      "1/1 [==============================] - 2s 2s/step - loss: 6626.2686 - mse: 6625.5039 - val_loss: 6742.2119 - val_mse: 6741.4463\n",
      "1/1 [==============================] - 2s 2s/step - loss: 6597.5986 - mse: 6596.8306 - val_loss: 6164.8496 - val_mse: 6164.0820\n",
      "1/1 [==============================] - 6s 6s/step - loss: 6644.6392 - mse: 6643.8740 - val_loss: 6415.9937 - val_mse: 6415.2285\n",
      "1/1 [==============================] - 2s 2s/step - loss: 6629.2397 - mse: 6628.4727 - val_loss: 6253.9380 - val_mse: 6253.1709\n",
      "1/1 [==============================] - 2s 2s/step - loss: 6617.7021 - mse: 6616.9360 - val_loss: 7159.4233 - val_mse: 7158.6572\n",
      "1/1 [==============================] - 2s 2s/step - loss: 6679.7798 - mse: 6679.0171 - val_loss: 6582.8267 - val_mse: 6582.0635\n",
      "1/1 [==============================] - 2s 2s/step - loss: 6616.3306 - mse: 6615.5649 - val_loss: 6953.2163 - val_mse: 6952.4507\n",
      "1/1 [==============================] - 2s 2s/step - loss: 6636.5430 - mse: 6635.7773 - val_loss: 6603.9053 - val_mse: 6603.1396\n",
      "1/1 [==============================] - 2s 2s/step - loss: 6614.9858 - mse: 6614.2202 - val_loss: 6850.8896 - val_mse: 6850.1235\n",
      "1/1 [==============================] - 2s 2s/step - loss: 6657.1665 - mse: 6656.4014 - val_loss: 6659.7124 - val_mse: 6658.9478\n",
      "1/1 [==============================] - 2s 2s/step - loss: 6620.8984 - mse: 6620.1313 - val_loss: 6892.6650 - val_mse: 6891.8970\n",
      "1/1 [==============================] - 1s 1s/step - loss: 6608.9932 - mse: 6608.2266 - val_loss: 6816.8076 - val_mse: 6816.0415\n",
      "1/1 [==============================] - 2s 2s/step - loss: 6603.0454 - mse: 6602.2798 - val_loss: 6528.7041 - val_mse: 6527.9385\n",
      "1/1 [==============================] - 2s 2s/step - loss: 6651.5615 - mse: 6650.7939 - val_loss: 6618.9971 - val_mse: 6618.2290\n",
      "1/1 [==============================] - 2s 2s/step - loss: 6637.1357 - mse: 6636.3721 - val_loss: 6580.9053 - val_mse: 6580.1406\n",
      "1/1 [==============================] - 0s 47ms/step\n",
      "1/1 [==============================] - 0s 32ms/step\n"
     ]
    },
    {
     "name": "stderr",
     "output_type": "stream",
     "text": [
      "\r\n",
      "  0%|                                                                                           | 0/20 [00:00<?, ?it/s]"
     ]
    },
    {
     "name": "stdout",
     "output_type": "stream",
     "text": [
      "18/18 [==============================] - 1s 32ms/step\n"
     ]
    },
    {
     "name": "stderr",
     "output_type": "stream",
     "text": [
      "\r\n",
      "  5%|████▏                                                                              | 1/20 [00:11<03:47, 11.97s/it]"
     ]
    },
    {
     "name": "stdout",
     "output_type": "stream",
     "text": [
      "18/18 [==============================] - 1s 30ms/step\n"
     ]
    },
    {
     "name": "stderr",
     "output_type": "stream",
     "text": [
      "\r\n",
      " 10%|████████▎                                                                          | 2/20 [00:23<03:31, 11.72s/it]"
     ]
    },
    {
     "name": "stdout",
     "output_type": "stream",
     "text": [
      "18/18 [==============================] - 1s 29ms/step\n"
     ]
    },
    {
     "name": "stderr",
     "output_type": "stream",
     "text": [
      "\r\n",
      " 15%|████████████▍                                                                      | 3/20 [00:35<03:21, 11.88s/it]"
     ]
    },
    {
     "name": "stdout",
     "output_type": "stream",
     "text": [
      "18/18 [==============================] - 1s 33ms/step\n"
     ]
    },
    {
     "name": "stderr",
     "output_type": "stream",
     "text": [
      "\r\n",
      " 20%|████████████████▌                                                                  | 4/20 [00:47<03:07, 11.73s/it]"
     ]
    },
    {
     "name": "stdout",
     "output_type": "stream",
     "text": [
      "18/18 [==============================] - 1s 41ms/step\n"
     ]
    },
    {
     "name": "stderr",
     "output_type": "stream",
     "text": [
      "\r\n",
      " 25%|████████████████████▊                                                              | 5/20 [00:58<02:56, 11.74s/it]"
     ]
    },
    {
     "name": "stdout",
     "output_type": "stream",
     "text": [
      "18/18 [==============================] - 1s 42ms/step\n"
     ]
    },
    {
     "name": "stderr",
     "output_type": "stream",
     "text": [
      "\r\n",
      " 30%|████████████████████████▉                                                          | 6/20 [01:12<02:53, 12.42s/it]"
     ]
    },
    {
     "name": "stdout",
     "output_type": "stream",
     "text": [
      "18/18 [==============================] - 1s 42ms/step\n"
     ]
    },
    {
     "name": "stderr",
     "output_type": "stream",
     "text": [
      "\r\n",
      " 35%|█████████████████████████████                                                      | 7/20 [01:27<02:51, 13.20s/it]"
     ]
    },
    {
     "name": "stdout",
     "output_type": "stream",
     "text": [
      "18/18 [==============================] - 1s 49ms/step\n"
     ]
    },
    {
     "name": "stderr",
     "output_type": "stream",
     "text": [
      "\r\n",
      " 40%|█████████████████████████████████▏                                                 | 8/20 [01:43<02:47, 13.97s/it]"
     ]
    },
    {
     "name": "stdout",
     "output_type": "stream",
     "text": [
      "18/18 [==============================] - 1s 38ms/step\n"
     ]
    },
    {
     "name": "stderr",
     "output_type": "stream",
     "text": [
      "\r\n",
      " 45%|█████████████████████████████████████▎                                             | 9/20 [01:57<02:34, 14.04s/it]"
     ]
    },
    {
     "name": "stdout",
     "output_type": "stream",
     "text": [
      "18/18 [==============================] - 1s 46ms/step\n"
     ]
    },
    {
     "name": "stderr",
     "output_type": "stream",
     "text": [
      "\r\n",
      " 50%|█████████████████████████████████████████                                         | 10/20 [02:11<02:21, 14.12s/it]"
     ]
    },
    {
     "name": "stdout",
     "output_type": "stream",
     "text": [
      "18/18 [==============================] - 1s 43ms/step\n"
     ]
    },
    {
     "name": "stderr",
     "output_type": "stream",
     "text": [
      "\r\n",
      " 55%|█████████████████████████████████████████████                                     | 11/20 [02:25<02:06, 14.03s/it]"
     ]
    },
    {
     "name": "stdout",
     "output_type": "stream",
     "text": [
      "18/18 [==============================] - 1s 45ms/step\n"
     ]
    },
    {
     "name": "stderr",
     "output_type": "stream",
     "text": [
      "\r\n",
      " 60%|█████████████████████████████████████████████████▏                                | 12/20 [02:39<01:51, 13.99s/it]"
     ]
    },
    {
     "name": "stdout",
     "output_type": "stream",
     "text": [
      "18/18 [==============================] - 1s 38ms/step\n"
     ]
    },
    {
     "name": "stderr",
     "output_type": "stream",
     "text": [
      "\r\n",
      " 65%|█████████████████████████████████████████████████████▎                            | 13/20 [02:53<01:37, 13.96s/it]"
     ]
    },
    {
     "name": "stdout",
     "output_type": "stream",
     "text": [
      "18/18 [==============================] - 1s 44ms/step\n"
     ]
    },
    {
     "name": "stderr",
     "output_type": "stream",
     "text": [
      "\r\n",
      " 70%|█████████████████████████████████████████████████████████▍                        | 14/20 [03:07<01:25, 14.23s/it]"
     ]
    },
    {
     "name": "stdout",
     "output_type": "stream",
     "text": [
      "18/18 [==============================] - 1s 41ms/step\n"
     ]
    },
    {
     "name": "stderr",
     "output_type": "stream",
     "text": [
      "\r\n",
      " 75%|█████████████████████████████████████████████████████████████▌                    | 15/20 [03:22<01:11, 14.22s/it]"
     ]
    },
    {
     "name": "stdout",
     "output_type": "stream",
     "text": [
      "18/18 [==============================] - 1s 38ms/step\n"
     ]
    },
    {
     "name": "stderr",
     "output_type": "stream",
     "text": [
      "\r\n",
      " 80%|█████████████████████████████████████████████████████████████████▌                | 16/20 [03:42<01:03, 15.92s/it]"
     ]
    },
    {
     "name": "stdout",
     "output_type": "stream",
     "text": [
      "18/18 [==============================] - 1s 32ms/step\n"
     ]
    },
    {
     "name": "stderr",
     "output_type": "stream",
     "text": [
      "\r\n",
      " 85%|█████████████████████████████████████████████████████████████████████▋            | 17/20 [03:53<00:43, 14.67s/it]"
     ]
    },
    {
     "name": "stdout",
     "output_type": "stream",
     "text": [
      "18/18 [==============================] - 1s 37ms/step\n"
     ]
    },
    {
     "name": "stderr",
     "output_type": "stream",
     "text": [
      "\r\n",
      " 90%|█████████████████████████████████████████████████████████████████████████▊        | 18/20 [04:06<00:28, 14.02s/it]"
     ]
    },
    {
     "name": "stdout",
     "output_type": "stream",
     "text": [
      "18/18 [==============================] - 1s 37ms/step\n"
     ]
    },
    {
     "name": "stderr",
     "output_type": "stream",
     "text": [
      "\r\n",
      " 95%|█████████████████████████████████████████████████████████████████████████████▉    | 19/20 [04:18<00:13, 13.55s/it]"
     ]
    },
    {
     "name": "stdout",
     "output_type": "stream",
     "text": [
      "18/18 [==============================] - 1s 36ms/step\n"
     ]
    },
    {
     "name": "stderr",
     "output_type": "stream",
     "text": [
      "100%|██████████████████████████████████████████████████████████████████████████████████| 20/20 [04:31<00:00, 13.56s/it]\n",
      "100%|██████████████████████████████████████████████████████████████████████████████████| 20/20 [08:21<00:00, 25.05s/it]"
     ]
    },
    {
     "name": "stdout",
     "output_type": "stream",
     "text": [
      "L2X OK !!\n"
     ]
    },
    {
     "name": "stderr",
     "output_type": "stream",
     "text": [
      "\n"
     ]
    },
    {
     "data": {
      "text/html": [
       "<div>\n",
       "<style scoped>\n",
       "    .dataframe tbody tr th:only-of-type {\n",
       "        vertical-align: middle;\n",
       "    }\n",
       "\n",
       "    .dataframe tbody tr th {\n",
       "        vertical-align: top;\n",
       "    }\n",
       "\n",
       "    .dataframe thead th {\n",
       "        text-align: right;\n",
       "    }\n",
       "</style>\n",
       "<table border=\"1\" class=\"dataframe\">\n",
       "  <thead>\n",
       "    <tr style=\"text-align: right;\">\n",
       "      <th></th>\n",
       "      <th>identity</th>\n",
       "      <th>separability</th>\n",
       "      <th>stability</th>\n",
       "      <th>coherence</th>\n",
       "      <th>completness</th>\n",
       "      <th>congruence</th>\n",
       "      <th>selectivity</th>\n",
       "      <th>accumen</th>\n",
       "      <th>explainer</th>\n",
       "    </tr>\n",
       "  </thead>\n",
       "  <tbody>\n",
       "    <tr>\n",
       "      <th>0</th>\n",
       "      <td>1.0</td>\n",
       "      <td>1.0</td>\n",
       "      <td>1.00</td>\n",
       "      <td>0.150924</td>\n",
       "      <td>4.145610</td>\n",
       "      <td>0.236745</td>\n",
       "      <td>0.631832</td>\n",
       "      <td>0.048846</td>\n",
       "      <td>lime_1c</td>\n",
       "    </tr>\n",
       "    <tr>\n",
       "      <th>0</th>\n",
       "      <td>1.0</td>\n",
       "      <td>1.0</td>\n",
       "      <td>0.95</td>\n",
       "      <td>0.147892</td>\n",
       "      <td>0.568901</td>\n",
       "      <td>0.232912</td>\n",
       "      <td>0.587377</td>\n",
       "      <td>0.453238</td>\n",
       "      <td>shap_1c</td>\n",
       "    </tr>\n",
       "    <tr>\n",
       "      <th>0</th>\n",
       "      <td>1.0</td>\n",
       "      <td>1.0</td>\n",
       "      <td>1.00</td>\n",
       "      <td>0.216381</td>\n",
       "      <td>2.378321</td>\n",
       "      <td>0.308456</td>\n",
       "      <td>0.615225</td>\n",
       "      <td>0.034186</td>\n",
       "      <td>l2x_1c</td>\n",
       "    </tr>\n",
       "    <tr>\n",
       "      <th>0</th>\n",
       "      <td>1.0</td>\n",
       "      <td>1.0</td>\n",
       "      <td>0.95</td>\n",
       "      <td>0.160015</td>\n",
       "      <td>0.218664</td>\n",
       "      <td>0.250107</td>\n",
       "      <td>0.744438</td>\n",
       "      <td>0.108766</td>\n",
       "      <td>lime_1c</td>\n",
       "    </tr>\n",
       "    <tr>\n",
       "      <th>0</th>\n",
       "      <td>1.0</td>\n",
       "      <td>1.0</td>\n",
       "      <td>0.95</td>\n",
       "      <td>0.157933</td>\n",
       "      <td>0.333230</td>\n",
       "      <td>0.251317</td>\n",
       "      <td>0.728482</td>\n",
       "      <td>0.434705</td>\n",
       "      <td>shap_1c</td>\n",
       "    </tr>\n",
       "    <tr>\n",
       "      <th>0</th>\n",
       "      <td>1.0</td>\n",
       "      <td>1.0</td>\n",
       "      <td>0.90</td>\n",
       "      <td>0.176160</td>\n",
       "      <td>38.070158</td>\n",
       "      <td>0.262740</td>\n",
       "      <td>0.783042</td>\n",
       "      <td>0.029785</td>\n",
       "      <td>l2x_1c</td>\n",
       "    </tr>\n",
       "    <tr>\n",
       "      <th>0</th>\n",
       "      <td>1.0</td>\n",
       "      <td>1.0</td>\n",
       "      <td>0.95</td>\n",
       "      <td>0.165309</td>\n",
       "      <td>0.751394</td>\n",
       "      <td>0.255895</td>\n",
       "      <td>0.771705</td>\n",
       "      <td>0.045492</td>\n",
       "      <td>lime_1c</td>\n",
       "    </tr>\n",
       "    <tr>\n",
       "      <th>0</th>\n",
       "      <td>1.0</td>\n",
       "      <td>1.0</td>\n",
       "      <td>0.95</td>\n",
       "      <td>0.165233</td>\n",
       "      <td>0.320011</td>\n",
       "      <td>0.255948</td>\n",
       "      <td>0.785162</td>\n",
       "      <td>0.403614</td>\n",
       "      <td>shap_1c</td>\n",
       "    </tr>\n",
       "    <tr>\n",
       "      <th>0</th>\n",
       "      <td>1.0</td>\n",
       "      <td>1.0</td>\n",
       "      <td>0.90</td>\n",
       "      <td>0.181828</td>\n",
       "      <td>13.867031</td>\n",
       "      <td>0.271893</td>\n",
       "      <td>0.787156</td>\n",
       "      <td>0.028032</td>\n",
       "      <td>l2x_1c</td>\n",
       "    </tr>\n",
       "    <tr>\n",
       "      <th>0</th>\n",
       "      <td>1.0</td>\n",
       "      <td>1.0</td>\n",
       "      <td>0.95</td>\n",
       "      <td>0.166296</td>\n",
       "      <td>32.262260</td>\n",
       "      <td>0.260225</td>\n",
       "      <td>0.764758</td>\n",
       "      <td>0.096995</td>\n",
       "      <td>lime_4c</td>\n",
       "    </tr>\n",
       "    <tr>\n",
       "      <th>0</th>\n",
       "      <td>1.0</td>\n",
       "      <td>1.0</td>\n",
       "      <td>0.95</td>\n",
       "      <td>0.166296</td>\n",
       "      <td>9.558628</td>\n",
       "      <td>0.260230</td>\n",
       "      <td>0.796610</td>\n",
       "      <td>0.368533</td>\n",
       "      <td>shap_4c</td>\n",
       "    </tr>\n",
       "    <tr>\n",
       "      <th>0</th>\n",
       "      <td>1.0</td>\n",
       "      <td>1.0</td>\n",
       "      <td>0.95</td>\n",
       "      <td>0.181952</td>\n",
       "      <td>3.906035</td>\n",
       "      <td>0.272725</td>\n",
       "      <td>0.721374</td>\n",
       "      <td>0.032326</td>\n",
       "      <td>l2x_4c</td>\n",
       "    </tr>\n",
       "  </tbody>\n",
       "</table>\n",
       "</div>"
      ],
      "text/plain": [
       "   identity  separability  stability  coherence  completness  congruence  \\\n",
       "0       1.0           1.0       1.00   0.150924     4.145610    0.236745   \n",
       "0       1.0           1.0       0.95   0.147892     0.568901    0.232912   \n",
       "0       1.0           1.0       1.00   0.216381     2.378321    0.308456   \n",
       "0       1.0           1.0       0.95   0.160015     0.218664    0.250107   \n",
       "0       1.0           1.0       0.95   0.157933     0.333230    0.251317   \n",
       "0       1.0           1.0       0.90   0.176160    38.070158    0.262740   \n",
       "0       1.0           1.0       0.95   0.165309     0.751394    0.255895   \n",
       "0       1.0           1.0       0.95   0.165233     0.320011    0.255948   \n",
       "0       1.0           1.0       0.90   0.181828    13.867031    0.271893   \n",
       "0       1.0           1.0       0.95   0.166296    32.262260    0.260225   \n",
       "0       1.0           1.0       0.95   0.166296     9.558628    0.260230   \n",
       "0       1.0           1.0       0.95   0.181952     3.906035    0.272725   \n",
       "\n",
       "   selectivity   accumen explainer  \n",
       "0     0.631832  0.048846   lime_1c  \n",
       "0     0.587377  0.453238   shap_1c  \n",
       "0     0.615225  0.034186    l2x_1c  \n",
       "0     0.744438  0.108766   lime_1c  \n",
       "0     0.728482  0.434705   shap_1c  \n",
       "0     0.783042  0.029785    l2x_1c  \n",
       "0     0.771705  0.045492   lime_1c  \n",
       "0     0.785162  0.403614   shap_1c  \n",
       "0     0.787156  0.028032    l2x_1c  \n",
       "0     0.764758  0.096995   lime_4c  \n",
       "0     0.796610  0.368533   shap_4c  \n",
       "0     0.721374  0.032326    l2x_4c  "
      ]
     },
     "execution_count": 57,
     "metadata": {},
     "output_type": "execute_result"
    }
   ],
   "source": [
    "if True:\n",
    "    \n",
    "    # LIME\n",
    "    lime_explainer = RecurrentTabularExplainer(test_array, training_labels=label_array,\n",
    "                                                       feature_names=remaining_sensors,\n",
    "                                                       mode = 'regression',\n",
    "                                                       )\n",
    "    lime_values = get_lime_explanation(test_array_sampling, e = model.predict)\n",
    "    Lime_dist = pd.DataFrame(squareform(pdist(lime_values))) # Lime values explanation matrix\n",
    "\n",
    "    #Lime's metrics\n",
    "    list_metrics_lime = {}\n",
    "    list_metrics_lime['identity'] = identity(X_dist, Lime_dist)\n",
    "    list_metrics_lime['separability'] = separability(X_dist, Lime_dist)\n",
    "    list_metrics_lime['stability'] = stability(X_dist, Lime_dist)\n",
    "    list_metrics_lime['coherence'], list_metrics_lime['completness'], list_metrics_lime['congruence'] = coherence(model=model.predict, \n",
    "                                                explainer = get_lime_explanation,\n",
    "                                               samples=test_array_sampling,\n",
    "                                                targets=label_array, e = model.predict)\n",
    "    list_metrics_lime['selectivity'] = selectivity(model=model.predict, explainer = get_lime_explanation,\n",
    "                                               samples=test_array_sampling, e_x = model.predict)\n",
    "    list_metrics_lime['accumen'] = acumen(get_lime_explanation, test_array_sampling, e=model.predict)\n",
    "    list_metrics_lime['explainer'] = 'lime_4c'\n",
    "    df_metrics = pd.concat([df_metrics, pd.DataFrame([list_metrics_lime])])\n",
    "    print(\"Lime OK!!\")\n",
    "    \n",
    "    # SHAP\n",
    "    e = KernelSHAP(model)\n",
    "    shapvalues = get_explainations(test_array_sampling, e)\n",
    "    shapvalues.shape\n",
    "\n",
    "    list_metrics_shap = {}\n",
    "    shap_dist = pd.DataFrame(squareform(pdist(shapvalues))) # shap values explanation matrix\n",
    "    \n",
    "    list_metrics_shap['identity'] = identity(X_dist, shap_dist)\n",
    "    list_metrics_shap['separability'] = separability(X_dist, shap_dist)\n",
    "    list_metrics_shap['stability'] = stability(X_dist, shap_dist)\n",
    "    list_metrics_shap['coherence'], list_metrics_shap['completness'], list_metrics_shap['congruence'] = coherence(model=model.predict, \n",
    "                                                explainer = get_explainations,\n",
    "                                               samples=test_array_sampling,\n",
    "                                                targets=label_array, e = e)\n",
    "    list_metrics_shap['selectivity'] = selectivity(model=model.predict, explainer = get_explainations,\n",
    "                                   samples=test_array_sampling, e_x=e)\n",
    "    list_metrics_shap['accumen'] = acumen(get_explainations, test_array_sampling, e=e)\n",
    "\n",
    "    list_metrics_shap['explainer'] = 'shap_4c'\n",
    "    df_metrics = pd.concat([df_metrics, pd.DataFrame([list_metrics_shap])])\n",
    "    print(\"shap OK !!\")\n",
    "    \n",
    "    # L2X\n",
    "    e = L2X(model.predict, test_array_sampling)\n",
    "    l2xvalues = get_explainations(test_array_sampling, e, L2X=True)\n",
    "    l2xvalues.shape\n",
    "\n",
    "    # l2x's metrics\n",
    "    list_metrics_l2x = {}\n",
    "    l2x_dist = pd.DataFrame(squareform(pdist(l2xvalues))) # Lime values explanation matrix\n",
    "\n",
    "    list_metrics_l2x['identity'] = identity(X_dist, l2x_dist)\n",
    "    list_metrics_l2x['separability'] = separability(X_dist, l2x_dist)\n",
    "    list_metrics_l2x['stability'] = stability(X_dist, l2x_dist)\n",
    "    list_metrics_l2x['coherence'], list_metrics_l2x['completness'], list_metrics_l2x['congruence'] = coherence(model=model.predict, explainer = get_explainations,\n",
    "                                               samples=test_array_sampling, targets=label_array_sampling, e = e, L2X=True)\n",
    "    list_metrics_l2x['selectivity'] = selectivity(model=model.predict, explainer = get_explainations,\n",
    "                                   samples=test_array_sampling, e_x=e, L2X=True)\n",
    "    list_metrics_l2x['accumen'] = acumen(get_explainations, test_array_sampling, e=e, L2X=True)\n",
    "    list_metrics_l2x['explainer'] = 'l2x_4c'\n",
    "    print(\"L2X OK !!\")\n",
    "\n",
    "    \n",
    "    df_metrics = pd.concat([df_metrics, pd.DataFrame([list_metrics_l2x])])\n",
    "df_metrics"
   ]
  },
  {
   "cell_type": "code",
   "execution_count": 58,
   "id": "c6b50404",
   "metadata": {},
   "outputs": [],
   "source": [
    "df_metrics.to_csv('sfds_result/df_metric_sfds.csv')"
   ]
  },
  {
   "cell_type": "code",
   "execution_count": 83,
   "id": "207391b9",
   "metadata": {},
   "outputs": [
    {
     "data": {
      "text/html": [
       "<div>\n",
       "<style scoped>\n",
       "    .dataframe tbody tr th:only-of-type {\n",
       "        vertical-align: middle;\n",
       "    }\n",
       "\n",
       "    .dataframe tbody tr th {\n",
       "        vertical-align: top;\n",
       "    }\n",
       "\n",
       "    .dataframe thead th {\n",
       "        text-align: right;\n",
       "    }\n",
       "</style>\n",
       "<table border=\"1\" class=\"dataframe\">\n",
       "  <thead>\n",
       "    <tr style=\"text-align: right;\">\n",
       "      <th></th>\n",
       "      <th>RMSE_val</th>\n",
       "      <th>RMSE_test</th>\n",
       "      <th>R2_test</th>\n",
       "      <th>Score_test</th>\n",
       "      <th>alpha</th>\n",
       "      <th>rul_piecewise</th>\n",
       "      <th>sequence_length</th>\n",
       "    </tr>\n",
       "  </thead>\n",
       "  <tbody>\n",
       "    <tr>\n",
       "      <th>0</th>\n",
       "      <td>32.473881</td>\n",
       "      <td>35.244774</td>\n",
       "      <td>0.578884</td>\n",
       "      <td>10162.634392</td>\n",
       "      <td>0.5</td>\n",
       "      <td>100</td>\n",
       "      <td>40</td>\n",
       "    </tr>\n",
       "    <tr>\n",
       "      <th>1</th>\n",
       "      <td>9.544853</td>\n",
       "      <td>13.600943</td>\n",
       "      <td>0.578884</td>\n",
       "      <td>10162.634392</td>\n",
       "      <td>0.5</td>\n",
       "      <td>100</td>\n",
       "      <td>40</td>\n",
       "    </tr>\n",
       "    <tr>\n",
       "      <th>2</th>\n",
       "      <td>8.737921</td>\n",
       "      <td>9.888630</td>\n",
       "      <td>0.578884</td>\n",
       "      <td>10162.634392</td>\n",
       "      <td>0.5</td>\n",
       "      <td>100</td>\n",
       "      <td>40</td>\n",
       "    </tr>\n",
       "  </tbody>\n",
       "</table>\n",
       "</div>"
      ],
      "text/plain": [
       "    RMSE_val  RMSE_test   R2_test    Score_test  alpha  rul_piecewise  \\\n",
       "0  32.473881  35.244774  0.578884  10162.634392    0.5            100   \n",
       "1   9.544853  13.600943  0.578884  10162.634392    0.5            100   \n",
       "2   8.737921   9.888630  0.578884  10162.634392    0.5            100   \n",
       "\n",
       "   sequence_length  \n",
       "0               40  \n",
       "1               40  \n",
       "2               40  "
      ]
     },
     "execution_count": 83,
     "metadata": {},
     "output_type": "execute_result"
    }
   ],
   "source": [
    "df_output = pd.DataFrame(output[1])\n",
    "df_output"
   ]
  }
 ],
 "metadata": {
  "kernelspec": {
   "display_name": "Python 3 (ipykernel)",
   "language": "python",
   "name": "python3"
  },
  "language_info": {
   "codemirror_mode": {
    "name": "ipython",
    "version": 3
   },
   "file_extension": ".py",
   "mimetype": "text/x-python",
   "name": "python",
   "nbconvert_exporter": "python",
   "pygments_lexer": "ipython3",
   "version": "3.10.13"
  }
 },
 "nbformat": 4,
 "nbformat_minor": 5
}
