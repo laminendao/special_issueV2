{
 "cells": [
  {
   "cell_type": "code",
   "execution_count": 1,
   "id": "a95e98ae",
   "metadata": {
    "ExecuteTime": {
     "end_time": "2023-03-29T16:19:05.429644Z",
     "start_time": "2023-03-29T16:18:57.918008Z"
    }
   },
   "outputs": [
    {
     "name": "stdout",
     "output_type": "stream",
     "text": [
      "WARNING:tensorflow:From C:\\ProgramData\\anaconda3\\envs\\env_test\\lib\\site-packages\\keras\\src\\losses.py:2976: The name tf.losses.sparse_softmax_cross_entropy is deprecated. Please use tf.compat.v1.losses.sparse_softmax_cross_entropy instead.\n",
      "\n"
     ]
    }
   ],
   "source": [
    "import pandas as pd\n",
    "import numpy as np\n",
    "import tensorflow as tf\n",
    "import matplotlib.pyplot as plt\n",
    "import seaborn as sns\n",
    "import sklearn\n",
    "import random\n",
    "import keras\n",
    "import math\n",
    "\n",
    "from sklearn.metrics import mean_squared_error, r2_score \n",
    "from sklearn.model_selection import GroupKFold\n",
    "from sklearn import preprocessing\n",
    "from keras import backend as K\n",
    "from sklearn.preprocessing import MinMaxScaler , StandardScaler\n",
    "from tensorflow.keras.optimizers import Adam\n",
    "from tensorflow.keras import Sequential\n",
    "from tensorflow.keras.layers import Dense, Dropout, LSTM, Activation\n",
    "from scipy import optimize\n",
    "from methods import *\n",
    "import warnings\n",
    "warnings.filterwarnings(\"ignore\")\n",
    "%matplotlib inline"
   ]
  },
  {
   "cell_type": "code",
   "execution_count": 3,
   "id": "e8a5bd0b",
   "metadata": {
    "ExecuteTime": {
     "end_time": "2023-03-29T16:19:06.456880Z",
     "start_time": "2023-03-29T16:19:05.495601Z"
    }
   },
   "outputs": [
    {
     "data": {
      "text/plain": [
       "((61249, 22), (41214, 21), (248, 1))"
      ]
     },
     "execution_count": 3,
     "metadata": {},
     "output_type": "execute_result"
    }
   ],
   "source": [
    "#import the data\n",
    "train, test, y_test = prepare_data(\"FD004.txt\")\n",
    "#remove the irrelevant features (null features after)\n",
    "train = train.drop(['T20','P20','Nf_dmd','PCNfR_dmd','farB'],axis=1)\n",
    "test = test.drop(['T20','P20','Nf_dmd','PCNfR_dmd','farB'],axis=1)\n",
    "train.shape, test.shape, y_test.shape"
   ]
  },
  {
   "cell_type": "code",
   "execution_count": 4,
   "id": "8408a52f",
   "metadata": {
    "ExecuteTime": {
     "end_time": "2023-03-29T16:19:07.277897Z",
     "start_time": "2023-03-29T16:19:06.459846Z"
    }
   },
   "outputs": [],
   "source": [
    "chosen_sensors = ['T24', 'T30', 'T50', 'P15', 'P30','Nf', 'Nc', 'epr', 'Ps30', 'phi', 'NRf', 'NRc', 'BPR', 'htBleed', 'W31','W32']\n",
    "\n",
    "# add operational conditions\n",
    "X_train_condition = add_operating_condition(train)\n",
    "X_test_condition = add_operating_condition(test)\n",
    "\n",
    "#scale the data\n",
    "X_train_condition_scaled, X_test_condition_scaled = condition_scaler(X_train_condition, X_test_condition, chosen_sensors)"
   ]
  },
  {
   "cell_type": "code",
   "execution_count": 5,
   "id": "99a37bb4",
   "metadata": {
    "ExecuteTime": {
     "end_time": "2023-03-29T16:19:07.309946Z",
     "start_time": "2023-03-29T16:19:07.281897Z"
    }
   },
   "outputs": [],
   "source": [
    "#after scaling the data we can then proceed to drop these variables as they no longer serve a purpose\n",
    "data_train = X_train_condition_scaled.drop(['Altitude', 'Mach', 'TRA','op_cond'],axis=1)\n",
    "data_test = X_test_condition_scaled.drop(['Altitude', 'Mach', 'TRA','op_cond'],axis=1)"
   ]
  },
  {
   "cell_type": "code",
   "execution_count": 6,
   "id": "035105a6",
   "metadata": {
    "ExecuteTime": {
     "end_time": "2023-03-28T17:49:04.009174Z",
     "start_time": "2023-03-28T17:49:03.507556Z"
    }
   },
   "outputs": [],
   "source": [
    "# smooth the signal \n",
    "train_smooth = exponential_smoothing(data_train,chosen_sensors,0,0.3)\n",
    "test_smooth = exponential_smoothing(data_test,chosen_sensors,0,0.3)"
   ]
  },
  {
   "cell_type": "code",
   "execution_count": 6,
   "id": "8c2ab752",
   "metadata": {
    "ExecuteTime": {
     "end_time": "2023-03-29T16:19:08.013081Z",
     "start_time": "2023-03-29T16:19:07.995613Z"
    }
   },
   "outputs": [],
   "source": [
    "def rul_piecewise_fct(X_train, rul):\n",
    "    \n",
    "    X_train['RUL'].clip(upper=rul, inplace=True)\n",
    "    \n",
    "    return X_train"
   ]
  },
  {
   "cell_type": "code",
   "execution_count": 7,
   "id": "fc01b2c2",
   "metadata": {
    "ExecuteTime": {
     "end_time": "2023-03-28T17:49:04.040816Z",
     "start_time": "2023-03-28T17:49:04.009174Z"
    }
   },
   "outputs": [],
   "source": [
    "df_train_unit = train_smooth.Unit\n",
    "df_test_unit = test_smooth.Unit\n",
    "df_train_RUL = train_smooth.RUL\n",
    "train_smooth['RUL'].clip(upper=130, inplace=True)\n",
    "Xtrain = train_smooth.drop(['RUL','Unit'],axis=1)\n",
    "Xtest = test_smooth.drop(['Unit'],axis=1)"
   ]
  },
  {
   "cell_type": "code",
   "execution_count": 7,
   "id": "75dbcdd1",
   "metadata": {
    "ExecuteTime": {
     "end_time": "2023-03-29T16:19:11.604012Z",
     "start_time": "2023-03-29T16:19:11.588051Z"
    }
   },
   "outputs": [],
   "source": [
    "def create_model_lstm(input_shape, nodes_per_layer, dropout, learning_rate_):\n",
    "    model = Sequential()\n",
    "    model.add(LSTM(units=nodes_per_layer, activation='tanh',input_shape=(sequence_length, len(remaining_sensors_7))))\n",
    "    model.add(Dense(units=nodes_per_layer, activation='relu'))\n",
    "    model.add(Dropout(dropout))\n",
    "    model.add(Dense(1, activation='relu'))\n",
    "    model.compile(loss=['mse'],metrics=['mse'], optimizer=tf.keras.optimizers.Adam(lr=learning_rate_))\n",
    "    return model"
   ]
  },
  {
   "cell_type": "code",
   "execution_count": 8,
   "id": "ceb8e05a",
   "metadata": {
    "ExecuteTime": {
     "end_time": "2023-03-29T16:19:11.853121Z",
     "start_time": "2023-03-29T16:19:11.847132Z"
    }
   },
   "outputs": [],
   "source": [
    "def prep_data(train, test, chosen_sensors, alpha):\n",
    "    X_train_interim = add_operating_condition(train)\n",
    "    X_test_interim = add_operating_condition(test)\n",
    "\n",
    "    X_train_interim, X_test_interim = condition_scaler(X_train_interim, X_test_interim, remaining_sensors_7)\n",
    "\n",
    "    X_train_interim = exponential_smoothing(X_train_interim, chosen_sensors, 0, alpha)\n",
    "    X_test_interim = exponential_smoothing(X_test_interim, chosen_sensors, 0, alpha)\n",
    "    \n",
    "    return X_train_interim, X_test_interim"
   ]
  },
  {
   "cell_type": "code",
   "execution_count": 9,
   "id": "32eb6499",
   "metadata": {
    "ExecuteTime": {
     "end_time": "2023-03-29T16:19:14.284364Z",
     "start_time": "2023-03-29T16:19:14.107712Z"
    }
   },
   "outputs": [],
   "source": [
    "#get output file from RStudio after performining ClustOfVar\n",
    "\n",
    "df7 = pd.read_csv('C:/Users/aalah/Downloads/d7.txt',sep=',',names=['cluster1','cluster2','cluster3','cluster4','cluster5','cluster6','cluster7'\n",
    "])\n",
    "df_train_rul = train['RUL']\n",
    "df_train_unit = train['Unit']\n",
    "df_test_unit = test['Unit']\n",
    "\n",
    "#As the file has train and test merged together, we will split them into train and test\n",
    "\n",
    "cluster7_train = df7[ :61249 ].reset_index()\n",
    "cluster7_train = cluster7_train.drop('index',axis=1)\n",
    "cluster7_test = df7[ 61249 : ].reset_index()\n",
    "cluster7_test = cluster7_test.drop('index',axis=1)\n",
    "\n",
    "\n",
    "#We add Unit and RUL to these newly created datasets\n",
    "\n",
    "mid7_train = pd.concat([cluster7_train, df_train_rul], axis=1, join=\"inner\")\n",
    "train_7 = pd.concat([df_train_unit,mid7_train], axis=1, join=\"inner\")\n",
    "test_7 = pd.concat([df_test_unit,cluster7_test], axis=1, join=\"inner\")\n"
   ]
  },
  {
   "cell_type": "code",
   "execution_count": 10,
   "id": "0805d462",
   "metadata": {
    "ExecuteTime": {
     "end_time": "2023-03-29T16:19:17.522532Z",
     "start_time": "2023-03-29T16:19:17.508061Z"
    }
   },
   "outputs": [],
   "source": [
    "#sequence_length = 30 #TW was found using grid-search\n",
    "\n",
    "\n",
    "#train_7['RUL'].clip(upper=130, inplace=True) #Rectified RUL was found using grid-search\n",
    "\n",
    "remaining_sensors_7 = ['cluster1','cluster2','cluster3','cluster4','cluster5','cluster6','cluster7']\n"
   ]
  },
  {
   "cell_type": "code",
   "execution_count": 11,
   "id": "49874661",
   "metadata": {
    "ExecuteTime": {
     "end_time": "2023-03-29T16:19:17.929554Z",
     "start_time": "2023-03-29T16:19:17.907573Z"
    }
   },
   "outputs": [
    {
     "data": {
      "text/plain": [
       "5120"
      ]
     },
     "execution_count": 11,
     "metadata": {},
     "output_type": "execute_result"
    }
   ],
   "source": [
    "alpha_list = [0.2,0.3,0.5,0.7,0.9]\n",
    "epoch_list = list(np.arange(5,50+1,5))\n",
    "nodes_list = list(np.arange(32,512+1,32))\n",
    "\n",
    "dropouts_list = list(np.arange(1,5)/10)  \n",
    "# again, earlier testing revealed relu performed significantly worse, so I removed it from the options\n",
    "#TW_list = list(np.arange(10,30+1,5))\n",
    "TW_list = [10,20,30,40,50]\n",
    "piece_wise_rul_list = [100,120,130,140,150]\n",
    "batch_size_list = list(np.arange(32,512+1,32))\n",
    "learnin_rates_list = [0.00001, 0.0001, 0.001, 0.02,0.002,0.0002,0.03,0.003, 0.0003,0.01,0.00002]\n",
    "\n",
    " \n",
    "tuning_options = np.prod([len(alpha_list),\n",
    "                          \n",
    "                          len(nodes_list),\n",
    "                          len(dropouts_list),\n",
    "                          len(learnin_rates_list),\n",
    "                          len(batch_size_list)])\n",
    "tuning_options"
   ]
  },
  {
   "cell_type": "code",
   "execution_count": 70,
   "id": "7416da89",
   "metadata": {
    "ExecuteTime": {
     "end_time": "2023-03-30T14:31:00.883676Z",
     "start_time": "2023-03-30T14:28:52.462174Z"
    },
    "collapsed": true
   },
   "outputs": [
    {
     "name": "stdout",
     "output_type": "stream",
     "text": [
      "iteration  1\n"
     ]
    },
    {
     "ename": "KeyboardInterrupt",
     "evalue": "",
     "output_type": "error",
     "traceback": [
      "\u001b[1;31m---------------------------------------------------------------------------\u001b[0m",
      "\u001b[1;31mKeyboardInterrupt\u001b[0m                         Traceback (most recent call last)",
      "Cell \u001b[1;32mIn[70], line 47\u001b[0m\n\u001b[0;32m     43\u001b[0m val_split_array \u001b[38;5;241m=\u001b[39m gen_data_sequences_train(X_train_interim, sequence_length, remaining_sensors_7, val_unit)\n\u001b[0;32m     44\u001b[0m val_split_label \u001b[38;5;241m=\u001b[39m gen_rul_sequences_train(X_train_interim, sequence_length, [\u001b[38;5;124m'\u001b[39m\u001b[38;5;124mRUL\u001b[39m\u001b[38;5;124m'\u001b[39m], val_unit)\n\u001b[1;32m---> 47\u001b[0m history \u001b[38;5;241m=\u001b[39m \u001b[43mmodel\u001b[49m\u001b[38;5;241;43m.\u001b[39;49m\u001b[43mfit\u001b[49m\u001b[43m(\u001b[49m\u001b[43mtrain_split_array\u001b[49m\u001b[43m,\u001b[49m\u001b[43m \u001b[49m\u001b[43mtrain_split_label\u001b[49m\u001b[43m,\u001b[49m\n\u001b[0;32m     48\u001b[0m \u001b[43m                    \u001b[49m\u001b[43mvalidation_data\u001b[49m\u001b[38;5;241;43m=\u001b[39;49m\u001b[43m(\u001b[49m\u001b[43mval_split_array\u001b[49m\u001b[43m,\u001b[49m\u001b[43m \u001b[49m\u001b[43mval_split_label\u001b[49m\u001b[43m)\u001b[49m\u001b[43m,\u001b[49m\n\u001b[0;32m     49\u001b[0m \u001b[43m                    \u001b[49m\u001b[43mepochs\u001b[49m\u001b[38;5;241;43m=\u001b[39;49m\u001b[43mepochs\u001b[49m\u001b[43m,\u001b[49m\n\u001b[0;32m     50\u001b[0m \u001b[43m                    \u001b[49m\u001b[43mbatch_size\u001b[49m\u001b[38;5;241;43m=\u001b[39;49m\u001b[43mbatch_size\u001b[49m\u001b[43m,\u001b[49m\n\u001b[0;32m     51\u001b[0m \u001b[43m                    \u001b[49m\u001b[43mverbose\u001b[49m\u001b[38;5;241;43m=\u001b[39;49m\u001b[38;5;241;43m0\u001b[39;49m\u001b[43m)\u001b[49m\n\u001b[0;32m     53\u001b[0m test_gen \u001b[38;5;241m=\u001b[39m (\u001b[38;5;28mlist\u001b[39m(gen_test_data(test_7[test_7[\u001b[38;5;124m'\u001b[39m\u001b[38;5;124mUnit\u001b[39m\u001b[38;5;124m'\u001b[39m]\u001b[38;5;241m==\u001b[39munit_nr], sequence_length,remaining_sensors_7, \u001b[38;5;241m-\u001b[39m\u001b[38;5;241m99.\u001b[39m))\n\u001b[0;32m     54\u001b[0m             \u001b[38;5;28;01mfor\u001b[39;00m unit_nr \u001b[38;5;129;01min\u001b[39;00m test_7[\u001b[38;5;124m'\u001b[39m\u001b[38;5;124mUnit\u001b[39m\u001b[38;5;124m'\u001b[39m]\u001b[38;5;241m.\u001b[39munique())\n\u001b[0;32m     55\u001b[0m test_array \u001b[38;5;241m=\u001b[39m np\u001b[38;5;241m.\u001b[39mconcatenate(\u001b[38;5;28mlist\u001b[39m(test_gen))\u001b[38;5;241m.\u001b[39mastype(np\u001b[38;5;241m.\u001b[39mfloat32)\n",
      "File \u001b[1;32m~\\anaconda3\\envs\\tf\\lib\\site-packages\\keras\\utils\\traceback_utils.py:64\u001b[0m, in \u001b[0;36mfilter_traceback.<locals>.error_handler\u001b[1;34m(*args, **kwargs)\u001b[0m\n\u001b[0;32m     62\u001b[0m filtered_tb \u001b[38;5;241m=\u001b[39m \u001b[38;5;28;01mNone\u001b[39;00m\n\u001b[0;32m     63\u001b[0m \u001b[38;5;28;01mtry\u001b[39;00m:\n\u001b[1;32m---> 64\u001b[0m   \u001b[38;5;28;01mreturn\u001b[39;00m fn(\u001b[38;5;241m*\u001b[39margs, \u001b[38;5;241m*\u001b[39m\u001b[38;5;241m*\u001b[39mkwargs)\n\u001b[0;32m     65\u001b[0m \u001b[38;5;28;01mexcept\u001b[39;00m \u001b[38;5;167;01mException\u001b[39;00m \u001b[38;5;28;01mas\u001b[39;00m e:  \u001b[38;5;66;03m# pylint: disable=broad-except\u001b[39;00m\n\u001b[0;32m     66\u001b[0m   filtered_tb \u001b[38;5;241m=\u001b[39m _process_traceback_frames(e\u001b[38;5;241m.\u001b[39m__traceback__)\n",
      "File \u001b[1;32m~\\anaconda3\\envs\\tf\\lib\\site-packages\\keras\\engine\\training.py:1384\u001b[0m, in \u001b[0;36mModel.fit\u001b[1;34m(self, x, y, batch_size, epochs, verbose, callbacks, validation_split, validation_data, shuffle, class_weight, sample_weight, initial_epoch, steps_per_epoch, validation_steps, validation_batch_size, validation_freq, max_queue_size, workers, use_multiprocessing)\u001b[0m\n\u001b[0;32m   1377\u001b[0m \u001b[38;5;28;01mwith\u001b[39;00m tf\u001b[38;5;241m.\u001b[39mprofiler\u001b[38;5;241m.\u001b[39mexperimental\u001b[38;5;241m.\u001b[39mTrace(\n\u001b[0;32m   1378\u001b[0m     \u001b[38;5;124m'\u001b[39m\u001b[38;5;124mtrain\u001b[39m\u001b[38;5;124m'\u001b[39m,\n\u001b[0;32m   1379\u001b[0m     epoch_num\u001b[38;5;241m=\u001b[39mepoch,\n\u001b[0;32m   1380\u001b[0m     step_num\u001b[38;5;241m=\u001b[39mstep,\n\u001b[0;32m   1381\u001b[0m     batch_size\u001b[38;5;241m=\u001b[39mbatch_size,\n\u001b[0;32m   1382\u001b[0m     _r\u001b[38;5;241m=\u001b[39m\u001b[38;5;241m1\u001b[39m):\n\u001b[0;32m   1383\u001b[0m   callbacks\u001b[38;5;241m.\u001b[39mon_train_batch_begin(step)\n\u001b[1;32m-> 1384\u001b[0m   tmp_logs \u001b[38;5;241m=\u001b[39m \u001b[38;5;28;43mself\u001b[39;49m\u001b[38;5;241;43m.\u001b[39;49m\u001b[43mtrain_function\u001b[49m\u001b[43m(\u001b[49m\u001b[43miterator\u001b[49m\u001b[43m)\u001b[49m\n\u001b[0;32m   1385\u001b[0m   \u001b[38;5;28;01mif\u001b[39;00m data_handler\u001b[38;5;241m.\u001b[39mshould_sync:\n\u001b[0;32m   1386\u001b[0m     context\u001b[38;5;241m.\u001b[39masync_wait()\n",
      "File \u001b[1;32m~\\anaconda3\\envs\\tf\\lib\\site-packages\\tensorflow\\python\\util\\traceback_utils.py:150\u001b[0m, in \u001b[0;36mfilter_traceback.<locals>.error_handler\u001b[1;34m(*args, **kwargs)\u001b[0m\n\u001b[0;32m    148\u001b[0m filtered_tb \u001b[38;5;241m=\u001b[39m \u001b[38;5;28;01mNone\u001b[39;00m\n\u001b[0;32m    149\u001b[0m \u001b[38;5;28;01mtry\u001b[39;00m:\n\u001b[1;32m--> 150\u001b[0m   \u001b[38;5;28;01mreturn\u001b[39;00m fn(\u001b[38;5;241m*\u001b[39margs, \u001b[38;5;241m*\u001b[39m\u001b[38;5;241m*\u001b[39mkwargs)\n\u001b[0;32m    151\u001b[0m \u001b[38;5;28;01mexcept\u001b[39;00m \u001b[38;5;167;01mException\u001b[39;00m \u001b[38;5;28;01mas\u001b[39;00m e:\n\u001b[0;32m    152\u001b[0m   filtered_tb \u001b[38;5;241m=\u001b[39m _process_traceback_frames(e\u001b[38;5;241m.\u001b[39m__traceback__)\n",
      "File \u001b[1;32m~\\anaconda3\\envs\\tf\\lib\\site-packages\\tensorflow\\python\\eager\\def_function.py:915\u001b[0m, in \u001b[0;36mFunction.__call__\u001b[1;34m(self, *args, **kwds)\u001b[0m\n\u001b[0;32m    912\u001b[0m compiler \u001b[38;5;241m=\u001b[39m \u001b[38;5;124m\"\u001b[39m\u001b[38;5;124mxla\u001b[39m\u001b[38;5;124m\"\u001b[39m \u001b[38;5;28;01mif\u001b[39;00m \u001b[38;5;28mself\u001b[39m\u001b[38;5;241m.\u001b[39m_jit_compile \u001b[38;5;28;01melse\u001b[39;00m \u001b[38;5;124m\"\u001b[39m\u001b[38;5;124mnonXla\u001b[39m\u001b[38;5;124m\"\u001b[39m\n\u001b[0;32m    914\u001b[0m \u001b[38;5;28;01mwith\u001b[39;00m OptionalXlaContext(\u001b[38;5;28mself\u001b[39m\u001b[38;5;241m.\u001b[39m_jit_compile):\n\u001b[1;32m--> 915\u001b[0m   result \u001b[38;5;241m=\u001b[39m \u001b[38;5;28mself\u001b[39m\u001b[38;5;241m.\u001b[39m_call(\u001b[38;5;241m*\u001b[39margs, \u001b[38;5;241m*\u001b[39m\u001b[38;5;241m*\u001b[39mkwds)\n\u001b[0;32m    917\u001b[0m new_tracing_count \u001b[38;5;241m=\u001b[39m \u001b[38;5;28mself\u001b[39m\u001b[38;5;241m.\u001b[39mexperimental_get_tracing_count()\n\u001b[0;32m    918\u001b[0m without_tracing \u001b[38;5;241m=\u001b[39m (tracing_count \u001b[38;5;241m==\u001b[39m new_tracing_count)\n",
      "File \u001b[1;32m~\\anaconda3\\envs\\tf\\lib\\site-packages\\tensorflow\\python\\eager\\def_function.py:947\u001b[0m, in \u001b[0;36mFunction._call\u001b[1;34m(self, *args, **kwds)\u001b[0m\n\u001b[0;32m    944\u001b[0m   \u001b[38;5;28mself\u001b[39m\u001b[38;5;241m.\u001b[39m_lock\u001b[38;5;241m.\u001b[39mrelease()\n\u001b[0;32m    945\u001b[0m   \u001b[38;5;66;03m# In this case we have created variables on the first call, so we run the\u001b[39;00m\n\u001b[0;32m    946\u001b[0m   \u001b[38;5;66;03m# defunned version which is guaranteed to never create variables.\u001b[39;00m\n\u001b[1;32m--> 947\u001b[0m   \u001b[38;5;28;01mreturn\u001b[39;00m \u001b[38;5;28mself\u001b[39m\u001b[38;5;241m.\u001b[39m_stateless_fn(\u001b[38;5;241m*\u001b[39margs, \u001b[38;5;241m*\u001b[39m\u001b[38;5;241m*\u001b[39mkwds)  \u001b[38;5;66;03m# pylint: disable=not-callable\u001b[39;00m\n\u001b[0;32m    948\u001b[0m \u001b[38;5;28;01melif\u001b[39;00m \u001b[38;5;28mself\u001b[39m\u001b[38;5;241m.\u001b[39m_stateful_fn \u001b[38;5;129;01mis\u001b[39;00m \u001b[38;5;129;01mnot\u001b[39;00m \u001b[38;5;28;01mNone\u001b[39;00m:\n\u001b[0;32m    949\u001b[0m   \u001b[38;5;66;03m# Release the lock early so that multiple threads can perform the call\u001b[39;00m\n\u001b[0;32m    950\u001b[0m   \u001b[38;5;66;03m# in parallel.\u001b[39;00m\n\u001b[0;32m    951\u001b[0m   \u001b[38;5;28mself\u001b[39m\u001b[38;5;241m.\u001b[39m_lock\u001b[38;5;241m.\u001b[39mrelease()\n",
      "File \u001b[1;32m~\\anaconda3\\envs\\tf\\lib\\site-packages\\tensorflow\\python\\eager\\function.py:2956\u001b[0m, in \u001b[0;36mFunction.__call__\u001b[1;34m(self, *args, **kwargs)\u001b[0m\n\u001b[0;32m   2953\u001b[0m \u001b[38;5;28;01mwith\u001b[39;00m \u001b[38;5;28mself\u001b[39m\u001b[38;5;241m.\u001b[39m_lock:\n\u001b[0;32m   2954\u001b[0m   (graph_function,\n\u001b[0;32m   2955\u001b[0m    filtered_flat_args) \u001b[38;5;241m=\u001b[39m \u001b[38;5;28mself\u001b[39m\u001b[38;5;241m.\u001b[39m_maybe_define_function(args, kwargs)\n\u001b[1;32m-> 2956\u001b[0m \u001b[38;5;28;01mreturn\u001b[39;00m \u001b[43mgraph_function\u001b[49m\u001b[38;5;241;43m.\u001b[39;49m\u001b[43m_call_flat\u001b[49m\u001b[43m(\u001b[49m\n\u001b[0;32m   2957\u001b[0m \u001b[43m    \u001b[49m\u001b[43mfiltered_flat_args\u001b[49m\u001b[43m,\u001b[49m\u001b[43m \u001b[49m\u001b[43mcaptured_inputs\u001b[49m\u001b[38;5;241;43m=\u001b[39;49m\u001b[43mgraph_function\u001b[49m\u001b[38;5;241;43m.\u001b[39;49m\u001b[43mcaptured_inputs\u001b[49m\u001b[43m)\u001b[49m\n",
      "File \u001b[1;32m~\\anaconda3\\envs\\tf\\lib\\site-packages\\tensorflow\\python\\eager\\function.py:1853\u001b[0m, in \u001b[0;36mConcreteFunction._call_flat\u001b[1;34m(self, args, captured_inputs, cancellation_manager)\u001b[0m\n\u001b[0;32m   1849\u001b[0m possible_gradient_type \u001b[38;5;241m=\u001b[39m gradients_util\u001b[38;5;241m.\u001b[39mPossibleTapeGradientTypes(args)\n\u001b[0;32m   1850\u001b[0m \u001b[38;5;28;01mif\u001b[39;00m (possible_gradient_type \u001b[38;5;241m==\u001b[39m gradients_util\u001b[38;5;241m.\u001b[39mPOSSIBLE_GRADIENT_TYPES_NONE\n\u001b[0;32m   1851\u001b[0m     \u001b[38;5;129;01mand\u001b[39;00m executing_eagerly):\n\u001b[0;32m   1852\u001b[0m   \u001b[38;5;66;03m# No tape is watching; skip to running the function.\u001b[39;00m\n\u001b[1;32m-> 1853\u001b[0m   \u001b[38;5;28;01mreturn\u001b[39;00m \u001b[38;5;28mself\u001b[39m\u001b[38;5;241m.\u001b[39m_build_call_outputs(\u001b[38;5;28;43mself\u001b[39;49m\u001b[38;5;241;43m.\u001b[39;49m\u001b[43m_inference_function\u001b[49m\u001b[38;5;241;43m.\u001b[39;49m\u001b[43mcall\u001b[49m\u001b[43m(\u001b[49m\n\u001b[0;32m   1854\u001b[0m \u001b[43m      \u001b[49m\u001b[43mctx\u001b[49m\u001b[43m,\u001b[49m\u001b[43m \u001b[49m\u001b[43margs\u001b[49m\u001b[43m,\u001b[49m\u001b[43m \u001b[49m\u001b[43mcancellation_manager\u001b[49m\u001b[38;5;241;43m=\u001b[39;49m\u001b[43mcancellation_manager\u001b[49m\u001b[43m)\u001b[49m)\n\u001b[0;32m   1855\u001b[0m forward_backward \u001b[38;5;241m=\u001b[39m \u001b[38;5;28mself\u001b[39m\u001b[38;5;241m.\u001b[39m_select_forward_and_backward_functions(\n\u001b[0;32m   1856\u001b[0m     args,\n\u001b[0;32m   1857\u001b[0m     possible_gradient_type,\n\u001b[0;32m   1858\u001b[0m     executing_eagerly)\n\u001b[0;32m   1859\u001b[0m forward_function, args_with_tangents \u001b[38;5;241m=\u001b[39m forward_backward\u001b[38;5;241m.\u001b[39mforward()\n",
      "File \u001b[1;32m~\\anaconda3\\envs\\tf\\lib\\site-packages\\tensorflow\\python\\eager\\function.py:499\u001b[0m, in \u001b[0;36m_EagerDefinedFunction.call\u001b[1;34m(self, ctx, args, cancellation_manager)\u001b[0m\n\u001b[0;32m    497\u001b[0m \u001b[38;5;28;01mwith\u001b[39;00m _InterpolateFunctionError(\u001b[38;5;28mself\u001b[39m):\n\u001b[0;32m    498\u001b[0m   \u001b[38;5;28;01mif\u001b[39;00m cancellation_manager \u001b[38;5;129;01mis\u001b[39;00m \u001b[38;5;28;01mNone\u001b[39;00m:\n\u001b[1;32m--> 499\u001b[0m     outputs \u001b[38;5;241m=\u001b[39m \u001b[43mexecute\u001b[49m\u001b[38;5;241;43m.\u001b[39;49m\u001b[43mexecute\u001b[49m\u001b[43m(\u001b[49m\n\u001b[0;32m    500\u001b[0m \u001b[43m        \u001b[49m\u001b[38;5;28;43mstr\u001b[39;49m\u001b[43m(\u001b[49m\u001b[38;5;28;43mself\u001b[39;49m\u001b[38;5;241;43m.\u001b[39;49m\u001b[43msignature\u001b[49m\u001b[38;5;241;43m.\u001b[39;49m\u001b[43mname\u001b[49m\u001b[43m)\u001b[49m\u001b[43m,\u001b[49m\n\u001b[0;32m    501\u001b[0m \u001b[43m        \u001b[49m\u001b[43mnum_outputs\u001b[49m\u001b[38;5;241;43m=\u001b[39;49m\u001b[38;5;28;43mself\u001b[39;49m\u001b[38;5;241;43m.\u001b[39;49m\u001b[43m_num_outputs\u001b[49m\u001b[43m,\u001b[49m\n\u001b[0;32m    502\u001b[0m \u001b[43m        \u001b[49m\u001b[43minputs\u001b[49m\u001b[38;5;241;43m=\u001b[39;49m\u001b[43margs\u001b[49m\u001b[43m,\u001b[49m\n\u001b[0;32m    503\u001b[0m \u001b[43m        \u001b[49m\u001b[43mattrs\u001b[49m\u001b[38;5;241;43m=\u001b[39;49m\u001b[43mattrs\u001b[49m\u001b[43m,\u001b[49m\n\u001b[0;32m    504\u001b[0m \u001b[43m        \u001b[49m\u001b[43mctx\u001b[49m\u001b[38;5;241;43m=\u001b[39;49m\u001b[43mctx\u001b[49m\u001b[43m)\u001b[49m\n\u001b[0;32m    505\u001b[0m   \u001b[38;5;28;01melse\u001b[39;00m:\n\u001b[0;32m    506\u001b[0m     outputs \u001b[38;5;241m=\u001b[39m execute\u001b[38;5;241m.\u001b[39mexecute_with_cancellation(\n\u001b[0;32m    507\u001b[0m         \u001b[38;5;28mstr\u001b[39m(\u001b[38;5;28mself\u001b[39m\u001b[38;5;241m.\u001b[39msignature\u001b[38;5;241m.\u001b[39mname),\n\u001b[0;32m    508\u001b[0m         num_outputs\u001b[38;5;241m=\u001b[39m\u001b[38;5;28mself\u001b[39m\u001b[38;5;241m.\u001b[39m_num_outputs,\n\u001b[1;32m   (...)\u001b[0m\n\u001b[0;32m    511\u001b[0m         ctx\u001b[38;5;241m=\u001b[39mctx,\n\u001b[0;32m    512\u001b[0m         cancellation_manager\u001b[38;5;241m=\u001b[39mcancellation_manager)\n",
      "File \u001b[1;32m~\\anaconda3\\envs\\tf\\lib\\site-packages\\tensorflow\\python\\eager\\execute.py:54\u001b[0m, in \u001b[0;36mquick_execute\u001b[1;34m(op_name, num_outputs, inputs, attrs, ctx, name)\u001b[0m\n\u001b[0;32m     52\u001b[0m \u001b[38;5;28;01mtry\u001b[39;00m:\n\u001b[0;32m     53\u001b[0m   ctx\u001b[38;5;241m.\u001b[39mensure_initialized()\n\u001b[1;32m---> 54\u001b[0m   tensors \u001b[38;5;241m=\u001b[39m \u001b[43mpywrap_tfe\u001b[49m\u001b[38;5;241;43m.\u001b[39;49m\u001b[43mTFE_Py_Execute\u001b[49m\u001b[43m(\u001b[49m\u001b[43mctx\u001b[49m\u001b[38;5;241;43m.\u001b[39;49m\u001b[43m_handle\u001b[49m\u001b[43m,\u001b[49m\u001b[43m \u001b[49m\u001b[43mdevice_name\u001b[49m\u001b[43m,\u001b[49m\u001b[43m \u001b[49m\u001b[43mop_name\u001b[49m\u001b[43m,\u001b[49m\n\u001b[0;32m     55\u001b[0m \u001b[43m                                      \u001b[49m\u001b[43minputs\u001b[49m\u001b[43m,\u001b[49m\u001b[43m \u001b[49m\u001b[43mattrs\u001b[49m\u001b[43m,\u001b[49m\u001b[43m \u001b[49m\u001b[43mnum_outputs\u001b[49m\u001b[43m)\u001b[49m\n\u001b[0;32m     56\u001b[0m \u001b[38;5;28;01mexcept\u001b[39;00m core\u001b[38;5;241m.\u001b[39m_NotOkStatusException \u001b[38;5;28;01mas\u001b[39;00m e:\n\u001b[0;32m     57\u001b[0m   \u001b[38;5;28;01mif\u001b[39;00m name \u001b[38;5;129;01mis\u001b[39;00m \u001b[38;5;129;01mnot\u001b[39;00m \u001b[38;5;28;01mNone\u001b[39;00m:\n",
      "\u001b[1;31mKeyboardInterrupt\u001b[0m: "
     ]
    }
   ],
   "source": [
    "ITERATIONS = 5\n",
    "\n",
    "results_TW_10_iter = pd.DataFrame()\n",
    "\n",
    "for i in range(ITERATIONS):\n",
    "    \n",
    "    print('iteration ', i+1)\n",
    "    \n",
    "    score_val = []\n",
    "    mse_val = []\n",
    "    R2_val = []\n",
    "    RMSE = []\n",
    "    \n",
    "    # init parameters\n",
    "    #alpha = random.sample(alpha_list, 1)[0]\n",
    "    epochs = 20\n",
    "    sequence_length = 30\n",
    "    nodes_per_layer = 128\n",
    "    dropout = 0.2\n",
    "    learn_rate =  0.01\n",
    "    batch_size = 384\n",
    "    #rul_piecewise= random.sample(piece_wise_rul_list, 1)[0]\n",
    "    rul_piecewise= piece_wise_rul_list[i % len(piece_wise_rul_list)]\n",
    "    # smooth the signal \n",
    "    #train_smooth = exponential_smoothing(data_train,chosen_sensors,0,alpha)\n",
    "    #test_smooth = exponential_smoothing(data_test,chosen_sensors,0,alpha)\n",
    "    # create model\n",
    "    X_train_interim = rul_piecewise_fct(train_7,rul_piecewise)\n",
    "    test_rul = rul_piecewise_fct(y_test,rul_piecewise)\n",
    "    input_shape = (sequence_length, len(remaining_sensors_7))\n",
    "    model = create_model_lstm(input_shape, nodes_per_layer, dropout,learn_rate)\n",
    "    #X_train_interim, X_test_interim = prep_data(train, test, chosen_sensors, alpha)\n",
    "    # create train-val split\n",
    "    #gss = GroupShuffleSplit(n_splits=5, train_size=0.80, random_state=42)\n",
    "    gkf_cv = GroupKFold(n_splits=5)\n",
    "    with tf.device('/device:GPU:0'):\n",
    "        for train_unit, val_unit in gkf_cv.split(X_train_interim['Unit'].unique(), groups=X_train_interim['Unit'].unique()):\n",
    "            train_unit = X_train_interim['Unit'].unique()[train_unit]  # gss returns indexes and index starts at 1\n",
    "            train_split_array = gen_data_sequences_train(X_train_interim, sequence_length, remaining_sensors_7, train_unit)\n",
    "            train_split_label = gen_rul_sequences_train(X_train_interim, sequence_length, ['RUL'], train_unit)\n",
    "        \n",
    "            val_unit = X_train_interim['Unit'].unique()[val_unit]\n",
    "            val_split_array = gen_data_sequences_train(X_train_interim, sequence_length, remaining_sensors_7, val_unit)\n",
    "            val_split_label = gen_rul_sequences_train(X_train_interim, sequence_length, ['RUL'], val_unit)\n",
    "\n",
    "        \n",
    "            history = model.fit(train_split_array, train_split_label,\n",
    "                                validation_data=(val_split_array, val_split_label),\n",
    "                                epochs=epochs,\n",
    "                                batch_size=batch_size,\n",
    "                                verbose=0)\n",
    "\n",
    "            test_gen = (list(gen_test_data(test_7[test_7['Unit']==unit_nr], sequence_length,remaining_sensors_7, -99.))\n",
    "                        for unit_nr in test_7['Unit'].unique())\n",
    "            test_array = np.concatenate(list(test_gen)).astype(np.float32)\n",
    "            \n",
    "            mse_val.append(history.history['val_loss'][-1])\n",
    "            y_hat_val_split = model.predict(test_array)\n",
    "            R2_val.append(r2_score(test_rul, y_hat_val_split))\n",
    "            RMSE.append(np.sqrt(mean_squared_error(test_rul, y_hat_val_split)))\n",
    "            score_val.append(compute_s_score(test_rul, y_hat_val_split)) \n",
    "            # append results\n",
    "        d = {'RMSE_val':np.sqrt(mse_val),'RMSE_test':RMSE,'R2_test':np.mean(R2_val), 'Score_test':np.mean(score_val),\n",
    "            #'alpha':alpha,\n",
    "             'rul_piecewise':rul_piecewise, 'sequence_length':sequence_length }\n",
    "        results_TW_10_iter = results_TW_10_iter.append(pd.DataFrame(d), ignore_index=True)"
   ]
  },
  {
   "cell_type": "code",
   "execution_count": 56,
   "id": "175ea466",
   "metadata": {
    "ExecuteTime": {
     "end_time": "2023-03-29T23:35:32.966328Z",
     "start_time": "2023-03-29T23:35:32.947381Z"
    }
   },
   "outputs": [
    {
     "data": {
      "text/html": [
       "<div>\n",
       "<style scoped>\n",
       "    .dataframe tbody tr th:only-of-type {\n",
       "        vertical-align: middle;\n",
       "    }\n",
       "\n",
       "    .dataframe tbody tr th {\n",
       "        vertical-align: top;\n",
       "    }\n",
       "\n",
       "    .dataframe thead th {\n",
       "        text-align: right;\n",
       "    }\n",
       "</style>\n",
       "<table border=\"1\" class=\"dataframe\">\n",
       "  <thead>\n",
       "    <tr style=\"text-align: right;\">\n",
       "      <th></th>\n",
       "      <th>RMSE_val</th>\n",
       "      <th>RMSE_test</th>\n",
       "      <th>R2_test</th>\n",
       "      <th>Score_test</th>\n",
       "      <th>rul_piecewise</th>\n",
       "      <th>sequence_length</th>\n",
       "    </tr>\n",
       "  </thead>\n",
       "  <tbody>\n",
       "    <tr>\n",
       "      <th>0</th>\n",
       "      <td>9.909810</td>\n",
       "      <td>11.154262</td>\n",
       "      <td>0.899681</td>\n",
       "      <td>528.682732</td>\n",
       "      <td>100</td>\n",
       "      <td>30</td>\n",
       "    </tr>\n",
       "    <tr>\n",
       "      <th>1</th>\n",
       "      <td>11.085535</td>\n",
       "      <td>10.869654</td>\n",
       "      <td>0.899681</td>\n",
       "      <td>528.682732</td>\n",
       "      <td>100</td>\n",
       "      <td>30</td>\n",
       "    </tr>\n",
       "    <tr>\n",
       "      <th>2</th>\n",
       "      <td>10.786652</td>\n",
       "      <td>11.277052</td>\n",
       "      <td>0.899681</td>\n",
       "      <td>528.682732</td>\n",
       "      <td>100</td>\n",
       "      <td>30</td>\n",
       "    </tr>\n",
       "    <tr>\n",
       "      <th>3</th>\n",
       "      <td>9.669874</td>\n",
       "      <td>11.165940</td>\n",
       "      <td>0.899681</td>\n",
       "      <td>528.682732</td>\n",
       "      <td>100</td>\n",
       "      <td>30</td>\n",
       "    </tr>\n",
       "    <tr>\n",
       "      <th>4</th>\n",
       "      <td>9.358158</td>\n",
       "      <td>10.538044</td>\n",
       "      <td>0.899681</td>\n",
       "      <td>528.682732</td>\n",
       "      <td>100</td>\n",
       "      <td>30</td>\n",
       "    </tr>\n",
       "    <tr>\n",
       "      <th>5</th>\n",
       "      <td>11.062903</td>\n",
       "      <td>12.435577</td>\n",
       "      <td>0.884895</td>\n",
       "      <td>1032.497000</td>\n",
       "      <td>120</td>\n",
       "      <td>30</td>\n",
       "    </tr>\n",
       "    <tr>\n",
       "      <th>6</th>\n",
       "      <td>11.979004</td>\n",
       "      <td>12.557872</td>\n",
       "      <td>0.884895</td>\n",
       "      <td>1032.497000</td>\n",
       "      <td>120</td>\n",
       "      <td>30</td>\n",
       "    </tr>\n",
       "    <tr>\n",
       "      <th>7</th>\n",
       "      <td>10.763518</td>\n",
       "      <td>11.440153</td>\n",
       "      <td>0.884895</td>\n",
       "      <td>1032.497000</td>\n",
       "      <td>120</td>\n",
       "      <td>30</td>\n",
       "    </tr>\n",
       "    <tr>\n",
       "      <th>8</th>\n",
       "      <td>10.363221</td>\n",
       "      <td>11.312118</td>\n",
       "      <td>0.884895</td>\n",
       "      <td>1032.497000</td>\n",
       "      <td>120</td>\n",
       "      <td>30</td>\n",
       "    </tr>\n",
       "    <tr>\n",
       "      <th>9</th>\n",
       "      <td>10.946024</td>\n",
       "      <td>11.114011</td>\n",
       "      <td>0.884895</td>\n",
       "      <td>1032.497000</td>\n",
       "      <td>120</td>\n",
       "      <td>30</td>\n",
       "    </tr>\n",
       "    <tr>\n",
       "      <th>10</th>\n",
       "      <td>10.589795</td>\n",
       "      <td>10.619218</td>\n",
       "      <td>0.890873</td>\n",
       "      <td>608.748609</td>\n",
       "      <td>130</td>\n",
       "      <td>30</td>\n",
       "    </tr>\n",
       "    <tr>\n",
       "      <th>11</th>\n",
       "      <td>12.505176</td>\n",
       "      <td>11.280498</td>\n",
       "      <td>0.890873</td>\n",
       "      <td>608.748609</td>\n",
       "      <td>130</td>\n",
       "      <td>30</td>\n",
       "    </tr>\n",
       "    <tr>\n",
       "      <th>12</th>\n",
       "      <td>10.095660</td>\n",
       "      <td>11.673452</td>\n",
       "      <td>0.890873</td>\n",
       "      <td>608.748609</td>\n",
       "      <td>130</td>\n",
       "      <td>30</td>\n",
       "    </tr>\n",
       "    <tr>\n",
       "      <th>13</th>\n",
       "      <td>9.468389</td>\n",
       "      <td>11.374650</td>\n",
       "      <td>0.890873</td>\n",
       "      <td>608.748609</td>\n",
       "      <td>130</td>\n",
       "      <td>30</td>\n",
       "    </tr>\n",
       "    <tr>\n",
       "      <th>14</th>\n",
       "      <td>8.919732</td>\n",
       "      <td>12.367641</td>\n",
       "      <td>0.890873</td>\n",
       "      <td>608.748609</td>\n",
       "      <td>130</td>\n",
       "      <td>30</td>\n",
       "    </tr>\n",
       "    <tr>\n",
       "      <th>15</th>\n",
       "      <td>10.075901</td>\n",
       "      <td>11.982828</td>\n",
       "      <td>0.882378</td>\n",
       "      <td>725.014097</td>\n",
       "      <td>140</td>\n",
       "      <td>30</td>\n",
       "    </tr>\n",
       "    <tr>\n",
       "      <th>16</th>\n",
       "      <td>11.983170</td>\n",
       "      <td>12.061865</td>\n",
       "      <td>0.882378</td>\n",
       "      <td>725.014097</td>\n",
       "      <td>140</td>\n",
       "      <td>30</td>\n",
       "    </tr>\n",
       "    <tr>\n",
       "      <th>17</th>\n",
       "      <td>10.376728</td>\n",
       "      <td>12.478054</td>\n",
       "      <td>0.882378</td>\n",
       "      <td>725.014097</td>\n",
       "      <td>140</td>\n",
       "      <td>30</td>\n",
       "    </tr>\n",
       "    <tr>\n",
       "      <th>18</th>\n",
       "      <td>9.750533</td>\n",
       "      <td>11.650406</td>\n",
       "      <td>0.882378</td>\n",
       "      <td>725.014097</td>\n",
       "      <td>140</td>\n",
       "      <td>30</td>\n",
       "    </tr>\n",
       "    <tr>\n",
       "      <th>19</th>\n",
       "      <td>9.257025</td>\n",
       "      <td>11.374841</td>\n",
       "      <td>0.882378</td>\n",
       "      <td>725.014097</td>\n",
       "      <td>140</td>\n",
       "      <td>30</td>\n",
       "    </tr>\n",
       "    <tr>\n",
       "      <th>20</th>\n",
       "      <td>9.868408</td>\n",
       "      <td>11.184084</td>\n",
       "      <td>0.900342</td>\n",
       "      <td>494.236237</td>\n",
       "      <td>150</td>\n",
       "      <td>30</td>\n",
       "    </tr>\n",
       "    <tr>\n",
       "      <th>21</th>\n",
       "      <td>11.897926</td>\n",
       "      <td>10.939360</td>\n",
       "      <td>0.900342</td>\n",
       "      <td>494.236237</td>\n",
       "      <td>150</td>\n",
       "      <td>30</td>\n",
       "    </tr>\n",
       "    <tr>\n",
       "      <th>22</th>\n",
       "      <td>11.036856</td>\n",
       "      <td>10.835641</td>\n",
       "      <td>0.900342</td>\n",
       "      <td>494.236237</td>\n",
       "      <td>150</td>\n",
       "      <td>30</td>\n",
       "    </tr>\n",
       "    <tr>\n",
       "      <th>23</th>\n",
       "      <td>10.185203</td>\n",
       "      <td>11.011459</td>\n",
       "      <td>0.900342</td>\n",
       "      <td>494.236237</td>\n",
       "      <td>150</td>\n",
       "      <td>30</td>\n",
       "    </tr>\n",
       "    <tr>\n",
       "      <th>24</th>\n",
       "      <td>10.370414</td>\n",
       "      <td>10.865584</td>\n",
       "      <td>0.900342</td>\n",
       "      <td>494.236237</td>\n",
       "      <td>150</td>\n",
       "      <td>30</td>\n",
       "    </tr>\n",
       "  </tbody>\n",
       "</table>\n",
       "</div>"
      ],
      "text/plain": [
       "     RMSE_val  RMSE_test   R2_test   Score_test  rul_piecewise  \\\n",
       "0    9.909810  11.154262  0.899681   528.682732            100   \n",
       "1   11.085535  10.869654  0.899681   528.682732            100   \n",
       "2   10.786652  11.277052  0.899681   528.682732            100   \n",
       "3    9.669874  11.165940  0.899681   528.682732            100   \n",
       "4    9.358158  10.538044  0.899681   528.682732            100   \n",
       "5   11.062903  12.435577  0.884895  1032.497000            120   \n",
       "6   11.979004  12.557872  0.884895  1032.497000            120   \n",
       "7   10.763518  11.440153  0.884895  1032.497000            120   \n",
       "8   10.363221  11.312118  0.884895  1032.497000            120   \n",
       "9   10.946024  11.114011  0.884895  1032.497000            120   \n",
       "10  10.589795  10.619218  0.890873   608.748609            130   \n",
       "11  12.505176  11.280498  0.890873   608.748609            130   \n",
       "12  10.095660  11.673452  0.890873   608.748609            130   \n",
       "13   9.468389  11.374650  0.890873   608.748609            130   \n",
       "14   8.919732  12.367641  0.890873   608.748609            130   \n",
       "15  10.075901  11.982828  0.882378   725.014097            140   \n",
       "16  11.983170  12.061865  0.882378   725.014097            140   \n",
       "17  10.376728  12.478054  0.882378   725.014097            140   \n",
       "18   9.750533  11.650406  0.882378   725.014097            140   \n",
       "19   9.257025  11.374841  0.882378   725.014097            140   \n",
       "20   9.868408  11.184084  0.900342   494.236237            150   \n",
       "21  11.897926  10.939360  0.900342   494.236237            150   \n",
       "22  11.036856  10.835641  0.900342   494.236237            150   \n",
       "23  10.185203  11.011459  0.900342   494.236237            150   \n",
       "24  10.370414  10.865584  0.900342   494.236237            150   \n",
       "\n",
       "    sequence_length  \n",
       "0                30  \n",
       "1                30  \n",
       "2                30  \n",
       "3                30  \n",
       "4                30  \n",
       "5                30  \n",
       "6                30  \n",
       "7                30  \n",
       "8                30  \n",
       "9                30  \n",
       "10               30  \n",
       "11               30  \n",
       "12               30  \n",
       "13               30  \n",
       "14               30  \n",
       "15               30  \n",
       "16               30  \n",
       "17               30  \n",
       "18               30  \n",
       "19               30  \n",
       "20               30  \n",
       "21               30  \n",
       "22               30  \n",
       "23               30  \n",
       "24               30  "
      ]
     },
     "execution_count": 56,
     "metadata": {},
     "output_type": "execute_result"
    }
   ],
   "source": [
    "results_TW_10_iter"
   ]
  },
  {
   "cell_type": "code",
   "execution_count": 57,
   "id": "974ba529",
   "metadata": {
    "ExecuteTime": {
     "end_time": "2023-03-29T23:35:41.784307Z",
     "start_time": "2023-03-29T23:35:41.762366Z"
    }
   },
   "outputs": [
    {
     "name": "stdout",
     "output_type": "stream",
     "text": [
      "Mean results by hyperparameters:\n",
      "                RMSE_val  RMSE_test   R2_test   Score_test  sequence_length\n",
      "rul_piecewise                                                              \n",
      "100            10.162006  11.000990  0.899681   528.682732             30.0\n",
      "120            11.022934  11.771946  0.884895  1032.497000             30.0\n",
      "130            10.315751  11.463092  0.890873   608.748609             30.0\n",
      "140            10.288671  11.909599  0.882378   725.014097             30.0\n",
      "150            10.671761  10.967225  0.900342   494.236237             30.0\n",
      "\n",
      "Standard deviation of results by hyperparameters:\n",
      "               RMSE_val  RMSE_test  R2_test  Score_test  sequence_length\n",
      "rul_piecewise                                                           \n",
      "100            0.740786   0.299366      0.0         0.0              0.0\n",
      "120            0.596678   0.673144      0.0         0.0              0.0\n",
      "130            1.376954   0.635560      0.0         0.0              0.0\n",
      "140            1.034195   0.419772      0.0         0.0              0.0\n",
      "150            0.807728   0.139110      0.0         0.0              0.0\n"
     ]
    }
   ],
   "source": [
    "# Group the results by hyperparameters\n",
    "groups = results_TW_10_iter.groupby(['rul_piecewise'])\n",
    "\n",
    "# Calculate the mean and standard deviation of the metrics for each group\n",
    "means = groups.mean()\n",
    "stds = groups.std()\n",
    "\n",
    "# Print the results\n",
    "print(\"Mean results by hyperparameters:\")\n",
    "print(means)\n",
    "print(\"\\nStandard deviation of results by hyperparameters:\")\n",
    "print(stds)\n"
   ]
  },
  {
   "cell_type": "code",
   "execution_count": 68,
   "id": "5f1177ff",
   "metadata": {
    "ExecuteTime": {
     "end_time": "2023-03-29T23:54:05.197800Z",
     "start_time": "2023-03-29T23:54:05.075074Z"
    }
   },
   "outputs": [
    {
     "name": "stdout",
     "output_type": "stream",
     "text": [
      "      TW       mean       std\n",
      "0  100.0  10.162006  0.740786\n",
      "1  120.0  11.022934  0.596678\n",
      "2  130.0  10.315751  1.376954\n",
      "3  140.0  10.288671  1.034195\n",
      "4  150.0  10.671761  0.807728\n"
     ]
    }
   ],
   "source": [
    "groups_tw = results_TW_10_iter.groupby(['rul_piecewise'])\n",
    "data_tw = pd.DataFrame(columns=['TW', 'mean', 'std'])\n",
    "for group_name, group_data in groups_tw:\n",
    "    grouped_data = group_data['RMSE_val']\n",
    "    new_row = {'TW': group_name, 'mean': grouped_data.mean(), 'std': grouped_data.std()}\n",
    "    data_tw = data_tw.append(new_row, ignore_index=True)\n",
    "\n",
    "print(data_tw)"
   ]
  },
  {
   "cell_type": "code",
   "execution_count": 169,
   "id": "55ea50a5",
   "metadata": {
    "ExecuteTime": {
     "end_time": "2023-03-31T04:22:13.708454Z",
     "start_time": "2023-03-31T04:22:13.477320Z"
    }
   },
   "outputs": [
    {
     "data": {
      "image/png": "[encoded data removed]",
      "text/plain": [
       "<Figure size 432x288 with 1 Axes>"
      ]
     },
     "metadata": {
      "needs_background": "light"
     },
     "output_type": "display_data"
    }
   ],
   "source": [
    "import matplotlib.pyplot as plt\n",
    "\n",
    "# Plot the mean RMSE with error bars for each RUL group\n",
    "plt.errorbar(data_tw['TW'], data_tw['mean'], yerr=data_tw['std'], fmt='o', ecolor='red', capsize=5)\n",
    "plt.plot(data_tw['TW'], data_tw['mean'], 'bo', label='Mean')\n",
    "# Set the x-axis label\n",
    "plt.xlabel('Rectified RUL')\n",
    "\n",
    "# Set the y-axis label\n",
    "plt.ylabel('RMSE')\n",
    "\n",
    "# Set the title of the plot\n",
    "#plt.title('RMSE vs alpha')\n",
    "plt.legend()\n",
    "# Show the plot\n",
    "plt.show()\n"
   ]
  },
  {
   "cell_type": "code",
   "execution_count": 14,
   "id": "a4369439",
   "metadata": {
    "ExecuteTime": {
     "end_time": "2023-03-29T16:59:26.339866Z",
     "start_time": "2023-03-29T16:59:26.327870Z"
    }
   },
   "outputs": [],
   "source": [
    "results.to_csv('C:/Users/aalah/Downloads/results_FD004_clusters_all.csv',index=False)"
   ]
  },
  {
   "cell_type": "code",
   "execution_count": 46,
   "id": "a4a3aebc",
   "metadata": {
    "ExecuteTime": {
     "end_time": "2023-03-29T23:09:11.457219Z",
     "start_time": "2023-03-29T23:09:11.348962Z"
    }
   },
   "outputs": [
    {
     "name": "stdout",
     "output_type": "stream",
     "text": [
      "  alpha       mean       std\n",
      "0   0.2  22.042262  2.235815\n",
      "1   0.3  12.087272  1.288329\n",
      "2   0.5  22.524987  2.099119\n",
      "3   0.7  21.734649   2.09848\n",
      "4   0.9  19.561987  2.889458\n"
     ]
    }
   ],
   "source": [
    "groups_alpha = res.groupby('alpha')\n",
    "data_alpha = pd.DataFrame(columns=['alpha', 'mean', 'std'])\n",
    "for group_name, group_data in groups_alpha:\n",
    "    grouped_data = group_data['RMSE_val']\n",
    "    new_row = {'alpha': group_name, 'mean': grouped_data.mean(), 'std': grouped_data.std()}\n",
    "    data_alpha = data_alpha.append(new_row, ignore_index=True)\n",
    "\n",
    "print(data_alpha)"
   ]
  },
  {
   "cell_type": "code",
   "execution_count": null,
   "id": "280a7074",
   "metadata": {},
   "outputs": [],
   "source": [
    "#The chosen sensors signify the remaining 16 sensors after normalization\n",
    "chosen_sensors = ['T24', 'T30', 'T50', 'P15', 'P30','Nf', 'Nc', 'epr', 'Ps30', 'phi', 'NRf', 'NRc', 'BPR', 'htBleed', 'W31','W32']\n",
    "\n",
    "#adding operational condition\n",
    "X_train_interm = add_operational_condition(train)\n",
    "X_test_interm = add_operational_condition(test)\n",
    "#normalizing based on these operational condition\n",
    "X_train_condition_scaled, X_test_condition_scaled = condition_scaler(X_train_interm, X_test_interm, chosen_sensors)\n",
    "\n",
    "#drop the operational condition variables as they were only helpful for the scaling\n",
    "data_train = X_train_condition_scaled.drop(['Cycle','Altitude', 'Mach', 'TRA','op_cond'],axis=1)\n",
    "data_test = X_test_condition_scaled.drop(['Cycle','Altitude', 'Mach', 'TRA','op_cond'],axis=1)\n",
    "\n",
    "#perform exponential smoothing on the data\n",
    "train_smooth = exponential_smoothing(data_train,chosen_sensors,0,0.3) #here alpha=0.3, was found when performing GridSearch\n",
    "test_smooth = exponential_smoothing(data_test,chosen_sensors,0,0.3)"
   ]
  },
  {
   "cell_type": "code",
   "execution_count": null,
   "id": "6dea23bf",
   "metadata": {},
   "outputs": [],
   "source": [
    "train_smooth['RUL'].clip(upper=100, inplace=True)\n",
    "sequence_length = 20"
   ]
  },
  {
   "cell_type": "code",
   "execution_count": null,
   "id": "6a3e030b",
   "metadata": {},
   "outputs": [],
   "source": [
    "# create sequences train, test \n",
    "train_array_7 = gen_data_sequences_train(train_7, sequence_length,remaining_sensors_7)\n",
    "label_array_7 = gen_rul_sequences_train(train_7, sequence_length, ['RUL'])\n",
    "\n",
    "test_gen_7 = (list(gen_test_data(test_7[test_7['Unit']==unit_nr], sequence_length,remaining_sensors_7, -99.))\n",
    "           for unit_nr in test_7['Unit'].unique())\n",
    "test_array_7 = np.concatenate(list(test_gen_7)).astype(np.float32)\n",
    "\n",
    "y_true_clipped = y_test.copy()\n",
    "y_true_clipped.clip(upper=100,inplace=True)"
   ]
  },
  {
   "cell_type": "code",
   "execution_count": null,
   "id": "5e6de943",
   "metadata": {},
   "outputs": [],
   "source": [
    "## updated version \n",
    "\n",
    "ITERATIONS = 5\n",
    "\n",
    "results_TW = pd.DataFrame()\n",
    "\n",
    "# Define LSTM model\n",
    "input_shape = (sequence_length, len(remaining_sensors_7))\n",
    "model = create_model_lstm(input_shape, nodes_per_layer, dropout,learn_rate)\n",
    "\n",
    "# Define test generator\n",
    "test_gen = (list(gen_test_data(test_7[test_7['Unit']==unit_nr], sequence_length,remaining_sensors_7, -99.))\n",
    "            for unit_nr in test_7['Unit'].unique())\n",
    "test_array = np.concatenate(list(test_gen)).astype(np.float32)\n",
    "\n",
    "for i in range(ITERATIONS):\n",
    "    \n",
    "    print('iteration ', i+1)\n",
    "    \n",
    "    score_val = []\n",
    "    mse_val = []\n",
    "    R2_val = []\n",
    "    RMSE = []\n",
    "    \n",
    "    # init parameters\n",
    "    #alpha = random.sample(alpha_list, 1)[0]\n",
    "    epochs = 20\n",
    "    sequence_length = 30\n",
    "    nodes_per_layer = 128\n",
    "    dropout = 0.2\n",
    "    learn_rate =  0.01\n",
    "    batch_size = 384\n",
    "    rul_piecewise= random.sample(piece_wise_rul_list, 1)[0]\n",
    "    # smooth the signal \n",
    "    #train_smooth = exponential_smoothing(data_train,chosen_sensors,0,alpha)\n",
    "    #test_smooth = exponential_smoothing(data_test,chosen_sensors,0,alpha)\n",
    "    # create model\n",
    "    X_train_interim = rul_piecewise_fct(train_7,rul_piecewise)\n",
    "    test_rul = rul_piecewise_fct(y_test,rul_piecewise)\n",
    "    \n",
    "    # create train-val split\n",
    "    #gss = GroupShuffleSplit(n_splits=5, train_size=0.80, random_state=42)\n",
    "    gkf_cv = GroupKFold(n_splits=5)\n",
    "    with tf.device('/device:GPU:0'):\n",
    "        for fold_idx, (train_unit, val_unit) in enumerate(gkf_cv.split(X_train_interim['Unit'].unique(), groups=X_train_interim['Unit'].unique())):\n",
    "            train_unit = X_train_interim['Unit'].unique()[train_unit]  # gss returns indexes and index starts at 1\n",
    "            train_split_array = gen_data_sequences_train(X_train_interim, sequence_length, remaining_sensors_7\n"
   ]
  },
  {
   "cell_type": "code",
   "execution_count": 71,
   "id": "adbcb760",
   "metadata": {
    "ExecuteTime": {
     "end_time": "2023-03-30T14:36:20.007267Z",
     "start_time": "2023-03-30T14:36:19.992770Z"
    }
   },
   "outputs": [],
   "source": [
    "def create_model_lstm(input_shape,nodes_per_layer, dropout, learning_rate_):\n",
    "    #create_model_lstm(input_shape, nodes_per_layer, dropout,learn_rate)\n",
    "\n",
    "    model = Sequential()\n",
    "    model.add(LSTM(units=nodes_per_layer, activation='tanh',input_shape=input_shape))\n",
    "    model.add(Dense(units=nodes_per_layer, activation='relu'))\n",
    "    model.add(Dropout(dropout))\n",
    "    model.add(Dense(1,activation='relu'))\n",
    "    model.compile(loss='mse',metrics=['mse'], optimizer=tf.keras.optimizers.Adam(lr=learning_rate_))\n",
    "    return model"
   ]
  },
  {
   "cell_type": "code",
   "execution_count": 131,
   "id": "400e726d",
   "metadata": {
    "ExecuteTime": {
     "end_time": "2023-03-31T03:01:57.356072Z",
     "start_time": "2023-03-31T03:01:57.345098Z"
    }
   },
   "outputs": [],
   "source": [
    "epochs = 10\n",
    "batch_size = 32\n",
    "def create_3lstm_model(input_shape,nodes_per_layer, dropout, learning_rate_):\n",
    "    model = Sequential()\n",
    "    model.add(LSTM(units=128,return_sequences=True, activation='tanh',input_shape=input_shape))\n",
    "    model.add(Dense(units=128, activation='relu'))\n",
    "    model.add(LSTM(units=128, activation='tanh',return_sequences=True))\n",
    "    model.add(Dense(units=128, activation='relu'))\n",
    "    model.add(LSTM(units=128, activation='tanh'))\n",
    "    model.add(Dense(units=128, activation='relu'))\n",
    "    model.add(Dropout(dropout))\n",
    "    model.add(Dense(1, activation='relu'))\n",
    "    model.compile(loss='mse',metrics=['mse'], optimizer=tf.keras.optimizers.Adam(lr=learning_rate_))\n",
    "    return model\n",
    "\n"
   ]
  },
  {
   "cell_type": "code",
   "execution_count": null,
   "id": "784841d9",
   "metadata": {},
   "outputs": [],
   "source": [
    "from sklearn.model_selection import GroupKFold\n",
    "\n",
    "# assume X and y are your training data and labels\n",
    "# assume groups is a list/array that specifies the group for each sample in X\n",
    "\n",
    "# define the number of folds and create the cross-validation object\n",
    "n_folds = 5\n",
    "cv = GroupKFold(n_splits=n_folds)\n",
    "\n",
    "# initialize a list to store RMSE scores for each fold\n",
    "rmse_scores = []\n",
    "\n",
    "# loop over the folds and perform cross-validation\n",
    "for train_idx, test_idx in cv.split(X_train_interim['Unit'].unique(), groups=X_train_interim['Unit'].unique()):\n",
    "    # extract the training and test data\n",
    "    X_train, X_test = X[train_idx], X[test_idx]\n",
    "    y_train, y_test = y[train_idx], y[test_idx]\n",
    "    \n",
    "    # train the model on the training data\n",
    "    model.fit(X_train, y_train)\n",
    "    \n",
    "    # evaluate the model on the test data and calculate RMSE\n",
    "    y_pred = model.predict(X_test)\n",
    "    rmse = np.sqrt(mean_squared_error(y_test, y_pred))\n",
    "    \n",
    "    # add the RMSE score to the list\n",
    "    rmse_scores.append(rmse)\n",
    "\n",
    "# calculate mean and standard deviation of RMSE scores\n",
    "mean_rmse = np.mean(rmse_scores)\n",
    "std_rmse = np.std(rmse_scores)\n",
    "\n",
    "print(f\"Mean RMSE: {mean_rmse:.2f}, Std RMSE: {std_rmse:.2f}\")\n"
   ]
  },
  {
   "cell_type": "code",
   "execution_count": 141,
   "id": "e55c04d9",
   "metadata": {
    "ExecuteTime": {
     "end_time": "2023-03-31T03:32:35.548633Z",
     "start_time": "2023-03-31T03:32:35.521678Z"
    }
   },
   "outputs": [],
   "source": [
    "from sklearn.decomposition import PCA\n",
    "train_smooth['RUL'].clip(upper=130, inplace=True)\n",
    "Xtrain = train_smooth.drop(['RUL','Unit'],axis=1)\n",
    "Xtest = test_smooth.drop(['Unit'],axis=1)"
   ]
  },
  {
   "cell_type": "code",
   "execution_count": 142,
   "id": "3afe6f3b",
   "metadata": {
    "ExecuteTime": {
     "end_time": "2023-03-31T03:32:36.178435Z",
     "start_time": "2023-03-31T03:32:35.825806Z"
    }
   },
   "outputs": [
    {
     "data": {
      "text/html": [
       "<style>#sk-container-id-1 {color: black;background-color: white;}#sk-container-id-1 pre{padding: 0;}#sk-container-id-1 div.sk-toggleable {background-color: white;}#sk-container-id-1 label.sk-toggleable__label {cursor: pointer;display: block;width: 100%;margin-bottom: 0;padding: 0.3em;box-sizing: border-box;text-align: center;}#sk-container-id-1 label.sk-toggleable__label-arrow:before {content: \"▸\";float: left;margin-right: 0.25em;color: #696969;}#sk-container-id-1 label.sk-toggleable__label-arrow:hover:before {color: black;}#sk-container-id-1 div.sk-estimator:hover label.sk-toggleable__label-arrow:before {color: black;}#sk-container-id-1 div.sk-toggleable__content {max-height: 0;max-width: 0;overflow: hidden;text-align: left;background-color: #f0f8ff;}#sk-container-id-1 div.sk-toggleable__content pre {margin: 0.2em;color: black;border-radius: 0.25em;background-color: #f0f8ff;}#sk-container-id-1 input.sk-toggleable__control:checked~div.sk-toggleable__content {max-height: 200px;max-width: 100%;overflow: auto;}#sk-container-id-1 input.sk-toggleable__control:checked~label.sk-toggleable__label-arrow:before {content: \"▾\";}#sk-container-id-1 div.sk-estimator input.sk-toggleable__control:checked~label.sk-toggleable__label {background-color: #d4ebff;}#sk-container-id-1 div.sk-label input.sk-toggleable__control:checked~label.sk-toggleable__label {background-color: #d4ebff;}#sk-container-id-1 input.sk-hidden--visually {border: 0;clip: rect(1px 1px 1px 1px);clip: rect(1px, 1px, 1px, 1px);height: 1px;margin: -1px;overflow: hidden;padding: 0;position: absolute;width: 1px;}#sk-container-id-1 div.sk-estimator {font-family: monospace;background-color: #f0f8ff;border: 1px dotted black;border-radius: 0.25em;box-sizing: border-box;margin-bottom: 0.5em;}#sk-container-id-1 div.sk-estimator:hover {background-color: #d4ebff;}#sk-container-id-1 div.sk-parallel-item::after {content: \"\";width: 100%;border-bottom: 1px solid gray;flex-grow: 1;}#sk-container-id-1 div.sk-label:hover label.sk-toggleable__label {background-color: #d4ebff;}#sk-container-id-1 div.sk-serial::before {content: \"\";position: absolute;border-left: 1px solid gray;box-sizing: border-box;top: 0;bottom: 0;left: 50%;z-index: 0;}#sk-container-id-1 div.sk-serial {display: flex;flex-direction: column;align-items: center;background-color: white;padding-right: 0.2em;padding-left: 0.2em;position: relative;}#sk-container-id-1 div.sk-item {position: relative;z-index: 1;}#sk-container-id-1 div.sk-parallel {display: flex;align-items: stretch;justify-content: center;background-color: white;position: relative;}#sk-container-id-1 div.sk-item::before, #sk-container-id-1 div.sk-parallel-item::before {content: \"\";position: absolute;border-left: 1px solid gray;box-sizing: border-box;top: 0;bottom: 0;left: 50%;z-index: -1;}#sk-container-id-1 div.sk-parallel-item {display: flex;flex-direction: column;z-index: 1;position: relative;background-color: white;}#sk-container-id-1 div.sk-parallel-item:first-child::after {align-self: flex-end;width: 50%;}#sk-container-id-1 div.sk-parallel-item:last-child::after {align-self: flex-start;width: 50%;}#sk-container-id-1 div.sk-parallel-item:only-child::after {width: 0;}#sk-container-id-1 div.sk-dashed-wrapped {border: 1px dashed gray;margin: 0 0.4em 0.5em 0.4em;box-sizing: border-box;padding-bottom: 0.4em;background-color: white;}#sk-container-id-1 div.sk-label label {font-family: monospace;font-weight: bold;display: inline-block;line-height: 1.2em;}#sk-container-id-1 div.sk-label-container {text-align: center;}#sk-container-id-1 div.sk-container {/* jupyter's `normalize.less` sets `[hidden] { display: none; }` but bootstrap.min.css set `[hidden] { display: none !important; }` so we also need the `!important` here to be able to override the default hidden behavior on the sphinx rendered scikit-learn.org. See: https://github.com/scikit-learn/scikit-learn/issues/21755 */display: inline-block !important;position: relative;}#sk-container-id-1 div.sk-text-repr-fallback {display: none;}</style><div id=\"sk-container-id-1\" class=\"sk-top-container\"><div class=\"sk-text-repr-fallback\"><pre>PCA(n_components=3)</pre><b>In a Jupyter environment, please rerun this cell to show the HTML representation or trust the notebook. <br />On GitHub, the HTML representation is unable to render, please try loading this page with nbviewer.org.</b></div><div class=\"sk-container\" hidden><div class=\"sk-item\"><div class=\"sk-estimator sk-toggleable\"><input class=\"sk-toggleable__control sk-hidden--visually\" id=\"sk-estimator-id-1\" type=\"checkbox\" checked><label for=\"sk-estimator-id-1\" class=\"sk-toggleable__label sk-toggleable__label-arrow\">PCA</label><div class=\"sk-toggleable__content\"><pre>PCA(n_components=3)</pre></div></div></div></div></div>"
      ],
      "text/plain": [
       "PCA(n_components=3)"
      ]
     },
     "execution_count": 142,
     "metadata": {},
     "output_type": "execute_result"
    }
   ],
   "source": [
    "pca_16 = PCA(n_components=16)\n",
    "pca_16.fit(Xtrain)\n",
    "\n",
    "pca_4 = PCA(n_components=4)\n",
    "pca_4.fit(Xtrain)\n",
    "\n",
    "pca_3 = PCA(n_components=3)\n",
    "pca_3.fit(Xtrain)"
   ]
  },
  {
   "cell_type": "code",
   "execution_count": 143,
   "id": "b3bfc4f4",
   "metadata": {
    "ExecuteTime": {
     "end_time": "2023-03-31T03:33:02.009357Z",
     "start_time": "2023-03-31T03:33:01.964497Z"
    }
   },
   "outputs": [],
   "source": [
    "columns_16 = ['pca_%i' % i for i in range(16)]\n",
    "columns_4 = ['pca_%i' % i for i in range(4)]\n",
    "columns_3 = ['pca_%i' % i for i in range(3)]\n",
    "\n",
    "df_pca_16 = pd.DataFrame(pca_16.transform(Xtrain), columns=columns_16, index=Xtrain.index)\n",
    "df_pca_4 = pd.DataFrame(pca_4.transform(Xtrain), columns=columns_4, index=Xtrain.index)\n",
    "df_pca_3 = pd.DataFrame(pca_3.transform(Xtrain), columns=columns_3, index=Xtrain.index)\n",
    "#df_pca.head()"
   ]
  },
  {
   "cell_type": "code",
   "execution_count": 144,
   "id": "9ddd2723",
   "metadata": {
    "ExecuteTime": {
     "end_time": "2023-03-31T03:33:06.637862Z",
     "start_time": "2023-03-31T03:33:06.571042Z"
    }
   },
   "outputs": [],
   "source": [
    "train_pca_16 = pca_16.transform(Xtrain)\n",
    "test_pca_16 = pca_16.transform(Xtest)\n",
    "\n",
    "train_pca_4 = pca_4.transform(Xtrain)\n",
    "test_pca_4 = pca_4.transform(Xtest)\n",
    "\n",
    "train_pca_3 = pca_3.transform(Xtrain)\n",
    "test_pca_3 = pca_3.transform(Xtest)"
   ]
  },
  {
   "cell_type": "code",
   "execution_count": 145,
   "id": "ece03926",
   "metadata": {
    "ExecuteTime": {
     "end_time": "2023-03-31T03:33:13.084806Z",
     "start_time": "2023-03-31T03:33:13.050869Z"
    }
   },
   "outputs": [],
   "source": [
    "columns_16=['PC1','PC2','PC3','PC4','PC5','PC6','PC7','PC8','PC9','PC10','PC11','PC12','PC13','PC14','PC15','PC16']\n",
    "columns_4=['PC1','PC2','PC3','PC4']\n",
    "columns_3=['PC1','PC2','PC3']\n",
    "PCA_test_16 = pd.DataFrame(test_pca_16,columns=columns_16)\n",
    "df_PCA_test_16 = pd.concat([df_test_unit,PCA_test_16], axis=1, join=\"inner\")\n",
    "\n",
    "PCA_test_4 = pd.DataFrame(test_pca_4,columns=columns_4)\n",
    "df_PCA_test_4 = pd.concat([df_test_unit,PCA_test_4], axis=1, join=\"inner\")\n",
    "\n",
    "PCA_test_3 = pd.DataFrame(test_pca_3,columns=columns_3)\n",
    "df_PCA_test_3 = pd.concat([df_test_unit,PCA_test_3], axis=1, join=\"inner\")"
   ]
  },
  {
   "cell_type": "code",
   "execution_count": 154,
   "id": "da75d172",
   "metadata": {
    "ExecuteTime": {
     "end_time": "2023-03-31T03:36:20.709967Z",
     "start_time": "2023-03-31T03:36:20.690059Z"
    }
   },
   "outputs": [],
   "source": [
    "df_train_RUL = train_smooth['RUL']\n",
    "df_train_unit = train_smooth['Unit']\n",
    "df_test_unit = test_smooth['Unit']"
   ]
  },
  {
   "cell_type": "code",
   "execution_count": 156,
   "id": "ba2f040a",
   "metadata": {
    "ExecuteTime": {
     "end_time": "2023-03-31T03:37:08.685934Z",
     "start_time": "2023-03-31T03:37:08.639026Z"
    }
   },
   "outputs": [],
   "source": [
    "# 16 components\n",
    "PCA_train_16 = pd.DataFrame(train_pca_16,columns=columns_16)\n",
    "mid_PCA_train_16 = pd.concat([df_train_unit,PCA_train_16], axis=1, join=\"inner\")\n",
    "df_PCA_train_16 = pd.concat([mid_PCA_train_16 , df_train_RUL], axis=1, join=\"inner\")\n",
    "\n",
    "# 4 components\n",
    "PCA_train_4 = pd.DataFrame(train_pca_4,columns=columns_4)\n",
    "mid_PCA_train_4 = pd.concat([df_train_unit,PCA_train_4], axis=1, join=\"inner\")\n",
    "df_PCA_train_4 = pd.concat([mid_PCA_train_4 , df_train_RUL], axis=1, join=\"inner\")\n",
    "\n",
    "# 3 components\n",
    "PCA_train_3 = pd.DataFrame(train_pca_3,columns=columns_3)\n",
    "mid_PCA_train_3 = pd.concat([df_train_unit,PCA_train_3], axis=1, join=\"inner\")\n",
    "df_PCA_train_3 = pd.concat([mid_PCA_train_3 , df_train_RUL], axis=1, join=\"inner\")\n",
    "\n",
    "\n"
   ]
  },
  {
   "cell_type": "code",
   "execution_count": 157,
   "id": "3c81d3ee",
   "metadata": {
    "ExecuteTime": {
     "end_time": "2023-03-31T03:37:14.040128Z",
     "start_time": "2023-03-31T03:37:14.022146Z"
    }
   },
   "outputs": [
    {
     "data": {
      "text/html": [
       "<div>\n",
       "<style scoped>\n",
       "    .dataframe tbody tr th:only-of-type {\n",
       "        vertical-align: middle;\n",
       "    }\n",
       "\n",
       "    .dataframe tbody tr th {\n",
       "        vertical-align: top;\n",
       "    }\n",
       "\n",
       "    .dataframe thead th {\n",
       "        text-align: right;\n",
       "    }\n",
       "</style>\n",
       "<table border=\"1\" class=\"dataframe\">\n",
       "  <thead>\n",
       "    <tr style=\"text-align: right;\">\n",
       "      <th></th>\n",
       "      <th>Unit</th>\n",
       "      <th>PC1</th>\n",
       "      <th>PC2</th>\n",
       "      <th>PC3</th>\n",
       "      <th>RUL</th>\n",
       "    </tr>\n",
       "  </thead>\n",
       "  <tbody>\n",
       "    <tr>\n",
       "      <th>0</th>\n",
       "      <td>1</td>\n",
       "      <td>-133.311957</td>\n",
       "      <td>-0.210108</td>\n",
       "      <td>-0.106110</td>\n",
       "      <td>130</td>\n",
       "    </tr>\n",
       "    <tr>\n",
       "      <th>1</th>\n",
       "      <td>1</td>\n",
       "      <td>-132.312358</td>\n",
       "      <td>-0.392982</td>\n",
       "      <td>-0.241418</td>\n",
       "      <td>130</td>\n",
       "    </tr>\n",
       "    <tr>\n",
       "      <th>2</th>\n",
       "      <td>1</td>\n",
       "      <td>-131.312211</td>\n",
       "      <td>-0.381485</td>\n",
       "      <td>-0.209475</td>\n",
       "      <td>130</td>\n",
       "    </tr>\n",
       "    <tr>\n",
       "      <th>3</th>\n",
       "      <td>1</td>\n",
       "      <td>-130.312126</td>\n",
       "      <td>-0.360977</td>\n",
       "      <td>-0.135495</td>\n",
       "      <td>130</td>\n",
       "    </tr>\n",
       "    <tr>\n",
       "      <th>4</th>\n",
       "      <td>1</td>\n",
       "      <td>-129.312097</td>\n",
       "      <td>-0.401350</td>\n",
       "      <td>-0.126344</td>\n",
       "      <td>130</td>\n",
       "    </tr>\n",
       "    <tr>\n",
       "      <th>...</th>\n",
       "      <td>...</td>\n",
       "      <td>...</td>\n",
       "      <td>...</td>\n",
       "      <td>...</td>\n",
       "      <td>...</td>\n",
       "    </tr>\n",
       "    <tr>\n",
       "      <th>61244</th>\n",
       "      <td>249</td>\n",
       "      <td>116.691102</td>\n",
       "      <td>0.000048</td>\n",
       "      <td>0.871954</td>\n",
       "      <td>4</td>\n",
       "    </tr>\n",
       "    <tr>\n",
       "      <th>61245</th>\n",
       "      <td>249</td>\n",
       "      <td>117.691316</td>\n",
       "      <td>0.055213</td>\n",
       "      <td>0.950596</td>\n",
       "      <td>3</td>\n",
       "    </tr>\n",
       "    <tr>\n",
       "      <th>61246</th>\n",
       "      <td>249</td>\n",
       "      <td>118.691595</td>\n",
       "      <td>0.121820</td>\n",
       "      <td>1.052818</td>\n",
       "      <td>2</td>\n",
       "    </tr>\n",
       "    <tr>\n",
       "      <th>61247</th>\n",
       "      <td>249</td>\n",
       "      <td>119.691586</td>\n",
       "      <td>0.062305</td>\n",
       "      <td>1.037345</td>\n",
       "      <td>1</td>\n",
       "    </tr>\n",
       "    <tr>\n",
       "      <th>61248</th>\n",
       "      <td>249</td>\n",
       "      <td>120.691497</td>\n",
       "      <td>0.082570</td>\n",
       "      <td>0.984775</td>\n",
       "      <td>0</td>\n",
       "    </tr>\n",
       "  </tbody>\n",
       "</table>\n",
       "<p>61249 rows × 5 columns</p>\n",
       "</div>"
      ],
      "text/plain": [
       "       Unit         PC1       PC2       PC3  RUL\n",
       "0         1 -133.311957 -0.210108 -0.106110  130\n",
       "1         1 -132.312358 -0.392982 -0.241418  130\n",
       "2         1 -131.312211 -0.381485 -0.209475  130\n",
       "3         1 -130.312126 -0.360977 -0.135495  130\n",
       "4         1 -129.312097 -0.401350 -0.126344  130\n",
       "...     ...         ...       ...       ...  ...\n",
       "61244   249  116.691102  0.000048  0.871954    4\n",
       "61245   249  117.691316  0.055213  0.950596    3\n",
       "61246   249  118.691595  0.121820  1.052818    2\n",
       "61247   249  119.691586  0.062305  1.037345    1\n",
       "61248   249  120.691497  0.082570  0.984775    0\n",
       "\n",
       "[61249 rows x 5 columns]"
      ]
     },
     "execution_count": 157,
     "metadata": {},
     "output_type": "execute_result"
    }
   ],
   "source": [
    "df_PCA_train_3\n"
   ]
  },
  {
   "cell_type": "code",
   "execution_count": 158,
   "id": "a27efc90",
   "metadata": {
    "ExecuteTime": {
     "end_time": "2023-03-31T03:42:11.593918Z",
     "start_time": "2023-03-31T03:42:11.571852Z"
    }
   },
   "outputs": [],
   "source": [
    "#n_epochs = 20\n",
    "#batch_size = 192\n",
    "def create_3pc_model (input_shape):\n",
    "    history = tf.keras.callbacks.History()\n",
    "    model_3 = Sequential()\n",
    "    model_3.add(LSTM(units=512, activation='tanh',input_shape=(sequence_length, len(columns_3))))\n",
    "    model_3.add(Dense(units=512, activation='relu'))\n",
    "    model_3.add(Dropout(0.2))\n",
    "    model_3.add(Dense(1,activation='relu'))\n",
    "    model_3.compile(loss='mse',metrics=['mse'], optimizer=tf.keras.optimizers.Adam(lr=0.01))\n",
    "    return model_3\n"
   ]
  },
  {
   "cell_type": "code",
   "execution_count": 163,
   "id": "5fc1c08a",
   "metadata": {
    "ExecuteTime": {
     "end_time": "2023-03-31T04:02:11.615047Z",
     "start_time": "2023-03-31T04:02:11.602048Z"
    }
   },
   "outputs": [],
   "source": [
    "def create_16pc_model (input_shape):\n",
    "    history = tf.keras.callbacks.History()\n",
    "    model_16 = Sequential()\n",
    "    model_16.add(LSTM(units=320, activation='tanh',input_shape=(sequence_length, len(columns_16))))\n",
    "    model_16.add(Dense(units=320, activation='relu'))\n",
    "    model_16.add(Dropout(0.1))\n",
    "    model_16.add(Dense(1,activation='relu'))\n",
    "    model_16.compile(loss='mse',metrics=['mse'], optimizer=tf.keras.optimizers.Adam(lr=0.02))\n",
    "    return model_16"
   ]
  },
  {
   "cell_type": "code",
   "execution_count": 164,
   "id": "25418fae",
   "metadata": {
    "ExecuteTime": {
     "end_time": "2023-03-31T04:05:44.913623Z",
     "start_time": "2023-03-31T04:02:11.854129Z"
    }
   },
   "outputs": [
    {
     "name": "stdout",
     "output_type": "stream",
     "text": [
      "iteration  1\n"
     ]
    }
   ],
   "source": [
    "ITERATIONS = 1\n",
    "\n",
    "data_3pc = pd.DataFrame()\n",
    "\n",
    "for i in range(ITERATIONS):\n",
    "    \n",
    "    print('iteration ', i+1)\n",
    "    \n",
    "    score_val = []\n",
    "    mse_val = []\n",
    "    R2_val = []\n",
    "    RMSE = []\n",
    "    \n",
    "    # init parameters\n",
    "    alpha = 0.3\n",
    "    epochs = 10\n",
    "    sequence_length = 30\n",
    "    nodes_per_layer = 128\n",
    "    dropout = 0.2\n",
    "    learn_rate =  0.01\n",
    "    batch_size = 288\n",
    "    rul_piecewise = 130\n",
    "    #rul_piecewise= random.sample(piece_wise_rul_list, 1)[0]\n",
    "    rul_piecewise= 130\n",
    "    # smooth the signal )\n",
    "    # create model\n",
    "    input_shape = (sequence_length, len(columns_16))\n",
    "    model = create_16pc_model(input_shape)\n",
    "    #X_train_interim, X_test_interim = prep_data(train, test, chosen_sensors, alpha)\n",
    "    # create train-val split\n",
    "    #gss = GroupShuffleSplit(n_splits=5, train_size=0.80, random_state=42)\n",
    "    gkf_cv = GroupKFold(n_splits=5)\n",
    "    with tf.device('/device:GPU:0'):\n",
    "        for train_unit, val_unit in gkf_cv.split(df_PCA_train_16['Unit'].unique(), groups=df_PCA_train_16['Unit'].unique()):\n",
    "            train_unit = df_PCA_train_16['Unit'].unique()[train_unit]  # gss returns indexes and index starts at 1\n",
    "            train_split_array = gen_data_sequences_train(df_PCA_train_16, sequence_length, columns_16, train_unit)\n",
    "            train_split_label = gen_rul_sequences_train(df_PCA_train_16, sequence_length, ['RUL'], train_unit)\n",
    "        \n",
    "            val_unit = X_train_interim['Unit'].unique()[val_unit]\n",
    "            val_split_array = gen_data_sequences_train(df_PCA_train_16, sequence_length, columns_16, val_unit)\n",
    "            val_split_label = gen_rul_sequences_train(df_PCA_train_16, sequence_length, ['RUL'], val_unit)\n",
    "\n",
    "        \n",
    "            history = model.fit(train_split_array, train_split_label,\n",
    "                                validation_data=(val_split_array, val_split_label),\n",
    "                                epochs=epochs,\n",
    "                                batch_size=batch_size,\n",
    "                                verbose=0)\n",
    "\n",
    "        \n",
    "            mse_val.append(history.history['val_loss'][-1])\n",
    "            y_hat_val_split = model.predict(val_split_array)\n",
    "            R2_val.append(r2_score(val_split_label, y_hat_val_split))\n",
    "            RMSE.append(np.sqrt(mean_squared_error(val_split_label, y_hat_val_split)))\n",
    "            score_val.append(compute_s_score(val_split_label, y_hat_val_split)) \n",
    "            # append results\n",
    "        d = {'RMSE_val':np.sqrt(mse_val),'R2_val':np.mean(R2_val), 'Score_val':np.mean(score_val),\n",
    "            #'alpha':alpha,\n",
    "             #'rul_piecewise':rul_piecewise, 'sequence_length':sequence_length \n",
    "            }\n",
    "        data_3pc = data_3pc.append(pd.DataFrame(d), ignore_index=True)\n",
    "        "
   ]
  },
  {
   "cell_type": "code",
   "execution_count": 166,
   "id": "f8ccd252",
   "metadata": {
    "ExecuteTime": {
     "end_time": "2023-03-31T04:05:45.227168Z",
     "start_time": "2023-03-31T04:05:45.214206Z"
    }
   },
   "outputs": [],
   "source": [
    "#epochs = 10\n",
    "#batch_size = 32\n",
    "def create_4pc_model (input_shape):\n",
    "    history = tf.keras.callbacks.History()\n",
    "    model_4 = Sequential()\n",
    "    model_4.add(LSTM(units=224, activation='tanh',input_shape=(sequence_length, len(columns_4))))\n",
    "    model_4.add(Dense(units=224, activation='relu'))\n",
    "    model_4.add(Dropout(0.3))\n",
    "    model_4.add(Dense(1,activation='relu'))\n",
    "    model_4.compile(loss='mse',metrics=['mse'], optimizer=tf.keras.optimizers.Adam(lr=0.0003))\n",
    "    return model_4"
   ]
  },
  {
   "cell_type": "code",
   "execution_count": null,
   "id": "783a01fb",
   "metadata": {},
   "outputs": [],
   "source": []
  }
 ],
 "metadata": {
  "kernelspec": {
   "display_name": "Python 3 (ipykernel)",
   "language": "python",
   "name": "python3"
  },
  "language_info": {
   "codemirror_mode": {
    "name": "ipython",
    "version": 3
   },
   "file_extension": ".py",
   "mimetype": "text/x-python",
   "name": "python",
   "nbconvert_exporter": "python",
   "pygments_lexer": "ipython3",
   "version": "3.10.13"
  },
  "toc": {
   "base_numbering": 1,
   "nav_menu": {},
   "number_sections": true,
   "sideBar": true,
   "skip_h1_title": false,
   "title_cell": "Table of Contents",
   "title_sidebar": "Contents",
   "toc_cell": false,
   "toc_position": {},
   "toc_section_display": true,
   "toc_window_display": false
  }
 },
 "nbformat": 4,
 "nbformat_minor": 5
}
